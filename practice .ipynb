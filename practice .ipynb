{
 "cells": [
  {
   "cell_type": "code",
   "execution_count": 1,
   "id": "b90acb5e",
   "metadata": {},
   "outputs": [],
   "source": [
    "import numpy as np"
   ]
  },
  {
   "cell_type": "code",
   "execution_count": 2,
   "id": "5e9dd271",
   "metadata": {},
   "outputs": [
    {
     "data": {
      "text/plain": [
       "array([1, 2, 3, 4, 5])"
      ]
     },
     "execution_count": 2,
     "metadata": {},
     "output_type": "execute_result"
    }
   ],
   "source": [
    "np.array([1,2,3,4,5])"
   ]
  },
  {
   "cell_type": "code",
   "execution_count": 3,
   "id": "2d0641e7",
   "metadata": {},
   "outputs": [
    {
     "data": {
      "text/plain": [
       "array([1, 2, 3, 4, 5])"
      ]
     },
     "execution_count": 3,
     "metadata": {},
     "output_type": "execute_result"
    }
   ],
   "source": [
    "a = np.array([1,2,3,4,5])\n",
    "a"
   ]
  },
  {
   "cell_type": "code",
   "execution_count": 7,
   "id": "a64697ed",
   "metadata": {},
   "outputs": [
    {
     "data": {
      "text/plain": [
       "array([ 0,  1,  2,  3,  4,  5,  6,  7,  8,  9, 10, 11, 12, 13, 14, 15, 16,\n",
       "       17, 18, 19])"
      ]
     },
     "execution_count": 7,
     "metadata": {},
     "output_type": "execute_result"
    }
   ],
   "source": [
    "# to generate sequence\n",
    "b = np.arange(20)\n",
    "b"
   ]
  },
  {
   "cell_type": "code",
   "execution_count": 8,
   "id": "3f88f73a",
   "metadata": {},
   "outputs": [
    {
     "data": {
      "text/plain": [
       "array([10, 11, 12, 13, 14, 15, 16, 17, 18, 19])"
      ]
     },
     "execution_count": 8,
     "metadata": {},
     "output_type": "execute_result"
    }
   ],
   "source": [
    "b = np.arange(10,20)\n",
    "b"
   ]
  },
  {
   "cell_type": "code",
   "execution_count": 17,
   "id": "7eb1404d",
   "metadata": {},
   "outputs": [
    {
     "data": {
      "text/plain": [
       "array([[ 1,  2,  3,  4,  5,  6,  7,  8,  9, 10],\n",
       "       [11, 12, 13, 14, 15, 16, 17, 18, 19, 20]])"
      ]
     },
     "execution_count": 17,
     "metadata": {},
     "output_type": "execute_result"
    }
   ],
   "source": [
    "b = np.arange(1,21).reshape(2,10)\n",
    "b"
   ]
  },
  {
   "cell_type": "code",
   "execution_count": 25,
   "id": "473989e4",
   "metadata": {},
   "outputs": [
    {
     "data": {
      "text/plain": [
       "array([ 1,  2,  3,  4,  5,  6,  7,  8,  9, 10, 11, 12, 13, 14, 15, 16, 17,\n",
       "       18, 19, 20])"
      ]
     },
     "execution_count": 25,
     "metadata": {},
     "output_type": "execute_result"
    }
   ],
   "source": [
    "b = np.arange(1,21)\n",
    "b"
   ]
  },
  {
   "cell_type": "code",
   "execution_count": 27,
   "id": "0c3a21de",
   "metadata": {},
   "outputs": [
    {
     "data": {
      "text/plain": [
       "array([[ 1,  2,  3,  4],\n",
       "       [ 5,  6,  7,  8],\n",
       "       [ 9, 10, 11, 12],\n",
       "       [13, 14, 15, 16],\n",
       "       [17, 18, 19, 20]])"
      ]
     },
     "execution_count": 27,
     "metadata": {},
     "output_type": "execute_result"
    }
   ],
   "source": [
    "b.reshape(5,4) "
   ]
  },
  {
   "cell_type": "code",
   "execution_count": 29,
   "id": "3697949f",
   "metadata": {
    "scrolled": true
   },
   "outputs": [
    {
     "data": {
      "text/plain": [
       "array([[[ 1,  2],\n",
       "        [ 3,  4],\n",
       "        [ 5,  6],\n",
       "        [ 7,  8],\n",
       "        [ 9, 10]],\n",
       "\n",
       "       [[11, 12],\n",
       "        [13, 14],\n",
       "        [15, 16],\n",
       "        [17, 18],\n",
       "        [19, 20]]])"
      ]
     },
     "execution_count": 29,
     "metadata": {},
     "output_type": "execute_result"
    }
   ],
   "source": [
    "b.reshape(2,5,2) "
   ]
  },
  {
   "cell_type": "code",
   "execution_count": 31,
   "id": "3a7eb2df",
   "metadata": {},
   "outputs": [
    {
     "data": {
      "text/plain": [
       "array([[1., 0., 0., 0.],\n",
       "       [0., 1., 0., 0.],\n",
       "       [0., 0., 1., 0.],\n",
       "       [0., 0., 0., 1.]])"
      ]
     },
     "execution_count": 31,
     "metadata": {},
     "output_type": "execute_result"
    }
   ],
   "source": [
    "np.eye(4)"
   ]
  },
  {
   "cell_type": "code",
   "execution_count": 37,
   "id": "4ed0b7c6",
   "metadata": {},
   "outputs": [
    {
     "data": {
      "text/plain": [
       "array([ 0,  1,  2,  3,  4,  5,  6,  7,  8,  9, 10, 11, 12, 13, 14, 15, 16,\n",
       "       17, 18, 19])"
      ]
     },
     "execution_count": 37,
     "metadata": {},
     "output_type": "execute_result"
    }
   ],
   "source": [
    "a = np.arange(20)\n",
    "a"
   ]
  },
  {
   "cell_type": "code",
   "execution_count": 38,
   "id": "5c8f549d",
   "metadata": {},
   "outputs": [
    {
     "data": {
      "text/plain": [
       "(20,)"
      ]
     },
     "execution_count": 38,
     "metadata": {},
     "output_type": "execute_result"
    }
   ],
   "source": [
    "a.shape"
   ]
  },
  {
   "cell_type": "code",
   "execution_count": 39,
   "id": "f9bbf6ee",
   "metadata": {},
   "outputs": [
    {
     "data": {
      "text/plain": [
       "20"
      ]
     },
     "execution_count": 39,
     "metadata": {},
     "output_type": "execute_result"
    }
   ],
   "source": [
    "len(a)"
   ]
  },
  {
   "cell_type": "code",
   "execution_count": 41,
   "id": "a9e6d7e1",
   "metadata": {},
   "outputs": [
    {
     "data": {
      "text/plain": [
       "1"
      ]
     },
     "execution_count": 41,
     "metadata": {},
     "output_type": "execute_result"
    }
   ],
   "source": [
    "a.ndim"
   ]
  },
  {
   "cell_type": "code",
   "execution_count": 46,
   "id": "b198eac8",
   "metadata": {},
   "outputs": [
    {
     "data": {
      "text/plain": [
       "array([[ 0,  1,  2,  3,  4,  5,  6,  7,  8,  9],\n",
       "       [10, 11, 12, 13, 14, 15, 16, 17, 18, 19]])"
      ]
     },
     "execution_count": 46,
     "metadata": {},
     "output_type": "execute_result"
    }
   ],
   "source": [
    "a.reshape((2,10))"
   ]
  },
  {
   "cell_type": "code",
   "execution_count": 43,
   "id": "64664026",
   "metadata": {},
   "outputs": [
    {
     "data": {
      "text/plain": [
       "1"
      ]
     },
     "execution_count": 43,
     "metadata": {},
     "output_type": "execute_result"
    }
   ],
   "source": [
    "a.ndim"
   ]
  },
  {
   "cell_type": "code",
   "execution_count": 44,
   "id": "a300686e",
   "metadata": {},
   "outputs": [
    {
     "data": {
      "text/plain": [
       "dtype('int32')"
      ]
     },
     "execution_count": 44,
     "metadata": {},
     "output_type": "execute_result"
    }
   ],
   "source": [
    "a.dtype"
   ]
  },
  {
   "cell_type": "code",
   "execution_count": 47,
   "id": "f07c64c3",
   "metadata": {},
   "outputs": [
    {
     "data": {
      "text/plain": [
       "array([[0.13729338, 0.06247804, 0.98629976, 0.14612288, 0.77208827,\n",
       "        0.84214724, 0.01539485, 0.65385927, 0.30824627, 0.76582879]])"
      ]
     },
     "execution_count": 47,
     "metadata": {},
     "output_type": "execute_result"
    }
   ],
   "source": [
    "np.random.random((1,10))"
   ]
  },
  {
   "cell_type": "code",
   "execution_count": 77,
   "id": "e5fd7a2b",
   "metadata": {},
   "outputs": [
    {
     "data": {
      "text/plain": [
       "array([[0.88960861, 0.85178538, 0.80100438, 0.10579265, 0.0411272 ]])"
      ]
     },
     "execution_count": 77,
     "metadata": {},
     "output_type": "execute_result"
    }
   ],
   "source": [
    "np.random.random((1,5))"
   ]
  },
  {
   "cell_type": "code",
   "execution_count": 60,
   "id": "cba02052",
   "metadata": {},
   "outputs": [
    {
     "data": {
      "text/plain": [
       "6"
      ]
     },
     "execution_count": 60,
     "metadata": {},
     "output_type": "execute_result"
    }
   ],
   "source": [
    "np.random.randint(0,10) "
   ]
  },
  {
   "cell_type": "code",
   "execution_count": 69,
   "id": "d936a85a",
   "metadata": {},
   "outputs": [],
   "source": [
    "g = np.random.randint(0,21,(2,5,2))"
   ]
  },
  {
   "cell_type": "code",
   "execution_count": 70,
   "id": "61b10903",
   "metadata": {},
   "outputs": [
    {
     "data": {
      "text/plain": [
       "array([[[19,  3],\n",
       "        [ 8, 18],\n",
       "        [ 7,  8],\n",
       "        [10,  0],\n",
       "        [ 0,  9]],\n",
       "\n",
       "       [[ 8, 20],\n",
       "        [ 0,  1],\n",
       "        [12,  0],\n",
       "        [19, 12],\n",
       "        [ 6,  9]]])"
      ]
     },
     "execution_count": 70,
     "metadata": {},
     "output_type": "execute_result"
    }
   ],
   "source": [
    "g"
   ]
  },
  {
   "cell_type": "code",
   "execution_count": 71,
   "id": "3c1dd42a",
   "metadata": {},
   "outputs": [
    {
     "data": {
      "text/plain": [
       "3"
      ]
     },
     "execution_count": 71,
     "metadata": {},
     "output_type": "execute_result"
    }
   ],
   "source": [
    "g.ndim"
   ]
  },
  {
   "cell_type": "code",
   "execution_count": 72,
   "id": "5ac5dbe1",
   "metadata": {},
   "outputs": [
    {
     "data": {
      "text/plain": [
       "(2, 5, 2)"
      ]
     },
     "execution_count": 72,
     "metadata": {},
     "output_type": "execute_result"
    }
   ],
   "source": [
    "g.shape"
   ]
  },
  {
   "cell_type": "code",
   "execution_count": 73,
   "id": "b089fcde",
   "metadata": {},
   "outputs": [
    {
     "data": {
      "text/plain": [
       "array([[19,  3,  8, 18,  7],\n",
       "       [ 8, 10,  0,  0,  9],\n",
       "       [ 8, 20,  0,  1, 12],\n",
       "       [ 0, 19, 12,  6,  9]])"
      ]
     },
     "execution_count": 73,
     "metadata": {},
     "output_type": "execute_result"
    }
   ],
   "source": [
    "g.reshape(4,5)"
   ]
  },
  {
   "cell_type": "code",
   "execution_count": 75,
   "id": "98eedf2c",
   "metadata": {},
   "outputs": [
    {
     "data": {
      "text/plain": [
       "array([0, 1, 2, 3, 4, 5])"
      ]
     },
     "execution_count": 75,
     "metadata": {},
     "output_type": "execute_result"
    }
   ],
   "source": [
    "x = np.arange(6)\n",
    "x"
   ]
  },
  {
   "cell_type": "code",
   "execution_count": 84,
   "id": "e9234b38",
   "metadata": {},
   "outputs": [
    {
     "data": {
      "text/plain": [
       "array([[1, 1, 2, 2, 2, 2]])"
      ]
     },
     "execution_count": 84,
     "metadata": {},
     "output_type": "execute_result"
    }
   ],
   "source": [
    "y = np.random.randint(1,3,(1,6))\n",
    "y"
   ]
  },
  {
   "cell_type": "code",
   "execution_count": 85,
   "id": "0f93383d",
   "metadata": {},
   "outputs": [
    {
     "data": {
      "text/plain": [
       "array([[ 0,  1,  4,  6,  8, 10]])"
      ]
     },
     "execution_count": 85,
     "metadata": {},
     "output_type": "execute_result"
    }
   ],
   "source": [
    "x*y"
   ]
  },
  {
   "cell_type": "code",
   "execution_count": 86,
   "id": "aecea142",
   "metadata": {},
   "outputs": [
    {
     "data": {
      "text/plain": [
       "array([[-1,  0,  0,  1,  2,  3]])"
      ]
     },
     "execution_count": 86,
     "metadata": {},
     "output_type": "execute_result"
    }
   ],
   "source": [
    "x-y"
   ]
  },
  {
   "cell_type": "code",
   "execution_count": 87,
   "id": "69d47077",
   "metadata": {},
   "outputs": [
    {
     "data": {
      "text/plain": [
       "array([[ 0,  1,  4,  9, 16, 25]])"
      ]
     },
     "execution_count": 87,
     "metadata": {},
     "output_type": "execute_result"
    }
   ],
   "source": [
    "x**y"
   ]
  },
  {
   "cell_type": "code",
   "execution_count": 89,
   "id": "6862cb61",
   "metadata": {},
   "outputs": [
    {
     "data": {
      "text/plain": [
       "array([[1, 2, 3, 4],\n",
       "       [5, 6, 7, 8]])"
      ]
     },
     "execution_count": 89,
     "metadata": {},
     "output_type": "execute_result"
    }
   ],
   "source": [
    "z = np.array([[1,2,3,4],[5,6,7,8]])\n",
    "z"
   ]
  },
  {
   "cell_type": "code",
   "execution_count": 92,
   "id": "3033c188",
   "metadata": {},
   "outputs": [
    {
     "data": {
      "text/plain": [
       "array([5, 6, 7, 8])"
      ]
     },
     "execution_count": 92,
     "metadata": {},
     "output_type": "execute_result"
    }
   ],
   "source": [
    "z[1]"
   ]
  },
  {
   "cell_type": "code",
   "execution_count": 95,
   "id": "caa2b565",
   "metadata": {},
   "outputs": [
    {
     "data": {
      "text/plain": [
       "array([[9, 1, 1, 8],\n",
       "       [8, 5, 7, 2],\n",
       "       [6, 5, 6, 7],\n",
       "       [2, 4, 5, 6]])"
      ]
     },
     "execution_count": 95,
     "metadata": {},
     "output_type": "execute_result"
    }
   ],
   "source": [
    "# slicing of an array\n",
    "x = np.array([[9,1,1,8],\n",
    "           [8,5,7,2],\n",
    "           [6,5,6,7],\n",
    "           [2,4,5,6]])\n",
    "\n",
    "x"
   ]
  },
  {
   "cell_type": "code",
   "execution_count": 96,
   "id": "9680aa1b",
   "metadata": {},
   "outputs": [
    {
     "data": {
      "text/plain": [
       "array([[9, 1, 1],\n",
       "       [8, 5, 7],\n",
       "       [6, 5, 6],\n",
       "       [2, 4, 5]])"
      ]
     },
     "execution_count": 96,
     "metadata": {},
     "output_type": "execute_result"
    }
   ],
   "source": [
    "x[:, :-1]"
   ]
  },
  {
   "cell_type": "code",
   "execution_count": 97,
   "id": "19c90cae",
   "metadata": {},
   "outputs": [
    {
     "data": {
      "text/plain": [
       "array([[9, 1, 1],\n",
       "       [8, 5, 7]])"
      ]
     },
     "execution_count": 97,
     "metadata": {},
     "output_type": "execute_result"
    }
   ],
   "source": [
    "x[:-2, :-1]"
   ]
  },
  {
   "cell_type": "code",
   "execution_count": 98,
   "id": "f4fd9787",
   "metadata": {},
   "outputs": [
    {
     "data": {
      "text/plain": [
       "(4, 4)"
      ]
     },
     "execution_count": 98,
     "metadata": {},
     "output_type": "execute_result"
    }
   ],
   "source": [
    "x.shape"
   ]
  },
  {
   "cell_type": "code",
   "execution_count": 106,
   "id": "9382129c",
   "metadata": {},
   "outputs": [
    {
     "data": {
      "text/plain": [
       "array([[2, 4, 5, 6],\n",
       "       [6, 5, 6, 7],\n",
       "       [8, 5, 7, 2],\n",
       "       [9, 1, 1, 8]])"
      ]
     },
     "execution_count": 106,
     "metadata": {},
     "output_type": "execute_result"
    }
   ],
   "source": [
    "x[::-1, :]"
   ]
  },
  {
   "cell_type": "code",
   "execution_count": 107,
   "id": "aaa4aaf6",
   "metadata": {},
   "outputs": [
    {
     "data": {
      "text/plain": [
       "array([[9, 1],\n",
       "       [8, 5]])"
      ]
     },
     "execution_count": 107,
     "metadata": {},
     "output_type": "execute_result"
    }
   ],
   "source": [
    "x[:2, :2]   #NB: :2 is row, :2 is column"
   ]
  },
  {
   "cell_type": "code",
   "execution_count": 108,
   "id": "03a91f4c",
   "metadata": {},
   "outputs": [
    {
     "data": {
      "text/plain": [
       "array([[9, 1],\n",
       "       [8, 7],\n",
       "       [6, 6]])"
      ]
     },
     "execution_count": 108,
     "metadata": {},
     "output_type": "execute_result"
    }
   ],
   "source": [
    "x[:3, ::2]  \n",
    "# i.e, print row till index 3 and  all column with step of 2"
   ]
  },
  {
   "cell_type": "code",
   "execution_count": 117,
   "id": "60695253",
   "metadata": {},
   "outputs": [
    {
     "data": {
      "text/plain": [
       "array([1, 2, 3, 4, 5, 6])"
      ]
     },
     "execution_count": 117,
     "metadata": {},
     "output_type": "execute_result"
    }
   ],
   "source": [
    "a = np.array([1,2,3,4,5,6])\n",
    "a\n",
    "# a.shape"
   ]
  },
  {
   "cell_type": "code",
   "execution_count": 112,
   "id": "5f39a134",
   "metadata": {},
   "outputs": [
    {
     "data": {
      "text/plain": [
       "array([[1],\n",
       "       [2],\n",
       "       [3],\n",
       "       [4],\n",
       "       [5],\n",
       "       [6]])"
      ]
     },
     "execution_count": 112,
     "metadata": {},
     "output_type": "execute_result"
    }
   ],
   "source": [
    "a[:,np.newaxis]  #changing row to column\n",
    "# reshape vertically by placing np.newaxis along the column\n"
   ]
  },
  {
   "cell_type": "code",
   "execution_count": 114,
   "id": "886e4f50",
   "metadata": {},
   "outputs": [
    {
     "data": {
      "text/plain": [
       "array([[1, 2, 3, 4, 5, 6]])"
      ]
     },
     "execution_count": 114,
     "metadata": {},
     "output_type": "execute_result"
    }
   ],
   "source": [
    "a[np.newaxis,:]"
   ]
  },
  {
   "cell_type": "code",
   "execution_count": 115,
   "id": "b36a5f1b",
   "metadata": {},
   "outputs": [
    {
     "data": {
      "text/plain": [
       "(6,)"
      ]
     },
     "execution_count": 115,
     "metadata": {},
     "output_type": "execute_result"
    }
   ],
   "source": [
    "a.shape"
   ]
  },
  {
   "cell_type": "code",
   "execution_count": 118,
   "id": "0052f4ff",
   "metadata": {},
   "outputs": [
    {
     "data": {
      "text/plain": [
       "array([[1],\n",
       "       [2],\n",
       "       [3],\n",
       "       [4],\n",
       "       [5],\n",
       "       [6]])"
      ]
     },
     "execution_count": 118,
     "metadata": {},
     "output_type": "execute_result"
    }
   ],
   "source": [
    "d = np.array([[1],\n",
    "       [2],\n",
    "       [3],\n",
    "       [4],\n",
    "       [5],\n",
    "       [6]])\n",
    "\n",
    "d\n",
    "\n",
    "# 6 rows and 1 column"
   ]
  },
  {
   "cell_type": "code",
   "execution_count": 119,
   "id": "c97e5882",
   "metadata": {},
   "outputs": [
    {
     "data": {
      "text/plain": [
       "(6, 1)"
      ]
     },
     "execution_count": 119,
     "metadata": {},
     "output_type": "execute_result"
    }
   ],
   "source": [
    "d.shape"
   ]
  },
  {
   "cell_type": "code",
   "execution_count": 121,
   "id": "1d5a9644",
   "metadata": {},
   "outputs": [
    {
     "data": {
      "text/plain": [
       "array([[1, 2, 3, 4, 5, 6]])"
      ]
     },
     "execution_count": 121,
     "metadata": {},
     "output_type": "execute_result"
    }
   ],
   "source": [
    "s =np.array([[1, 2, 3, 4, 5, 6]])\n",
    "s\n",
    "\n",
    "# 1 row and 6 column"
   ]
  },
  {
   "cell_type": "code",
   "execution_count": 122,
   "id": "7e366750",
   "metadata": {},
   "outputs": [
    {
     "data": {
      "text/plain": [
       "(1, 6)"
      ]
     },
     "execution_count": 122,
     "metadata": {},
     "output_type": "execute_result"
    }
   ],
   "source": [
    "s.shape"
   ]
  },
  {
   "cell_type": "code",
   "execution_count": 173,
   "id": "c99df835",
   "metadata": {},
   "outputs": [
    {
     "data": {
      "text/plain": [
       "array([[4, 2, 2, 4, 4, 3]])"
      ]
     },
     "execution_count": 173,
     "metadata": {},
     "output_type": "execute_result"
    }
   ],
   "source": [
    "a = np.random.randint(1,5,(1,6))\n",
    "a"
   ]
  },
  {
   "cell_type": "code",
   "execution_count": null,
   "id": "a01add46",
   "metadata": {},
   "outputs": [],
   "source": []
  },
  {
   "cell_type": "code",
   "execution_count": 131,
   "id": "a1ddd458",
   "metadata": {},
   "outputs": [
    {
     "data": {
      "text/plain": [
       "array([[9, 1, 2],\n",
       "       [8, 6, 5]])"
      ]
     },
     "execution_count": 131,
     "metadata": {},
     "output_type": "execute_result"
    }
   ],
   "source": [
    "b = np.array([[9.0,1,2],[8.0,6.0,5.0]], dtype=int)\n",
    "b"
   ]
  },
  {
   "cell_type": "code",
   "execution_count": 132,
   "id": "995710d5",
   "metadata": {},
   "outputs": [
    {
     "data": {
      "text/plain": [
       "2"
      ]
     },
     "execution_count": 132,
     "metadata": {},
     "output_type": "execute_result"
    }
   ],
   "source": [
    "b.ndim"
   ]
  },
  {
   "cell_type": "code",
   "execution_count": 133,
   "id": "113b9940",
   "metadata": {},
   "outputs": [
    {
     "data": {
      "text/plain": [
       "(2, 3)"
      ]
     },
     "execution_count": 133,
     "metadata": {},
     "output_type": "execute_result"
    }
   ],
   "source": [
    "b.shape"
   ]
  },
  {
   "cell_type": "code",
   "execution_count": 134,
   "id": "e167e92d",
   "metadata": {},
   "outputs": [
    {
     "data": {
      "text/plain": [
       "dtype('int32')"
      ]
     },
     "execution_count": 134,
     "metadata": {},
     "output_type": "execute_result"
    }
   ],
   "source": [
    "b.dtype"
   ]
  },
  {
   "cell_type": "code",
   "execution_count": 135,
   "id": "dce1339e",
   "metadata": {},
   "outputs": [
    {
     "data": {
      "text/plain": [
       "4"
      ]
     },
     "execution_count": 135,
     "metadata": {},
     "output_type": "execute_result"
    }
   ],
   "source": [
    "b.itemsize"
   ]
  },
  {
   "cell_type": "code",
   "execution_count": 137,
   "id": "042f2771",
   "metadata": {},
   "outputs": [
    {
     "data": {
      "text/plain": [
       "array([[ 1,  2,  3,  4,  5,  6,  7],\n",
       "       [ 8,  9, 10, 11, 12, 13, 14]])"
      ]
     },
     "execution_count": 137,
     "metadata": {},
     "output_type": "execute_result"
    }
   ],
   "source": [
    "a = np.array([[1,2,3,4,5,6,7],[8,9,10,11,12,13,14]])\n",
    "a"
   ]
  },
  {
   "cell_type": "code",
   "execution_count": 138,
   "id": "7a1974aa",
   "metadata": {},
   "outputs": [
    {
     "data": {
      "text/plain": [
       "2"
      ]
     },
     "execution_count": 138,
     "metadata": {},
     "output_type": "execute_result"
    }
   ],
   "source": [
    "a.ndim"
   ]
  },
  {
   "cell_type": "code",
   "execution_count": 142,
   "id": "9b089fca",
   "metadata": {},
   "outputs": [
    {
     "data": {
      "text/plain": [
       "(2, 7)"
      ]
     },
     "execution_count": 142,
     "metadata": {},
     "output_type": "execute_result"
    }
   ],
   "source": [
    "a.shape"
   ]
  },
  {
   "cell_type": "code",
   "execution_count": 143,
   "id": "2f09621f",
   "metadata": {},
   "outputs": [
    {
     "data": {
      "text/plain": [
       "2"
      ]
     },
     "execution_count": 143,
     "metadata": {},
     "output_type": "execute_result"
    }
   ],
   "source": [
    "len(a)"
   ]
  },
  {
   "cell_type": "code",
   "execution_count": 144,
   "id": "0e168604",
   "metadata": {},
   "outputs": [
    {
     "data": {
      "text/plain": [
       "14"
      ]
     },
     "execution_count": 144,
     "metadata": {},
     "output_type": "execute_result"
    }
   ],
   "source": [
    "a.size"
   ]
  },
  {
   "cell_type": "code",
   "execution_count": 145,
   "id": "3f25c4f2",
   "metadata": {},
   "outputs": [],
   "source": [
    "# getting a specific row and colunm\n",
    "# [r,c]"
   ]
  },
  {
   "cell_type": "code",
   "execution_count": 146,
   "id": "361c4eb2",
   "metadata": {},
   "outputs": [
    {
     "data": {
      "text/plain": [
       "array([[ 1,  2,  3,  4,  5,  6,  7],\n",
       "       [ 8,  9, 10, 11, 12, 13, 14]])"
      ]
     },
     "execution_count": 146,
     "metadata": {},
     "output_type": "execute_result"
    }
   ],
   "source": [
    "a"
   ]
  },
  {
   "cell_type": "code",
   "execution_count": 148,
   "id": "1e48b868",
   "metadata": {},
   "outputs": [
    {
     "data": {
      "text/plain": [
       "6"
      ]
     },
     "execution_count": 148,
     "metadata": {},
     "output_type": "execute_result"
    }
   ],
   "source": [
    "# getting no 6\n",
    "a[0,5]\n",
    "# i.e: under row 0, get me column 5"
   ]
  },
  {
   "cell_type": "code",
   "execution_count": 149,
   "id": "10091219",
   "metadata": {},
   "outputs": [
    {
     "data": {
      "text/plain": [
       "11"
      ]
     },
     "execution_count": 149,
     "metadata": {},
     "output_type": "execute_result"
    }
   ],
   "source": [
    "# getting no 11\n",
    "a[1,3]"
   ]
  },
  {
   "cell_type": "code",
   "execution_count": 152,
   "id": "00eacca3",
   "metadata": {},
   "outputs": [
    {
     "data": {
      "text/plain": [
       "array([[ 1,  2,  3,  4,  5],\n",
       "       [ 8,  9, 10, 11, 12]])"
      ]
     },
     "execution_count": 152,
     "metadata": {},
     "output_type": "execute_result"
    }
   ],
   "source": [
    "# i want to print the rows but stop at column 4 (5,12)\n",
    "\n",
    "a[:,:-2]\n",
    "\n",
    "# or\n",
    "\n",
    "# a[:,:5]"
   ]
  },
  {
   "cell_type": "code",
   "execution_count": 153,
   "id": "62ec7ae8",
   "metadata": {},
   "outputs": [
    {
     "data": {
      "text/plain": [
       "array([[ 1,  2,  3,  4,  5,  6,  7],\n",
       "       [ 8,  9, 10, 11, 12, 13, 14]])"
      ]
     },
     "execution_count": 153,
     "metadata": {},
     "output_type": "execute_result"
    }
   ],
   "source": [
    "a"
   ]
  },
  {
   "cell_type": "code",
   "execution_count": 154,
   "id": "1de717ba",
   "metadata": {},
   "outputs": [
    {
     "data": {
      "text/plain": [
       "array([[ 8,  9, 10, 11, 12, 13, 14],\n",
       "       [ 1,  2,  3,  4,  5,  6,  7]])"
      ]
     },
     "execution_count": 154,
     "metadata": {},
     "output_type": "execute_result"
    }
   ],
   "source": [
    "# print all the rows from the end to the start \n",
    "a[::-1,:]"
   ]
  },
  {
   "cell_type": "code",
   "execution_count": 155,
   "id": "d82b3769",
   "metadata": {},
   "outputs": [
    {
     "data": {
      "text/plain": [
       "array([[ 7,  6,  5,  4,  3,  2,  1],\n",
       "       [14, 13, 12, 11, 10,  9,  8]])"
      ]
     },
     "execution_count": 155,
     "metadata": {},
     "output_type": "execute_result"
    }
   ],
   "source": [
    "# for column\n",
    "a[:,::-1]"
   ]
  },
  {
   "cell_type": "code",
   "execution_count": 186,
   "id": "d8b4b63e",
   "metadata": {},
   "outputs": [
    {
     "data": {
      "text/plain": [
       "array([2, 4, 6])"
      ]
     },
     "execution_count": 186,
     "metadata": {},
     "output_type": "execute_result"
    }
   ],
   "source": [
    "# i want to print row 0  and column in it \n",
    "# starting from index 1 to index 6 \n",
    "# but skip one step of column each\n",
    "# [start index:end index:step index]\n",
    "a[0,1:6:2]\n",
    "\n"
   ]
  },
  {
   "cell_type": "code",
   "execution_count": 170,
   "id": "bd58c90d",
   "metadata": {},
   "outputs": [
    {
     "data": {
      "text/plain": [
       "array([[ 2,  4,  6],\n",
       "       [ 9, 11, 13]])"
      ]
     },
     "execution_count": 170,
     "metadata": {},
     "output_type": "execute_result"
    }
   ],
   "source": [
    "# i want to print all rows  and column in it \n",
    "# starting from index 1 to index 6 \n",
    "# but skip one step of column each \n",
    "a[:,1:-1:2]"
   ]
  },
  {
   "cell_type": "code",
   "execution_count": 167,
   "id": "9d7fb6a9",
   "metadata": {},
   "outputs": [
    {
     "data": {
      "text/plain": [
       "array([ 3, 10])"
      ]
     },
     "execution_count": 167,
     "metadata": {},
     "output_type": "execute_result"
    }
   ],
   "source": [
    "# print all the rows but only column 2\n",
    "a[:,2]"
   ]
  },
  {
   "cell_type": "code",
   "execution_count": 184,
   "id": "090f2fe2",
   "metadata": {},
   "outputs": [
    {
     "data": {
      "text/plain": [
       "array([[ 1,  2,  3,  4,  5,  6,  7],\n",
       "       [ 8,  9, 10, 11, 12, 13, 14]])"
      ]
     },
     "execution_count": 184,
     "metadata": {},
     "output_type": "execute_result"
    }
   ],
   "source": [
    "a = np.array([[1,2,3,4,5,6,7],[8,9,10,11,12,13,14]])\n",
    "a\n"
   ]
  },
  {
   "cell_type": "code",
   "execution_count": 185,
   "id": "680f4cae",
   "metadata": {},
   "outputs": [],
   "source": [
    "# i want change the value of 12 to 20\n",
    "a[1,4] = 20"
   ]
  },
  {
   "cell_type": "code",
   "execution_count": 180,
   "id": "a9e26313",
   "metadata": {},
   "outputs": [
    {
     "name": "stdout",
     "output_type": "stream",
     "text": [
      "[[ 4  2  2  4 20  3]]\n"
     ]
    }
   ],
   "source": [
    "print(a)"
   ]
  },
  {
   "cell_type": "code",
   "execution_count": 187,
   "id": "9da85639",
   "metadata": {},
   "outputs": [
    {
     "data": {
      "text/plain": [
       "array([[ 1,  2,  3,  4,  5,  6,  7],\n",
       "       [ 8,  9, 10, 11, 20, 13, 14]])"
      ]
     },
     "execution_count": 187,
     "metadata": {},
     "output_type": "execute_result"
    }
   ],
   "source": [
    "a"
   ]
  },
  {
   "cell_type": "code",
   "execution_count": 194,
   "id": "cdc337d4",
   "metadata": {},
   "outputs": [],
   "source": [
    "# let say i want to replace column 2\n",
    "# let say i want it all to be 50\n",
    "a[:,2] = 50\n",
    "\n",
    "# but if i want to be differentiate them\n",
    "# a[:,2] = [90,70]"
   ]
  },
  {
   "cell_type": "code",
   "execution_count": 195,
   "id": "9e998338",
   "metadata": {},
   "outputs": [
    {
     "data": {
      "text/plain": [
       "array([[ 1,  2, 50,  4,  5,  6,  7],\n",
       "       [ 8,  9, 50, 11, 20, 13, 14]])"
      ]
     },
     "execution_count": 195,
     "metadata": {},
     "output_type": "execute_result"
    }
   ],
   "source": [
    "a"
   ]
  },
  {
   "cell_type": "code",
   "execution_count": 199,
   "id": "2c1d6172",
   "metadata": {},
   "outputs": [
    {
     "data": {
      "text/plain": [
       "array([[[21, 18],\n",
       "        [27, 32]],\n",
       "\n",
       "       [[ 1, 32],\n",
       "        [41, 11]],\n",
       "\n",
       "       [[24, 45],\n",
       "        [32, 30]]])"
      ]
     },
     "execution_count": 199,
     "metadata": {},
     "output_type": "execute_result"
    }
   ],
   "source": [
    "x = np.random.randint(1,50,(3,2,2))\n",
    "x"
   ]
  },
  {
   "cell_type": "code",
   "execution_count": 200,
   "id": "84a3b49a",
   "metadata": {},
   "outputs": [
    {
     "data": {
      "text/plain": [
       "32"
      ]
     },
     "execution_count": 200,
     "metadata": {},
     "output_type": "execute_result"
    }
   ],
   "source": [
    "# i want to get no 32\n",
    "x[0,1,1]"
   ]
  },
  {
   "cell_type": "code",
   "execution_count": 204,
   "id": "7390a11e",
   "metadata": {},
   "outputs": [
    {
     "data": {
      "text/plain": [
       "41"
      ]
     },
     "execution_count": 204,
     "metadata": {},
     "output_type": "execute_result"
    }
   ],
   "source": [
    "# i want to get no 41\n",
    "x[1,1,0]\n"
   ]
  },
  {
   "cell_type": "raw",
   "id": "611053cf",
   "metadata": {},
   "source": []
  },
  {
   "cell_type": "code",
   "execution_count": 205,
   "id": "1d789779",
   "metadata": {
    "scrolled": true
   },
   "outputs": [
    {
     "data": {
      "text/plain": [
       "array([[[21, 18],\n",
       "        [27, 32]],\n",
       "\n",
       "       [[ 1, 32],\n",
       "        [41, 11]],\n",
       "\n",
       "       [[24, 45],\n",
       "        [32, 30]]])"
      ]
     },
     "execution_count": 205,
     "metadata": {},
     "output_type": "execute_result"
    }
   ],
   "source": [
    "x[:,:]"
   ]
  },
  {
   "cell_type": "code",
   "execution_count": 214,
   "id": "df09cdec",
   "metadata": {},
   "outputs": [
    {
     "data": {
      "text/plain": [
       "array([[21, 18],\n",
       "       [ 1, 32],\n",
       "       [24, 45]])"
      ]
     },
     "execution_count": 214,
     "metadata": {},
     "output_type": "execute_result"
    }
   ],
   "source": [
    "# i want all the rows under column 0\n",
    "x[:,0]"
   ]
  },
  {
   "cell_type": "markdown",
   "id": "37da53a2",
   "metadata": {},
   "source": []
  },
  {
   "cell_type": "code",
   "execution_count": 217,
   "id": "cf9a0a1d",
   "metadata": {},
   "outputs": [
    {
     "data": {
      "text/plain": [
       "array([[0., 0., 0., 0., 0., 0.],\n",
       "       [0., 0., 0., 0., 0., 0.],\n",
       "       [0., 0., 0., 0., 0., 0.],\n",
       "       [0., 0., 0., 0., 0., 0.],\n",
       "       [0., 0., 0., 0., 0., 0.]])"
      ]
     },
     "execution_count": 217,
     "metadata": {},
     "output_type": "execute_result"
    }
   ],
   "source": [
    "# Array full of zero\n",
    "# np.zeros((5))\n",
    "\n",
    "np.zeros((5,6))"
   ]
  },
  {
   "cell_type": "code",
   "execution_count": 218,
   "id": "72bd2628",
   "metadata": {},
   "outputs": [
    {
     "data": {
      "text/plain": [
       "array([[1., 1., 1., 1., 1., 1.],\n",
       "       [1., 1., 1., 1., 1., 1.],\n",
       "       [1., 1., 1., 1., 1., 1.],\n",
       "       [1., 1., 1., 1., 1., 1.],\n",
       "       [1., 1., 1., 1., 1., 1.]])"
      ]
     },
     "execution_count": 218,
     "metadata": {},
     "output_type": "execute_result"
    }
   ],
   "source": [
    "# Array full of one\n",
    "\n",
    "np.ones((5,6))"
   ]
  },
  {
   "cell_type": "code",
   "execution_count": 219,
   "id": "dad53aea",
   "metadata": {},
   "outputs": [
    {
     "data": {
      "text/plain": [
       "array([[99, 99, 99, 99, 99, 99],\n",
       "       [99, 99, 99, 99, 99, 99],\n",
       "       [99, 99, 99, 99, 99, 99],\n",
       "       [99, 99, 99, 99, 99, 99],\n",
       "       [99, 99, 99, 99, 99, 99]])"
      ]
     },
     "execution_count": 219,
     "metadata": {},
     "output_type": "execute_result"
    }
   ],
   "source": [
    "# Array full of your specified number\n",
    "\n",
    "# ((shape of the array), the items u want to input)\n",
    "np.full((5,6),99)"
   ]
  },
  {
   "cell_type": "code",
   "execution_count": 235,
   "id": "1ac59c59",
   "metadata": {},
   "outputs": [
    {
     "data": {
      "text/plain": [
       "array([[1., 0., 0., 0., 0.],\n",
       "       [0., 1., 0., 0., 0.],\n",
       "       [0., 0., 1., 0., 0.],\n",
       "       [0., 0., 0., 1., 0.],\n",
       "       [0., 0., 0., 0., 1.]])"
      ]
     },
     "execution_count": 235,
     "metadata": {},
     "output_type": "execute_result"
    }
   ],
   "source": [
    "# to do identity of an array\n",
    "# np.eye(3)\n",
    "# np.eye(5)\n",
    "np.identity(5)"
   ]
  },
  {
   "cell_type": "code",
   "execution_count": 227,
   "id": "b0137b6e",
   "metadata": {},
   "outputs": [
    {
     "data": {
      "text/plain": [
       "array([[0.91821116, 0.90023754, 0.22728265, 0.60189911, 0.31624496,\n",
       "        0.12810756, 0.554851  ],\n",
       "       [0.96528092, 0.39641694, 0.22795456, 0.3019787 , 0.97540153,\n",
       "        0.11687078, 0.52480346]])"
      ]
     },
     "execution_count": 227,
     "metadata": {},
     "output_type": "execute_result"
    }
   ],
   "source": [
    "# To get random decimal numbers\n",
    "np.random.rand(2,7)"
   ]
  },
  {
   "cell_type": "code",
   "execution_count": 231,
   "id": "e780f533",
   "metadata": {},
   "outputs": [
    {
     "data": {
      "text/plain": [
       "7"
      ]
     },
     "execution_count": 231,
     "metadata": {},
     "output_type": "execute_result"
    }
   ],
   "source": [
    "# To get random integer numbers\n",
    "np.random.randint(0,10)"
   ]
  },
  {
   "cell_type": "code",
   "execution_count": 234,
   "id": "ca5d4989",
   "metadata": {},
   "outputs": [
    {
     "data": {
      "text/plain": [
       "array([[8, 8, 4, 3, 9, 8, 7],\n",
       "       [5, 4, 7, 8, 2, 4, 6]])"
      ]
     },
     "execution_count": 234,
     "metadata": {},
     "output_type": "execute_result"
    }
   ],
   "source": [
    "# random int number with shape\n",
    "# (start,end ,(shape))\n",
    "np.random.randint(0,10, (2,7))"
   ]
  },
  {
   "cell_type": "code",
   "execution_count": 264,
   "id": "9d62c7f0",
   "metadata": {},
   "outputs": [
    {
     "data": {
      "text/plain": [
       "array([[1, 2, 3],\n",
       "       [1, 2, 3],\n",
       "       [1, 2, 3]])"
      ]
     },
     "execution_count": 264,
     "metadata": {},
     "output_type": "execute_result"
    }
   ],
   "source": [
    "# To repeat an array into 2 dim\n",
    "rr = np.array([[1,2,3]])\n",
    "rep = np.repeat(rr, 3,axis=0 )\n",
    "rep"
   ]
  },
  {
   "cell_type": "markdown",
   "id": "ea2dba0c",
   "metadata": {},
   "source": [
    "# printing an array like;\n",
    "\n",
    "# 1 1 1 1 1\n",
    "# 1 0 0 0 1\n",
    "# 1 0 9 0 1\n",
    "# 1 0 0 0 1\n",
    "# 1 1 1 1 1\n",
    "\n",
    "# without just typing it straight"
   ]
  },
  {
   "cell_type": "code",
   "execution_count": 254,
   "id": "593d1f04",
   "metadata": {},
   "outputs": [
    {
     "name": "stdout",
     "output_type": "stream",
     "text": [
      "[[1. 1. 1. 1. 1.]\n",
      " [1. 0. 0. 0. 1.]\n",
      " [1. 0. 9. 0. 1.]\n",
      " [1. 0. 0. 0. 1.]\n",
      " [1. 1. 1. 1. 1.]]\n"
     ]
    }
   ],
   "source": [
    "# solution\n",
    "\n",
    "# printing an array of ones\n",
    "arr = np.ones((5,5))\n",
    "# print(arr)\n",
    "\n",
    "# printing an array of zeros\n",
    "z = np.zeros((3,3))\n",
    "# print(z)\n",
    "\n",
    "# inserting the 9\n",
    "\n",
    "z[1,1] = 9\n",
    "# print(z)\n",
    "\n",
    "# inserting z inside arr\n",
    "# arr[1:-1,1:-1] = z\n",
    "# print(arr)"
   ]
  },
  {
   "cell_type": "markdown",
   "id": "c7e861d6",
   "metadata": {},
   "source": [
    "# printing an array like;\n",
    "\n",
    "# 1 2 3 4 5\n",
    "# 1 1 0 0 5\n",
    "# 1 0 1 0 5\n",
    "# 1 0 0 1 5\n",
    "# 1 2 3 4 5\n",
    "\n",
    "# without just typing it straight"
   ]
  },
  {
   "cell_type": "code",
   "execution_count": 282,
   "id": "e401c7dd",
   "metadata": {},
   "outputs": [
    {
     "name": "stdout",
     "output_type": "stream",
     "text": [
      "[[1 2 3 4 5]\n",
      " [1 2 3 4 5]\n",
      " [1 2 3 4 5]\n",
      " [1 2 3 4 5]\n",
      " [1 2 3 4 5]]\n",
      "[[1. 0. 0.]\n",
      " [0. 1. 0.]\n",
      " [0. 0. 1.]]\n",
      "[[1 2 3 4 5]\n",
      " [1 1 0 0 5]\n",
      " [1 0 1 0 5]\n",
      " [1 0 0 1 5]\n",
      " [1 2 3 4 5]]\n"
     ]
    }
   ],
   "source": [
    "# an array of 5 by 5\n",
    "j = np.array([[1,2,3,4,5]])\n",
    "\n",
    "# to repeat it\n",
    "rep = np.repeat(j,5,axis=0)\n",
    "print(rep)\n",
    "\n",
    "# or use \n",
    "\n",
    "# x = np.full((5,5), [1,2,3,4,5])\n",
    "# print(x)\n",
    "\n",
    "# getting the diagonal or identity\n",
    "d = np.eye(3)\n",
    "print(d)\n",
    "# or\n",
    "\n",
    "# f = np.identity(3)\n",
    "# print(f)\n",
    "\n",
    "rep[1:-1, 1:-1] = d\n",
    "print(rep)"
   ]
  },
  {
   "cell_type": "code",
   "execution_count": 284,
   "id": "11cd962e",
   "metadata": {},
   "outputs": [
    {
     "name": "stdout",
     "output_type": "stream",
     "text": [
      "[[1 2 3 4 5]\n",
      " [1 1 0 0 5]\n",
      " [1 0 1 0 5]\n",
      " [1 0 0 1 5]\n",
      " [1 2 3 4 5]]\n"
     ]
    }
   ],
   "source": [
    "j = np.array([[1,2,3,4,5]])\n",
    "\n",
    "x = np.full((5,5), [1,2,3,4,5])\n",
    "# print(x)\n",
    "\n",
    "d = np.eye(3)\n",
    "# print(d)\n",
    "\n",
    "x[1:-1, 1:-1] = d\n",
    "print(x)"
   ]
  },
  {
   "cell_type": "markdown",
   "id": "194ffbdb",
   "metadata": {},
   "source": [
    "######  Be careful when copying arrays!!!!"
   ]
  },
  {
   "cell_type": "code",
   "execution_count": 285,
   "id": "a3b3f4dd",
   "metadata": {},
   "outputs": [
    {
     "data": {
      "text/plain": [
       "array([1, 2, 3])"
      ]
     },
     "execution_count": 285,
     "metadata": {},
     "output_type": "execute_result"
    }
   ],
   "source": [
    "a = np.array([1,2,3])\n",
    "a"
   ]
  },
  {
   "cell_type": "code",
   "execution_count": 286,
   "id": "dbb7a2e6",
   "metadata": {},
   "outputs": [
    {
     "name": "stdout",
     "output_type": "stream",
     "text": [
      "[1 2 3]\n"
     ]
    }
   ],
   "source": [
    "b = a\n",
    "print(b)"
   ]
  },
  {
   "cell_type": "code",
   "execution_count": 287,
   "id": "4e77f9de",
   "metadata": {},
   "outputs": [
    {
     "name": "stdout",
     "output_type": "stream",
     "text": [
      "[100   2   3]\n"
     ]
    }
   ],
   "source": [
    "b[0] = 100\n",
    "print(b)"
   ]
  },
  {
   "cell_type": "code",
   "execution_count": 288,
   "id": "a4b8fad2",
   "metadata": {},
   "outputs": [
    {
     "data": {
      "text/plain": [
       "array([100,   2,   3])"
      ]
     },
     "execution_count": 288,
     "metadata": {},
     "output_type": "execute_result"
    }
   ],
   "source": [
    "a"
   ]
  },
  {
   "cell_type": "code",
   "execution_count": null,
   "id": "27884fdc",
   "metadata": {},
   "outputs": [],
   "source": [
    "# that's a wrong way to copy an array\n",
    "# as u can see, u also change the values of 'a'"
   ]
  },
  {
   "cell_type": "code",
   "execution_count": 289,
   "id": "19a17d6c",
   "metadata": {},
   "outputs": [
    {
     "data": {
      "text/plain": [
       "array([1, 2, 3])"
      ]
     },
     "execution_count": 289,
     "metadata": {},
     "output_type": "execute_result"
    }
   ],
   "source": [
    "# The proper way is;\n",
    "a = np.array([1,2,3])\n",
    "a"
   ]
  },
  {
   "cell_type": "code",
   "execution_count": 290,
   "id": "b3dbf61c",
   "metadata": {},
   "outputs": [
    {
     "data": {
      "text/plain": [
       "array([1, 2, 3])"
      ]
     },
     "execution_count": 290,
     "metadata": {},
     "output_type": "execute_result"
    }
   ],
   "source": [
    "b = a.copy()\n",
    "b"
   ]
  },
  {
   "cell_type": "code",
   "execution_count": 291,
   "id": "ae78309a",
   "metadata": {},
   "outputs": [
    {
     "data": {
      "text/plain": [
       "array([100,   2,   3])"
      ]
     },
     "execution_count": 291,
     "metadata": {},
     "output_type": "execute_result"
    }
   ],
   "source": [
    "b[0] = 100\n",
    "b"
   ]
  },
  {
   "cell_type": "code",
   "execution_count": 295,
   "id": "21c8dfdc",
   "metadata": {},
   "outputs": [
    {
     "name": "stdout",
     "output_type": "stream",
     "text": [
      "[1 2 3]\n",
      "[100   2   3]\n"
     ]
    }
   ],
   "source": [
    "print(a)\n",
    "print(b)"
   ]
  },
  {
   "cell_type": "markdown",
   "id": "d75875d1",
   "metadata": {},
   "source": [
    "\n",
    "Mathematics \n",
    "\n",
    "\n"
   ]
  },
  {
   "cell_type": "code",
   "execution_count": 326,
   "id": "ce2f711b",
   "metadata": {},
   "outputs": [
    {
     "data": {
      "text/plain": [
       "array([1, 2, 3, 4])"
      ]
     },
     "execution_count": 326,
     "metadata": {},
     "output_type": "execute_result"
    }
   ],
   "source": [
    "a = np.array([1,2,3,4])\n",
    "a\n",
    "# sum(a)\n"
   ]
  },
  {
   "cell_type": "code",
   "execution_count": 327,
   "id": "033d0c84",
   "metadata": {},
   "outputs": [
    {
     "data": {
      "text/plain": [
       "array([1, 2, 3, 4])"
      ]
     },
     "execution_count": 327,
     "metadata": {},
     "output_type": "execute_result"
    }
   ],
   "source": [
    "a + 2\n",
    "a"
   ]
  },
  {
   "cell_type": "code",
   "execution_count": 328,
   "id": "1f8a7c5d",
   "metadata": {},
   "outputs": [
    {
     "data": {
      "text/plain": [
       "array([-1,  0,  1,  2])"
      ]
     },
     "execution_count": 328,
     "metadata": {},
     "output_type": "execute_result"
    }
   ],
   "source": [
    "a - 2\n"
   ]
  },
  {
   "cell_type": "code",
   "execution_count": 329,
   "id": "71265ccb",
   "metadata": {},
   "outputs": [
    {
     "data": {
      "text/plain": [
       "array([0.5, 1. , 1.5, 2. ])"
      ]
     },
     "execution_count": 329,
     "metadata": {},
     "output_type": "execute_result"
    }
   ],
   "source": [
    "a/2"
   ]
  },
  {
   "cell_type": "code",
   "execution_count": 330,
   "id": "8127580a",
   "metadata": {},
   "outputs": [
    {
     "data": {
      "text/plain": [
       "array([ 0.84147098,  0.90929743,  0.14112001, -0.7568025 ])"
      ]
     },
     "execution_count": 330,
     "metadata": {},
     "output_type": "execute_result"
    }
   ],
   "source": [
    "np.sin(a)"
   ]
  },
  {
   "cell_type": "code",
   "execution_count": 331,
   "id": "55f2fec2",
   "metadata": {},
   "outputs": [
    {
     "data": {
      "text/plain": [
       "array([0.        , 0.69314718, 1.09861229, 1.38629436])"
      ]
     },
     "execution_count": 331,
     "metadata": {},
     "output_type": "execute_result"
    }
   ],
   "source": [
    "np.log(a)"
   ]
  },
  {
   "cell_type": "code",
   "execution_count": 332,
   "id": "9ef94de9",
   "metadata": {},
   "outputs": [
    {
     "data": {
      "text/plain": [
       "array([0.       , 1.       , 1.5849625, 2.       ])"
      ]
     },
     "execution_count": 332,
     "metadata": {},
     "output_type": "execute_result"
    }
   ],
   "source": [
    "np.log2(a)"
   ]
  },
  {
   "cell_type": "code",
   "execution_count": 333,
   "id": "a813cd56",
   "metadata": {},
   "outputs": [
    {
     "data": {
      "text/plain": [
       "array([ 1.54308063,  3.76219569, 10.067662  , 27.30823284])"
      ]
     },
     "execution_count": 333,
     "metadata": {},
     "output_type": "execute_result"
    }
   ],
   "source": [
    "np.cosh(a)"
   ]
  },
  {
   "cell_type": "code",
   "execution_count": 334,
   "id": "c49ac50e",
   "metadata": {},
   "outputs": [
    {
     "data": {
      "text/plain": [
       "10"
      ]
     },
     "execution_count": 334,
     "metadata": {},
     "output_type": "execute_result"
    }
   ],
   "source": [
    "np.sum(a)"
   ]
  },
  {
   "cell_type": "code",
   "execution_count": 342,
   "id": "43fbefab",
   "metadata": {},
   "outputs": [
    {
     "name": "stdout",
     "output_type": "stream",
     "text": [
      "[[1 2 3]\n",
      " [4 5 6]]\n",
      "[[2 2 2]\n",
      " [2 2 2]]\n"
     ]
    }
   ],
   "source": [
    "a = np.array([[1,2,3],[4,5,6]])\n",
    "print(a)\n",
    "\n",
    "b = np.array([[2,2,2],[2,2,2]])\n",
    "print(b)\n"
   ]
  },
  {
   "cell_type": "code",
   "execution_count": 346,
   "id": "6b60c281",
   "metadata": {},
   "outputs": [
    {
     "name": "stdout",
     "output_type": "stream",
     "text": [
      "[[ 2  4  6]\n",
      " [ 8 10 12]]\n"
     ]
    }
   ],
   "source": [
    "c = a*b\n",
    "print(c)"
   ]
  },
  {
   "cell_type": "markdown",
   "id": "0c169689",
   "metadata": {},
   "source": [
    "Statistics "
   ]
  },
  {
   "cell_type": "code",
   "execution_count": 353,
   "id": "9230246f",
   "metadata": {},
   "outputs": [
    {
     "data": {
      "text/plain": [
       "array([[1, 2, 3],\n",
       "       [4, 5, 6]])"
      ]
     },
     "execution_count": 353,
     "metadata": {},
     "output_type": "execute_result"
    }
   ],
   "source": [
    "a = np.array([[1,2,3],[4,5,6]])\n",
    "a\n"
   ]
  },
  {
   "cell_type": "code",
   "execution_count": 349,
   "id": "7f42c2ee",
   "metadata": {},
   "outputs": [
    {
     "data": {
      "text/plain": [
       "1"
      ]
     },
     "execution_count": 349,
     "metadata": {},
     "output_type": "execute_result"
    }
   ],
   "source": [
    "np.min(a)"
   ]
  },
  {
   "cell_type": "code",
   "execution_count": 350,
   "id": "e2cd1a34",
   "metadata": {},
   "outputs": [
    {
     "data": {
      "text/plain": [
       "6"
      ]
     },
     "execution_count": 350,
     "metadata": {},
     "output_type": "execute_result"
    }
   ],
   "source": [
    "np.max(a)"
   ]
  },
  {
   "cell_type": "code",
   "execution_count": 351,
   "id": "618c627f",
   "metadata": {},
   "outputs": [
    {
     "data": {
      "text/plain": [
       "3.5"
      ]
     },
     "execution_count": 351,
     "metadata": {},
     "output_type": "execute_result"
    }
   ],
   "source": [
    "np.mean(a)"
   ]
  },
  {
   "cell_type": "code",
   "execution_count": 352,
   "id": "2c06b826",
   "metadata": {},
   "outputs": [
    {
     "data": {
      "text/plain": [
       "3.5"
      ]
     },
     "execution_count": 352,
     "metadata": {},
     "output_type": "execute_result"
    }
   ],
   "source": [
    "np.median(a)"
   ]
  },
  {
   "cell_type": "code",
   "execution_count": 358,
   "id": "b48c1c3a",
   "metadata": {},
   "outputs": [
    {
     "data": {
      "text/plain": [
       "21"
      ]
     },
     "execution_count": 358,
     "metadata": {},
     "output_type": "execute_result"
    }
   ],
   "source": [
    "np.sum(a)"
   ]
  },
  {
   "cell_type": "markdown",
   "id": "00d8d604",
   "metadata": {},
   "source": [
    "reorganizing Arrays"
   ]
  },
  {
   "cell_type": "code",
   "execution_count": 360,
   "id": "640894d8",
   "metadata": {},
   "outputs": [
    {
     "data": {
      "text/plain": [
       "array([[ 1,  2,  3],\n",
       "       [ 4,  5,  6],\n",
       "       [ 7,  8,  9],\n",
       "       [10, 11, 12]])"
      ]
     },
     "execution_count": 360,
     "metadata": {},
     "output_type": "execute_result"
    }
   ],
   "source": [
    "before = np.array([[1,2,3],[4,5,6],[7,8,9],[10,11,12]])\n",
    "before"
   ]
  },
  {
   "cell_type": "code",
   "execution_count": 361,
   "id": "7f3a6dad",
   "metadata": {},
   "outputs": [
    {
     "data": {
      "text/plain": [
       "array([[ 1,  2,  3,  4],\n",
       "       [ 5,  6,  7,  8],\n",
       "       [ 9, 10, 11, 12]])"
      ]
     },
     "execution_count": 361,
     "metadata": {},
     "output_type": "execute_result"
    }
   ],
   "source": [
    "after =before.reshape(3,4)\n",
    "after"
   ]
  },
  {
   "cell_type": "code",
   "execution_count": 362,
   "id": "2d22d12d",
   "metadata": {},
   "outputs": [
    {
     "data": {
      "text/plain": [
       "array([[[ 1,  2],\n",
       "        [ 3,  4],\n",
       "        [ 5,  6]],\n",
       "\n",
       "       [[ 7,  8],\n",
       "        [ 9, 10],\n",
       "        [11, 12]]])"
      ]
     },
     "execution_count": 362,
     "metadata": {},
     "output_type": "execute_result"
    }
   ],
   "source": [
    "after =before.reshape(2,3,2)\n",
    "after"
   ]
  },
  {
   "cell_type": "code",
   "execution_count": 363,
   "id": "19151260",
   "metadata": {},
   "outputs": [
    {
     "data": {
      "text/plain": [
       "array([[ 1,  2],\n",
       "       [ 3,  4],\n",
       "       [ 5,  6],\n",
       "       [ 7,  8],\n",
       "       [ 9, 10],\n",
       "       [11, 12]])"
      ]
     },
     "execution_count": 363,
     "metadata": {},
     "output_type": "execute_result"
    }
   ],
   "source": [
    "after =before.reshape(6,2)\n",
    "after"
   ]
  },
  {
   "cell_type": "code",
   "execution_count": 369,
   "id": "fc65006b",
   "metadata": {},
   "outputs": [
    {
     "data": {
      "text/plain": [
       "array([[1, 2, 3, 4],\n",
       "       [5, 6, 7, 8]])"
      ]
     },
     "execution_count": 369,
     "metadata": {},
     "output_type": "execute_result"
    }
   ],
   "source": [
    "# vstacking\n",
    "a = np.array([1,2,3,4])\n",
    "b = np.array([5,6,7,8])\n",
    "\n",
    "c = np.vstack((a,b))\n",
    "c"
   ]
  },
  {
   "cell_type": "code",
   "execution_count": 370,
   "id": "3185ba84",
   "metadata": {},
   "outputs": [
    {
     "data": {
      "text/plain": [
       "array([1, 2, 3, 4, 5, 6, 7, 8])"
      ]
     },
     "execution_count": 370,
     "metadata": {},
     "output_type": "execute_result"
    }
   ],
   "source": [
    "# horizontal stacking\n",
    "a = np.array([1,2,3,4])\n",
    "b = np.array([5,6,7,8])\n",
    "\n",
    "c = np.hstack((a,b))\n",
    "c"
   ]
  },
  {
   "cell_type": "markdown",
   "id": "052a8b02",
   "metadata": {},
   "source": [
    "LOADING DATA FROM FILE"
   ]
  },
  {
   "cell_type": "code",
   "execution_count": 6,
   "id": "64b4be3d",
   "metadata": {},
   "outputs": [
    {
     "data": {
      "text/plain": [
       "array([[ 3, 46,  2, 23, 31],\n",
       "       [45, 20, 25, 32, 11],\n",
       "       [ 2, 32,  2, 42, 48],\n",
       "       [25, 10, 37, 14, 35],\n",
       "       [10, 37,  3, 29,  9],\n",
       "       [35,  6, 41,  2, 37]])"
      ]
     },
     "execution_count": 6,
     "metadata": {},
     "output_type": "execute_result"
    }
   ],
   "source": [
    "x = np.random.randint(1,50, (6,5))\n",
    "x"
   ]
  },
  {
   "cell_type": "code",
   "execution_count": 7,
   "id": "2a824eaf",
   "metadata": {},
   "outputs": [
    {
     "data": {
      "text/plain": [
       "array([[ 2, 32],\n",
       "       [25, 10]])"
      ]
     },
     "execution_count": 7,
     "metadata": {},
     "output_type": "execute_result"
    }
   ],
   "source": [
    "# get [2, 32]\n",
    "#     [25, 10]\n",
    "\n",
    "x[2:-2,0:2]"
   ]
  },
  {
   "cell_type": "code",
   "execution_count": 8,
   "id": "5934f317",
   "metadata": {},
   "outputs": [
    {
     "data": {
      "text/plain": [
       "array([[29,  9],\n",
       "       [ 2, 37]])"
      ]
     },
     "execution_count": 8,
     "metadata": {},
     "output_type": "execute_result"
    }
   ],
   "source": [
    "# get [29, 9]\n",
    "#     [2, 37]\n",
    "\n",
    "x[4:,3:]"
   ]
  },
  {
   "cell_type": "code",
   "execution_count": 17,
   "id": "05ce78c0",
   "metadata": {},
   "outputs": [
    {
     "data": {
      "text/plain": [
       "array([46, 25, 42, 35])"
      ]
     },
     "execution_count": 17,
     "metadata": {},
     "output_type": "execute_result"
    }
   ],
   "source": [
    "# to get the diagonal [46,25,42,35]\n",
    "\n",
    "x[[0,1,2,3],[1,2,3,4]]"
   ]
  },
  {
   "cell_type": "code",
   "execution_count": 12,
   "id": "fbd128b0",
   "metadata": {},
   "outputs": [
    {
     "data": {
      "text/plain": [
       "array([46])"
      ]
     },
     "execution_count": 12,
     "metadata": {},
     "output_type": "execute_result"
    }
   ],
   "source": [
    "x[[0],[1]]"
   ]
  },
  {
   "cell_type": "code",
   "execution_count": 13,
   "id": "8bfa6241",
   "metadata": {},
   "outputs": [
    {
     "data": {
      "text/plain": [
       "array([25])"
      ]
     },
     "execution_count": 13,
     "metadata": {},
     "output_type": "execute_result"
    }
   ],
   "source": [
    "x[[1],[2]]"
   ]
  },
  {
   "cell_type": "code",
   "execution_count": 14,
   "id": "ba58b8d1",
   "metadata": {},
   "outputs": [
    {
     "data": {
      "text/plain": [
       "array([42])"
      ]
     },
     "execution_count": 14,
     "metadata": {},
     "output_type": "execute_result"
    }
   ],
   "source": [
    "x[[2],[3]]"
   ]
  },
  {
   "cell_type": "code",
   "execution_count": 15,
   "id": "f822ca08",
   "metadata": {},
   "outputs": [
    {
     "data": {
      "text/plain": [
       "array([35])"
      ]
     },
     "execution_count": 15,
     "metadata": {},
     "output_type": "execute_result"
    }
   ],
   "source": [
    "x[[3],[4]]"
   ]
  },
  {
   "cell_type": "code",
   "execution_count": 16,
   "id": "d8157f84",
   "metadata": {},
   "outputs": [
    {
     "data": {
      "text/plain": [
       "array([46, 25, 42, 35])"
      ]
     },
     "execution_count": 16,
     "metadata": {},
     "output_type": "execute_result"
    }
   ],
   "source": [
    "x[[0,1,2,3],[1,2,3,4]]"
   ]
  },
  {
   "cell_type": "markdown",
   "id": "7fa3bf3c",
   "metadata": {},
   "source": [
    "Assignment 2\n",
    "#use us_births data to compute the following using np: #extract the year, gender and births column from the data #compute the aggregation of sum of total birth, sum of female birth and sum of male birth, mean and median #compute the maximum births and minimum births #indicate the gender with minimum birth and maximum birth #indicate the year with minimum birth and maximum birth"
   ]
  },
  {
   "cell_type": "code",
   "execution_count": 1,
   "id": "8eb2b286",
   "metadata": {},
   "outputs": [
    {
     "data": {
      "text/html": [
       "<div>\n",
       "<style scoped>\n",
       "    .dataframe tbody tr th:only-of-type {\n",
       "        vertical-align: middle;\n",
       "    }\n",
       "\n",
       "    .dataframe tbody tr th {\n",
       "        vertical-align: top;\n",
       "    }\n",
       "\n",
       "    .dataframe thead th {\n",
       "        text-align: right;\n",
       "    }\n",
       "</style>\n",
       "<table border=\"1\" class=\"dataframe\">\n",
       "  <thead>\n",
       "    <tr style=\"text-align: right;\">\n",
       "      <th></th>\n",
       "      <th>year</th>\n",
       "      <th>month</th>\n",
       "      <th>day</th>\n",
       "      <th>gender</th>\n",
       "      <th>births</th>\n",
       "    </tr>\n",
       "  </thead>\n",
       "  <tbody>\n",
       "    <tr>\n",
       "      <th>0</th>\n",
       "      <td>1969</td>\n",
       "      <td>1</td>\n",
       "      <td>1.0</td>\n",
       "      <td>F</td>\n",
       "      <td>4046</td>\n",
       "    </tr>\n",
       "    <tr>\n",
       "      <th>1</th>\n",
       "      <td>1969</td>\n",
       "      <td>1</td>\n",
       "      <td>1.0</td>\n",
       "      <td>M</td>\n",
       "      <td>4440</td>\n",
       "    </tr>\n",
       "    <tr>\n",
       "      <th>2</th>\n",
       "      <td>1969</td>\n",
       "      <td>1</td>\n",
       "      <td>2.0</td>\n",
       "      <td>F</td>\n",
       "      <td>4454</td>\n",
       "    </tr>\n",
       "    <tr>\n",
       "      <th>3</th>\n",
       "      <td>1969</td>\n",
       "      <td>1</td>\n",
       "      <td>2.0</td>\n",
       "      <td>M</td>\n",
       "      <td>4548</td>\n",
       "    </tr>\n",
       "    <tr>\n",
       "      <th>4</th>\n",
       "      <td>1969</td>\n",
       "      <td>1</td>\n",
       "      <td>3.0</td>\n",
       "      <td>F</td>\n",
       "      <td>4548</td>\n",
       "    </tr>\n",
       "    <tr>\n",
       "      <th>...</th>\n",
       "      <td>...</td>\n",
       "      <td>...</td>\n",
       "      <td>...</td>\n",
       "      <td>...</td>\n",
       "      <td>...</td>\n",
       "    </tr>\n",
       "    <tr>\n",
       "      <th>15542</th>\n",
       "      <td>2008</td>\n",
       "      <td>10</td>\n",
       "      <td>NaN</td>\n",
       "      <td>M</td>\n",
       "      <td>183219</td>\n",
       "    </tr>\n",
       "    <tr>\n",
       "      <th>15543</th>\n",
       "      <td>2008</td>\n",
       "      <td>11</td>\n",
       "      <td>NaN</td>\n",
       "      <td>F</td>\n",
       "      <td>158939</td>\n",
       "    </tr>\n",
       "    <tr>\n",
       "      <th>15544</th>\n",
       "      <td>2008</td>\n",
       "      <td>11</td>\n",
       "      <td>NaN</td>\n",
       "      <td>M</td>\n",
       "      <td>165468</td>\n",
       "    </tr>\n",
       "    <tr>\n",
       "      <th>15545</th>\n",
       "      <td>2008</td>\n",
       "      <td>12</td>\n",
       "      <td>NaN</td>\n",
       "      <td>F</td>\n",
       "      <td>173215</td>\n",
       "    </tr>\n",
       "    <tr>\n",
       "      <th>15546</th>\n",
       "      <td>2008</td>\n",
       "      <td>12</td>\n",
       "      <td>NaN</td>\n",
       "      <td>M</td>\n",
       "      <td>181235</td>\n",
       "    </tr>\n",
       "  </tbody>\n",
       "</table>\n",
       "<p>15547 rows × 5 columns</p>\n",
       "</div>"
      ],
      "text/plain": [
       "       year  month  day gender  births\n",
       "0      1969      1  1.0      F    4046\n",
       "1      1969      1  1.0      M    4440\n",
       "2      1969      1  2.0      F    4454\n",
       "3      1969      1  2.0      M    4548\n",
       "4      1969      1  3.0      F    4548\n",
       "...     ...    ...  ...    ...     ...\n",
       "15542  2008     10  NaN      M  183219\n",
       "15543  2008     11  NaN      F  158939\n",
       "15544  2008     11  NaN      M  165468\n",
       "15545  2008     12  NaN      F  173215\n",
       "15546  2008     12  NaN      M  181235\n",
       "\n",
       "[15547 rows x 5 columns]"
      ]
     },
     "execution_count": 1,
     "metadata": {},
     "output_type": "execute_result"
    }
   ],
   "source": [
    "import numpy as np\n",
    "import pandas as pd\n",
    "import sys\n",
    "\n",
    "us_births = pd.read_csv('C:\\\\Datasets\\\\us_births.csv')\n",
    "\n",
    "np.set_printoptions(threshold=sys.maxsize)\n",
    "us_births"
   ]
  },
  {
   "cell_type": "code",
   "execution_count": 5,
   "id": "d364a1e2",
   "metadata": {},
   "outputs": [
    {
     "name": "stdout",
     "output_type": "stream",
     "text": [
      "The years are: '\n",
      "' [1969 1969 1969 1969 1969 1969 1969 1969 1969 1969 1969 1969 1969 1969\n",
      " 1969 1969 1969 1969 1969 1969 1969 1969 1969 1969 1969 1969 1969 1969\n",
      " 1969 1969 1969 1969 1969 1969 1969 1969 1969 1969 1969 1969 1969 1969\n",
      " 1969 1969 1969 1969 1969 1969 1969 1969 1969 1969 1969 1969 1969 1969\n",
      " 1969 1969 1969 1969 1969 1969 1969 1969 1969 1969 1969 1969 1969 1969\n",
      " 1969 1969 1969 1969 1969 1969 1969 1969 1969 1969 1969 1969 1969 1969\n",
      " 1969 1969 1969 1969 1969 1969 1969 1969 1969 1969 1969 1969 1969 1969\n",
      " 1969 1969 1969 1969 1969 1969 1969 1969 1969 1969 1969 1969 1969 1969\n",
      " 1969 1969 1969 1969 1969 1969 1969 1969 1969 1969 1969 1969 1969 1969\n",
      " 1969 1969 1969 1969 1969 1969 1969 1969 1969 1969 1969 1969 1969 1969\n",
      " 1969 1969 1969 1969 1969 1969 1969 1969 1969 1969 1969 1969 1969 1969\n",
      " 1969 1969 1969 1969 1969 1969 1969 1969 1969 1969 1969 1969 1969 1969\n",
      " 1969 1969 1969 1969 1969 1969 1969 1969 1969 1969 1969 1969 1969 1969\n",
      " 1969 1969 1969 1969 1969 1969 1969 1969 1969 1969 1969 1969 1969 1969\n",
      " 1969 1969 1969 1969 1969 1969 1969 1969 1969 1969 1969 1969 1969 1969\n",
      " 1969 1969 1969 1969 1969 1969 1969 1969 1969 1969 1969 1969 1969 1969\n",
      " 1969 1969 1969 1969 1969 1969 1969 1969 1969 1969 1969 1969 1969 1969\n",
      " 1969 1969 1969 1969 1969 1969 1969 1969 1969 1969 1969 1969 1969 1969\n",
      " 1969 1969 1969 1969 1969 1969 1969 1969 1969 1969 1969 1969 1969 1969\n",
      " 1969 1969 1969 1969 1969 1969 1969 1969 1969 1969 1969 1969 1969 1969\n",
      " 1969 1969 1969 1969 1969 1969 1969 1969 1969 1969 1969 1969 1969 1969\n",
      " 1969 1969 1969 1969 1969 1969 1969 1969 1969 1969 1969 1969 1969 1969\n",
      " 1969 1969 1969 1969 1969 1969 1969 1969 1969 1969 1969 1969 1969 1969\n",
      " 1969 1969 1969 1969 1969 1969 1969 1969 1969 1969 1969 1969 1969 1969\n",
      " 1969 1969 1969 1969 1969 1969 1969 1969 1969 1969 1969 1969 1969 1969\n",
      " 1969 1969 1969 1969 1969 1969 1969 1969 1969 1969 1969 1969 1969 1969\n",
      " 1969 1969 1969 1969 1969 1969 1969 1969 1969 1969 1969 1969 1969 1969\n",
      " 1969 1969 1969 1969 1969 1969 1969 1969 1969 1969 1969 1969 1969 1969\n",
      " 1969 1969 1969 1969 1969 1969 1969 1969 1969 1969 1969 1969 1969 1969\n",
      " 1969 1969 1969 1969 1969 1969 1969 1969 1969 1969 1969 1969 1969 1969\n",
      " 1969 1969 1969 1969 1969 1969 1969 1969 1969 1969 1969 1969 1969 1969\n",
      " 1969 1969 1969 1969 1969 1969 1969 1969 1969 1969 1969 1969 1969 1969\n",
      " 1969 1969 1969 1969 1969 1969 1969 1969 1969 1969 1969 1969 1969 1969\n",
      " 1969 1969 1969 1969 1969 1969 1969 1969 1969 1969 1969 1969 1969 1969\n",
      " 1969 1969 1969 1969 1969 1969 1969 1969 1969 1969 1969 1969 1969 1969\n",
      " 1969 1969 1969 1969 1969 1969 1969 1969 1969 1969 1969 1969 1969 1969\n",
      " 1969 1969 1969 1969 1969 1969 1969 1969 1969 1969 1969 1969 1969 1969\n",
      " 1969 1969 1969 1969 1969 1969 1969 1969 1969 1969 1969 1969 1969 1969\n",
      " 1969 1969 1969 1969 1969 1969 1969 1969 1969 1969 1969 1969 1969 1969\n",
      " 1969 1969 1969 1969 1969 1969 1969 1969 1969 1969 1969 1969 1969 1969\n",
      " 1969 1969 1969 1969 1969 1969 1969 1969 1969 1969 1969 1969 1969 1969\n",
      " 1969 1969 1969 1969 1969 1969 1969 1969 1969 1969 1969 1969 1969 1969\n",
      " 1969 1969 1969 1969 1969 1969 1969 1969 1969 1969 1969 1969 1969 1969\n",
      " 1969 1969 1969 1969 1969 1969 1969 1969 1969 1969 1969 1969 1969 1969\n",
      " 1969 1969 1969 1969 1969 1969 1969 1969 1969 1969 1969 1969 1969 1969\n",
      " 1969 1969 1969 1969 1969 1969 1969 1969 1969 1969 1969 1969 1969 1969\n",
      " 1969 1969 1969 1969 1969 1969 1969 1969 1969 1969 1969 1969 1969 1969\n",
      " 1969 1969 1969 1969 1969 1969 1969 1969 1969 1969 1969 1969 1969 1969\n",
      " 1969 1969 1969 1969 1969 1969 1969 1969 1969 1969 1969 1969 1969 1969\n",
      " 1969 1969 1969 1969 1969 1969 1969 1969 1969 1969 1969 1969 1969 1969\n",
      " 1969 1969 1969 1969 1969 1969 1969 1969 1969 1969 1969 1969 1969 1969\n",
      " 1969 1969 1969 1969 1969 1969 1969 1969 1969 1969 1969 1969 1969 1969\n",
      " 1969 1969 1969 1969 1969 1969 1969 1969 1969 1969 1969 1969 1969 1969\n",
      " 1969 1969 1969 1969 1969 1969 1969 1969 1969 1969 1969 1969 1969 1969\n",
      " 1969 1969 1969 1969 1969 1969 1969 1969 1969 1969 1969 1969 1970 1970\n",
      " 1970 1970 1970 1970 1970 1970 1970 1970 1970 1970 1970 1970 1970 1970\n",
      " 1970 1970 1970 1970 1970 1970 1970 1970 1970 1970 1970 1970 1970 1970\n",
      " 1970 1970 1970 1970 1970 1970 1970 1970 1970 1970 1970 1970 1970 1970\n",
      " 1970 1970 1970 1970 1970 1970 1970 1970 1970 1970 1970 1970 1970 1970\n",
      " 1970 1970 1970 1970 1970 1970 1970 1970 1970 1970 1970 1970 1970 1970\n",
      " 1970 1970 1970 1970 1970 1970 1970 1970 1970 1970 1970 1970 1970 1970\n",
      " 1970 1970 1970 1970 1970 1970 1970 1970 1970 1970 1970 1970 1970 1970\n",
      " 1970 1970 1970 1970 1970 1970 1970 1970 1970 1970 1970 1970 1970 1970\n",
      " 1970 1970 1970 1970 1970 1970 1970 1970 1970 1970 1970 1970 1970 1970\n",
      " 1970 1970 1970 1970 1970 1970 1970 1970 1970 1970 1970 1970 1970 1970\n",
      " 1970 1970 1970 1970 1970 1970 1970 1970 1970 1970 1970 1970 1970 1970\n",
      " 1970 1970 1970 1970 1970 1970 1970 1970 1970 1970 1970 1970 1970 1970\n",
      " 1970 1970 1970 1970 1970 1970 1970 1970 1970 1970 1970 1970 1970 1970\n",
      " 1970 1970 1970 1970 1970 1970 1970 1970 1970 1970 1970 1970 1970 1970\n",
      " 1970 1970 1970 1970 1970 1970 1970 1970 1970 1970 1970 1970 1970 1970\n",
      " 1970 1970 1970 1970 1970 1970 1970 1970 1970 1970 1970 1970 1970 1970\n",
      " 1970 1970 1970 1970 1970 1970 1970 1970 1970 1970 1970 1970 1970 1970\n",
      " 1970 1970 1970 1970 1970 1970 1970 1970 1970 1970 1970 1970 1970 1970\n",
      " 1970 1970 1970 1970 1970 1970 1970 1970 1970 1970 1970 1970 1970 1970\n",
      " 1970 1970 1970 1970 1970 1970 1970 1970 1970 1970 1970 1970 1970 1970\n",
      " 1970 1970 1970 1970 1970 1970 1970 1970 1970 1970 1970 1970 1970 1970\n",
      " 1970 1970 1970 1970 1970 1970 1970 1970 1970 1970 1970 1970 1970 1970\n",
      " 1970 1970 1970 1970 1970 1970 1970 1970 1970 1970 1970 1970 1970 1970\n",
      " 1970 1970 1970 1970 1970 1970 1970 1970 1970 1970 1970 1970 1970 1970\n",
      " 1970 1970 1970 1970 1970 1970 1970 1970 1970 1970 1970 1970 1970 1970\n",
      " 1970 1970 1970 1970 1970 1970 1970 1970 1970 1970 1970 1970 1970 1970\n",
      " 1970 1970 1970 1970 1970 1970 1970 1970 1970 1970 1970 1970 1970 1970\n",
      " 1970 1970 1970 1970 1970 1970 1970 1970 1970 1970 1970 1970 1970 1970\n",
      " 1970 1970 1970 1970 1970 1970 1970 1970 1970 1970 1970 1970 1970 1970\n",
      " 1970 1970 1970 1970 1970 1970 1970 1970 1970 1970 1970 1970 1970 1970\n",
      " 1970 1970 1970 1970 1970 1970 1970 1970 1970 1970 1970 1970 1970 1970\n",
      " 1970 1970 1970 1970 1970 1970 1970 1970 1970 1970 1970 1970 1970 1970\n",
      " 1970 1970 1970 1970 1970 1970 1970 1970 1970 1970 1970 1970 1970 1970\n",
      " 1970 1970 1970 1970 1970 1970 1970 1970 1970 1970 1970 1970 1970 1970\n",
      " 1970 1970 1970 1970 1970 1970 1970 1970 1970 1970 1970 1970 1970 1970\n",
      " 1970 1970 1970 1970 1970 1970 1970 1970 1970 1970 1970 1970 1970 1970\n",
      " 1970 1970 1970 1970 1970 1970 1970 1970 1970 1970 1970 1970 1970 1970\n",
      " 1970 1970 1970 1970 1970 1970 1970 1970 1970 1970 1970 1970 1970 1970\n",
      " 1970 1970 1970 1970 1970 1970 1970 1970 1970 1970 1970 1970 1970 1970\n",
      " 1970 1970 1970 1970 1970 1970 1970 1970 1970 1970 1970 1970 1970 1970\n",
      " 1970 1970 1970 1970 1970 1970 1970 1970 1970 1970 1970 1970 1970 1970\n",
      " 1970 1970 1970 1970 1970 1970 1970 1970 1970 1970 1970 1970 1970 1970\n",
      " 1970 1970 1970 1970 1970 1970 1970 1970 1970 1970 1970 1970 1970 1970\n",
      " 1970 1970 1970 1970 1970 1970 1970 1970 1970 1970 1970 1970 1970 1970\n",
      " 1970 1970 1970 1970 1970 1970 1970 1970 1970 1970 1970 1970 1970 1970\n",
      " 1970 1970 1970 1970 1970 1970 1970 1970 1970 1970 1970 1970 1970 1970\n",
      " 1970 1970 1970 1970 1970 1970 1970 1970 1970 1970 1970 1970 1970 1970\n",
      " 1970 1970 1970 1970 1970 1970 1970 1970 1970 1970 1970 1970 1970 1970\n",
      " 1970 1970 1970 1970 1970 1970 1970 1970 1970 1970 1970 1970 1970 1970\n",
      " 1970 1970 1970 1970 1970 1970 1970 1970 1970 1970 1970 1970 1970 1970\n",
      " 1970 1970 1970 1970 1970 1970 1970 1970 1970 1970 1970 1970 1970 1970\n",
      " 1970 1970 1970 1970 1970 1970 1970 1970 1970 1970 1970 1970 1970 1970\n",
      " 1970 1970 1970 1970 1970 1970 1970 1970 1970 1970 1970 1970 1970 1970\n",
      " 1970 1970 1970 1970 1970 1970 1970 1970 1970 1970 1970 1970 1970 1970\n",
      " 1970 1970 1970 1970 1970 1970 1970 1970 1970 1970 1971 1971 1971 1971\n",
      " 1971 1971 1971 1971 1971 1971 1971 1971 1971 1971 1971 1971 1971 1971\n",
      " 1971 1971 1971 1971 1971 1971 1971 1971 1971 1971 1971 1971 1971 1971\n",
      " 1971 1971 1971 1971 1971 1971 1971 1971 1971 1971 1971 1971 1971 1971\n",
      " 1971 1971 1971 1971 1971 1971 1971 1971 1971 1971 1971 1971 1971 1971\n",
      " 1971 1971 1971 1971 1971 1971 1971 1971 1971 1971 1971 1971 1971 1971\n",
      " 1971 1971 1971 1971 1971 1971 1971 1971 1971 1971 1971 1971 1971 1971\n",
      " 1971 1971 1971 1971 1971 1971 1971 1971 1971 1971 1971 1971 1971 1971\n",
      " 1971 1971 1971 1971 1971 1971 1971 1971 1971 1971 1971 1971 1971 1971\n",
      " 1971 1971 1971 1971 1971 1971 1971 1971 1971 1971 1971 1971 1971 1971\n",
      " 1971 1971 1971 1971 1971 1971 1971 1971 1971 1971 1971 1971 1971 1971\n",
      " 1971 1971 1971 1971 1971 1971 1971 1971 1971 1971 1971 1971 1971 1971\n",
      " 1971 1971 1971 1971 1971 1971 1971 1971 1971 1971 1971 1971 1971 1971\n",
      " 1971 1971 1971 1971 1971 1971 1971 1971 1971 1971 1971 1971 1971 1971\n",
      " 1971 1971 1971 1971 1971 1971 1971 1971 1971 1971 1971 1971 1971 1971\n",
      " 1971 1971 1971 1971 1971 1971 1971 1971 1971 1971 1971 1971 1971 1971\n",
      " 1971 1971 1971 1971 1971 1971 1971 1971 1971 1971 1971 1971 1971 1971\n",
      " 1971 1971 1971 1971 1971 1971 1971 1971 1971 1971 1971 1971 1971 1971\n",
      " 1971 1971 1971 1971 1971 1971 1971 1971 1971 1971 1971 1971 1971 1971\n",
      " 1971 1971 1971 1971 1971 1971 1971 1971 1971 1971 1971 1971 1971 1971\n",
      " 1971 1971 1971 1971 1971 1971 1971 1971 1971 1971 1971 1971 1971 1971\n",
      " 1971 1971 1971 1971 1971 1971 1971 1971 1971 1971 1971 1971 1971 1971\n",
      " 1971 1971 1971 1971 1971 1971 1971 1971 1971 1971 1971 1971 1971 1971\n",
      " 1971 1971 1971 1971 1971 1971 1971 1971 1971 1971 1971 1971 1971 1971\n",
      " 1971 1971 1971 1971 1971 1971 1971 1971 1971 1971 1971 1971 1971 1971\n",
      " 1971 1971 1971 1971 1971 1971 1971 1971 1971 1971 1971 1971 1971 1971\n",
      " 1971 1971 1971 1971 1971 1971 1971 1971 1971 1971 1971 1971 1971 1971\n",
      " 1971 1971 1971 1971 1971 1971 1971 1971 1971 1971 1971 1971 1971 1971\n",
      " 1971 1971 1971 1971 1971 1971 1971 1971 1971 1971 1971 1971 1971 1971\n",
      " 1971 1971 1971 1971 1971 1971 1971 1971 1971 1971 1971 1971 1971 1971\n",
      " 1971 1971 1971 1971 1971 1971 1971 1971 1971 1971 1971 1971 1971 1971\n",
      " 1971 1971 1971 1971 1971 1971 1971 1971 1971 1971 1971 1971 1971 1971\n",
      " 1971 1971 1971 1971 1971 1971 1971 1971 1971 1971 1971 1971 1971 1971\n",
      " 1971 1971 1971 1971 1971 1971 1971 1971 1971 1971 1971 1971 1971 1971\n",
      " 1971 1971 1971 1971 1971 1971 1971 1971 1971 1971 1971 1971 1971 1971\n",
      " 1971 1971 1971 1971 1971 1971 1971 1971 1971 1971 1971 1971 1971 1971\n",
      " 1971 1971 1971 1971 1971 1971 1971 1971 1971 1971 1971 1971 1971 1971\n",
      " 1971 1971 1971 1971 1971 1971 1971 1971 1971 1971 1971 1971 1971 1971\n",
      " 1971 1971 1971 1971 1971 1971 1971 1971 1971 1971 1971 1971 1971 1971\n",
      " 1971 1971 1971 1971 1971 1971 1971 1971 1971 1971 1971 1971 1971 1971\n",
      " 1971 1971 1971 1971 1971 1971 1971 1971 1971 1971 1971 1971 1971 1971\n",
      " 1971 1971 1971 1971 1971 1971 1971 1971 1971 1971 1971 1971 1971 1971\n",
      " 1971 1971 1971 1971 1971 1971 1971 1971 1971 1971 1971 1971 1971 1971\n",
      " 1971 1971 1971 1971 1971 1971 1971 1971 1971 1971 1971 1971 1971 1971\n",
      " 1971 1971 1971 1971 1971 1971 1971 1971 1971 1971 1971 1971 1971 1971\n",
      " 1971 1971 1971 1971 1971 1971 1971 1971 1971 1971 1971 1971 1971 1971\n",
      " 1971 1971 1971 1971 1971 1971 1971 1971 1971 1971 1971 1971 1971 1971\n",
      " 1971 1971 1971 1971 1971 1971 1971 1971 1971 1971 1971 1971 1971 1971\n",
      " 1971 1971 1971 1971 1971 1971 1971 1971 1971 1971 1971 1971 1971 1971\n",
      " 1971 1971 1971 1971 1971 1971 1971 1971 1971 1971 1971 1971 1971 1971\n",
      " 1971 1971 1971 1971 1971 1971 1971 1971 1971 1971 1971 1971 1971 1971\n",
      " 1971 1971 1971 1971 1971 1971 1971 1971 1971 1971 1971 1971 1971 1971\n",
      " 1971 1971 1971 1971 1971 1971 1971 1971 1971 1971 1971 1971 1971 1971\n",
      " 1971 1971 1971 1971 1971 1971 1971 1971 1971 1971 1971 1971 1971 1971\n",
      " 1971 1971 1971 1971 1971 1971 1971 1971 1971 1971 1971 1971 1971 1971\n",
      " 1971 1971 1971 1971 1972 1972 1972 1972 1972 1972 1972 1972 1972 1972\n",
      " 1972 1972 1972 1972 1972 1972 1972 1972 1972 1972 1972 1972 1972 1972\n",
      " 1972 1972 1972 1972 1972 1972 1972 1972 1972 1972 1972 1972 1972 1972\n",
      " 1972 1972 1972 1972 1972 1972 1972 1972 1972 1972 1972 1972 1972 1972\n",
      " 1972 1972 1972 1972 1972 1972 1972 1972 1972 1972 1972 1972 1972 1972\n",
      " 1972 1972 1972 1972 1972 1972 1972 1972 1972 1972 1972 1972 1972 1972\n",
      " 1972 1972 1972 1972 1972 1972 1972 1972 1972 1972 1972 1972 1972 1972\n",
      " 1972 1972 1972 1972 1972 1972 1972 1972 1972 1972 1972 1972 1972 1972\n",
      " 1972 1972 1972 1972 1972 1972 1972 1972 1972 1972 1972 1972 1972 1972\n",
      " 1972 1972 1972 1972 1972 1972 1972 1972 1972 1972 1972 1972 1972 1972\n",
      " 1972 1972 1972 1972 1972 1972 1972 1972 1972 1972 1972 1972 1972 1972\n",
      " 1972 1972 1972 1972 1972 1972 1972 1972 1972 1972 1972 1972 1972 1972\n",
      " 1972 1972 1972 1972 1972 1972 1972 1972 1972 1972 1972 1972 1972 1972\n",
      " 1972 1972 1972 1972 1972 1972 1972 1972 1972 1972 1972 1972 1972 1972\n",
      " 1972 1972 1972 1972 1972 1972 1972 1972 1972 1972 1972 1972 1972 1972\n",
      " 1972 1972 1972 1972 1972 1972 1972 1972 1972 1972 1972 1972 1972 1972\n",
      " 1972 1972 1972 1972 1972 1972 1972 1972 1972 1972 1972 1972 1972 1972\n",
      " 1972 1972 1972 1972 1972 1972 1972 1972 1972 1972 1972 1972 1972 1972\n",
      " 1972 1972 1972 1972 1972 1972 1972 1972 1972 1972 1972 1972 1972 1972\n",
      " 1972 1972 1972 1972 1972 1972 1972 1972 1972 1972 1972 1972 1972 1972\n",
      " 1972 1972 1972 1972 1972 1972 1972 1972 1972 1972 1972 1972 1972 1972\n",
      " 1972 1972 1972 1972 1972 1972 1972 1972 1972 1972 1972 1972 1972 1972\n",
      " 1972 1972 1972 1972 1972 1972 1972 1972 1972 1972 1972 1972 1972 1972\n",
      " 1972 1972 1972 1972 1972 1972 1972 1972 1972 1972 1972 1972 1972 1972\n",
      " 1972 1972 1972 1972 1972 1972 1972 1972 1972 1972 1972 1972 1972 1972\n",
      " 1972 1972 1972 1972 1972 1972 1972 1972 1972 1972 1972 1972 1972 1972\n",
      " 1972 1972 1972 1972 1972 1972 1972 1972 1972 1972 1972 1972 1972 1972\n",
      " 1972 1972 1972 1972 1972 1972 1972 1972 1972 1972 1972 1972 1972 1972\n",
      " 1972 1972 1972 1972 1972 1972 1972 1972 1972 1972 1972 1972 1972 1972\n",
      " 1972 1972 1972 1972 1972 1972 1972 1972 1972 1972 1972 1972 1972 1972\n",
      " 1972 1972 1972 1972 1972 1972 1972 1972 1972 1972 1972 1972 1972 1972\n",
      " 1972 1972 1972 1972 1972 1972 1972 1972 1972 1972 1972 1972 1972 1972\n",
      " 1972 1972 1972 1972 1972 1972 1972 1972 1972 1972 1972 1972 1972 1972\n",
      " 1972 1972 1972 1972 1972 1972 1972 1972 1972 1972 1972 1972 1972 1972\n",
      " 1972 1972 1972 1972 1972 1972 1972 1972 1972 1972 1972 1972 1972 1972\n",
      " 1972 1972 1972 1972 1972 1972 1972 1972 1972 1972 1972 1972 1972 1972\n",
      " 1972 1972 1972 1972 1972 1972 1972 1972 1972 1972 1972 1972 1972 1972\n",
      " 1972 1972 1972 1972 1972 1972 1972 1972 1972 1972 1972 1972 1972 1972\n",
      " 1972 1972 1972 1972 1972 1972 1972 1972 1972 1972 1972 1972 1972 1972\n",
      " 1972 1972 1972 1972 1972 1972 1972 1972 1972 1972 1972 1972 1972 1972\n",
      " 1972 1972 1972 1972 1972 1972 1972 1972 1972 1972 1972 1972 1972 1972\n",
      " 1972 1972 1972 1972 1972 1972 1972 1972 1972 1972 1972 1972 1972 1972\n",
      " 1972 1972 1972 1972 1972 1972 1972 1972 1972 1972 1972 1972 1972 1972\n",
      " 1972 1972 1972 1972 1972 1972 1972 1972 1972 1972 1972 1972 1972 1972\n",
      " 1972 1972 1972 1972 1972 1972 1972 1972 1972 1972 1972 1972 1972 1972\n",
      " 1972 1972 1972 1972 1972 1972 1972 1972 1972 1972 1972 1972 1972 1972\n",
      " 1972 1972 1972 1972 1972 1972 1972 1972 1972 1972 1972 1972 1972 1972\n",
      " 1972 1972 1972 1972 1972 1972 1972 1972 1972 1972 1972 1972 1972 1972\n",
      " 1972 1972 1972 1972 1972 1972 1972 1972 1972 1972 1972 1972 1972 1972\n",
      " 1972 1972 1972 1972 1972 1972 1972 1972 1972 1972 1972 1972 1972 1972\n",
      " 1972 1972 1972 1972 1972 1972 1972 1972 1972 1972 1972 1972 1972 1972\n",
      " 1972 1972 1972 1972 1972 1972 1972 1972 1972 1972 1972 1972 1972 1972\n",
      " 1972 1972 1972 1972 1972 1972 1972 1972 1972 1972 1972 1972 1972 1972\n",
      " 1972 1972 1972 1972 1972 1972 1972 1972 1972 1972 1972 1972 1972 1972\n",
      " 1972 1972 1972 1972 1972 1972 1972 1972 1972 1972 1972 1972 1972 1973\n",
      " 1973 1973 1973 1973 1973 1973 1973 1973 1973 1973 1973 1973 1973 1973\n",
      " 1973 1973 1973 1973 1973 1973 1973 1973 1973 1973 1973 1973 1973 1973\n",
      " 1973 1973 1973 1973 1973 1973 1973 1973 1973 1973 1973 1973 1973 1973\n",
      " 1973 1973 1973 1973 1973 1973 1973 1973 1973 1973 1973 1973 1973 1973\n",
      " 1973 1973 1973 1973 1973 1973 1973 1973 1973 1973 1973 1973 1973 1973\n",
      " 1973 1973 1973 1973 1973 1973 1973 1973 1973 1973 1973 1973 1973 1973\n",
      " 1973 1973 1973 1973 1973 1973 1973 1973 1973 1973 1973 1973 1973 1973\n",
      " 1973 1973 1973 1973 1973 1973 1973 1973 1973 1973 1973 1973 1973 1973\n",
      " 1973 1973 1973 1973 1973 1973 1973 1973 1973 1973 1973 1973 1973 1973\n",
      " 1973 1973 1973 1973 1973 1973 1973 1973 1973 1973 1973 1973 1973 1973\n",
      " 1973 1973 1973 1973 1973 1973 1973 1973 1973 1973 1973 1973 1973 1973\n",
      " 1973 1973 1973 1973 1973 1973 1973 1973 1973 1973 1973 1973 1973 1973\n",
      " 1973 1973 1973 1973 1973 1973 1973 1973 1973 1973 1973 1973 1973 1973\n",
      " 1973 1973 1973 1973 1973 1973 1973 1973 1973 1973 1973 1973 1973 1973\n",
      " 1973 1973 1973 1973 1973 1973 1973 1973 1973 1973 1973 1973 1973 1973\n",
      " 1973 1973 1973 1973 1973 1973 1973 1973 1973 1973 1973 1973 1973 1973\n",
      " 1973 1973 1973 1973 1973 1973 1973 1973 1973 1973 1973 1973 1973 1973\n",
      " 1973 1973 1973 1973 1973 1973 1973 1973 1973 1973 1973 1973 1973 1973\n",
      " 1973 1973 1973 1973 1973 1973 1973 1973 1973 1973 1973 1973 1973 1973\n",
      " 1973 1973 1973 1973 1973 1973 1973 1973 1973 1973 1973 1973 1973 1973\n",
      " 1973 1973 1973 1973 1973 1973 1973 1973 1973 1973 1973 1973 1973 1973\n",
      " 1973 1973 1973 1973 1973 1973 1973 1973 1973 1973 1973 1973 1973 1973\n",
      " 1973 1973 1973 1973 1973 1973 1973 1973 1973 1973 1973 1973 1973 1973\n",
      " 1973 1973 1973 1973 1973 1973 1973 1973 1973 1973 1973 1973 1973 1973\n",
      " 1973 1973 1973 1973 1973 1973 1973 1973 1973 1973 1973 1973 1973 1973\n",
      " 1973 1973 1973 1973 1973 1973 1973 1973 1973 1973 1973 1973 1973 1973\n",
      " 1973 1973 1973 1973 1973 1973 1973 1973 1973 1973 1973 1973 1973 1973\n",
      " 1973 1973 1973 1973 1973 1973 1973 1973 1973 1973 1973 1973 1973 1973\n",
      " 1973 1973 1973 1973 1973 1973 1973 1973 1973 1973 1973 1973 1973 1973\n",
      " 1973 1973 1973 1973 1973 1973 1973 1973 1973 1973 1973 1973 1973 1973\n",
      " 1973 1973 1973 1973 1973 1973 1973 1973 1973 1973 1973 1973 1973 1973\n",
      " 1973 1973 1973 1973 1973 1973 1973 1973 1973 1973 1973 1973 1973 1973\n",
      " 1973 1973 1973 1973 1973 1973 1973 1973 1973 1973 1973 1973 1973 1973\n",
      " 1973 1973 1973 1973 1973 1973 1973 1973 1973 1973 1973 1973 1973 1973\n",
      " 1973 1973 1973 1973 1973 1973 1973 1973 1973 1973 1973 1973 1973 1973\n",
      " 1973 1973 1973 1973 1973 1973 1973 1973 1973 1973 1973 1973 1973 1973\n",
      " 1973 1973 1973 1973 1973 1973 1973 1973 1973 1973 1973 1973 1973 1973\n",
      " 1973 1973 1973 1973 1973 1973 1973 1973 1973 1973 1973 1973 1973 1973\n",
      " 1973 1973 1973 1973 1973 1973 1973 1973 1973 1973 1973 1973 1973 1973\n",
      " 1973 1973 1973 1973 1973 1973 1973 1973 1973 1973 1973 1973 1973 1973\n",
      " 1973 1973 1973 1973 1973 1973 1973 1973 1973 1973 1973 1973 1973 1973\n",
      " 1973 1973 1973 1973 1973 1973 1973 1973 1973 1973 1973 1973 1973 1973\n",
      " 1973 1973 1973 1973 1973 1973 1973 1973 1973 1973 1973 1973 1973 1973\n",
      " 1973 1973 1973 1973 1973 1973 1973 1973 1973 1973 1973 1973 1973 1973\n",
      " 1973 1973 1973 1973 1973 1973 1973 1973 1973 1973 1973 1973 1973 1973\n",
      " 1973 1973 1973 1973 1973 1973 1973 1973 1973 1973 1973 1973 1973 1973\n",
      " 1973 1973 1973 1973 1973 1973 1973 1973 1973 1973 1973 1973 1973 1973\n",
      " 1973 1973 1973 1973 1973 1973 1973 1973 1973 1973 1973 1973 1973 1973\n",
      " 1973 1973 1973 1973 1973 1973 1973 1973 1973 1973 1973 1973 1973 1973\n",
      " 1973 1973 1973 1973 1973 1973 1973 1973 1973 1973 1973 1973 1973 1973\n",
      " 1973 1973 1973 1973 1973 1973 1973 1973 1973 1973 1973 1973 1973 1973\n",
      " 1973 1973 1973 1973 1973 1973 1973 1973 1973 1973 1973 1973 1973 1973\n",
      " 1973 1973 1973 1973 1973 1973 1973 1973 1973 1973 1973 1973 1973 1973\n",
      " 1973 1973 1973 1973 1973 1973 1973 1973 1973 1973 1973 1973 1973 1973\n",
      " 1973 1973 1973 1973 1973 1974 1974 1974 1974 1974 1974 1974 1974 1974\n",
      " 1974 1974 1974 1974 1974 1974 1974 1974 1974 1974 1974 1974 1974 1974\n",
      " 1974 1974 1974 1974 1974 1974 1974 1974 1974 1974 1974 1974 1974 1974\n",
      " 1974 1974 1974 1974 1974 1974 1974 1974 1974 1974 1974 1974 1974 1974\n",
      " 1974 1974 1974 1974 1974 1974 1974 1974 1974 1974 1974 1974 1974 1974\n",
      " 1974 1974 1974 1974 1974 1974 1974 1974 1974 1974 1974 1974 1974 1974\n",
      " 1974 1974 1974 1974 1974 1974 1974 1974 1974 1974 1974 1974 1974 1974\n",
      " 1974 1974 1974 1974 1974 1974 1974 1974 1974 1974 1974 1974 1974 1974\n",
      " 1974 1974 1974 1974 1974 1974 1974 1974 1974 1974 1974 1974 1974 1974\n",
      " 1974 1974 1974 1974 1974 1974 1974 1974 1974 1974 1974 1974 1974 1974\n",
      " 1974 1974 1974 1974 1974 1974 1974 1974 1974 1974 1974 1974 1974 1974\n",
      " 1974 1974 1974 1974 1974 1974 1974 1974 1974 1974 1974 1974 1974 1974\n",
      " 1974 1974 1974 1974 1974 1974 1974 1974 1974 1974 1974 1974 1974 1974\n",
      " 1974 1974 1974 1974 1974 1974 1974 1974 1974 1974 1974 1974 1974 1974\n",
      " 1974 1974 1974 1974 1974 1974 1974 1974 1974 1974 1974 1974 1974 1974\n",
      " 1974 1974 1974 1974 1974 1974 1974 1974 1974 1974 1974 1974 1974 1974\n",
      " 1974 1974 1974 1974 1974 1974 1974 1974 1974 1974 1974 1974 1974 1974\n",
      " 1974 1974 1974 1974 1974 1974 1974 1974 1974 1974 1974 1974 1974 1974\n",
      " 1974 1974 1974 1974 1974 1974 1974 1974 1974 1974 1974 1974 1974 1974\n",
      " 1974 1974 1974 1974 1974 1974 1974 1974 1974 1974 1974 1974 1974 1974\n",
      " 1974 1974 1974 1974 1974 1974 1974 1974 1974 1974 1974 1974 1974 1974\n",
      " 1974 1974 1974 1974 1974 1974 1974 1974 1974 1974 1974 1974 1974 1974\n",
      " 1974 1974 1974 1974 1974 1974 1974 1974 1974 1974 1974 1974 1974 1974\n",
      " 1974 1974 1974 1974 1974 1974 1974 1974 1974 1974 1974 1974 1974 1974\n",
      " 1974 1974 1974 1974 1974 1974 1974 1974 1974 1974 1974 1974 1974 1974\n",
      " 1974 1974 1974 1974 1974 1974 1974 1974 1974 1974 1974 1974 1974 1974\n",
      " 1974 1974 1974 1974 1974 1974 1974 1974 1974 1974 1974 1974 1974 1974\n",
      " 1974 1974 1974 1974 1974 1974 1974 1974 1974 1974 1974 1974 1974 1974\n",
      " 1974 1974 1974 1974 1974 1974 1974 1974 1974 1974 1974 1974 1974 1974\n",
      " 1974 1974 1974 1974 1974 1974 1974 1974 1974 1974 1974 1974 1974 1974\n",
      " 1974 1974 1974 1974 1974 1974 1974 1974 1974 1974 1974 1974 1974 1974\n",
      " 1974 1974 1974 1974 1974 1974 1974 1974 1974 1974 1974 1974 1974 1974\n",
      " 1974 1974 1974 1974 1974 1974 1974 1974 1974 1974 1974 1974 1974 1974\n",
      " 1974 1974 1974 1974 1974 1974 1974 1974 1974 1974 1974 1974 1974 1974\n",
      " 1974 1974 1974 1974 1974 1974 1974 1974 1974 1974 1974 1974 1974 1974\n",
      " 1974 1974 1974 1974 1974 1974 1974 1974 1974 1974 1974 1974 1974 1974\n",
      " 1974 1974 1974 1974 1974 1974 1974 1974 1974 1974 1974 1974 1974 1974\n",
      " 1974 1974 1974 1974 1974 1974 1974 1974 1974 1974 1974 1974 1974 1974\n",
      " 1974 1974 1974 1974 1974 1974 1974 1974 1974 1974 1974 1974 1974 1974\n",
      " 1974 1974 1974 1974 1974 1974 1974 1974 1974 1974 1974 1974 1974 1974\n",
      " 1974 1974 1974 1974 1974 1974 1974 1974 1974 1974 1974 1974 1974 1974\n",
      " 1974 1974 1974 1974 1974 1974 1974 1974 1974 1974 1974 1974 1974 1974\n",
      " 1974 1974 1974 1974 1974 1974 1974 1974 1974 1974 1974 1974 1974 1974\n",
      " 1974 1974 1974 1974 1974 1974 1974 1974 1974 1974 1974 1974 1974 1974\n",
      " 1974 1974 1974 1974 1974 1974 1974 1974 1974 1974 1974 1974 1974 1974\n",
      " 1974 1974 1974 1974 1974 1974 1974 1974 1974 1974 1974 1974 1974 1974\n",
      " 1974 1974 1974 1974 1974 1974 1974 1974 1974 1974 1974 1974 1974 1974\n",
      " 1974 1974 1974 1974 1974 1974 1974 1974 1974 1974 1974 1974 1974 1974\n",
      " 1974 1974 1974 1974 1974 1974 1974 1974 1974 1974 1974 1974 1974 1974\n",
      " 1974 1974 1974 1974 1974 1974 1974 1974 1974 1974 1974 1974 1974 1974\n",
      " 1974 1974 1974 1974 1974 1974 1974 1974 1974 1974 1974 1974 1974 1974\n",
      " 1974 1974 1974 1974 1974 1974 1974 1974 1974 1974 1974 1974 1974 1974\n",
      " 1974 1974 1974 1974 1974 1974 1974 1974 1974 1974 1974 1974 1974 1974\n",
      " 1974 1974 1974 1974 1974 1974 1974 1974 1974 1974 1974 1974 1974 1974\n",
      " 1974 1974 1974 1974 1974 1974 1974 1974 1974 1974 1974 1974 1974 1974\n",
      " 1974 1975 1975 1975 1975 1975 1975 1975 1975 1975 1975 1975 1975 1975\n",
      " 1975 1975 1975 1975 1975 1975 1975 1975 1975 1975 1975 1975 1975 1975\n",
      " 1975 1975 1975 1975 1975 1975 1975 1975 1975 1975 1975 1975 1975 1975\n",
      " 1975 1975 1975 1975 1975 1975 1975 1975 1975 1975 1975 1975 1975 1975\n",
      " 1975 1975 1975 1975 1975 1975 1975 1975 1975 1975 1975 1975 1975 1975\n",
      " 1975 1975 1975 1975 1975 1975 1975 1975 1975 1975 1975 1975 1975 1975\n",
      " 1975 1975 1975 1975 1975 1975 1975 1975 1975 1975 1975 1975 1975 1975\n",
      " 1975 1975 1975 1975 1975 1975 1975 1975 1975 1975 1975 1975 1975 1975\n",
      " 1975 1975 1975 1975 1975 1975 1975 1975 1975 1975 1975 1975 1975 1975\n",
      " 1975 1975 1975 1975 1975 1975 1975 1975 1975 1975 1975 1975 1975 1975\n",
      " 1975 1975 1975 1975 1975 1975 1975 1975 1975 1975 1975 1975 1975 1975\n",
      " 1975 1975 1975 1975 1975 1975 1975 1975 1975 1975 1975 1975 1975 1975\n",
      " 1975 1975 1975 1975 1975 1975 1975 1975 1975 1975 1975 1975 1975 1975\n",
      " 1975 1975 1975 1975 1975 1975 1975 1975 1975 1975 1975 1975 1975 1975\n",
      " 1975 1975 1975 1975 1975 1975 1975 1975 1975 1975 1975 1975 1975 1975\n",
      " 1975 1975 1975 1975 1975 1975 1975 1975 1975 1975 1975 1975 1975 1975\n",
      " 1975 1975 1975 1975 1975 1975 1975 1975 1975 1975 1975 1975 1975 1975\n",
      " 1975 1975 1975 1975 1975 1975 1975 1975 1975 1975 1975 1975 1975 1975\n",
      " 1975 1975 1975 1975 1975 1975 1975 1975 1975 1975 1975 1975 1975 1975\n",
      " 1975 1975 1975 1975 1975 1975 1975 1975 1975 1975 1975 1975 1975 1975\n",
      " 1975 1975 1975 1975 1975 1975 1975 1975 1975 1975 1975 1975 1975 1975\n",
      " 1975 1975 1975 1975 1975 1975 1975 1975 1975 1975 1975 1975 1975 1975\n",
      " 1975 1975 1975 1975 1975 1975 1975 1975 1975 1975 1975 1975 1975 1975\n",
      " 1975 1975 1975 1975 1975 1975 1975 1975 1975 1975 1975 1975 1975 1975\n",
      " 1975 1975 1975 1975 1975 1975 1975 1975 1975 1975 1975 1975 1975 1975\n",
      " 1975 1975 1975 1975 1975 1975 1975 1975 1975 1975 1975 1975 1975 1975\n",
      " 1975 1975 1975 1975 1975 1975 1975 1975 1975 1975 1975 1975 1975 1975\n",
      " 1975 1975 1975 1975 1975 1975 1975 1975 1975 1975 1975 1975 1975 1975\n",
      " 1975 1975 1975 1975 1975 1975 1975 1975 1975 1975 1975 1975 1975 1975\n",
      " 1975 1975 1975 1975 1975 1975 1975 1975 1975 1975 1975 1975 1975 1975\n",
      " 1975 1975 1975 1975 1975 1975 1975 1975 1975 1975 1975 1975 1975 1975\n",
      " 1975 1975 1975 1975 1975 1975 1975 1975 1975 1975 1975 1975 1975 1975\n",
      " 1975 1975 1975 1975 1975 1975 1975 1975 1975 1975 1975 1975 1975 1975\n",
      " 1975 1975 1975 1975 1975 1975 1975 1975 1975 1975 1975 1975 1975 1975\n",
      " 1975 1975 1975 1975 1975 1975 1975 1975 1975 1975 1975 1975 1975 1975\n",
      " 1975 1975 1975 1975 1975 1975 1975 1975 1975 1975 1975 1975 1975 1975\n",
      " 1975 1975 1975 1975 1975 1975 1975 1975 1975 1975 1975 1975 1975 1975\n",
      " 1975 1975 1975 1975 1975 1975 1975 1975 1975 1975 1975 1975 1975 1975\n",
      " 1975 1975 1975 1975 1975 1975 1975 1975 1975 1975 1975 1975 1975 1975\n",
      " 1975 1975 1975 1975 1975 1975 1975 1975 1975 1975 1975 1975 1975 1975\n",
      " 1975 1975 1975 1975 1975 1975 1975 1975 1975 1975 1975 1975 1975 1975\n",
      " 1975 1975 1975 1975 1975 1975 1975 1975 1975 1975 1975 1975 1975 1975\n",
      " 1975 1975 1975 1975 1975 1975 1975 1975 1975 1975 1975 1975 1975 1975\n",
      " 1975 1975 1975 1975 1975 1975 1975 1975 1975 1975 1975 1975 1975 1975\n",
      " 1975 1975 1975 1975 1975 1975 1975 1975 1975 1975 1975 1975 1975 1975\n",
      " 1975 1975 1975 1975 1975 1975 1975 1975 1975 1975 1975 1975 1975 1975\n",
      " 1975 1975 1975 1975 1975 1975 1975 1975 1975 1975 1975 1975 1975 1975\n",
      " 1975 1975 1975 1975 1975 1975 1975 1975 1975 1975 1975 1975 1975 1975\n",
      " 1975 1975 1975 1975 1975 1975 1975 1975 1975 1975 1975 1975 1975 1975\n",
      " 1975 1975 1975 1975 1975 1975 1975 1975 1975 1975 1975 1975 1975 1975\n",
      " 1975 1975 1975 1975 1975 1975 1975 1975 1975 1975 1975 1975 1975 1975\n",
      " 1975 1975 1975 1975 1975 1975 1975 1975 1975 1975 1975 1975 1975 1975\n",
      " 1975 1975 1975 1975 1975 1975 1975 1975 1975 1975 1975 1975 1975 1975\n",
      " 1975 1975 1975 1975 1975 1975 1975 1975 1975 1975 1975 1975 1975 1975\n",
      " 1975 1975 1975 1975 1975 1975 1975 1975 1976 1976 1976 1976 1976 1976\n",
      " 1976 1976 1976 1976 1976 1976 1976 1976 1976 1976 1976 1976 1976 1976\n",
      " 1976 1976 1976 1976 1976 1976 1976 1976 1976 1976 1976 1976 1976 1976\n",
      " 1976 1976 1976 1976 1976 1976 1976 1976 1976 1976 1976 1976 1976 1976\n",
      " 1976 1976 1976 1976 1976 1976 1976 1976 1976 1976 1976 1976 1976 1976\n",
      " 1976 1976 1976 1976 1976 1976 1976 1976 1976 1976 1976 1976 1976 1976\n",
      " 1976 1976 1976 1976 1976 1976 1976 1976 1976 1976 1976 1976 1976 1976\n",
      " 1976 1976 1976 1976 1976 1976 1976 1976 1976 1976 1976 1976 1976 1976\n",
      " 1976 1976 1976 1976 1976 1976 1976 1976 1976 1976 1976 1976 1976 1976\n",
      " 1976 1976 1976 1976 1976 1976 1976 1976 1976 1976 1976 1976 1976 1976\n",
      " 1976 1976 1976 1976 1976 1976 1976 1976 1976 1976 1976 1976 1976 1976\n",
      " 1976 1976 1976 1976 1976 1976 1976 1976 1976 1976 1976 1976 1976 1976\n",
      " 1976 1976 1976 1976 1976 1976 1976 1976 1976 1976 1976 1976 1976 1976\n",
      " 1976 1976 1976 1976 1976 1976 1976 1976 1976 1976 1976 1976 1976 1976\n",
      " 1976 1976 1976 1976 1976 1976 1976 1976 1976 1976 1976 1976 1976 1976\n",
      " 1976 1976 1976 1976 1976 1976 1976 1976 1976 1976 1976 1976 1976 1976\n",
      " 1976 1976 1976 1976 1976 1976 1976 1976 1976 1976 1976 1976 1976 1976\n",
      " 1976 1976 1976 1976 1976 1976 1976 1976 1976 1976 1976 1976 1976 1976\n",
      " 1976 1976 1976 1976 1976 1976 1976 1976 1976 1976 1976 1976 1976 1976\n",
      " 1976 1976 1976 1976 1976 1976 1976 1976 1976 1976 1976 1976 1976 1976\n",
      " 1976 1976 1976 1976 1976 1976 1976 1976 1976 1976 1976 1976 1976 1976\n",
      " 1976 1976 1976 1976 1976 1976 1976 1976 1976 1976 1976 1976 1976 1976\n",
      " 1976 1976 1976 1976 1976 1976 1976 1976 1976 1976 1976 1976 1976 1976\n",
      " 1976 1976 1976 1976 1976 1976 1976 1976 1976 1976 1976 1976 1976 1976\n",
      " 1976 1976 1976 1976 1976 1976 1976 1976 1976 1976 1976 1976 1976 1976\n",
      " 1976 1976 1976 1976 1976 1976 1976 1976 1976 1976 1976 1976 1976 1976\n",
      " 1976 1976 1976 1976 1976 1976 1976 1976 1976 1976 1976 1976 1976 1976\n",
      " 1976 1976 1976 1976 1976 1976 1976 1976 1976 1976 1976 1976 1976 1976\n",
      " 1976 1976 1976 1976 1976 1976 1976 1976 1976 1976 1976 1976 1976 1976\n",
      " 1976 1976 1976 1976 1976 1976 1976 1976 1976 1976 1976 1976 1976 1976\n",
      " 1976 1976 1976 1976 1976 1976 1976 1976 1976 1976 1976 1976 1976 1976\n",
      " 1976 1976 1976 1976 1976 1976 1976 1976 1976 1976 1976 1976 1976 1976\n",
      " 1976 1976 1976 1976 1976 1976 1976 1976 1976 1976 1976 1976 1976 1976\n",
      " 1976 1976 1976 1976 1976 1976 1976 1976 1976 1976 1976 1976 1976 1976\n",
      " 1976 1976 1976 1976 1976 1976 1976 1976 1976 1976 1976 1976 1976 1976\n",
      " 1976 1976 1976 1976 1976 1976 1976 1976 1976 1976 1976 1976 1976 1976\n",
      " 1976 1976 1976 1976 1976 1976 1976 1976 1976 1976 1976 1976 1976 1976\n",
      " 1976 1976 1976 1976 1976 1976 1976 1976 1976 1976 1976 1976 1976 1976\n",
      " 1976 1976 1976 1976 1976 1976 1976 1976 1976 1976 1976 1976 1976 1976\n",
      " 1976 1976 1976 1976 1976 1976 1976 1976 1976 1976 1976 1976 1976 1976\n",
      " 1976 1976 1976 1976 1976 1976 1976 1976 1976 1976 1976 1976 1976 1976\n",
      " 1976 1976 1976 1976 1976 1976 1976 1976 1976 1976 1976 1976 1976 1976\n",
      " 1976 1976 1976 1976 1976 1976 1976 1976 1976 1976 1976 1976 1976 1976\n",
      " 1976 1976 1976 1976 1976 1976 1976 1976 1976 1976 1976 1976 1976 1976\n",
      " 1976 1976 1976 1976 1976 1976 1976 1976 1976 1976 1976 1976 1976 1976\n",
      " 1976 1976 1976 1976 1976 1976 1976 1976 1976 1976 1976 1976 1976 1976\n",
      " 1976 1976 1976 1976 1976 1976 1976 1976 1976 1976 1976 1976 1976 1976\n",
      " 1976 1976 1976 1976 1976 1976 1976 1976 1976 1976 1976 1976 1976 1976\n",
      " 1976 1976 1976 1976 1976 1976 1976 1976 1976 1976 1976 1976 1976 1976\n",
      " 1976 1976 1976 1976 1976 1976 1976 1976 1976 1976 1976 1976 1976 1976\n",
      " 1976 1976 1976 1976 1976 1976 1976 1976 1976 1976 1976 1976 1976 1976\n",
      " 1976 1976 1976 1976 1976 1976 1976 1976 1976 1976 1976 1976 1976 1976\n",
      " 1976 1976 1976 1976 1976 1976 1976 1976 1976 1976 1976 1976 1976 1976\n",
      " 1976 1976 1976 1976 1976 1976 1976 1976 1976 1976 1976 1976 1976 1976\n",
      " 1976 1976 1976 1976 1976 1976 1976 1976 1976 1976 1976 1976 1976 1977\n",
      " 1977 1977 1977 1977 1977 1977 1977 1977 1977 1977 1977 1977 1977 1977\n",
      " 1977 1977 1977 1977 1977 1977 1977 1977 1977 1977 1977 1977 1977 1977\n",
      " 1977 1977 1977 1977 1977 1977 1977 1977 1977 1977 1977 1977 1977 1977\n",
      " 1977 1977 1977 1977 1977 1977 1977 1977 1977 1977 1977 1977 1977 1977\n",
      " 1977 1977 1977 1977 1977 1977 1977 1977 1977 1977 1977 1977 1977 1977\n",
      " 1977 1977 1977 1977 1977 1977 1977 1977 1977 1977 1977 1977 1977 1977\n",
      " 1977 1977 1977 1977 1977 1977 1977 1977 1977 1977 1977 1977 1977 1977\n",
      " 1977 1977 1977 1977 1977 1977 1977 1977 1977 1977 1977 1977 1977 1977\n",
      " 1977 1977 1977 1977 1977 1977 1977 1977 1977 1977 1977 1977 1977 1977\n",
      " 1977 1977 1977 1977 1977 1977 1977 1977 1977 1977 1977 1977 1977 1977\n",
      " 1977 1977 1977 1977 1977 1977 1977 1977 1977 1977 1977 1977 1977 1977\n",
      " 1977 1977 1977 1977 1977 1977 1977 1977 1977 1977 1977 1977 1977 1977\n",
      " 1977 1977 1977 1977 1977 1977 1977 1977 1977 1977 1977 1977 1977 1977\n",
      " 1977 1977 1977 1977 1977 1977 1977 1977 1977 1977 1977 1977 1977 1977\n",
      " 1977 1977 1977 1977 1977 1977 1977 1977 1977 1977 1977 1977 1977 1977\n",
      " 1977 1977 1977 1977 1977 1977 1977 1977 1977 1977 1977 1977 1977 1977\n",
      " 1977 1977 1977 1977 1977 1977 1977 1977 1977 1977 1977 1977 1977 1977\n",
      " 1977 1977 1977 1977 1977 1977 1977 1977 1977 1977 1977 1977 1977 1977\n",
      " 1977 1977 1977 1977 1977 1977 1977 1977 1977 1977 1977 1977 1977 1977\n",
      " 1977 1977 1977 1977 1977 1977 1977 1977 1977 1977 1977 1977 1977 1977\n",
      " 1977 1977 1977 1977 1977 1977 1977 1977 1977 1977 1977 1977 1977 1977\n",
      " 1977 1977 1977 1977 1977 1977 1977 1977 1977 1977 1977 1977 1977 1977\n",
      " 1977 1977 1977 1977 1977 1977 1977 1977 1977 1977 1977 1977 1977 1977\n",
      " 1977 1977 1977 1977 1977 1977 1977 1977 1977 1977 1977 1977 1977 1977\n",
      " 1977 1977 1977 1977 1977 1977 1977 1977 1977 1977 1977 1977 1977 1977\n",
      " 1977 1977 1977 1977 1977 1977 1977 1977 1977 1977 1977 1977 1977 1977\n",
      " 1977 1977 1977 1977 1977 1977 1977 1977 1977 1977 1977 1977 1977 1977\n",
      " 1977 1977 1977 1977 1977 1977 1977 1977 1977 1977 1977 1977 1977 1977\n",
      " 1977 1977 1977 1977 1977 1977 1977 1977 1977 1977 1977 1977 1977 1977\n",
      " 1977 1977 1977 1977 1977 1977 1977 1977 1977 1977 1977 1977 1977 1977\n",
      " 1977 1977 1977 1977 1977 1977 1977 1977 1977 1977 1977 1977 1977 1977\n",
      " 1977 1977 1977 1977 1977 1977 1977 1977 1977 1977 1977 1977 1977 1977\n",
      " 1977 1977 1977 1977 1977 1977 1977 1977 1977 1977 1977 1977 1977 1977\n",
      " 1977 1977 1977 1977 1977 1977 1977 1977 1977 1977 1977 1977 1977 1977\n",
      " 1977 1977 1977 1977 1977 1977 1977 1977 1977 1977 1977 1977 1977 1977\n",
      " 1977 1977 1977 1977 1977 1977 1977 1977 1977 1977 1977 1977 1977 1977\n",
      " 1977 1977 1977 1977 1977 1977 1977 1977 1977 1977 1977 1977 1977 1977\n",
      " 1977 1977 1977 1977 1977 1977 1977 1977 1977 1977 1977 1977 1977 1977\n",
      " 1977 1977 1977 1977 1977 1977 1977 1977 1977 1977 1977 1977 1977 1977\n",
      " 1977 1977 1977 1977 1977 1977 1977 1977 1977 1977 1977 1977 1977 1977\n",
      " 1977 1977 1977 1977 1977 1977 1977 1977 1977 1977 1977 1977 1977 1977\n",
      " 1977 1977 1977 1977 1977 1977 1977 1977 1977 1977 1977 1977 1977 1977\n",
      " 1977 1977 1977 1977 1977 1977 1977 1977 1977 1977 1977 1977 1977 1977\n",
      " 1977 1977 1977 1977 1977 1977 1977 1977 1977 1977 1977 1977 1977 1977\n",
      " 1977 1977 1977 1977 1977 1977 1977 1977 1977 1977 1977 1977 1977 1977\n",
      " 1977 1977 1977 1977 1977 1977 1977 1977 1977 1977 1977 1977 1977 1977\n",
      " 1977 1977 1977 1977 1977 1977 1977 1977 1977 1977 1977 1977 1977 1977\n",
      " 1977 1977 1977 1977 1977 1977 1977 1977 1977 1977 1977 1977 1977 1977\n",
      " 1977 1977 1977 1977 1977 1977 1977 1977 1977 1977 1977 1977 1977 1977\n",
      " 1977 1977 1977 1977 1977 1977 1977 1977 1977 1977 1977 1977 1977 1977\n",
      " 1977 1977 1977 1977 1977 1977 1977 1977 1977 1977 1977 1977 1977 1977\n",
      " 1977 1977 1977 1977 1977 1977 1977 1977 1977 1977 1977 1977 1977 1977\n",
      " 1977 1977 1977 1977 1977 1977 1977 1977 1977 1977 1977 1977 1977 1977\n",
      " 1977 1977 1977 1977 1977 1977 1977 1977 1977 1977 1977 1977 1977 1977\n",
      " 1977 1977 1977 1977 1978 1978 1978 1978 1978 1978 1978 1978 1978 1978\n",
      " 1978 1978 1978 1978 1978 1978 1978 1978 1978 1978 1978 1978 1978 1978\n",
      " 1978 1978 1978 1978 1978 1978 1978 1978 1978 1978 1978 1978 1978 1978\n",
      " 1978 1978 1978 1978 1978 1978 1978 1978 1978 1978 1978 1978 1978 1978\n",
      " 1978 1978 1978 1978 1978 1978 1978 1978 1978 1978 1978 1978 1978 1978\n",
      " 1978 1978 1978 1978 1978 1978 1978 1978 1978 1978 1978 1978 1978 1978\n",
      " 1978 1978 1978 1978 1978 1978 1978 1978 1978 1978 1978 1978 1978 1978\n",
      " 1978 1978 1978 1978 1978 1978 1978 1978 1978 1978 1978 1978 1978 1978\n",
      " 1978 1978 1978 1978 1978 1978 1978 1978 1978 1978 1978 1978 1978 1978\n",
      " 1978 1978 1978 1978 1978 1978 1978 1978 1978 1978 1978 1978 1978 1978\n",
      " 1978 1978 1978 1978 1978 1978 1978 1978 1978 1978 1978 1978 1978 1978\n",
      " 1978 1978 1978 1978 1978 1978 1978 1978 1978 1978 1978 1978 1978 1978\n",
      " 1978 1978 1978 1978 1978 1978 1978 1978 1978 1978 1978 1978 1978 1978\n",
      " 1978 1978 1978 1978 1978 1978 1978 1978 1978 1978 1978 1978 1978 1978\n",
      " 1978 1978 1978 1978 1978 1978 1978 1978 1978 1978 1978 1978 1978 1978\n",
      " 1978 1978 1978 1978 1978 1978 1978 1978 1978 1978 1978 1978 1978 1978\n",
      " 1978 1978 1978 1978 1978 1978 1978 1978 1978 1978 1978 1978 1978 1978\n",
      " 1978 1978 1978 1978 1978 1978 1978 1978 1978 1978 1978 1978 1978 1978\n",
      " 1978 1978 1978 1978 1978 1978 1978 1978 1978 1978 1978 1978 1978 1978\n",
      " 1978 1978 1978 1978 1978 1978 1978 1978 1978 1978 1978 1978 1978 1978\n",
      " 1978 1978 1978 1978 1978 1978 1978 1978 1978 1978 1978 1978 1978 1978\n",
      " 1978 1978 1978 1978 1978 1978 1978 1978 1978 1978 1978 1978 1978 1978\n",
      " 1978 1978 1978 1978 1978 1978 1978 1978 1978 1978 1978 1978 1978 1978\n",
      " 1978 1978 1978 1978 1978 1978 1978 1978 1978 1978 1978 1978 1978 1978\n",
      " 1978 1978 1978 1978 1978 1978 1978 1978 1978 1978 1978 1978 1978 1978\n",
      " 1978 1978 1978 1978 1978 1978 1978 1978 1978 1978 1978 1978 1978 1978\n",
      " 1978 1978 1978 1978 1978 1978 1978 1978 1978 1978 1978 1978 1978 1978\n",
      " 1978 1978 1978 1978 1978 1978 1978 1978 1978 1978 1978 1978 1978 1978\n",
      " 1978 1978 1978 1978 1978 1978 1978 1978 1978 1978 1978 1978 1978 1978\n",
      " 1978 1978 1978 1978 1978 1978 1978 1978 1978 1978 1978 1978 1978 1978\n",
      " 1978 1978 1978 1978 1978 1978 1978 1978 1978 1978 1978 1978 1978 1978\n",
      " 1978 1978 1978 1978 1978 1978 1978 1978 1978 1978 1978 1978 1978 1978\n",
      " 1978 1978 1978 1978 1978 1978 1978 1978 1978 1978 1978 1978 1978 1978\n",
      " 1978 1978 1978 1978 1978 1978 1978 1978 1978 1978 1978 1978 1978 1978\n",
      " 1978 1978 1978 1978 1978 1978 1978 1978 1978 1978 1978 1978 1978 1978\n",
      " 1978 1978 1978 1978 1978 1978 1978 1978 1978 1978 1978 1978 1978 1978\n",
      " 1978 1978 1978 1978 1978 1978 1978 1978 1978 1978 1978 1978 1978 1978\n",
      " 1978 1978 1978 1978 1978 1978 1978 1978 1978 1978 1978 1978 1978 1978\n",
      " 1978 1978 1978 1978 1978 1978 1978 1978 1978 1978 1978 1978 1978 1978\n",
      " 1978 1978 1978 1978 1978 1978 1978 1978 1978 1978 1978 1978 1978 1978\n",
      " 1978 1978 1978 1978 1978 1978 1978 1978 1978 1978 1978 1978 1978 1978\n",
      " 1978 1978 1978 1978 1978 1978 1978 1978 1978 1978 1978 1978 1978 1978\n",
      " 1978 1978 1978 1978 1978 1978 1978 1978 1978 1978 1978 1978 1978 1978\n",
      " 1978 1978 1978 1978 1978 1978 1978 1978 1978 1978 1978 1978 1978 1978\n",
      " 1978 1978 1978 1978 1978 1978 1978 1978 1978 1978 1978 1978 1978 1978\n",
      " 1978 1978 1978 1978 1978 1978 1978 1978 1978 1978 1978 1978 1978 1978\n",
      " 1978 1978 1978 1978 1978 1978 1978 1978 1978 1978 1978 1978 1978 1978\n",
      " 1978 1978 1978 1978 1978 1978 1978 1978 1978 1978 1978 1978 1978 1978\n",
      " 1978 1978 1978 1978 1978 1978 1978 1978 1978 1978 1978 1978 1978 1978\n",
      " 1978 1978 1978 1978 1978 1978 1978 1978 1978 1978 1978 1978 1978 1978\n",
      " 1978 1978 1978 1978 1978 1978 1978 1978 1978 1978 1978 1978 1978 1978\n",
      " 1978 1978 1978 1978 1978 1978 1978 1978 1978 1978 1978 1978 1978 1978\n",
      " 1978 1978 1978 1978 1978 1978 1978 1978 1978 1978 1978 1978 1978 1978\n",
      " 1978 1978 1978 1978 1978 1978 1978 1978 1978 1978 1978 1978 1978 1978\n",
      " 1978 1978 1978 1978 1978 1978 1978 1978 1978 1979 1979 1979 1979 1979\n",
      " 1979 1979 1979 1979 1979 1979 1979 1979 1979 1979 1979 1979 1979 1979\n",
      " 1979 1979 1979 1979 1979 1979 1979 1979 1979 1979 1979 1979 1979 1979\n",
      " 1979 1979 1979 1979 1979 1979 1979 1979 1979 1979 1979 1979 1979 1979\n",
      " 1979 1979 1979 1979 1979 1979 1979 1979 1979 1979 1979 1979 1979 1979\n",
      " 1979 1979 1979 1979 1979 1979 1979 1979 1979 1979 1979 1979 1979 1979\n",
      " 1979 1979 1979 1979 1979 1979 1979 1979 1979 1979 1979 1979 1979 1979\n",
      " 1979 1979 1979 1979 1979 1979 1979 1979 1979 1979 1979 1979 1979 1979\n",
      " 1979 1979 1979 1979 1979 1979 1979 1979 1979 1979 1979 1979 1979 1979\n",
      " 1979 1979 1979 1979 1979 1979 1979 1979 1979 1979 1979 1979 1979 1979\n",
      " 1979 1979 1979 1979 1979 1979 1979 1979 1979 1979 1979 1979 1979 1979\n",
      " 1979 1979 1979 1979 1979 1979 1979 1979 1979 1979 1979 1979 1979 1979\n",
      " 1979 1979 1979 1979 1979 1979 1979 1979 1979 1979 1979 1979 1979 1979\n",
      " 1979 1979 1979 1979 1979 1979 1979 1979 1979 1979 1979 1979 1979 1979\n",
      " 1979 1979 1979 1979 1979 1979 1979 1979 1979 1979 1979 1979 1979 1979\n",
      " 1979 1979 1979 1979 1979 1979 1979 1979 1979 1979 1979 1979 1979 1979\n",
      " 1979 1979 1979 1979 1979 1979 1979 1979 1979 1979 1979 1979 1979 1979\n",
      " 1979 1979 1979 1979 1979 1979 1979 1979 1979 1979 1979 1979 1979 1979\n",
      " 1979 1979 1979 1979 1979 1979 1979 1979 1979 1979 1979 1979 1979 1979\n",
      " 1979 1979 1979 1979 1979 1979 1979 1979 1979 1979 1979 1979 1979 1979\n",
      " 1979 1979 1979 1979 1979 1979 1979 1979 1979 1979 1979 1979 1979 1979\n",
      " 1979 1979 1979 1979 1979 1979 1979 1979 1979 1979 1979 1979 1979 1979\n",
      " 1979 1979 1979 1979 1979 1979 1979 1979 1979 1979 1979 1979 1979 1979\n",
      " 1979 1979 1979 1979 1979 1979 1979 1979 1979 1979 1979 1979 1979 1979\n",
      " 1979 1979 1979 1979 1979 1979 1979 1979 1979 1979 1979 1979 1979 1979\n",
      " 1979 1979 1979 1979 1979 1979 1979 1979 1979 1979 1979 1979 1979 1979\n",
      " 1979 1979 1979 1979 1979 1979 1979 1979 1979 1979 1979 1979 1979 1979\n",
      " 1979 1979 1979 1979 1979 1979 1979 1979 1979 1979 1979 1979 1979 1979\n",
      " 1979 1979 1979 1979 1979 1979 1979 1979 1979 1979 1979 1979 1979 1979\n",
      " 1979 1979 1979 1979 1979 1979 1979 1979 1979 1979 1979 1979 1979 1979\n",
      " 1979 1979 1979 1979 1979 1979 1979 1979 1979 1979 1979 1979 1979 1979\n",
      " 1979 1979 1979 1979 1979 1979 1979 1979 1979 1979 1979 1979 1979 1979\n",
      " 1979 1979 1979 1979 1979 1979 1979 1979 1979 1979 1979 1979 1979 1979\n",
      " 1979 1979 1979 1979 1979 1979 1979 1979 1979 1979 1979 1979 1979 1979\n",
      " 1979 1979 1979 1979 1979 1979 1979 1979 1979 1979 1979 1979 1979 1979\n",
      " 1979 1979 1979 1979 1979 1979 1979 1979 1979 1979 1979 1979 1979 1979\n",
      " 1979 1979 1979 1979 1979 1979 1979 1979 1979 1979 1979 1979 1979 1979\n",
      " 1979 1979 1979 1979 1979 1979 1979 1979 1979 1979 1979 1979 1979 1979\n",
      " 1979 1979 1979 1979 1979 1979 1979 1979 1979 1979 1979 1979 1979 1979\n",
      " 1979 1979 1979 1979 1979 1979 1979 1979 1979 1979 1979 1979 1979 1979\n",
      " 1979 1979 1979 1979 1979 1979 1979 1979 1979 1979 1979 1979 1979 1979\n",
      " 1979 1979 1979 1979 1979 1979 1979 1979 1979 1979 1979 1979 1979 1979\n",
      " 1979 1979 1979 1979 1979 1979 1979 1979 1979 1979 1979 1979 1979 1979\n",
      " 1979 1979 1979 1979 1979 1979 1979 1979 1979 1979 1979 1979 1979 1979\n",
      " 1979 1979 1979 1979 1979 1979 1979 1979 1979 1979 1979 1979 1979 1979\n",
      " 1979 1979 1979 1979 1979 1979 1979 1979 1979 1979 1979 1979 1979 1979\n",
      " 1979 1979 1979 1979 1979 1979 1979 1979 1979 1979 1979 1979 1979 1979\n",
      " 1979 1979 1979 1979 1979 1979 1979 1979 1979 1979 1979 1979 1979 1979\n",
      " 1979 1979 1979 1979 1979 1979 1979 1979 1979 1979 1979 1979 1979 1979\n",
      " 1979 1979 1979 1979 1979 1979 1979 1979 1979 1979 1979 1979 1979 1979\n",
      " 1979 1979 1979 1979 1979 1979 1979 1979 1979 1979 1979 1979 1979 1979\n",
      " 1979 1979 1979 1979 1979 1979 1979 1979 1979 1979 1979 1979 1979 1979\n",
      " 1979 1979 1979 1979 1979 1979 1979 1979 1979 1979 1979 1979 1979 1979\n",
      " 1979 1979 1979 1979 1979 1979 1979 1979 1979 1979 1979 1979 1979 1979\n",
      " 1980 1980 1980 1980 1980 1980 1980 1980 1980 1980 1980 1980 1980 1980\n",
      " 1980 1980 1980 1980 1980 1980 1980 1980 1980 1980 1980 1980 1980 1980\n",
      " 1980 1980 1980 1980 1980 1980 1980 1980 1980 1980 1980 1980 1980 1980\n",
      " 1980 1980 1980 1980 1980 1980 1980 1980 1980 1980 1980 1980 1980 1980\n",
      " 1980 1980 1980 1980 1980 1980 1980 1980 1980 1980 1980 1980 1980 1980\n",
      " 1980 1980 1980 1980 1980 1980 1980 1980 1980 1980 1980 1980 1980 1980\n",
      " 1980 1980 1980 1980 1980 1980 1980 1980 1980 1980 1980 1980 1980 1980\n",
      " 1980 1980 1980 1980 1980 1980 1980 1980 1980 1980 1980 1980 1980 1980\n",
      " 1980 1980 1980 1980 1980 1980 1980 1980 1980 1980 1980 1980 1980 1980\n",
      " 1980 1980 1980 1980 1980 1980 1980 1980 1980 1980 1980 1980 1980 1980\n",
      " 1980 1980 1980 1980 1980 1980 1980 1980 1980 1980 1980 1980 1980 1980\n",
      " 1980 1980 1980 1980 1980 1980 1980 1980 1980 1980 1980 1980 1980 1980\n",
      " 1980 1980 1980 1980 1980 1980 1980 1980 1980 1980 1980 1980 1980 1980\n",
      " 1980 1980 1980 1980 1980 1980 1980 1980 1980 1980 1980 1980 1980 1980\n",
      " 1980 1980 1980 1980 1980 1980 1980 1980 1980 1980 1980 1980 1980 1980\n",
      " 1980 1980 1980 1980 1980 1980 1980 1980 1980 1980 1980 1980 1980 1980\n",
      " 1980 1980 1980 1980 1980 1980 1980 1980 1980 1980 1980 1980 1980 1980\n",
      " 1980 1980 1980 1980 1980 1980 1980 1980 1980 1980 1980 1980 1980 1980\n",
      " 1980 1980 1980 1980 1980 1980 1980 1980 1980 1980 1980 1980 1980 1980\n",
      " 1980 1980 1980 1980 1980 1980 1980 1980 1980 1980 1980 1980 1980 1980\n",
      " 1980 1980 1980 1980 1980 1980 1980 1980 1980 1980 1980 1980 1980 1980\n",
      " 1980 1980 1980 1980 1980 1980 1980 1980 1980 1980 1980 1980 1980 1980\n",
      " 1980 1980 1980 1980 1980 1980 1980 1980 1980 1980 1980 1980 1980 1980\n",
      " 1980 1980 1980 1980 1980 1980 1980 1980 1980 1980 1980 1980 1980 1980\n",
      " 1980 1980 1980 1980 1980 1980 1980 1980 1980 1980 1980 1980 1980 1980\n",
      " 1980 1980 1980 1980 1980 1980 1980 1980 1980 1980 1980 1980 1980 1980\n",
      " 1980 1980 1980 1980 1980 1980 1980 1980 1980 1980 1980 1980 1980 1980\n",
      " 1980 1980 1980 1980 1980 1980 1980 1980 1980 1980 1980 1980 1980 1980\n",
      " 1980 1980 1980 1980 1980 1980 1980 1980 1980 1980 1980 1980 1980 1980\n",
      " 1980 1980 1980 1980 1980 1980 1980 1980 1980 1980 1980 1980 1980 1980\n",
      " 1980 1980 1980 1980 1980 1980 1980 1980 1980 1980 1980 1980 1980 1980\n",
      " 1980 1980 1980 1980 1980 1980 1980 1980 1980 1980 1980 1980 1980 1980\n",
      " 1980 1980 1980 1980 1980 1980 1980 1980 1980 1980 1980 1980 1980 1980\n",
      " 1980 1980 1980 1980 1980 1980 1980 1980 1980 1980 1980 1980 1980 1980\n",
      " 1980 1980 1980 1980 1980 1980 1980 1980 1980 1980 1980 1980 1980 1980\n",
      " 1980 1980 1980 1980 1980 1980 1980 1980 1980 1980 1980 1980 1980 1980\n",
      " 1980 1980 1980 1980 1980 1980 1980 1980 1980 1980 1980 1980 1980 1980\n",
      " 1980 1980 1980 1980 1980 1980 1980 1980 1980 1980 1980 1980 1980 1980\n",
      " 1980 1980 1980 1980 1980 1980 1980 1980 1980 1980 1980 1980 1980 1980\n",
      " 1980 1980 1980 1980 1980 1980 1980 1980 1980 1980 1980 1980 1980 1980\n",
      " 1980 1980 1980 1980 1980 1980 1980 1980 1980 1980 1980 1980 1980 1980\n",
      " 1980 1980 1980 1980 1980 1980 1980 1980 1980 1980 1980 1980 1980 1980\n",
      " 1980 1980 1980 1980 1980 1980 1980 1980 1980 1980 1980 1980 1980 1980\n",
      " 1980 1980 1980 1980 1980 1980 1980 1980 1980 1980 1980 1980 1980 1980\n",
      " 1980 1980 1980 1980 1980 1980 1980 1980 1980 1980 1980 1980 1980 1980\n",
      " 1980 1980 1980 1980 1980 1980 1980 1980 1980 1980 1980 1980 1980 1980\n",
      " 1980 1980 1980 1980 1980 1980 1980 1980 1980 1980 1980 1980 1980 1980\n",
      " 1980 1980 1980 1980 1980 1980 1980 1980 1980 1980 1980 1980 1980 1980\n",
      " 1980 1980 1980 1980 1980 1980 1980 1980 1980 1980 1980 1980 1980 1980\n",
      " 1980 1980 1980 1980 1980 1980 1980 1980 1980 1980 1980 1980 1980 1980\n",
      " 1980 1980 1980 1980 1980 1980 1980 1980 1980 1980 1980 1980 1980 1980\n",
      " 1980 1980 1980 1980 1980 1980 1980 1980 1980 1980 1980 1980 1980 1980\n",
      " 1980 1980 1980 1980 1980 1980 1980 1980 1980 1980 1980 1980 1980 1980\n",
      " 1980 1980 1980 1980 1980 1981 1981 1981 1981 1981 1981 1981 1981 1981\n",
      " 1981 1981 1981 1981 1981 1981 1981 1981 1981 1981 1981 1981 1981 1981\n",
      " 1981 1981 1981 1981 1981 1981 1981 1981 1981 1981 1981 1981 1981 1981\n",
      " 1981 1981 1981 1981 1981 1981 1981 1981 1981 1981 1981 1981 1981 1981\n",
      " 1981 1981 1981 1981 1981 1981 1981 1981 1981 1981 1981 1981 1981 1981\n",
      " 1981 1981 1981 1981 1981 1981 1981 1981 1981 1981 1981 1981 1981 1981\n",
      " 1981 1981 1981 1981 1981 1981 1981 1981 1981 1981 1981 1981 1981 1981\n",
      " 1981 1981 1981 1981 1981 1981 1981 1981 1981 1981 1981 1981 1981 1981\n",
      " 1981 1981 1981 1981 1981 1981 1981 1981 1981 1981 1981 1981 1981 1981\n",
      " 1981 1981 1981 1981 1981 1981 1981 1981 1981 1981 1981 1981 1981 1981\n",
      " 1981 1981 1981 1981 1981 1981 1981 1981 1981 1981 1981 1981 1981 1981\n",
      " 1981 1981 1981 1981 1981 1981 1981 1981 1981 1981 1981 1981 1981 1981\n",
      " 1981 1981 1981 1981 1981 1981 1981 1981 1981 1981 1981 1981 1981 1981\n",
      " 1981 1981 1981 1981 1981 1981 1981 1981 1981 1981 1981 1981 1981 1981\n",
      " 1981 1981 1981 1981 1981 1981 1981 1981 1981 1981 1981 1981 1981 1981\n",
      " 1981 1981 1981 1981 1981 1981 1981 1981 1981 1981 1981 1981 1981 1981\n",
      " 1981 1981 1981 1981 1981 1981 1981 1981 1981 1981 1981 1981 1981 1981\n",
      " 1981 1981 1981 1981 1981 1981 1981 1981 1981 1981 1981 1981 1981 1981\n",
      " 1981 1981 1981 1981 1981 1981 1981 1981 1981 1981 1981 1981 1981 1981\n",
      " 1981 1981 1981 1981 1981 1981 1981 1981 1981 1981 1981 1981 1981 1981\n",
      " 1981 1981 1981 1981 1981 1981 1981 1981 1981 1981 1981 1981 1981 1981\n",
      " 1981 1981 1981 1981 1981 1981 1981 1981 1981 1981 1981 1981 1981 1981\n",
      " 1981 1981 1981 1981 1981 1981 1981 1981 1981 1981 1981 1981 1981 1981\n",
      " 1981 1981 1981 1981 1981 1981 1981 1981 1981 1981 1981 1981 1981 1981\n",
      " 1981 1981 1981 1981 1981 1981 1981 1981 1981 1981 1981 1981 1981 1981\n",
      " 1981 1981 1981 1981 1981 1981 1981 1981 1981 1981 1981 1981 1981 1981\n",
      " 1981 1981 1981 1981 1981 1981 1981 1981 1981 1981 1981 1981 1981 1981\n",
      " 1981 1981 1981 1981 1981 1981 1981 1981 1981 1981 1981 1981 1981 1981\n",
      " 1981 1981 1981 1981 1981 1981 1981 1981 1981 1981 1981 1981 1981 1981\n",
      " 1981 1981 1981 1981 1981 1981 1981 1981 1981 1981 1981 1981 1981 1981\n",
      " 1981 1981 1981 1981 1981 1981 1981 1981 1981 1981 1981 1981 1981 1981\n",
      " 1981 1981 1981 1981 1981 1981 1981 1981 1981 1981 1981 1981 1981 1981\n",
      " 1981 1981 1981 1981 1981 1981 1981 1981 1981 1981 1981 1981 1981 1981\n",
      " 1981 1981 1981 1981 1981 1981 1981 1981 1981 1981 1981 1981 1981 1981\n",
      " 1981 1981 1981 1981 1981 1981 1981 1981 1981 1981 1981 1981 1981 1981\n",
      " 1981 1981 1981 1981 1981 1981 1981 1981 1981 1981 1981 1981 1981 1981\n",
      " 1981 1981 1981 1981 1981 1981 1981 1981 1981 1981 1981 1981 1981 1981\n",
      " 1981 1981 1981 1981 1981 1981 1981 1981 1981 1981 1981 1981 1981 1981\n",
      " 1981 1981 1981 1981 1981 1981 1981 1981 1981 1981 1981 1981 1981 1981\n",
      " 1981 1981 1981 1981 1981 1981 1981 1981 1981 1981 1981 1981 1981 1981\n",
      " 1981 1981 1981 1981 1981 1981 1981 1981 1981 1981 1981 1981 1981 1981\n",
      " 1981 1981 1981 1981 1981 1981 1981 1981 1981 1981 1981 1981 1981 1981\n",
      " 1981 1981 1981 1981 1981 1981 1981 1981 1981 1981 1981 1981 1981 1981\n",
      " 1981 1981 1981 1981 1981 1981 1981 1981 1981 1981 1981 1981 1981 1981\n",
      " 1981 1981 1981 1981 1981 1981 1981 1981 1981 1981 1981 1981 1981 1981\n",
      " 1981 1981 1981 1981 1981 1981 1981 1981 1981 1981 1981 1981 1981 1981\n",
      " 1981 1981 1981 1981 1981 1981 1981 1981 1981 1981 1981 1981 1981 1981\n",
      " 1981 1981 1981 1981 1981 1981 1981 1981 1981 1981 1981 1981 1981 1981\n",
      " 1981 1981 1981 1981 1981 1981 1981 1981 1981 1981 1981 1981 1981 1981\n",
      " 1981 1981 1981 1981 1981 1981 1981 1981 1981 1981 1981 1981 1981 1981\n",
      " 1981 1981 1981 1981 1981 1981 1981 1981 1981 1981 1981 1981 1981 1981\n",
      " 1981 1981 1981 1981 1981 1981 1981 1981 1981 1981 1981 1981 1981 1981\n",
      " 1981 1981 1981 1981 1981 1981 1981 1981 1981 1981 1981 1981 1981 1981\n",
      " 1981 1981 1981 1981 1981 1981 1981 1981 1982 1982 1982 1982 1982 1982\n",
      " 1982 1982 1982 1982 1982 1982 1982 1982 1982 1982 1982 1982 1982 1982\n",
      " 1982 1982 1982 1982 1982 1982 1982 1982 1982 1982 1982 1982 1982 1982\n",
      " 1982 1982 1982 1982 1982 1982 1982 1982 1982 1982 1982 1982 1982 1982\n",
      " 1982 1982 1982 1982 1982 1982 1982 1982 1982 1982 1982 1982 1982 1982\n",
      " 1982 1982 1982 1982 1982 1982 1982 1982 1982 1982 1982 1982 1982 1982\n",
      " 1982 1982 1982 1982 1982 1982 1982 1982 1982 1982 1982 1982 1982 1982\n",
      " 1982 1982 1982 1982 1982 1982 1982 1982 1982 1982 1982 1982 1982 1982\n",
      " 1982 1982 1982 1982 1982 1982 1982 1982 1982 1982 1982 1982 1982 1982\n",
      " 1982 1982 1982 1982 1982 1982 1982 1982 1982 1982 1982 1982 1982 1982\n",
      " 1982 1982 1982 1982 1982 1982 1982 1982 1982 1982 1982 1982 1982 1982\n",
      " 1982 1982 1982 1982 1982 1982 1982 1982 1982 1982 1982 1982 1982 1982\n",
      " 1982 1982 1982 1982 1982 1982 1982 1982 1982 1982 1982 1982 1982 1982\n",
      " 1982 1982 1982 1982 1982 1982 1982 1982 1982 1982 1982 1982 1982 1982\n",
      " 1982 1982 1982 1982 1982 1982 1982 1982 1982 1982 1982 1982 1982 1982\n",
      " 1982 1982 1982 1982 1982 1982 1982 1982 1982 1982 1982 1982 1982 1982\n",
      " 1982 1982 1982 1982 1982 1982 1982 1982 1982 1982 1982 1982 1982 1982\n",
      " 1982 1982 1982 1982 1982 1982 1982 1982 1982 1982 1982 1982 1982 1982\n",
      " 1982 1982 1982 1982 1982 1982 1982 1982 1982 1982 1982 1982 1982 1982\n",
      " 1982 1982 1982 1982 1982 1982 1982 1982 1982 1982 1982 1982 1982 1982\n",
      " 1982 1982 1982 1982 1982 1982 1982 1982 1982 1982 1982 1982 1982 1982\n",
      " 1982 1982 1982 1982 1982 1982 1982 1982 1982 1982 1982 1982 1982 1982\n",
      " 1982 1982 1982 1982 1982 1982 1982 1982 1982 1982 1982 1982 1982 1982\n",
      " 1982 1982 1982 1982 1982 1982 1982 1982 1982 1982 1982 1982 1982 1982\n",
      " 1982 1982 1982 1982 1982 1982 1982 1982 1982 1982 1982 1982 1982 1982\n",
      " 1982 1982 1982 1982 1982 1982 1982 1982 1982 1982 1982 1982 1982 1982\n",
      " 1982 1982 1982 1982 1982 1982 1982 1982 1982 1982 1982 1982 1982 1982\n",
      " 1982 1982 1982 1982 1982 1982 1982 1982 1982 1982 1982 1982 1982 1982\n",
      " 1982 1982 1982 1982 1982 1982 1982 1982 1982 1982 1982 1982 1982 1982\n",
      " 1982 1982 1982 1982 1982 1982 1982 1982 1982 1982 1982 1982 1982 1982\n",
      " 1982 1982 1982 1982 1982 1982 1982 1982 1982 1982 1982 1982 1982 1982\n",
      " 1982 1982 1982 1982 1982 1982 1982 1982 1982 1982 1982 1982 1982 1982\n",
      " 1982 1982 1982 1982 1982 1982 1982 1982 1982 1982 1982 1982 1982 1982\n",
      " 1982 1982 1982 1982 1982 1982 1982 1982 1982 1982 1982 1982 1982 1982\n",
      " 1982 1982 1982 1982 1982 1982 1982 1982 1982 1982 1982 1982 1982 1982\n",
      " 1982 1982 1982 1982 1982 1982 1982 1982 1982 1982 1982 1982 1982 1982\n",
      " 1982 1982 1982 1982 1982 1982 1982 1982 1982 1982 1982 1982 1982 1982\n",
      " 1982 1982 1982 1982 1982 1982 1982 1982 1982 1982 1982 1982 1982 1982\n",
      " 1982 1982 1982 1982 1982 1982 1982 1982 1982 1982 1982 1982 1982 1982\n",
      " 1982 1982 1982 1982 1982 1982 1982 1982 1982 1982 1982 1982 1982 1982\n",
      " 1982 1982 1982 1982 1982 1982 1982 1982 1982 1982 1982 1982 1982 1982\n",
      " 1982 1982 1982 1982 1982 1982 1982 1982 1982 1982 1982 1982 1982 1982\n",
      " 1982 1982 1982 1982 1982 1982 1982 1982 1982 1982 1982 1982 1982 1982\n",
      " 1982 1982 1982 1982 1982 1982 1982 1982 1982 1982 1982 1982 1982 1982\n",
      " 1982 1982 1982 1982 1982 1982 1982 1982 1982 1982 1982 1982 1982 1982\n",
      " 1982 1982 1982 1982 1982 1982 1982 1982 1982 1982 1982 1982 1982 1982\n",
      " 1982 1982 1982 1982 1982 1982 1982 1982 1982 1982 1982 1982 1982 1982\n",
      " 1982 1982 1982 1982 1982 1982 1982 1982 1982 1982 1982 1982 1982 1982\n",
      " 1982 1982 1982 1982 1982 1982 1982 1982 1982 1982 1982 1982 1982 1982\n",
      " 1982 1982 1982 1982 1982 1982 1982 1982 1982 1982 1982 1982 1982 1982\n",
      " 1982 1982 1982 1982 1982 1982 1982 1982 1982 1982 1982 1982 1982 1982\n",
      " 1982 1982 1982 1982 1982 1982 1982 1982 1982 1982 1982 1982 1982 1982\n",
      " 1982 1982 1982 1982 1982 1982 1982 1982 1982 1982 1982 1982 1982 1982\n",
      " 1982 1982 1982 1982 1982 1982 1982 1982 1982 1982 1982 1982 1982 1982\n",
      " 1983 1983 1983 1983 1983 1983 1983 1983 1983 1983 1983 1983 1983 1983\n",
      " 1983 1983 1983 1983 1983 1983 1983 1983 1983 1983 1983 1983 1983 1983\n",
      " 1983 1983 1983 1983 1983 1983 1983 1983 1983 1983 1983 1983 1983 1983\n",
      " 1983 1983 1983 1983 1983 1983 1983 1983 1983 1983 1983 1983 1983 1983\n",
      " 1983 1983 1983 1983 1983 1983 1983 1983 1983 1983 1983 1983 1983 1983\n",
      " 1983 1983 1983 1983 1983 1983 1983 1983 1983 1983 1983 1983 1983 1983\n",
      " 1983 1983 1983 1983 1983 1983 1983 1983 1983 1983 1983 1983 1983 1983\n",
      " 1983 1983 1983 1983 1983 1983 1983 1983 1983 1983 1983 1983 1983 1983\n",
      " 1983 1983 1983 1983 1983 1983 1983 1983 1983 1983 1983 1983 1983 1983\n",
      " 1983 1983 1983 1983 1983 1983 1983 1983 1983 1983 1983 1983 1983 1983\n",
      " 1983 1983 1983 1983 1983 1983 1983 1983 1983 1983 1983 1983 1983 1983\n",
      " 1983 1983 1983 1983 1983 1983 1983 1983 1983 1983 1983 1983 1983 1983\n",
      " 1983 1983 1983 1983 1983 1983 1983 1983 1983 1983 1983 1983 1983 1983\n",
      " 1983 1983 1983 1983 1983 1983 1983 1983 1983 1983 1983 1983 1983 1983\n",
      " 1983 1983 1983 1983 1983 1983 1983 1983 1983 1983 1983 1983 1983 1983\n",
      " 1983 1983 1983 1983 1983 1983 1983 1983 1983 1983 1983 1983 1983 1983\n",
      " 1983 1983 1983 1983 1983 1983 1983 1983 1983 1983 1983 1983 1983 1983\n",
      " 1983 1983 1983 1983 1983 1983 1983 1983 1983 1983 1983 1983 1983 1983\n",
      " 1983 1983 1983 1983 1983 1983 1983 1983 1983 1983 1983 1983 1983 1983\n",
      " 1983 1983 1983 1983 1983 1983 1983 1983 1983 1983 1983 1983 1983 1983\n",
      " 1983 1983 1983 1983 1983 1983 1983 1983 1983 1983 1983 1983 1983 1983\n",
      " 1983 1983 1983 1983 1983 1983 1983 1983 1983 1983 1983 1983 1983 1983\n",
      " 1983 1983 1983 1983 1983 1983 1983 1983 1983 1983 1983 1983 1983 1983\n",
      " 1983 1983 1983 1983 1983 1983 1983 1983 1983 1983 1983 1983 1983 1983\n",
      " 1983 1983 1983 1983 1983 1983 1983 1983 1983 1983 1983 1983 1983 1983\n",
      " 1983 1983 1983 1983 1983 1983 1983 1983 1983 1983 1983 1983 1983 1983\n",
      " 1983 1983 1983 1983 1983 1983 1983 1983 1983 1983 1983 1983 1983 1983\n",
      " 1983 1983 1983 1983 1983 1983 1983 1983 1983 1983 1983 1983 1983 1983\n",
      " 1983 1983 1983 1983 1983 1983 1983 1983 1983 1983 1983 1983 1983 1983\n",
      " 1983 1983 1983 1983 1983 1983 1983 1983 1983 1983 1983 1983 1983 1983\n",
      " 1983 1983 1983 1983 1983 1983 1983 1983 1983 1983 1983 1983 1983 1983\n",
      " 1983 1983 1983 1983 1983 1983 1983 1983 1983 1983 1983 1983 1983 1983\n",
      " 1983 1983 1983 1983 1983 1983 1983 1983 1983 1983 1983 1983 1983 1983\n",
      " 1983 1983 1983 1983 1983 1983 1983 1983 1983 1983 1983 1983 1983 1983\n",
      " 1983 1983 1983 1983 1983 1983 1983 1983 1983 1983 1983 1983 1983 1983\n",
      " 1983 1983 1983 1983 1983 1983 1983 1983 1983 1983 1983 1983 1983 1983\n",
      " 1983 1983 1983 1983 1983 1983 1983 1983 1983 1983 1983 1983 1983 1983\n",
      " 1983 1983 1983 1983 1983 1983 1983 1983 1983 1983 1983 1983 1983 1983\n",
      " 1983 1983 1983 1983 1983 1983 1983 1983 1983 1983 1983 1983 1983 1983\n",
      " 1983 1983 1983 1983 1983 1983 1983 1983 1983 1983 1983 1983 1983 1983\n",
      " 1983 1983 1983 1983 1983 1983 1983 1983 1983 1983 1983 1983 1983 1983\n",
      " 1983 1983 1983 1983 1983 1983 1983 1983 1983 1983 1983 1983 1983 1983\n",
      " 1983 1983 1983 1983 1983 1983 1983 1983 1983 1983 1983 1983 1983 1983\n",
      " 1983 1983 1983 1983 1983 1983 1983 1983 1983 1983 1983 1983 1983 1983\n",
      " 1983 1983 1983 1983 1983 1983 1983 1983 1983 1983 1983 1983 1983 1983\n",
      " 1983 1983 1983 1983 1983 1983 1983 1983 1983 1983 1983 1983 1983 1983\n",
      " 1983 1983 1983 1983 1983 1983 1983 1983 1983 1983 1983 1983 1983 1983\n",
      " 1983 1983 1983 1983 1983 1983 1983 1983 1983 1983 1983 1983 1983 1983\n",
      " 1983 1983 1983 1983 1983 1983 1983 1983 1983 1983 1983 1983 1983 1983\n",
      " 1983 1983 1983 1983 1983 1983 1983 1983 1983 1983 1983 1983 1983 1983\n",
      " 1983 1983 1983 1983 1983 1983 1983 1983 1983 1983 1983 1983 1983 1983\n",
      " 1983 1983 1983 1983 1983 1983 1983 1983 1983 1983 1983 1983 1983 1983\n",
      " 1983 1983 1983 1983 1983 1983 1983 1983 1983 1983 1983 1983 1983 1983\n",
      " 1983 1983 1983 1983 1983 1983 1983 1984 1984 1984 1984 1984 1984 1984\n",
      " 1984 1984 1984 1984 1984 1984 1984 1984 1984 1984 1984 1984 1984 1984\n",
      " 1984 1984 1984 1984 1984 1984 1984 1984 1984 1984 1984 1984 1984 1984\n",
      " 1984 1984 1984 1984 1984 1984 1984 1984 1984 1984 1984 1984 1984 1984\n",
      " 1984 1984 1984 1984 1984 1984 1984 1984 1984 1984 1984 1984 1984 1984\n",
      " 1984 1984 1984 1984 1984 1984 1984 1984 1984 1984 1984 1984 1984 1984\n",
      " 1984 1984 1984 1984 1984 1984 1984 1984 1984 1984 1984 1984 1984 1984\n",
      " 1984 1984 1984 1984 1984 1984 1984 1984 1984 1984 1984 1984 1984 1984\n",
      " 1984 1984 1984 1984 1984 1984 1984 1984 1984 1984 1984 1984 1984 1984\n",
      " 1984 1984 1984 1984 1984 1984 1984 1984 1984 1984 1984 1984 1984 1984\n",
      " 1984 1984 1984 1984 1984 1984 1984 1984 1984 1984 1984 1984 1984 1984\n",
      " 1984 1984 1984 1984 1984 1984 1984 1984 1984 1984 1984 1984 1984 1984\n",
      " 1984 1984 1984 1984 1984 1984 1984 1984 1984 1984 1984 1984 1984 1984\n",
      " 1984 1984 1984 1984 1984 1984 1984 1984 1984 1984 1984 1984 1984 1984\n",
      " 1984 1984 1984 1984 1984 1984 1984 1984 1984 1984 1984 1984 1984 1984\n",
      " 1984 1984 1984 1984 1984 1984 1984 1984 1984 1984 1984 1984 1984 1984\n",
      " 1984 1984 1984 1984 1984 1984 1984 1984 1984 1984 1984 1984 1984 1984\n",
      " 1984 1984 1984 1984 1984 1984 1984 1984 1984 1984 1984 1984 1984 1984\n",
      " 1984 1984 1984 1984 1984 1984 1984 1984 1984 1984 1984 1984 1984 1984\n",
      " 1984 1984 1984 1984 1984 1984 1984 1984 1984 1984 1984 1984 1984 1984\n",
      " 1984 1984 1984 1984 1984 1984 1984 1984 1984 1984 1984 1984 1984 1984\n",
      " 1984 1984 1984 1984 1984 1984 1984 1984 1984 1984 1984 1984 1984 1984\n",
      " 1984 1984 1984 1984 1984 1984 1984 1984 1984 1984 1984 1984 1984 1984\n",
      " 1984 1984 1984 1984 1984 1984 1984 1984 1984 1984 1984 1984 1984 1984\n",
      " 1984 1984 1984 1984 1984 1984 1984 1984 1984 1984 1984 1984 1984 1984\n",
      " 1984 1984 1984 1984 1984 1984 1984 1984 1984 1984 1984 1984 1984 1984\n",
      " 1984 1984 1984 1984 1984 1984 1984 1984 1984 1984 1984 1984 1984 1984\n",
      " 1984 1984 1984 1984 1984 1984 1984 1984 1984 1984 1984 1984 1984 1984\n",
      " 1984 1984 1984 1984 1984 1984 1984 1984 1984 1984 1984 1984 1984 1984\n",
      " 1984 1984 1984 1984 1984 1984 1984 1984 1984 1984 1984 1984 1984 1984\n",
      " 1984 1984 1984 1984 1984 1984 1984 1984 1984 1984 1984 1984 1984 1984\n",
      " 1984 1984 1984 1984 1984 1984 1984 1984 1984 1984 1984 1984 1984 1984\n",
      " 1984 1984 1984 1984 1984 1984 1984 1984 1984 1984 1984 1984 1984 1984\n",
      " 1984 1984 1984 1984 1984 1984 1984 1984 1984 1984 1984 1984 1984 1984\n",
      " 1984 1984 1984 1984 1984 1984 1984 1984 1984 1984 1984 1984 1984 1984\n",
      " 1984 1984 1984 1984 1984 1984 1984 1984 1984 1984 1984 1984 1984 1984\n",
      " 1984 1984 1984 1984 1984 1984 1984 1984 1984 1984 1984 1984 1984 1984\n",
      " 1984 1984 1984 1984 1984 1984 1984 1984 1984 1984 1984 1984 1984 1984\n",
      " 1984 1984 1984 1984 1984 1984 1984 1984 1984 1984 1984 1984 1984 1984\n",
      " 1984 1984 1984 1984 1984 1984 1984 1984 1984 1984 1984 1984 1984 1984\n",
      " 1984 1984 1984 1984 1984 1984 1984 1984 1984 1984 1984 1984 1984 1984\n",
      " 1984 1984 1984 1984 1984 1984 1984 1984 1984 1984 1984 1984 1984 1984\n",
      " 1984 1984 1984 1984 1984 1984 1984 1984 1984 1984 1984 1984 1984 1984\n",
      " 1984 1984 1984 1984 1984 1984 1984 1984 1984 1984 1984 1984 1984 1984\n",
      " 1984 1984 1984 1984 1984 1984 1984 1984 1984 1984 1984 1984 1984 1984\n",
      " 1984 1984 1984 1984 1984 1984 1984 1984 1984 1984 1984 1984 1984 1984\n",
      " 1984 1984 1984 1984 1984 1984 1984 1984 1984 1984 1984 1984 1984 1984\n",
      " 1984 1984 1984 1984 1984 1984 1984 1984 1984 1984 1984 1984 1984 1984\n",
      " 1984 1984 1984 1984 1984 1984 1984 1984 1984 1984 1984 1984 1984 1984\n",
      " 1984 1984 1984 1984 1984 1984 1984 1984 1984 1984 1984 1984 1984 1984\n",
      " 1984 1984 1984 1984 1984 1984 1984 1984 1984 1984 1984 1984 1984 1984\n",
      " 1984 1984 1984 1984 1984 1984 1984 1984 1984 1984 1984 1984 1984 1984\n",
      " 1984 1984 1984 1984 1984 1984 1984 1984 1984 1984 1984 1984 1984 1984\n",
      " 1984 1984 1984 1984 1984 1984 1984 1984 1984 1984 1984 1984 1985 1985\n",
      " 1985 1985 1985 1985 1985 1985 1985 1985 1985 1985 1985 1985 1985 1985\n",
      " 1985 1985 1985 1985 1985 1985 1985 1985 1985 1985 1985 1985 1985 1985\n",
      " 1985 1985 1985 1985 1985 1985 1985 1985 1985 1985 1985 1985 1985 1985\n",
      " 1985 1985 1985 1985 1985 1985 1985 1985 1985 1985 1985 1985 1985 1985\n",
      " 1985 1985 1985 1985 1985 1985 1985 1985 1985 1985 1985 1985 1985 1985\n",
      " 1985 1985 1985 1985 1985 1985 1985 1985 1985 1985 1985 1985 1985 1985\n",
      " 1985 1985 1985 1985 1985 1985 1985 1985 1985 1985 1985 1985 1985 1985\n",
      " 1985 1985 1985 1985 1985 1985 1985 1985 1985 1985 1985 1985 1985 1985\n",
      " 1985 1985 1985 1985 1985 1985 1985 1985 1985 1985 1985 1985 1985 1985\n",
      " 1985 1985 1985 1985 1985 1985 1985 1985 1985 1985 1985 1985 1985 1985\n",
      " 1985 1985 1985 1985 1985 1985 1985 1985 1985 1985 1985 1985 1985 1985\n",
      " 1985 1985 1985 1985 1985 1985 1985 1985 1985 1985 1985 1985 1985 1985\n",
      " 1985 1985 1985 1985 1985 1985 1985 1985 1985 1985 1985 1985 1985 1985\n",
      " 1985 1985 1985 1985 1985 1985 1985 1985 1985 1985 1985 1985 1985 1985\n",
      " 1985 1985 1985 1985 1985 1985 1985 1985 1985 1985 1985 1985 1985 1985\n",
      " 1985 1985 1985 1985 1985 1985 1985 1985 1985 1985 1985 1985 1985 1985\n",
      " 1985 1985 1985 1985 1985 1985 1985 1985 1985 1985 1985 1985 1985 1985\n",
      " 1985 1985 1985 1985 1985 1985 1985 1985 1985 1985 1985 1985 1985 1985\n",
      " 1985 1985 1985 1985 1985 1985 1985 1985 1985 1985 1985 1985 1985 1985\n",
      " 1985 1985 1985 1985 1985 1985 1985 1985 1985 1985 1985 1985 1985 1985\n",
      " 1985 1985 1985 1985 1985 1985 1985 1985 1985 1985 1985 1985 1985 1985\n",
      " 1985 1985 1985 1985 1985 1985 1985 1985 1985 1985 1985 1985 1985 1985\n",
      " 1985 1985 1985 1985 1985 1985 1985 1985 1985 1985 1985 1985 1985 1985\n",
      " 1985 1985 1985 1985 1985 1985 1985 1985 1985 1985 1985 1985 1985 1985\n",
      " 1985 1985 1985 1985 1985 1985 1985 1985 1985 1985 1985 1985 1985 1985\n",
      " 1985 1985 1985 1985 1985 1985 1985 1985 1985 1985 1985 1985 1985 1985\n",
      " 1985 1985 1985 1985 1985 1985 1985 1985 1985 1985 1985 1985 1985 1985\n",
      " 1985 1985 1985 1985 1985 1985 1985 1985 1985 1985 1985 1985 1985 1985\n",
      " 1985 1985 1985 1985 1985 1985 1985 1985 1985 1985 1985 1985 1985 1985\n",
      " 1985 1985 1985 1985 1985 1985 1985 1985 1985 1985 1985 1985 1985 1985\n",
      " 1985 1985 1985 1985 1985 1985 1985 1985 1985 1985 1985 1985 1985 1985\n",
      " 1985 1985 1985 1985 1985 1985 1985 1985 1985 1985 1985 1985 1985 1985\n",
      " 1985 1985 1985 1985 1985 1985 1985 1985 1985 1985 1985 1985 1985 1985\n",
      " 1985 1985 1985 1985 1985 1985 1985 1985 1985 1985 1985 1985 1985 1985\n",
      " 1985 1985 1985 1985 1985 1985 1985 1985 1985 1985 1985 1985 1985 1985\n",
      " 1985 1985 1985 1985 1985 1985 1985 1985 1985 1985 1985 1985 1985 1985\n",
      " 1985 1985 1985 1985 1985 1985 1985 1985 1985 1985 1985 1985 1985 1985\n",
      " 1985 1985 1985 1985 1985 1985 1985 1985 1985 1985 1985 1985 1985 1985\n",
      " 1985 1985 1985 1985 1985 1985 1985 1985 1985 1985 1985 1985 1985 1985\n",
      " 1985 1985 1985 1985 1985 1985 1985 1985 1985 1985 1985 1985 1985 1985\n",
      " 1985 1985 1985 1985 1985 1985 1985 1985 1985 1985 1985 1985 1985 1985\n",
      " 1985 1985 1985 1985 1985 1985 1985 1985 1985 1985 1985 1985 1985 1985\n",
      " 1985 1985 1985 1985 1985 1985 1985 1985 1985 1985 1985 1985 1985 1985\n",
      " 1985 1985 1985 1985 1985 1985 1985 1985 1985 1985 1985 1985 1985 1985\n",
      " 1985 1985 1985 1985 1985 1985 1985 1985 1985 1985 1985 1985 1985 1985\n",
      " 1985 1985 1985 1985 1985 1985 1985 1985 1985 1985 1985 1985 1985 1985\n",
      " 1985 1985 1985 1985 1985 1985 1985 1985 1985 1985 1985 1985 1985 1985\n",
      " 1985 1985 1985 1985 1985 1985 1985 1985 1985 1985 1985 1985 1985 1985\n",
      " 1985 1985 1985 1985 1985 1985 1985 1985 1985 1985 1985 1985 1985 1985\n",
      " 1985 1985 1985 1985 1985 1985 1985 1985 1985 1985 1985 1985 1985 1985\n",
      " 1985 1985 1985 1985 1985 1985 1985 1985 1985 1985 1985 1985 1985 1985\n",
      " 1985 1985 1985 1985 1985 1985 1985 1985 1985 1985 1985 1985 1985 1985\n",
      " 1985 1985 1985 1985 1985 1985 1985 1986 1986 1986 1986 1986 1986 1986\n",
      " 1986 1986 1986 1986 1986 1986 1986 1986 1986 1986 1986 1986 1986 1986\n",
      " 1986 1986 1986 1986 1986 1986 1986 1986 1986 1986 1986 1986 1986 1986\n",
      " 1986 1986 1986 1986 1986 1986 1986 1986 1986 1986 1986 1986 1986 1986\n",
      " 1986 1986 1986 1986 1986 1986 1986 1986 1986 1986 1986 1986 1986 1986\n",
      " 1986 1986 1986 1986 1986 1986 1986 1986 1986 1986 1986 1986 1986 1986\n",
      " 1986 1986 1986 1986 1986 1986 1986 1986 1986 1986 1986 1986 1986 1986\n",
      " 1986 1986 1986 1986 1986 1986 1986 1986 1986 1986 1986 1986 1986 1986\n",
      " 1986 1986 1986 1986 1986 1986 1986 1986 1986 1986 1986 1986 1986 1986\n",
      " 1986 1986 1986 1986 1986 1986 1986 1986 1986 1986 1986 1986 1986 1986\n",
      " 1986 1986 1986 1986 1986 1986 1986 1986 1986 1986 1986 1986 1986 1986\n",
      " 1986 1986 1986 1986 1986 1986 1986 1986 1986 1986 1986 1986 1986 1986\n",
      " 1986 1986 1986 1986 1986 1986 1986 1986 1986 1986 1986 1986 1986 1986\n",
      " 1986 1986 1986 1986 1986 1986 1986 1986 1986 1986 1986 1986 1986 1986\n",
      " 1986 1986 1986 1986 1986 1986 1986 1986 1986 1986 1986 1986 1986 1986\n",
      " 1986 1986 1986 1986 1986 1986 1986 1986 1986 1986 1986 1986 1986 1986\n",
      " 1986 1986 1986 1986 1986 1986 1986 1986 1986 1986 1986 1986 1986 1986\n",
      " 1986 1986 1986 1986 1986 1986 1986 1986 1986 1986 1986 1986 1986 1986\n",
      " 1986 1986 1986 1986 1986 1986 1986 1986 1986 1986 1986 1986 1986 1986\n",
      " 1986 1986 1986 1986 1986 1986 1986 1986 1986 1986 1986 1986 1986 1986\n",
      " 1986 1986 1986 1986 1986 1986 1986 1986 1986 1986 1986 1986 1986 1986\n",
      " 1986 1986 1986 1986 1986 1986 1986 1986 1986 1986 1986 1986 1986 1986\n",
      " 1986 1986 1986 1986 1986 1986 1986 1986 1986 1986 1986 1986 1986 1986\n",
      " 1986 1986 1986 1986 1986 1986 1986 1986 1986 1986 1986 1986 1986 1986\n",
      " 1986 1986 1986 1986 1986 1986 1986 1986 1986 1986 1986 1986 1986 1986\n",
      " 1986 1986 1986 1986 1986 1986 1986 1986 1986 1986 1986 1986 1986 1986\n",
      " 1986 1986 1986 1986 1986 1986 1986 1986 1986 1986 1986 1986 1986 1986\n",
      " 1986 1986 1986 1986 1986 1986 1986 1986 1986 1986 1986 1986 1986 1986\n",
      " 1986 1986 1986 1986 1986 1986 1986 1986 1986 1986 1986 1986 1986 1986\n",
      " 1986 1986 1986 1986 1986 1986 1986 1986 1986 1986 1986 1986 1986 1986\n",
      " 1986 1986 1986 1986 1986 1986 1986 1986 1986 1986 1986 1986 1986 1986\n",
      " 1986 1986 1986 1986 1986 1986 1986 1986 1986 1986 1986 1986 1986 1986\n",
      " 1986 1986 1986 1986 1986 1986 1986 1986 1986 1986 1986 1986 1986 1986\n",
      " 1986 1986 1986 1986 1986 1986 1986 1986 1986 1986 1986 1986 1986 1986\n",
      " 1986 1986 1986 1986 1986 1986 1986 1986 1986 1986 1986 1986 1986 1986\n",
      " 1986 1986 1986 1986 1986 1986 1986 1986 1986 1986 1986 1986 1986 1986\n",
      " 1986 1986 1986 1986 1986 1986 1986 1986 1986 1986 1986 1986 1986 1986\n",
      " 1986 1986 1986 1986 1986 1986 1986 1986 1986 1986 1986 1986 1986 1986\n",
      " 1986 1986 1986 1986 1986 1986 1986 1986 1986 1986 1986 1986 1986 1986\n",
      " 1986 1986 1986 1986 1986 1986 1986 1986 1986 1986 1986 1986 1986 1986\n",
      " 1986 1986 1986 1986 1986 1986 1986 1986 1986 1986 1986 1986 1986 1986\n",
      " 1986 1986 1986 1986 1986 1986 1986 1986 1986 1986 1986 1986 1986 1986\n",
      " 1986 1986 1986 1986 1986 1986 1986 1986 1986 1986 1986 1986 1986 1986\n",
      " 1986 1986 1986 1986 1986 1986 1986 1986 1986 1986 1986 1986 1986 1986\n",
      " 1986 1986 1986 1986 1986 1986 1986 1986 1986 1986 1986 1986 1986 1986\n",
      " 1986 1986 1986 1986 1986 1986 1986 1986 1986 1986 1986 1986 1986 1986\n",
      " 1986 1986 1986 1986 1986 1986 1986 1986 1986 1986 1986 1986 1986 1986\n",
      " 1986 1986 1986 1986 1986 1986 1986 1986 1986 1986 1986 1986 1986 1986\n",
      " 1986 1986 1986 1986 1986 1986 1986 1986 1986 1986 1986 1986 1986 1986\n",
      " 1986 1986 1986 1986 1986 1986 1986 1986 1986 1986 1986 1986 1986 1986\n",
      " 1986 1986 1986 1986 1986 1986 1986 1986 1986 1986 1986 1986 1986 1986\n",
      " 1986 1986 1986 1986 1986 1986 1986 1986 1986 1986 1986 1986 1986 1986\n",
      " 1986 1986 1986 1986 1986 1986 1986 1986 1986 1986 1986 1986 1986 1986\n",
      " 1986 1987 1987 1987 1987 1987 1987 1987 1987 1987 1987 1987 1987 1987\n",
      " 1987 1987 1987 1987 1987 1987 1987 1987 1987 1987 1987 1987 1987 1987\n",
      " 1987 1987 1987 1987 1987 1987 1987 1987 1987 1987 1987 1987 1987 1987\n",
      " 1987 1987 1987 1987 1987 1987 1987 1987 1987 1987 1987 1987 1987 1987\n",
      " 1987 1987 1987 1987 1987 1987 1987 1987 1987 1987 1987 1987 1987 1987\n",
      " 1987 1987 1987 1987 1987 1987 1987 1987 1987 1987 1987 1987 1987 1987\n",
      " 1987 1987 1987 1987 1987 1987 1987 1987 1987 1987 1987 1987 1987 1987\n",
      " 1987 1987 1987 1987 1987 1987 1987 1987 1987 1987 1987 1987 1987 1987\n",
      " 1987 1987 1987 1987 1987 1987 1987 1987 1987 1987 1987 1987 1987 1987\n",
      " 1987 1987 1987 1987 1987 1987 1987 1987 1987 1987 1987 1987 1987 1987\n",
      " 1987 1987 1987 1987 1987 1987 1987 1987 1987 1987 1987 1987 1987 1987\n",
      " 1987 1987 1987 1987 1987 1987 1987 1987 1987 1987 1987 1987 1987 1987\n",
      " 1987 1987 1987 1987 1987 1987 1987 1987 1987 1987 1987 1987 1987 1987\n",
      " 1987 1987 1987 1987 1987 1987 1987 1987 1987 1987 1987 1987 1987 1987\n",
      " 1987 1987 1987 1987 1987 1987 1987 1987 1987 1987 1987 1987 1987 1987\n",
      " 1987 1987 1987 1987 1987 1987 1987 1987 1987 1987 1987 1987 1987 1987\n",
      " 1987 1987 1987 1987 1987 1987 1987 1987 1987 1987 1987 1987 1987 1987\n",
      " 1987 1987 1987 1987 1987 1987 1987 1987 1987 1987 1987 1987 1987 1987\n",
      " 1987 1987 1987 1987 1987 1987 1987 1987 1987 1987 1987 1987 1987 1987\n",
      " 1987 1987 1987 1987 1987 1987 1987 1987 1987 1987 1987 1987 1987 1987\n",
      " 1987 1987 1987 1987 1987 1987 1987 1987 1987 1987 1987 1987 1987 1987\n",
      " 1987 1987 1987 1987 1987 1987 1987 1987 1987 1987 1987 1987 1987 1987\n",
      " 1987 1987 1987 1987 1987 1987 1987 1987 1987 1987 1987 1987 1987 1987\n",
      " 1987 1987 1987 1987 1987 1987 1987 1987 1987 1987 1987 1987 1987 1987\n",
      " 1987 1987 1987 1987 1987 1987 1987 1987 1987 1987 1987 1987 1987 1987\n",
      " 1987 1987 1987 1987 1987 1987 1987 1987 1987 1987 1987 1987 1987 1987\n",
      " 1987 1987 1987 1987 1987 1987 1987 1987 1987 1987 1987 1987 1987 1987\n",
      " 1987 1987 1987 1987 1987 1987 1987 1987 1987 1987 1987 1987 1987 1987\n",
      " 1987 1987 1987 1987 1987 1987 1987 1987 1987 1987 1987 1987 1987 1987\n",
      " 1987 1987 1987 1987 1987 1987 1987 1987 1987 1987 1987 1987 1987 1987\n",
      " 1987 1987 1987 1987 1987 1987 1987 1987 1987 1987 1987 1987 1987 1987\n",
      " 1987 1987 1987 1987 1987 1987 1987 1987 1987 1987 1987 1987 1987 1987\n",
      " 1987 1987 1987 1987 1987 1987 1987 1987 1987 1987 1987 1987 1987 1987\n",
      " 1987 1987 1987 1987 1987 1987 1987 1987 1987 1987 1987 1987 1987 1987\n",
      " 1987 1987 1987 1987 1987 1987 1987 1987 1987 1987 1987 1987 1987 1987\n",
      " 1987 1987 1987 1987 1987 1987 1987 1987 1987 1987 1987 1987 1987 1987\n",
      " 1987 1987 1987 1987 1987 1987 1987 1987 1987 1987 1987 1987 1987 1987\n",
      " 1987 1987 1987 1987 1987 1987 1987 1987 1987 1987 1987 1987 1987 1987\n",
      " 1987 1987 1987 1987 1987 1987 1987 1987 1987 1987 1987 1987 1987 1987\n",
      " 1987 1987 1987 1987 1987 1987 1987 1987 1987 1987 1987 1987 1987 1987\n",
      " 1987 1987 1987 1987 1987 1987 1987 1987 1987 1987 1987 1987 1987 1987\n",
      " 1987 1987 1987 1987 1987 1987 1987 1987 1987 1987 1987 1987 1987 1987\n",
      " 1987 1987 1987 1987 1987 1987 1987 1987 1987 1987 1987 1987 1987 1987\n",
      " 1987 1987 1987 1987 1987 1987 1987 1987 1987 1987 1987 1987 1987 1987\n",
      " 1987 1987 1987 1987 1987 1987 1987 1987 1987 1987 1987 1987 1987 1987\n",
      " 1987 1987 1987 1987 1987 1987 1987 1987 1987 1987 1987 1987 1987 1987\n",
      " 1987 1987 1987 1987 1987 1987 1987 1987 1987 1987 1987 1987 1987 1987\n",
      " 1987 1987 1987 1987 1987 1987 1987 1987 1987 1987 1987 1987 1987 1987\n",
      " 1987 1987 1987 1987 1987 1987 1987 1987 1987 1987 1987 1987 1987 1987\n",
      " 1987 1987 1987 1987 1987 1987 1987 1987 1987 1987 1987 1987 1987 1987\n",
      " 1987 1987 1987 1987 1987 1987 1987 1987 1987 1987 1987 1987 1987 1987\n",
      " 1987 1987 1987 1987 1987 1987 1987 1987 1987 1987 1987 1987 1987 1987\n",
      " 1987 1987 1987 1987 1987 1987 1988 1988 1988 1988 1988 1988 1988 1988\n",
      " 1988 1988 1988 1988 1988 1988 1988 1988 1988 1988 1988 1988 1988 1988\n",
      " 1988 1988 1988 1988 1988 1988 1988 1988 1988 1988 1988 1988 1988 1988\n",
      " 1988 1988 1988 1988 1988 1988 1988 1988 1988 1988 1988 1988 1988 1988\n",
      " 1988 1988 1988 1988 1988 1988 1988 1988 1988 1988 1988 1988 1988 1988\n",
      " 1988 1988 1988 1988 1988 1988 1988 1988 1988 1988 1988 1988 1988 1988\n",
      " 1988 1988 1988 1988 1988 1988 1988 1988 1988 1988 1988 1988 1988 1988\n",
      " 1988 1988 1988 1988 1988 1988 1988 1988 1988 1988 1988 1988 1988 1988\n",
      " 1988 1988 1988 1988 1988 1988 1988 1988 1988 1988 1988 1988 1988 1988\n",
      " 1988 1988 1988 1988 1988 1988 1988 1988 1988 1988 1988 1988 1988 1988\n",
      " 1988 1988 1988 1988 1988 1988 1988 1988 1988 1988 1988 1988 1988 1988\n",
      " 1988 1988 1988 1988 1988 1988 1988 1988 1988 1988 1988 1988 1988 1988\n",
      " 1988 1988 1988 1988 1988 1988 1988 1988 1988 1988 1988 1988 1988 1988\n",
      " 1988 1988 1988 1988 1988 1988 1988 1988 1988 1988 1988 1988 1988 1988\n",
      " 1988 1988 1988 1988 1988 1988 1988 1988 1988 1988 1988 1988 1988 1988\n",
      " 1988 1988 1988 1988 1988 1988 1988 1988 1988 1988 1988 1988 1988 1988\n",
      " 1988 1988 1988 1988 1988 1988 1988 1988 1988 1988 1988 1988 1988 1988\n",
      " 1988 1988 1988 1988 1988 1988 1988 1988 1988 1988 1988 1988 1988 1988\n",
      " 1988 1988 1988 1988 1988 1988 1988 1988 1988 1988 1988 1988 1988 1988\n",
      " 1988 1988 1988 1988 1988 1988 1988 1988 1988 1988 1988 1988 1988 1988\n",
      " 1988 1988 1988 1988 1988 1988 1988 1988 1988 1988 1988 1988 1988 1988\n",
      " 1988 1988 1988 1988 1988 1988 1988 1988 1988 1988 1988 1988 1988 1988\n",
      " 1988 1988 1988 1988 1988 1988 1988 1988 1988 1988 1988 1988 1988 1988\n",
      " 1988 1988 1988 1988 1988 1988 1988 1988 1988 1988 1988 1988 1988 1988\n",
      " 1988 1988 1988 1988 1988 1988 1988 1988 1988 1988 1988 1988 1988 1988\n",
      " 1988 1988 1988 1988 1988 1988 1988 1988 1988 1988 1988 1988 1988 1988\n",
      " 1988 1988 1988 1988 1988 1988 1988 1988 1988 1988 1988 1988 1988 1988\n",
      " 1988 1988 1988 1988 1988 1988 1988 1988 1988 1988 1988 1988 1988 1988\n",
      " 1988 1988 1988 1988 1988 1988 1988 1988 1988 1988 1988 1988 1988 1988\n",
      " 1988 1988 1988 1988 1988 1988 1988 1988 1988 1988 1988 1988 1988 1988\n",
      " 1988 1988 1988 1988 1988 1988 1988 1988 1988 1988 1988 1988 1988 1988\n",
      " 1988 1988 1988 1988 1988 1988 1988 1988 1988 1988 1988 1988 1988 1988\n",
      " 1988 1988 1988 1988 1988 1988 1988 1988 1988 1988 1988 1988 1988 1988\n",
      " 1988 1988 1988 1988 1988 1988 1988 1988 1988 1988 1988 1988 1988 1988\n",
      " 1988 1988 1988 1988 1988 1988 1988 1988 1988 1988 1988 1988 1988 1988\n",
      " 1988 1988 1988 1988 1988 1988 1988 1988 1988 1988 1988 1988 1988 1988\n",
      " 1988 1988 1988 1988 1988 1988 1988 1988 1988 1988 1988 1988 1988 1988\n",
      " 1988 1988 1988 1988 1988 1988 1988 1988 1988 1988 1988 1988 1988 1988\n",
      " 1988 1988 1988 1988 1988 1988 1988 1988 1988 1988 1988 1988 1988 1988\n",
      " 1988 1988 1988 1988 1988 1988 1988 1988 1988 1988 1988 1988 1988 1988\n",
      " 1988 1988 1988 1988 1988 1988 1988 1988 1988 1988 1988 1988 1988 1988\n",
      " 1988 1988 1988 1988 1988 1988 1988 1988 1988 1988 1988 1988 1988 1988\n",
      " 1988 1988 1988 1988 1988 1988 1988 1988 1988 1988 1988 1988 1988 1988\n",
      " 1988 1988 1988 1988 1988 1988 1988 1988 1988 1988 1988 1988 1988 1988\n",
      " 1988 1988 1988 1988 1988 1988 1988 1988 1988 1988 1988 1988 1988 1988\n",
      " 1988 1988 1988 1988 1988 1988 1988 1988 1988 1988 1988 1988 1988 1988\n",
      " 1988 1988 1988 1988 1988 1988 1988 1988 1988 1988 1988 1988 1988 1988\n",
      " 1988 1988 1988 1988 1988 1988 1988 1988 1988 1988 1988 1988 1988 1988\n",
      " 1988 1988 1988 1988 1988 1988 1988 1988 1988 1988 1988 1988 1988 1988\n",
      " 1988 1988 1988 1988 1988 1988 1988 1988 1988 1988 1988 1988 1988 1988\n",
      " 1988 1988 1988 1988 1988 1988 1988 1988 1988 1988 1988 1988 1988 1988\n",
      " 1988 1988 1988 1988 1988 1988 1988 1988 1988 1988 1988 1988 1988 1988\n",
      " 1988 1988 1988 1988 1988 1988 1988 1988 1988 1988 1988 1988 1988 1988\n",
      " 1988 1988 1988 1989 1989 1989 1989 1989 1989 1989 1989 1989 1989 1989\n",
      " 1989 1989 1989 1989 1989 1989 1989 1989 1989 1989 1989 1989 1989 1990\n",
      " 1990 1990 1990 1990 1990 1990 1990 1990 1990 1990 1990 1990 1990 1990\n",
      " 1990 1990 1990 1990 1990 1990 1990 1990 1990 1991 1991 1991 1991 1991\n",
      " 1991 1991 1991 1991 1991 1991 1991 1991 1991 1991 1991 1991 1991 1991\n",
      " 1991 1991 1991 1991 1991 1992 1992 1992 1992 1992 1992 1992 1992 1992\n",
      " 1992 1992 1992 1992 1992 1992 1992 1992 1992 1992 1992 1992 1992 1992\n",
      " 1992 1993 1993 1993 1993 1993 1993 1993 1993 1993 1993 1993 1993 1993\n",
      " 1993 1993 1993 1993 1993 1993 1993 1993 1993 1993 1993 1994 1994 1994\n",
      " 1994 1994 1994 1994 1994 1994 1994 1994 1994 1994 1994 1994 1994 1994\n",
      " 1994 1994 1994 1994 1994 1994 1994 1995 1995 1995 1995 1995 1995 1995\n",
      " 1995 1995 1995 1995 1995 1995 1995 1995 1995 1995 1995 1995 1995 1995\n",
      " 1995 1995 1995 1996 1996 1996 1996 1996 1996 1996 1996 1996 1996 1996\n",
      " 1996 1996 1996 1996 1996 1996 1996 1996 1996 1996 1996 1996 1996 1997\n",
      " 1997 1997 1997 1997 1997 1997 1997 1997 1997 1997 1997 1997 1997 1997\n",
      " 1997 1997 1997 1997 1997 1997 1997 1997 1997 1998 1998 1998 1998 1998\n",
      " 1998 1998 1998 1998 1998 1998 1998 1998 1998 1998 1998 1998 1998 1998\n",
      " 1998 1998 1998 1998 1998 1999 1999 1999 1999 1999 1999 1999 1999 1999\n",
      " 1999 1999 1999 1999 1999 1999 1999 1999 1999 1999 1999 1999 1999 1999\n",
      " 1999 2000 2000 2000 2000 2000 2000 2000 2000 2000 2000 2000 2000 2000\n",
      " 2000 2000 2000 2000 2000 2000 2000 2000 2000 2000 2000 2001 2001 2001\n",
      " 2001 2001 2001 2001 2001 2001 2001 2001 2001 2001 2001 2001 2001 2001\n",
      " 2001 2001 2001 2001 2001 2001 2001 2002 2002 2002 2002 2002 2002 2002\n",
      " 2002 2002 2002 2002 2002 2002 2002 2002 2002 2002 2002 2002 2002 2002\n",
      " 2002 2002 2002 2003 2003 2003 2003 2003 2003 2003 2003 2003 2003 2003\n",
      " 2003 2003 2003 2003 2003 2003 2003 2003 2003 2003 2003 2003 2003 2004\n",
      " 2004 2004 2004 2004 2004 2004 2004 2004 2004 2004 2004 2004 2004 2004\n",
      " 2004 2004 2004 2004 2004 2004 2004 2004 2004 2005 2005 2005 2005 2005\n",
      " 2005 2005 2005 2005 2005 2005 2005 2005 2005 2005 2005 2005 2005 2005\n",
      " 2005 2005 2005 2005 2005 2006 2006 2006 2006 2006 2006 2006 2006 2006\n",
      " 2006 2006 2006 2006 2006 2006 2006 2006 2006 2006 2006 2006 2006 2006\n",
      " 2006 2007 2007 2007 2007 2007 2007 2007 2007 2007 2007 2007 2007 2007\n",
      " 2007 2007 2007 2007 2007 2007 2007 2007 2007 2007 2007 2008 2008 2008\n",
      " 2008 2008 2008 2008 2008 2008 2008 2008 2008 2008 2008 2008 2008 2008\n",
      " 2008 2008 2008 2008 2008 2008 2008] \n"
     ]
    }
   ],
   "source": [
    "#extract the year\n",
    "\n",
    "years = np.array(us_births['year'])\n",
    "print(f\"The years are: '\\n' {years} \")"
   ]
  },
  {
   "cell_type": "code",
   "execution_count": 6,
   "id": "5680eed2",
   "metadata": {},
   "outputs": [
    {
     "name": "stdout",
     "output_type": "stream",
     "text": [
      "The genders are:'\n",
      "' ['F' 'M' 'F' 'M' 'F' 'M' 'F' 'M' 'F' 'M' 'F' 'M' 'F' 'M' 'F' 'M' 'F' 'M'\n",
      " 'F' 'M' 'F' 'M' 'F' 'M' 'F' 'M' 'F' 'M' 'F' 'M' 'F' 'M' 'F' 'M' 'F' 'M'\n",
      " 'F' 'M' 'F' 'M' 'F' 'M' 'F' 'M' 'F' 'M' 'F' 'M' 'F' 'M' 'F' 'M' 'F' 'M'\n",
      " 'F' 'M' 'F' 'M' 'F' 'M' 'F' 'M' 'F' 'M' 'F' 'M' 'F' 'M' 'F' 'M' 'F' 'M'\n",
      " 'F' 'M' 'F' 'M' 'F' 'M' 'F' 'M' 'F' 'M' 'F' 'M' 'F' 'M' 'F' 'M' 'F' 'M'\n",
      " 'F' 'M' 'F' 'M' 'F' 'M' 'F' 'M' 'F' 'M' 'F' 'M' 'F' 'M' 'F' 'M' 'F' 'M'\n",
      " 'F' 'M' 'F' 'M' 'F' 'M' 'F' 'M' 'F' 'M' 'F' 'M' 'F' 'M' 'F' 'M' 'F' 'M'\n",
      " 'F' 'M' 'F' 'M' 'F' 'M' 'F' 'M' 'F' 'M' 'F' 'M' 'F' 'M' 'F' 'M' 'F' 'M'\n",
      " 'F' 'M' 'F' 'M' 'F' 'M' 'F' 'M' 'F' 'M' 'F' 'M' 'F' 'M' 'F' 'M' 'F' 'M'\n",
      " 'F' 'M' 'F' 'M' 'F' 'M' 'F' 'M' 'F' 'M' 'F' 'M' 'F' 'M' 'F' 'M' 'F' 'M'\n",
      " 'F' 'M' 'F' 'M' 'F' 'M' 'F' 'M' 'F' 'M' 'F' 'M' 'F' 'M' 'F' 'M' 'F' 'M'\n",
      " 'F' 'M' 'F' 'M' 'F' 'M' 'F' 'M' 'F' 'M' 'F' 'M' 'F' 'M' 'F' 'M' 'F' 'M'\n",
      " 'F' 'M' 'F' 'M' 'F' 'M' 'F' 'M' 'F' 'M' 'F' 'M' 'F' 'M' 'F' 'M' 'F' 'M'\n",
      " 'F' 'M' 'F' 'M' 'F' 'M' 'F' 'M' 'F' 'M' 'F' 'M' 'F' 'M' 'F' 'M' 'F' 'M'\n",
      " 'F' 'M' 'F' 'M' 'F' 'M' 'F' 'M' 'F' 'M' 'F' 'M' 'F' 'M' 'F' 'M' 'F' 'M'\n",
      " 'F' 'M' 'F' 'M' 'F' 'M' 'F' 'M' 'F' 'M' 'F' 'M' 'F' 'M' 'F' 'M' 'F' 'M'\n",
      " 'F' 'M' 'F' 'M' 'F' 'M' 'F' 'M' 'F' 'M' 'F' 'M' 'F' 'M' 'F' 'M' 'F' 'M'\n",
      " 'F' 'M' 'F' 'M' 'F' 'M' 'F' 'M' 'F' 'M' 'F' 'M' 'F' 'M' 'F' 'M' 'F' 'M'\n",
      " 'F' 'M' 'F' 'M' 'F' 'M' 'F' 'M' 'F' 'M' 'F' 'M' 'F' 'M' 'F' 'M' 'F' 'M'\n",
      " 'F' 'M' 'F' 'M' 'F' 'M' 'F' 'M' 'F' 'M' 'F' 'M' 'F' 'M' 'F' 'M' 'F' 'M'\n",
      " 'F' 'M' 'F' 'M' 'F' 'M' 'F' 'M' 'F' 'M' 'F' 'M' 'F' 'M' 'F' 'M' 'F' 'M'\n",
      " 'F' 'M' 'F' 'M' 'F' 'M' 'F' 'M' 'F' 'M' 'F' 'M' 'F' 'M' 'F' 'M' 'F' 'M'\n",
      " 'F' 'M' 'F' 'M' 'F' 'M' 'F' 'M' 'F' 'M' 'F' 'M' 'F' 'M' 'F' 'M' 'F' 'M'\n",
      " 'F' 'M' 'F' 'M' 'F' 'M' 'F' 'M' 'F' 'M' 'F' 'M' 'F' 'M' 'F' 'M' 'F' 'M'\n",
      " 'F' 'M' 'F' 'M' 'F' 'M' 'F' 'M' 'F' 'M' 'F' 'M' 'F' 'M' 'F' 'M' 'F' 'M'\n",
      " 'F' 'M' 'F' 'M' 'F' 'M' 'F' 'M' 'F' 'M' 'F' 'M' 'F' 'M' 'F' 'M' 'F' 'M'\n",
      " 'F' 'M' 'F' 'M' 'F' 'M' 'F' 'M' 'F' 'M' 'F' 'M' 'F' 'M' 'F' 'M' 'F' 'M'\n",
      " 'F' 'M' 'F' 'M' 'F' 'M' 'F' 'M' 'F' 'M' 'F' 'M' 'F' 'M' 'F' 'M' 'F' 'M'\n",
      " 'F' 'M' 'F' 'M' 'F' 'M' 'F' 'M' 'F' 'M' 'F' 'M' 'F' 'M' 'F' 'M' 'F' 'M'\n",
      " 'F' 'M' 'F' 'M' 'F' 'M' 'F' 'M' 'F' 'M' 'F' 'M' 'F' 'M' 'F' 'M' 'F' 'M'\n",
      " 'F' 'M' 'F' 'M' 'F' 'M' 'F' 'M' 'F' 'M' 'F' 'M' 'F' 'M' 'F' 'M' 'F' 'M'\n",
      " 'F' 'M' 'F' 'M' 'F' 'M' 'F' 'M' 'F' 'M' 'F' 'M' 'F' 'M' 'F' 'M' 'F' 'M'\n",
      " 'F' 'M' 'F' 'M' 'F' 'M' 'F' 'M' 'F' 'M' 'F' 'M' 'F' 'M' 'F' 'M' 'F' 'M'\n",
      " 'F' 'M' 'F' 'M' 'F' 'M' 'F' 'M' 'F' 'M' 'F' 'M' 'F' 'M' 'F' 'M' 'F' 'M'\n",
      " 'F' 'M' 'F' 'M' 'F' 'M' 'F' 'M' 'F' 'M' 'F' 'M' 'F' 'M' 'F' 'M' 'F' 'M'\n",
      " 'F' 'M' 'F' 'M' 'F' 'M' 'F' 'M' 'F' 'M' 'F' 'M' 'F' 'M' 'F' 'M' 'F' 'M'\n",
      " 'F' 'M' 'F' 'M' 'F' 'M' 'F' 'M' 'F' 'M' 'F' 'M' 'F' 'M' 'F' 'M' 'F' 'M'\n",
      " 'F' 'M' 'F' 'M' 'F' 'M' 'F' 'M' 'F' 'M' 'F' 'M' 'F' 'M' 'F' 'M' 'F' 'M'\n",
      " 'F' 'M' 'F' 'M' 'F' 'M' 'F' 'M' 'F' 'M' 'F' 'M' 'F' 'M' 'F' 'M' 'F' 'M'\n",
      " 'F' 'M' 'F' 'M' 'F' 'M' 'F' 'M' 'F' 'M' 'F' 'M' 'F' 'M' 'F' 'M' 'F' 'M'\n",
      " 'F' 'M' 'F' 'M' 'F' 'M' 'F' 'M' 'F' 'M' 'F' 'M' 'F' 'M' 'F' 'M' 'F' 'M'\n",
      " 'F' 'M' 'F' 'M' 'F' 'M' 'F' 'M' 'F' 'M' 'F' 'M' 'F' 'M' 'F' 'M' 'F' 'M'\n",
      " 'F' 'M' 'F' 'M' 'F' 'M' 'F' 'M' 'F' 'M' 'F' 'M' 'F' 'M' 'F' 'M' 'F' 'M'\n",
      " 'F' 'M' 'F' 'M' 'F' 'M' 'F' 'M' 'F' 'M' 'F' 'M' 'F' 'M' 'F' 'M' 'F' 'M'\n",
      " 'F' 'M' 'F' 'M' 'F' 'M' 'F' 'M' 'F' 'M' 'F' 'M' 'F' 'M' 'F' 'M' 'F' 'M'\n",
      " 'F' 'M' 'F' 'M' 'F' 'M' 'F' 'M' 'F' 'M' 'F' 'M' 'F' 'M' 'F' 'M' 'F' 'M'\n",
      " 'F' 'M' 'F' 'M' 'F' 'M' 'F' 'M' 'F' 'M' 'F' 'M' 'F' 'M' 'F' 'M' 'F' 'M'\n",
      " 'F' 'M' 'F' 'M' 'F' 'M' 'F' 'M' 'F' 'M' 'F' 'M' 'F' 'M' 'F' 'M' 'F' 'M'\n",
      " 'F' 'M' 'F' 'M' 'F' 'M' 'F' 'M' 'F' 'M' 'F' 'M' 'F' 'M' 'F' 'M' 'F' 'M'\n",
      " 'F' 'M' 'F' 'M' 'F' 'M' 'F' 'M' 'F' 'M' 'F' 'M' 'F' 'M' 'F' 'M' 'F' 'M'\n",
      " 'F' 'M' 'F' 'M' 'F' 'M' 'F' 'M' 'F' 'M' 'F' 'M' 'F' 'M' 'F' 'M' 'F' 'M'\n",
      " 'F' 'M' 'F' 'M' 'F' 'M' 'F' 'M' 'F' 'M' 'F' 'M' 'F' 'M' 'F' 'M' 'F' 'M'\n",
      " 'F' 'M' 'F' 'M' 'F' 'M' 'F' 'M' 'F' 'M' 'F' 'M' 'F' 'M' 'F' 'M' 'F' 'M'\n",
      " 'F' 'M' 'F' 'M' 'F' 'M' 'F' 'M' 'F' 'M' 'F' 'M' 'F' 'M' 'F' 'M' 'F' 'M'\n",
      " 'F' 'M' 'F' 'M' 'F' 'M' 'F' 'M' 'F' 'M' 'F' 'M' 'F' 'M' 'F' 'M' 'F' 'M'\n",
      " 'F' 'M' 'F' 'M' 'F' 'M' 'F' 'M' 'F' 'M' 'F' 'M' 'F' 'M' 'F' 'M' 'F' 'M'\n",
      " 'F' 'M' 'F' 'M' 'F' 'M' 'F' 'M' 'F' 'M' 'F' 'M' 'F' 'M' 'F' 'M' 'F' 'M'\n",
      " 'F' 'M' 'F' 'M' 'F' 'M' 'F' 'M' 'F' 'M' 'F' 'M' 'F' 'M' 'F' 'M' 'F' 'M'\n",
      " 'F' 'M' 'F' 'M' 'F' 'M' 'F' 'M' 'F' 'M' 'F' 'M' 'F' 'M' 'F' 'M' 'F' 'M'\n",
      " 'F' 'M' 'F' 'M' 'F' 'M' 'F' 'M' 'F' 'M' 'F' 'M' 'F' 'M' 'F' 'M' 'F' 'M'\n",
      " 'F' 'M' 'F' 'M' 'F' 'M' 'F' 'M' 'F' 'M' 'F' 'M' 'F' 'M' 'F' 'M' 'F' 'M'\n",
      " 'F' 'M' 'F' 'M' 'F' 'M' 'F' 'M' 'F' 'M' 'F' 'M' 'F' 'M' 'F' 'M' 'F' 'M'\n",
      " 'F' 'M' 'F' 'M' 'F' 'M' 'F' 'M' 'F' 'M' 'F' 'M' 'F' 'M' 'F' 'M' 'F' 'M'\n",
      " 'F' 'M' 'F' 'M' 'F' 'M' 'F' 'M' 'F' 'M' 'F' 'M' 'F' 'M' 'F' 'M' 'F' 'M'\n",
      " 'F' 'M' 'F' 'M' 'F' 'M' 'F' 'M' 'F' 'M' 'F' 'M' 'F' 'M' 'F' 'M' 'F' 'M'\n",
      " 'F' 'M' 'F' 'M' 'F' 'M' 'F' 'M' 'F' 'M' 'F' 'M' 'F' 'M' 'F' 'M' 'F' 'M'\n",
      " 'F' 'M' 'F' 'M' 'F' 'M' 'F' 'M' 'F' 'M' 'F' 'M' 'F' 'M' 'F' 'M' 'F' 'M'\n",
      " 'F' 'M' 'F' 'M' 'F' 'M' 'F' 'M' 'F' 'M' 'F' 'M' 'F' 'M' 'F' 'M' 'F' 'M'\n",
      " 'F' 'M' 'F' 'M' 'F' 'M' 'F' 'M' 'F' 'M' 'F' 'M' 'F' 'M' 'F' 'M' 'F' 'M'\n",
      " 'F' 'M' 'F' 'M' 'F' 'M' 'F' 'M' 'F' 'M' 'F' 'M' 'F' 'M' 'F' 'M' 'F' 'M'\n",
      " 'F' 'M' 'F' 'M' 'F' 'M' 'F' 'M' 'F' 'M' 'F' 'M' 'F' 'M' 'F' 'M' 'F' 'M'\n",
      " 'F' 'M' 'F' 'M' 'F' 'M' 'F' 'M' 'F' 'M' 'F' 'M' 'F' 'M' 'F' 'M' 'F' 'M'\n",
      " 'F' 'M' 'F' 'M' 'F' 'M' 'F' 'M' 'F' 'M' 'F' 'M' 'F' 'M' 'F' 'M' 'F' 'M'\n",
      " 'F' 'M' 'F' 'M' 'F' 'M' 'F' 'M' 'F' 'M' 'F' 'M' 'F' 'M' 'F' 'M' 'F' 'M'\n",
      " 'F' 'M' 'F' 'M' 'F' 'M' 'F' 'M' 'F' 'M' 'F' 'M' 'F' 'M' 'F' 'M' 'F' 'M'\n",
      " 'F' 'M' 'F' 'M' 'F' 'M' 'F' 'M' 'F' 'M' 'F' 'M' 'F' 'M' 'F' 'M' 'F' 'M'\n",
      " 'F' 'M' 'F' 'M' 'F' 'M' 'F' 'M' 'F' 'M' 'F' 'M' 'F' 'M' 'F' 'M' 'F' 'M'\n",
      " 'F' 'M' 'F' 'M' 'F' 'M' 'F' 'M' 'F' 'M' 'F' 'M' 'F' 'M' 'F' 'M' 'F' 'M'\n",
      " 'F' 'M' 'F' 'M' 'F' 'M' 'F' 'M' 'F' 'M' 'F' 'M' 'F' 'M' 'F' 'M' 'F' 'M'\n",
      " 'F' 'M' 'F' 'M' 'F' 'M' 'F' 'M' 'F' 'M' 'F' 'M' 'F' 'M' 'F' 'M' 'F' 'M'\n",
      " 'F' 'M' 'F' 'M' 'F' 'M' 'F' 'M' 'F' 'M' 'F' 'M' 'F' 'M' 'F' 'M' 'F' 'M'\n",
      " 'F' 'M' 'F' 'M' 'F' 'M' 'F' 'M' 'F' 'M' 'F' 'M' 'F' 'M' 'F' 'M' 'F' 'M'\n",
      " 'F' 'M' 'F' 'M' 'F' 'M' 'F' 'M' 'F' 'M' 'F' 'M' 'F' 'M' 'F' 'M' 'F' 'M'\n",
      " 'F' 'M' 'F' 'M' 'F' 'M' 'F' 'M' 'F' 'M' 'F' 'M' 'F' 'M' 'F' 'M' 'F' 'M'\n",
      " 'F' 'M' 'F' 'M' 'F' 'M' 'F' 'M' 'F' 'M' 'F' 'M' 'F' 'M' 'F' 'M' 'F' 'M'\n",
      " 'F' 'M' 'F' 'M' 'F' 'M' 'F' 'M' 'F' 'M' 'F' 'M' 'F' 'M' 'F' 'M' 'F' 'M'\n",
      " 'F' 'M' 'F' 'M' 'F' 'M' 'F' 'M' 'F' 'M' 'F' 'M' 'F' 'M' 'F' 'M' 'F' 'M'\n",
      " 'F' 'M' 'F' 'M' 'F' 'M' 'F' 'M' 'F' 'M' 'F' 'M' 'F' 'M' 'F' 'M' 'F' 'M'\n",
      " 'F' 'M' 'F' 'M' 'F' 'M' 'F' 'M' 'F' 'M' 'F' 'M' 'F' 'M' 'F' 'M' 'F' 'M'\n",
      " 'F' 'M' 'F' 'M' 'F' 'M' 'F' 'M' 'F' 'M' 'F' 'M' 'F' 'M' 'F' 'M' 'F' 'M'\n",
      " 'F' 'M' 'F' 'M' 'F' 'M' 'F' 'M' 'F' 'M' 'F' 'M' 'F' 'M' 'F' 'M' 'F' 'M'\n",
      " 'F' 'M' 'F' 'M' 'F' 'M' 'F' 'M' 'F' 'M' 'F' 'M' 'F' 'M' 'F' 'M' 'F' 'M'\n",
      " 'F' 'M' 'M' 'F' 'M' 'F' 'M' 'F' 'M' 'F' 'M' 'F' 'M' 'F' 'M' 'F' 'M' 'F'\n",
      " 'M' 'F' 'M' 'F' 'M' 'F' 'M' 'F' 'M' 'F' 'M' 'F' 'M' 'F' 'M' 'F' 'M' 'F'\n",
      " 'M' 'F' 'M' 'F' 'M' 'F' 'M' 'F' 'M' 'F' 'M' 'F' 'M' 'F' 'M' 'F' 'M' 'F'\n",
      " 'M' 'F' 'M' 'F' 'M' 'F' 'M' 'F' 'M' 'F' 'M' 'F' 'M' 'F' 'M' 'F' 'M' 'F'\n",
      " 'M' 'F' 'M' 'F' 'M' 'F' 'M' 'F' 'M' 'F' 'M' 'F' 'M' 'F' 'M' 'F' 'M' 'F'\n",
      " 'M' 'F' 'M' 'F' 'M' 'F' 'M' 'F' 'M' 'F' 'M' 'F' 'M' 'F' 'M' 'F' 'M' 'F'\n",
      " 'M' 'F' 'M' 'F' 'M' 'F' 'M' 'F' 'M' 'F' 'M' 'F' 'M' 'F' 'M' 'F' 'M' 'F'\n",
      " 'M' 'F' 'M' 'F' 'M' 'F' 'M' 'F' 'M' 'F' 'M' 'F' 'M' 'F' 'M' 'F' 'M' 'F'\n",
      " 'M' 'F' 'M' 'F' 'M' 'F' 'M' 'F' 'M' 'F' 'M' 'F' 'M' 'F' 'M' 'F' 'M' 'F'\n",
      " 'M' 'F' 'M' 'F' 'M' 'F' 'M' 'F' 'M' 'F' 'M' 'F' 'M' 'F' 'M' 'F' 'M' 'F'\n",
      " 'M' 'F' 'M' 'F' 'M' 'F' 'M' 'F' 'M' 'F' 'M' 'F' 'M' 'F' 'M' 'F' 'M' 'F'\n",
      " 'M' 'F' 'M' 'F' 'M' 'F' 'M' 'F' 'M' 'F' 'M' 'F' 'M' 'F' 'M' 'F' 'M' 'F'\n",
      " 'M' 'F' 'M' 'F' 'M' 'F' 'M' 'F' 'M' 'F' 'M' 'F' 'M' 'F' 'M' 'F' 'M' 'F'\n",
      " 'M' 'F' 'M' 'F' 'M' 'F' 'M' 'F' 'M' 'F' 'M' 'F' 'M' 'F' 'M' 'F' 'M' 'F'\n",
      " 'M' 'F' 'M' 'F' 'M' 'M' 'F' 'M' 'F' 'M' 'F' 'M' 'F' 'M' 'F' 'M' 'F' 'M'\n",
      " 'F' 'M' 'F' 'M' 'F' 'M' 'F' 'M' 'F' 'M' 'F' 'M' 'F' 'M' 'F' 'M' 'F' 'M'\n",
      " 'F' 'M' 'F' 'M' 'F' 'M' 'F' 'M' 'F' 'M' 'F' 'M' 'F' 'M' 'F' 'M' 'F' 'M'\n",
      " 'F' 'M' 'F' 'M' 'F' 'M' 'F' 'M' 'F' 'M' 'F' 'M' 'F' 'M' 'F' 'M' 'F' 'M'\n",
      " 'F' 'M' 'F' 'M' 'F' 'M' 'F' 'M' 'F' 'M' 'F' 'M' 'F' 'M' 'F' 'M' 'F' 'M'\n",
      " 'F' 'M' 'F' 'M' 'F' 'M' 'F' 'M' 'F' 'M' 'F' 'M' 'F' 'M' 'F' 'M' 'F' 'M'\n",
      " 'F' 'M' 'F' 'M' 'F' 'M' 'F' 'M' 'F' 'M' 'F' 'M' 'F' 'M' 'F' 'M' 'F' 'M'\n",
      " 'F' 'M' 'F' 'M' 'F' 'M' 'F' 'M' 'F' 'M' 'F' 'M' 'F' 'M' 'F' 'M' 'F' 'M'\n",
      " 'F' 'M' 'F' 'M' 'F' 'M' 'F' 'M' 'F' 'M' 'F' 'M' 'F' 'M' 'F' 'M' 'F' 'M'\n",
      " 'F' 'M' 'F' 'M' 'F' 'M' 'F' 'M' 'F' 'M' 'F' 'M' 'F' 'M' 'F' 'M' 'F' 'M'\n",
      " 'F' 'M' 'F' 'M' 'F' 'M' 'F' 'M' 'F' 'M' 'F' 'M' 'F' 'M' 'F' 'M' 'F' 'M'\n",
      " 'F' 'M' 'F' 'M' 'F' 'M' 'F' 'M' 'F' 'M' 'F' 'M' 'F' 'M' 'F' 'M' 'F' 'M'\n",
      " 'F' 'M' 'F' 'M' 'F' 'M' 'F' 'M' 'F' 'M' 'F' 'M' 'F' 'M' 'F' 'M' 'F' 'M'\n",
      " 'F' 'M' 'F' 'M' 'F' 'M' 'F' 'M' 'F' 'M' 'F' 'M' 'F' 'M' 'F' 'M' 'F' 'M'\n",
      " 'F' 'M' 'F' 'M' 'F' 'M' 'F' 'M' 'F' 'M' 'F' 'M' 'F' 'M' 'F' 'M' 'F' 'M'\n",
      " 'F' 'M' 'F' 'M' 'F' 'M' 'F' 'M' 'F' 'M' 'F' 'M' 'F' 'M' 'F' 'M' 'F' 'M'\n",
      " 'F' 'M' 'F' 'M' 'F' 'M' 'F' 'M' 'F' 'M' 'F' 'M' 'F' 'M' 'F' 'M' 'F' 'M'\n",
      " 'F' 'M' 'F' 'M' 'F' 'M' 'F' 'M' 'F' 'M' 'F' 'M' 'F' 'M' 'F' 'M' 'F' 'M'\n",
      " 'F' 'M' 'F' 'M' 'F' 'M' 'F' 'M' 'F' 'M' 'F' 'M' 'F' 'M' 'F' 'M' 'F' 'M'\n",
      " 'F' 'M' 'F' 'M' 'F' 'M' 'F' 'M' 'F' 'M' 'F' 'M' 'F' 'M' 'F' 'M' 'F' 'M'\n",
      " 'F' 'M' 'F' 'M' 'F' 'M' 'F' 'M' 'F' 'M' 'F' 'M' 'F' 'M' 'F' 'M' 'F' 'M'\n",
      " 'F' 'M' 'F' 'M' 'F' 'M' 'F' 'M' 'F' 'M' 'F' 'M' 'F' 'M' 'F' 'M' 'F' 'M'\n",
      " 'F' 'M' 'F' 'M' 'F' 'M' 'F' 'M' 'F' 'M' 'F' 'M' 'F' 'M' 'F' 'M' 'F' 'M'\n",
      " 'F' 'M' 'F' 'M' 'F' 'M' 'F' 'M' 'F' 'M' 'F' 'M' 'F' 'M' 'F' 'M' 'F' 'M'\n",
      " 'F' 'M' 'F' 'M' 'F' 'M' 'F' 'M' 'F' 'M' 'F' 'M' 'F' 'M' 'F' 'M' 'F' 'M'\n",
      " 'F' 'M' 'F' 'M' 'F' 'M' 'F' 'M' 'F' 'M' 'F' 'M' 'F' 'M' 'F' 'M' 'F' 'M'\n",
      " 'F' 'M' 'F' 'M' 'F' 'M' 'F' 'M' 'F' 'M' 'F' 'M' 'F' 'M' 'F' 'M' 'F' 'M'\n",
      " 'F' 'M' 'F' 'M' 'F' 'M' 'F' 'M' 'F' 'M' 'F' 'M' 'F' 'M' 'F' 'M' 'F' 'M'\n",
      " 'F' 'M' 'F' 'M' 'F' 'M' 'F' 'M' 'F' 'M' 'F' 'M' 'F' 'M' 'F' 'M' 'F' 'M'\n",
      " 'F' 'M' 'F' 'M' 'F' 'M' 'F' 'M' 'F' 'M' 'F' 'M' 'F' 'M' 'F' 'M' 'F' 'M'\n",
      " 'F' 'M' 'F' 'M' 'F' 'M' 'F' 'M' 'F' 'M' 'F' 'M' 'F' 'M' 'F' 'M' 'F' 'M'\n",
      " 'F' 'M' 'F' 'M' 'F' 'M' 'F' 'M' 'F' 'M' 'F' 'M' 'F' 'M' 'F' 'M' 'F' 'M'\n",
      " 'F' 'M' 'F' 'M' 'F' 'M' 'F' 'M' 'F' 'M' 'F' 'M' 'F' 'M' 'F' 'M' 'F' 'M'\n",
      " 'F' 'M' 'F' 'M' 'F' 'M' 'F' 'M' 'F' 'M' 'F' 'M' 'F' 'M' 'F' 'M' 'F' 'M'\n",
      " 'F' 'M' 'F' 'M' 'F' 'M' 'F' 'M' 'F' 'M' 'F' 'M' 'F' 'M' 'F' 'M' 'F' 'M'\n",
      " 'F' 'M' 'F' 'M' 'F' 'M' 'F' 'M' 'F' 'M' 'F' 'M' 'F' 'M' 'F' 'M' 'F' 'M'\n",
      " 'F' 'M' 'F' 'M' 'F' 'M' 'F' 'M' 'F' 'M' 'F' 'M' 'F' 'M' 'F' 'M' 'F' 'M'\n",
      " 'F' 'M' 'F' 'M' 'F' 'M' 'F' 'M' 'F' 'M' 'F' 'M' 'F' 'M' 'F' 'M' 'F' 'M'\n",
      " 'F' 'M' 'F' 'M' 'F' 'M' 'F' 'M' 'F' 'M' 'F' 'M' 'F' 'M' 'F' 'M' 'F' 'M'\n",
      " 'F' 'M' 'F' 'M' 'F' 'M' 'F' 'M' 'F' 'M' 'F' 'M' 'F' 'M' 'F' 'M' 'F' 'M'\n",
      " 'F' 'M' 'F' 'M' 'F' 'M' 'F' 'M' 'F' 'M' 'F' 'M' 'F' 'M' 'F' 'M' 'F' 'M'\n",
      " 'F' 'M' 'F' 'M' 'F' 'M' 'F' 'M' 'F' 'M' 'F' 'M' 'F' 'M' 'F' 'M' 'F' 'M'\n",
      " 'F' 'M' 'F' 'M' 'F' 'M' 'F' 'M' 'F' 'M' 'F' 'M' 'F' 'M' 'F' 'F' 'M' 'F'\n",
      " 'M' 'F' 'M' 'F' 'M' 'F' 'M' 'F' 'M' 'F' 'M' 'F' 'M' 'F' 'M' 'F' 'M' 'F'\n",
      " 'M' 'F' 'M' 'F' 'M' 'F' 'M' 'F' 'M' 'F' 'M' 'F' 'M' 'F' 'M' 'F' 'M' 'F'\n",
      " 'M' 'F' 'M' 'F' 'M' 'F' 'M' 'F' 'M' 'F' 'M' 'F' 'M' 'F' 'M' 'F' 'M' 'F'\n",
      " 'M' 'F' 'M' 'F' 'M' 'F' 'M' 'F' 'M' 'F' 'M' 'F' 'M' 'F' 'M' 'F' 'M' 'F'\n",
      " 'M' 'F' 'M' 'F' 'M' 'F' 'M' 'F' 'M' 'F' 'M' 'F' 'M' 'F' 'M' 'F' 'M' 'F'\n",
      " 'M' 'F' 'M' 'F' 'M' 'F' 'M' 'F' 'M' 'F' 'M' 'F' 'M' 'F' 'M' 'F' 'M' 'F'\n",
      " 'M' 'F' 'M' 'F' 'M' 'F' 'M' 'F' 'M' 'F' 'M' 'F' 'M' 'F' 'M' 'F' 'M' 'F'\n",
      " 'M' 'F' 'M' 'F' 'M' 'F' 'M' 'F' 'M' 'F' 'M' 'F' 'M' 'F' 'M' 'F' 'M' 'F'\n",
      " 'M' 'F' 'M' 'F' 'M' 'F' 'M' 'F' 'M' 'F' 'M' 'F' 'M' 'F' 'M' 'F' 'M' 'F'\n",
      " 'M' 'F' 'M' 'F' 'M' 'F' 'M' 'F' 'M' 'F' 'M' 'F' 'M' 'F' 'M' 'F' 'M' 'F'\n",
      " 'M' 'F' 'M' 'F' 'M' 'F' 'M' 'F' 'M' 'F' 'M' 'F' 'M' 'F' 'M' 'F' 'M' 'F'\n",
      " 'M' 'F' 'M' 'F' 'M' 'F' 'M' 'F' 'M' 'F' 'M' 'F' 'M' 'F' 'M' 'F' 'M' 'F'\n",
      " 'M' 'F' 'M' 'F' 'M' 'F' 'M' 'F' 'M' 'F' 'M' 'F' 'M' 'F' 'M' 'F' 'M' 'F'\n",
      " 'M' 'F' 'M' 'F' 'M' 'F' 'M' 'F' 'M' 'F' 'M' 'F' 'M' 'F' 'M' 'F' 'M' 'F'\n",
      " 'M' 'F' 'M' 'F' 'M' 'F' 'M' 'F' 'M' 'F' 'M' 'F' 'M' 'F' 'M' 'F' 'M' 'F'\n",
      " 'M' 'F' 'M' 'F' 'M' 'F' 'M' 'F' 'M' 'F' 'M' 'F' 'M' 'F' 'M' 'F' 'M' 'F'\n",
      " 'M' 'F' 'M' 'F' 'M' 'F' 'M' 'F' 'M' 'F' 'M' 'F' 'M' 'F' 'M' 'F' 'M' 'F'\n",
      " 'M' 'F' 'M' 'F' 'M' 'F' 'M' 'F' 'M' 'F' 'M' 'F' 'M' 'F' 'M' 'F' 'M' 'F'\n",
      " 'M' 'F' 'M' 'F' 'M' 'F' 'M' 'F' 'M' 'F' 'M' 'F' 'M' 'F' 'M' 'F' 'M' 'F'\n",
      " 'M' 'F' 'M' 'F' 'M' 'F' 'M' 'F' 'M' 'F' 'M' 'F' 'M' 'F' 'M' 'F' 'M' 'F'\n",
      " 'M' 'F' 'M' 'F' 'M' 'F' 'M' 'F' 'M' 'F' 'M' 'F' 'M' 'F' 'M' 'F' 'M' 'F'\n",
      " 'M' 'F' 'M' 'F' 'M' 'F' 'M' 'F' 'M' 'F' 'M' 'F' 'M' 'F' 'M' 'F' 'M' 'F'\n",
      " 'M' 'F' 'M' 'F' 'M' 'F' 'M' 'F' 'M' 'F' 'M' 'F' 'M' 'F' 'M' 'F' 'M' 'F'\n",
      " 'M' 'F' 'M' 'F' 'M' 'F' 'M' 'F' 'M' 'F' 'M' 'F' 'M' 'F' 'M' 'F' 'M' 'F'\n",
      " 'M' 'F' 'M' 'F' 'M' 'F' 'M' 'F' 'M' 'F' 'M' 'F' 'M' 'F' 'M' 'F' 'M' 'F'\n",
      " 'M' 'F' 'M' 'F' 'M' 'F' 'M' 'F' 'M' 'F' 'M' 'F' 'M' 'F' 'M' 'F' 'M' 'F'\n",
      " 'M' 'F' 'M' 'F' 'M' 'F' 'M' 'F' 'M' 'F' 'M' 'F' 'M' 'F' 'M' 'F' 'M' 'F'\n",
      " 'M' 'F' 'M' 'F' 'M' 'F' 'M' 'F' 'M' 'F' 'M' 'F' 'M' 'F' 'M' 'F' 'M' 'F'\n",
      " 'M' 'F' 'M' 'F' 'M' 'F' 'M' 'F' 'M' 'F' 'M' 'F' 'M' 'F' 'M' 'F' 'M' 'F'\n",
      " 'M' 'F' 'M' 'F' 'M' 'F' 'M' 'F' 'M' 'F' 'M' 'F' 'M' 'F' 'M' 'F' 'M' 'F'\n",
      " 'M' 'F' 'M' 'F' 'M' 'F' 'M' 'F' 'M' 'F' 'M' 'F' 'M' 'F' 'M' 'F' 'M' 'F'\n",
      " 'M' 'F' 'M' 'F' 'M' 'F' 'M' 'F' 'M' 'F' 'M' 'F' 'M' 'F' 'M' 'F' 'M' 'F'\n",
      " 'M' 'F' 'M' 'F' 'M' 'F' 'M' 'F' 'M' 'F' 'M' 'F' 'M' 'F' 'M' 'F' 'M' 'F'\n",
      " 'M' 'F' 'M' 'F' 'M' 'F' 'M' 'F' 'M' 'F' 'M' 'F' 'M' 'F' 'M' 'F' 'M' 'F'\n",
      " 'M' 'F' 'M' 'F' 'M' 'F' 'M' 'F' 'M' 'F' 'M' 'F' 'M' 'F' 'M' 'F' 'M' 'F'\n",
      " 'M' 'M' 'F' 'M' 'F' 'M' 'F' 'M' 'F' 'M' 'F' 'M' 'F' 'M' 'F' 'M' 'F' 'M'\n",
      " 'F' 'M' 'F' 'M' 'F' 'M' 'F' 'M' 'F' 'M' 'F' 'M' 'F' 'M' 'F' 'M' 'F' 'M'\n",
      " 'F' 'M' 'F' 'M' 'F' 'M' 'F' 'M' 'F' 'M' 'F' 'M' 'F' 'M' 'F' 'M' 'F' 'M'\n",
      " 'F' 'M' 'F' 'M' 'F' 'M' 'F' 'M' 'F' 'M' 'F' 'M' 'F' 'M' 'F' 'M' 'F' 'M'\n",
      " 'F' 'M' 'F' 'M' 'F' 'M' 'F' 'M' 'F' 'M' 'F' 'M' 'F' 'M' 'F' 'M' 'F' 'M'\n",
      " 'F' 'M' 'F' 'M' 'F' 'M' 'F' 'M' 'F' 'M' 'F' 'M' 'F' 'M' 'F' 'M' 'F' 'M'\n",
      " 'F' 'M' 'F' 'M' 'F' 'M' 'F' 'M' 'F' 'M' 'F' 'M' 'F' 'M' 'F' 'M' 'F' 'M'\n",
      " 'F' 'M' 'F' 'M' 'F' 'M' 'F' 'M' 'F' 'M' 'F' 'M' 'F' 'M' 'F' 'M' 'F' 'M'\n",
      " 'F' 'M' 'F' 'M' 'F' 'M' 'F' 'M' 'F' 'M' 'F' 'M' 'F' 'M' 'F' 'M' 'F' 'M'\n",
      " 'F' 'M' 'F' 'M' 'F' 'M' 'F' 'M' 'F' 'M' 'F' 'M' 'F' 'M' 'F' 'M' 'F' 'M'\n",
      " 'F' 'M' 'F' 'M' 'F' 'M' 'F' 'M' 'F' 'M' 'F' 'M' 'F' 'M' 'F' 'M' 'F' 'M'\n",
      " 'F' 'M' 'F' 'M' 'F' 'M' 'F' 'M' 'F' 'M' 'F' 'M' 'F' 'M' 'F' 'M' 'F' 'M'\n",
      " 'F' 'M' 'F' 'M' 'F' 'M' 'F' 'M' 'F' 'M' 'F' 'M' 'F' 'M' 'F' 'M' 'F' 'M'\n",
      " 'F' 'M' 'F' 'M' 'F' 'M' 'F' 'M' 'F' 'M' 'F' 'M' 'F' 'M' 'F' 'M' 'F' 'M'\n",
      " 'F' 'M' 'F' 'M' 'F' 'M' 'F' 'M' 'F' 'M' 'F' 'M' 'F' 'M' 'F' 'M' 'F' 'M'\n",
      " 'F' 'M' 'F' 'M' 'F' 'M' 'F' 'M' 'F' 'M' 'F' 'M' 'F' 'M' 'F' 'M' 'F' 'M'\n",
      " 'F' 'M' 'F' 'M' 'F' 'M' 'F' 'M' 'F' 'M' 'F' 'M' 'F' 'M' 'F' 'M' 'F' 'M'\n",
      " 'F' 'M' 'F' 'M' 'F' 'M' 'F' 'M' 'F' 'M' 'F' 'M' 'F' 'M' 'F' 'M' 'F' 'M'\n",
      " 'F' 'M' 'F' 'M' 'F' 'M' 'F' 'M' 'F' 'M' 'F' 'M' 'F' 'M' 'F' 'M' 'F' 'M'\n",
      " 'F' 'M' 'F' 'M' 'F' 'M' 'F' 'M' 'F' 'M' 'F' 'M' 'F' 'M' 'F' 'M' 'F' 'M'\n",
      " 'F' 'M' 'F' 'M' 'F' 'M' 'F' 'M' 'F' 'M' 'F' 'M' 'F' 'M' 'F' 'M' 'F' 'M'\n",
      " 'F' 'M' 'F' 'M' 'F' 'M' 'F' 'M' 'F' 'M' 'F' 'M' 'F' 'M' 'F' 'M' 'F' 'M'\n",
      " 'F' 'M' 'F' 'M' 'F' 'M' 'F' 'M' 'F' 'M' 'F' 'M' 'F' 'M' 'F' 'M' 'F' 'M'\n",
      " 'F' 'M' 'F' 'M' 'F' 'M' 'F' 'M' 'F' 'M' 'F' 'M' 'F' 'M' 'F' 'M' 'F' 'M'\n",
      " 'F' 'M' 'F' 'M' 'F' 'M' 'F' 'M' 'F' 'M' 'F' 'M' 'F' 'M' 'F' 'M' 'M' 'F'\n",
      " 'M' 'F' 'M' 'F' 'M' 'F' 'M' 'F' 'M' 'F' 'M' 'F' 'M' 'F' 'M' 'F' 'M' 'F'\n",
      " 'M' 'F' 'M' 'F' 'M' 'F' 'M' 'F' 'M' 'F' 'M' 'F' 'M' 'F' 'M' 'F' 'M' 'F'\n",
      " 'M' 'F' 'M' 'F' 'M' 'F' 'M' 'F' 'M' 'F' 'M' 'F' 'M' 'F' 'M' 'F' 'M' 'F'\n",
      " 'M' 'F' 'M' 'F' 'M' 'F' 'M' 'F' 'M' 'F' 'M' 'F' 'M' 'F' 'M' 'F' 'M' 'F'\n",
      " 'M' 'F' 'M' 'F' 'M' 'F' 'M' 'F' 'M' 'F' 'M' 'F' 'M' 'F' 'M' 'F' 'M' 'F'\n",
      " 'M' 'F' 'M' 'F' 'M' 'F' 'M' 'F' 'M' 'F' 'M' 'F' 'M' 'F' 'M' 'F' 'M' 'F'\n",
      " 'M' 'F' 'M' 'F' 'M' 'F' 'M' 'F' 'M' 'F' 'M' 'F' 'M' 'F' 'M' 'F' 'M' 'F'\n",
      " 'M' 'F' 'M' 'F' 'M' 'F' 'M' 'F' 'M' 'F' 'M' 'F' 'M' 'F' 'M' 'F' 'M' 'F'\n",
      " 'M' 'F' 'M' 'F' 'M' 'F' 'M' 'F' 'M' 'F' 'M' 'F' 'M' 'F' 'M' 'F' 'M' 'F'\n",
      " 'M' 'F' 'M' 'F' 'M' 'F' 'M' 'F' 'M' 'F' 'M' 'F' 'M' 'F' 'M' 'F' 'M' 'F'\n",
      " 'M' 'F' 'M' 'F' 'M' 'F' 'M' 'F' 'M' 'F' 'M' 'F' 'M' 'F' 'M' 'F' 'M' 'F'\n",
      " 'M' 'F' 'M' 'F' 'M' 'F' 'M' 'F' 'M' 'F' 'M' 'F' 'M' 'F' 'M' 'F' 'M' 'F'\n",
      " 'M' 'F' 'M' 'F' 'M' 'F' 'M' 'F' 'M' 'F' 'M' 'F' 'M' 'F' 'M' 'F' 'M' 'F'\n",
      " 'M' 'F' 'M' 'F' 'M' 'F' 'M' 'F' 'M' 'F' 'M' 'F' 'M' 'F' 'M' 'F' 'M' 'F'\n",
      " 'M' 'F' 'M' 'F' 'M' 'F' 'M' 'F' 'M' 'F' 'M' 'F' 'M' 'F' 'M' 'F' 'M' 'F'\n",
      " 'M' 'F' 'M' 'F' 'M' 'F' 'M' 'F' 'M' 'F' 'M' 'F' 'M' 'F' 'M' 'F' 'M' 'F'\n",
      " 'M' 'F' 'M' 'F' 'M' 'F' 'M' 'F' 'M' 'F' 'M' 'F' 'M' 'F' 'M' 'F' 'M' 'F'\n",
      " 'M' 'F' 'M' 'F' 'M' 'F' 'M' 'F' 'M' 'F' 'M' 'F' 'M' 'F' 'M' 'F' 'M' 'F'\n",
      " 'M' 'F' 'M' 'F' 'M' 'F' 'M' 'F' 'M' 'F' 'M' 'F' 'M' 'F' 'M' 'F' 'M' 'F'\n",
      " 'M' 'F' 'M' 'F' 'M' 'F' 'M' 'F' 'M' 'F' 'M' 'F' 'M' 'F' 'M' 'F' 'M' 'F'\n",
      " 'M' 'F' 'M' 'F' 'M' 'F' 'M' 'F' 'M' 'F' 'M' 'F' 'M' 'F' 'M' 'F' 'M' 'F'\n",
      " 'M' 'F' 'M' 'F' 'M' 'F' 'M' 'F' 'M' 'F' 'M' 'F' 'M' 'F' 'M' 'F' 'M' 'F'\n",
      " 'M' 'F' 'M' 'F' 'M' 'F' 'M' 'F' 'M' 'F' 'M' 'F' 'M' 'F' 'M' 'F' 'M' 'F'\n",
      " 'M' 'F' 'M' 'F' 'M' 'F' 'M' 'F' 'M' 'F' 'M' 'F' 'M' 'F' 'M' 'F' 'M' 'F'\n",
      " 'M' 'F' 'M' 'F' 'M' 'F' 'M' 'F' 'M' 'F' 'M' 'F' 'M' 'F' 'M' 'F' 'M' 'F'\n",
      " 'M' 'F' 'M' 'F' 'M' 'F' 'M' 'F' 'M' 'F' 'M' 'F' 'M' 'F' 'M' 'F' 'M' 'F'\n",
      " 'M' 'F' 'M' 'F' 'M' 'F' 'M' 'F' 'M' 'F' 'M' 'F' 'M' 'F' 'M' 'F' 'M' 'F'\n",
      " 'M' 'F' 'M' 'F' 'M' 'F' 'M' 'F' 'M' 'F' 'M' 'F' 'M' 'F' 'M' 'F' 'M' 'F'\n",
      " 'M' 'F' 'M' 'F' 'M' 'F' 'M' 'F' 'M' 'F' 'M' 'F' 'M' 'F' 'M' 'F' 'M' 'F'\n",
      " 'M' 'F' 'M' 'F' 'M' 'F' 'M' 'F' 'M' 'F' 'M' 'F' 'M' 'F' 'M' 'F' 'M' 'F'\n",
      " 'M' 'F' 'M' 'F' 'M' 'F' 'M' 'F' 'M' 'F' 'M' 'F' 'M' 'F' 'M' 'F' 'M' 'F'\n",
      " 'M' 'F' 'M' 'F' 'M' 'F' 'M' 'F' 'M' 'F' 'M' 'F' 'M' 'F' 'M' 'F' 'M' 'F'\n",
      " 'M' 'F' 'M' 'F' 'M' 'F' 'M' 'F' 'M' 'F' 'M' 'F' 'M' 'F' 'M' 'F' 'M' 'F'\n",
      " 'M' 'F' 'M' 'F' 'M' 'F' 'M' 'F' 'M' 'F' 'M' 'F' 'M' 'F' 'M' 'F' 'M' 'F'\n",
      " 'M' 'F' 'M' 'F' 'M' 'F' 'M' 'F' 'M' 'F' 'M' 'F' 'M' 'F' 'M' 'F' 'M' 'F'\n",
      " 'M' 'F' 'M' 'F' 'M' 'F' 'M' 'F' 'M' 'F' 'M' 'F' 'M' 'F' 'M' 'F' 'M' 'F'\n",
      " 'M' 'F' 'M' 'F' 'M' 'F' 'M' 'F' 'M' 'F' 'M' 'F' 'M' 'F' 'M' 'F' 'M' 'F'\n",
      " 'M' 'F' 'M' 'F' 'M' 'F' 'M' 'F' 'M' 'F' 'M' 'F' 'M' 'F' 'M' 'F' 'M' 'F'\n",
      " 'M' 'F' 'M' 'F' 'M' 'F' 'M' 'F' 'M' 'F' 'M' 'F' 'M' 'F' 'M' 'F' 'M' 'F'\n",
      " 'M' 'F' 'M' 'F' 'M' 'F' 'M' 'F' 'M' 'F' 'M' 'F' 'M' 'F' 'M' 'F' 'M' 'F'\n",
      " 'M' 'F' 'M' 'F' 'M' 'F' 'M' 'F' 'M' 'F' 'M' 'F' 'M' 'F' 'M' 'F' 'M' 'F'\n",
      " 'M' 'F' 'M' 'F' 'M' 'F' 'M' 'F' 'M' 'F' 'M' 'F' 'M' 'F' 'M' 'F' 'M' 'F'\n",
      " 'M' 'F' 'M' 'F' 'M' 'F' 'M' 'F' 'M' 'F' 'M' 'F' 'M' 'F' 'M' 'F' 'M' 'F'\n",
      " 'M' 'F' 'M' 'F' 'M' 'F' 'M' 'F' 'M' 'F' 'M' 'F' 'M' 'F' 'M' 'F' 'M' 'F'\n",
      " 'M' 'F' 'M' 'F' 'M' 'F' 'M' 'F' 'M' 'F' 'M' 'F' 'M' 'F' 'M' 'F' 'M' 'F'\n",
      " 'M' 'F' 'M' 'F' 'M' 'F' 'M' 'F' 'M' 'F' 'M' 'F' 'M' 'F' 'M' 'F' 'M' 'F'\n",
      " 'M' 'F' 'M' 'F' 'M' 'F' 'M' 'F' 'M' 'F' 'M' 'F' 'M' 'F' 'M' 'F' 'M' 'F'\n",
      " 'M' 'F' 'M' 'F' 'M' 'F' 'M' 'F' 'M' 'F' 'M' 'F' 'M' 'F' 'M' 'F' 'M' 'F'\n",
      " 'M' 'F' 'M' 'F' 'M' 'F' 'M' 'F' 'M' 'F' 'M' 'F' 'M' 'F' 'M' 'F' 'M' 'F'\n",
      " 'M' 'F' 'M' 'F' 'M' 'F' 'M' 'F' 'M' 'F' 'M' 'F' 'M' 'F' 'M' 'F' 'M' 'F'\n",
      " 'M' 'F' 'M' 'F' 'M' 'F' 'M' 'F' 'M' 'F' 'M' 'F' 'M' 'F' 'M' 'F' 'M' 'F'\n",
      " 'M' 'F' 'M' 'F' 'M' 'F' 'M' 'F' 'M' 'F' 'M' 'F' 'M' 'F' 'M' 'F' 'M' 'F'\n",
      " 'M' 'F' 'M' 'F' 'M' 'F' 'M' 'F' 'M' 'F' 'M' 'F' 'M' 'F' 'M' 'F' 'M' 'F'\n",
      " 'F' 'M' 'F' 'M' 'F' 'M' 'F' 'M' 'F' 'M' 'F' 'M' 'F' 'M' 'F' 'M' 'F' 'M'\n",
      " 'F' 'M' 'F' 'M' 'F' 'M' 'F' 'M' 'F' 'M' 'F' 'M' 'F' 'M' 'F' 'M' 'F' 'M'\n",
      " 'F' 'M' 'F' 'M' 'F' 'M' 'F' 'M' 'F' 'M' 'F' 'M' 'F' 'M' 'F' 'M' 'F' 'M'\n",
      " 'F' 'M' 'F' 'M' 'F' 'M' 'F' 'M' 'F' 'M' 'F' 'M' 'F' 'M' 'F' 'M' 'F' 'M'\n",
      " 'F' 'M' 'F' 'M' 'F' 'M' 'F' 'M' 'F' 'M' 'F' 'M' 'F' 'M' 'F' 'M' 'F' 'M'\n",
      " 'F' 'M' 'F' 'M' 'F' 'M' 'F' 'M' 'F' 'M' 'F' 'M' 'F' 'M' 'F' 'M' 'F' 'M'\n",
      " 'F' 'M' 'F' 'M' 'F' 'M' 'F' 'M' 'F' 'M' 'F' 'M' 'F' 'M' 'F' 'M' 'F' 'M'\n",
      " 'F' 'M' 'F' 'M' 'F' 'M' 'F' 'M' 'F' 'M' 'F' 'M' 'F' 'M' 'F' 'M' 'F' 'M'\n",
      " 'F' 'M' 'F' 'M' 'F' 'M' 'F' 'M' 'F' 'M' 'F' 'M' 'F' 'M' 'F' 'M' 'F' 'M'\n",
      " 'F' 'M' 'F' 'M' 'F' 'M' 'F' 'M' 'F' 'M' 'F' 'M' 'F' 'M' 'F' 'M' 'F' 'M'\n",
      " 'F' 'M' 'F' 'M' 'F' 'M' 'F' 'M' 'F' 'M' 'F' 'M' 'F' 'M' 'F' 'M' 'F' 'M'\n",
      " 'F' 'M' 'F' 'M' 'F' 'M' 'F' 'M' 'F' 'M' 'F' 'M' 'F' 'M' 'F' 'M' 'F' 'M'\n",
      " 'F' 'M' 'F' 'M' 'F' 'M' 'F' 'M' 'F' 'M' 'F' 'M' 'F' 'M' 'F' 'M' 'F' 'M'\n",
      " 'F' 'M' 'F' 'M' 'F' 'M' 'F' 'M' 'F' 'M' 'F' 'M' 'F' 'M' 'F' 'M' 'F' 'M'\n",
      " 'F' 'M' 'F' 'M' 'F' 'M' 'F' 'M' 'F' 'M' 'F' 'M' 'F' 'M' 'F' 'M' 'F' 'M'\n",
      " 'F' 'M' 'F' 'M' 'F' 'M' 'F' 'M' 'F' 'M' 'F' 'M' 'F' 'M' 'F' 'M' 'F' 'M'\n",
      " 'F' 'M' 'F' 'M' 'F' 'M' 'F' 'M' 'F' 'M' 'F' 'M' 'F' 'M' 'F' 'M' 'F' 'M'\n",
      " 'F' 'M' 'F' 'M' 'F' 'M' 'F' 'M' 'F' 'M' 'F' 'M' 'F' 'M' 'F' 'M' 'F' 'M'\n",
      " 'F' 'M' 'F' 'M' 'F' 'M' 'F' 'M' 'F' 'M' 'F' 'M' 'F' 'M' 'F' 'M' 'F' 'M'\n",
      " 'F' 'M' 'F' 'M' 'F' 'M' 'F' 'M' 'F' 'M' 'F' 'M' 'F' 'M' 'F' 'M' 'F' 'M'\n",
      " 'F' 'M' 'F' 'M' 'F' 'M' 'F' 'M' 'F' 'M' 'F' 'M' 'F' 'M' 'F' 'M' 'F' 'M'\n",
      " 'F' 'M' 'F' 'M' 'F' 'M' 'F' 'M' 'F' 'M' 'F' 'M' 'F' 'M' 'F' 'M' 'F' 'M'\n",
      " 'F' 'M' 'F' 'M' 'F' 'M' 'F' 'M' 'F' 'M' 'F' 'M' 'F' 'M' 'F' 'M' 'F' 'M'\n",
      " 'F' 'M' 'F' 'M' 'F' 'M' 'F' 'M' 'F' 'M' 'F' 'M' 'F' 'M' 'F' 'M' 'F' 'M'\n",
      " 'F' 'M' 'F' 'M' 'F' 'M' 'F' 'M' 'F' 'M' 'F' 'M' 'F' 'M' 'F' 'M' 'F' 'M'\n",
      " 'F' 'M' 'F' 'M' 'F' 'M' 'F' 'M' 'F' 'M' 'F' 'M' 'F' 'M' 'F' 'M' 'F' 'M'\n",
      " 'F' 'M' 'F' 'M' 'F' 'M' 'F' 'M' 'F' 'M' 'F' 'M' 'F' 'M' 'F' 'M' 'F' 'M'\n",
      " 'F' 'M' 'F' 'M' 'F' 'M' 'F' 'M' 'F' 'M' 'F' 'M' 'F' 'M' 'F' 'M' 'F' 'M'\n",
      " 'F' 'M' 'F' 'M' 'F' 'M' 'F' 'M' 'M' 'F' 'M' 'F' 'M' 'F' 'M' 'F' 'M' 'F'\n",
      " 'M' 'F' 'M' 'F' 'M' 'F' 'M' 'F' 'M' 'F' 'M' 'F' 'M' 'F' 'M' 'F' 'M' 'F'\n",
      " 'M' 'F' 'M' 'F' 'M' 'F' 'M' 'F' 'M' 'F' 'M' 'F' 'M' 'F' 'M' 'F' 'M' 'F'\n",
      " 'M' 'F' 'M' 'F' 'M' 'F' 'M' 'F' 'M' 'F' 'M' 'F' 'M' 'F' 'M' 'F' 'M' 'F'\n",
      " 'F' 'M' 'F' 'M' 'F' 'M' 'F' 'M' 'F' 'M' 'F' 'M' 'F' 'M' 'F' 'M' 'F' 'M'\n",
      " 'F' 'M' 'F' 'M' 'F' 'M' 'F' 'M' 'F' 'M' 'F' 'M' 'F' 'M' 'F' 'M' 'F' 'M'\n",
      " 'F' 'M' 'F' 'M' 'F' 'M' 'F' 'M' 'F' 'M' 'F' 'M' 'F' 'M' 'F' 'M' 'F' 'M'\n",
      " 'F' 'M' 'F' 'M' 'F' 'M' 'F' 'M' 'F' 'M' 'F' 'M' 'F' 'M' 'F' 'M' 'F' 'M'\n",
      " 'F' 'M' 'F' 'M' 'F' 'M' 'F' 'M' 'F' 'M' 'F' 'M' 'F' 'M' 'F' 'M' 'F' 'M'\n",
      " 'F' 'M' 'F' 'M' 'F' 'M' 'F' 'M' 'F' 'M' 'F' 'M' 'F' 'M' 'F' 'M' 'F' 'M'\n",
      " 'F' 'M' 'F' 'M' 'F' 'M' 'F' 'M' 'F' 'M' 'F' 'M' 'F' 'M' 'F' 'M' 'F' 'M'\n",
      " 'F' 'M' 'F' 'M' 'F' 'M' 'F' 'M' 'F' 'M' 'F' 'M' 'F' 'M' 'F' 'M' 'F' 'M'\n",
      " 'F' 'M' 'F' 'M' 'F' 'M' 'F' 'M' 'F' 'M' 'F' 'M' 'F' 'M' 'F' 'M' 'F' 'M'\n",
      " 'F' 'M' 'F' 'M' 'F' 'M' 'F' 'M' 'F' 'M' 'F' 'M' 'F' 'M' 'F' 'M' 'F' 'M'\n",
      " 'F' 'M' 'F' 'M' 'F' 'M' 'F' 'F' 'M' 'F' 'M' 'F' 'M' 'F' 'M' 'F' 'M' 'F'\n",
      " 'M' 'F' 'M' 'F' 'M' 'F' 'M' 'F' 'M' 'F' 'M' 'F' 'M' 'F' 'M' 'F' 'M' 'F'\n",
      " 'M' 'F' 'M' 'F' 'M' 'F' 'M' 'F' 'M' 'F' 'M' 'F' 'M' 'F' 'M' 'F' 'M' 'F'\n",
      " 'M' 'F' 'M' 'F' 'M' 'F' 'M' 'F' 'M' 'F' 'M' 'F' 'M' 'F' 'M' 'F' 'M' 'F'\n",
      " 'M' 'F' 'M' 'F' 'M' 'F' 'M' 'F' 'M' 'F' 'M' 'F' 'M' 'F' 'M' 'F' 'M' 'F'\n",
      " 'M' 'F' 'M' 'F' 'M' 'F' 'M' 'F' 'M' 'F' 'M' 'F' 'M' 'F' 'M' 'F' 'M' 'F'\n",
      " 'M' 'F' 'M' 'F' 'M' 'F' 'M' 'F' 'M' 'F' 'M' 'F' 'M' 'F' 'M' 'F' 'M' 'F'\n",
      " 'M' 'F' 'M' 'F' 'M' 'F' 'M' 'F' 'F' 'M' 'F' 'M' 'F' 'M' 'F' 'M' 'F' 'M'\n",
      " 'F' 'M' 'F' 'M' 'F' 'M' 'F' 'M' 'F' 'M' 'F' 'M' 'F' 'M' 'F' 'M' 'F' 'M'\n",
      " 'F' 'M' 'F' 'M' 'F' 'M' 'F' 'M' 'F' 'M' 'F' 'M' 'F' 'M' 'F' 'M' 'F' 'M'\n",
      " 'F' 'M' 'F' 'M' 'F' 'M' 'F' 'M' 'F' 'M' 'F' 'M' 'F' 'M' 'F' 'M' 'F' 'M'\n",
      " 'F' 'M' 'F' 'M' 'F' 'M' 'F' 'M' 'F' 'M' 'F' 'M' 'F' 'M' 'F' 'M' 'F' 'M'\n",
      " 'F' 'M' 'F' 'M' 'F' 'M' 'F' 'M' 'F' 'M' 'F' 'M' 'F' 'M' 'F' 'M' 'F' 'M'\n",
      " 'F' 'M' 'F' 'M' 'F' 'M' 'F' 'M' 'F' 'M' 'F' 'M' 'F' 'M' 'F' 'M' 'F' 'M'\n",
      " 'F' 'M' 'F' 'M' 'F' 'M' 'F' 'M' 'F' 'F' 'M' 'F' 'M' 'F' 'M' 'F' 'M' 'F'\n",
      " 'M' 'F' 'M' 'F' 'M' 'F' 'M' 'F' 'M' 'F' 'M' 'F' 'M' 'F' 'M' 'F' 'M' 'F'\n",
      " 'M' 'F' 'M' 'F' 'M' 'F' 'M' 'F' 'M' 'F' 'M' 'F' 'M' 'F' 'M' 'F' 'M' 'F'\n",
      " 'M' 'F' 'M' 'F' 'M' 'F' 'M' 'F' 'M' 'F' 'M' 'F' 'M' 'F' 'M' 'F' 'M' 'F'\n",
      " 'M' 'F' 'M' 'F' 'M' 'F' 'M' 'F' 'M' 'F' 'M' 'F' 'M' 'F' 'M' 'F' 'M' 'F'\n",
      " 'M' 'F' 'M' 'F' 'M' 'F' 'M' 'F' 'M' 'F' 'M' 'F' 'M' 'F' 'M' 'F' 'M' 'F'\n",
      " 'M' 'F' 'M' 'F' 'M' 'F' 'M' 'F' 'M' 'F' 'M' 'F' 'M' 'F' 'M' 'F' 'M' 'F'\n",
      " 'M' 'F' 'M' 'F' 'M' 'F' 'M' 'F' 'M' 'F' 'M' 'F' 'M' 'F' 'M' 'F' 'M' 'F'\n",
      " 'M' 'F' 'M' 'F' 'M' 'F' 'M' 'F' 'M' 'F' 'M' 'F' 'M' 'F' 'M' 'F' 'M' 'F'\n",
      " 'M' 'F' 'M' 'F' 'M' 'F' 'M' 'F' 'M' 'F' 'M' 'F' 'M' 'F' 'M' 'F' 'M' 'F'\n",
      " 'M' 'F' 'M' 'F' 'M' 'F' 'M' 'F' 'M' 'F' 'M' 'F' 'M' 'F' 'M' 'F' 'M' 'F'\n",
      " 'M' 'M' 'F' 'M' 'F' 'M' 'F' 'M' 'F' 'M' 'F' 'M' 'F' 'M' 'F' 'M' 'F' 'M'\n",
      " 'F' 'M' 'F' 'M' 'F' 'M' 'F' 'M' 'F' 'M' 'F' 'M' 'F' 'M' 'F' 'M' 'F' 'M'\n",
      " 'F' 'M' 'F' 'M' 'F' 'M' 'F' 'M' 'F' 'M' 'F' 'M' 'F' 'M' 'F' 'M' 'F' 'M'\n",
      " 'F' 'M' 'F' 'M' 'F' 'M' 'F' 'M' 'F' 'M' 'F' 'M' 'F' 'M' 'F' 'M' 'F' 'M'\n",
      " 'F' 'M' 'F' 'M' 'F' 'M' 'F' 'M' 'F' 'M' 'F' 'M' 'F' 'M' 'F' 'M' 'F' 'M'\n",
      " 'F' 'M' 'F' 'M' 'F' 'M' 'F' 'M' 'F' 'M' 'F' 'M' 'F' 'M' 'F' 'M' 'F' 'M'\n",
      " 'F' 'M' 'F' 'M' 'F' 'M' 'F' 'M' 'F' 'M' 'F' 'M' 'F' 'M' 'F' 'M' 'F' 'M'\n",
      " 'F' 'M' 'F' 'M' 'F' 'F' 'M' 'F' 'M' 'F' 'M' 'F' 'M' 'F' 'M' 'F' 'M' 'F'\n",
      " 'M' 'F' 'M' 'F' 'M' 'F' 'M' 'F' 'M' 'F' 'M' 'F' 'M' 'F' 'M' 'F' 'M' 'F'\n",
      " 'M' 'F' 'M' 'F' 'M' 'F' 'M' 'F' 'M' 'F' 'M' 'F' 'M' 'F' 'M' 'F' 'M' 'F'\n",
      " 'M' 'F' 'M' 'F' 'M' 'F' 'M' 'F' 'M' 'F' 'M' 'F' 'M' 'F' 'M' 'F' 'M' 'F'\n",
      " 'M' 'F' 'M' 'F' 'M' 'F' 'M' 'F' 'M' 'F' 'M' 'F' 'M' 'F' 'M' 'F' 'M' 'F'\n",
      " 'M' 'F' 'M' 'F' 'M' 'F' 'M' 'F' 'M' 'F' 'M' 'F' 'M' 'F' 'M' 'F' 'M' 'F'\n",
      " 'M' 'F' 'M' 'F' 'M' 'F' 'M' 'F' 'M' 'F' 'M' 'F' 'M' 'F' 'M' 'F' 'M' 'F'\n",
      " 'M' 'F' 'M' 'F' 'M' 'F' 'F' 'M' 'F' 'M' 'F' 'M' 'F' 'M' 'F' 'M' 'F' 'M'\n",
      " 'F' 'M' 'F' 'M' 'F' 'M' 'F' 'M' 'F' 'M' 'F' 'M' 'F' 'M' 'F' 'M' 'F' 'M'\n",
      " 'F' 'M' 'F' 'M' 'F' 'M' 'F' 'M' 'F' 'M' 'F' 'M' 'F' 'M' 'F' 'M' 'F' 'M'\n",
      " 'F' 'M' 'F' 'M' 'F' 'M' 'F' 'M' 'F' 'F' 'F' 'F' 'M' 'F' 'M' 'F' 'M' 'F'\n",
      " 'M' 'F' 'M' 'F' 'M' 'F' 'M' 'F' 'M' 'F' 'M' 'F' 'M' 'F' 'M' 'F' 'M' 'F'\n",
      " 'M' 'F' 'M' 'F' 'M' 'F' 'M' 'F' 'M' 'F' 'M' 'F' 'M' 'F' 'M' 'F' 'M' 'F'\n",
      " 'M' 'F' 'M' 'F' 'M' 'F' 'M' 'F' 'M' 'F' 'M' 'F' 'M' 'F' 'M' 'F' 'M' 'F'\n",
      " 'M' 'F' 'M' 'F' 'M' 'F' 'M' 'F' 'M' 'F' 'M' 'F' 'M' 'F' 'M' 'F' 'M' 'F'\n",
      " 'M' 'F' 'M' 'F' 'M' 'F' 'M' 'F' 'M' 'F' 'M' 'F' 'M' 'F' 'M' 'F' 'M' 'F'\n",
      " 'M' 'F' 'M' 'F' 'M' 'F' 'M' 'F' 'M' 'F' 'M' 'F' 'M' 'F' 'M' 'F' 'M' 'F'\n",
      " 'M' 'F' 'M' 'F' 'M' 'F' 'M' 'F' 'M' 'F' 'M' 'F' 'F' 'M' 'F' 'M' 'F' 'M'\n",
      " 'F' 'M' 'F' 'M' 'F' 'M' 'F' 'M' 'F' 'M' 'F' 'M' 'F' 'M' 'F' 'M' 'F' 'M'\n",
      " 'F' 'M' 'F' 'M' 'F' 'M' 'F' 'M' 'F' 'M' 'F' 'M' 'F' 'M' 'F' 'M' 'F' 'M'\n",
      " 'F' 'M' 'F' 'M' 'F' 'M' 'F' 'M' 'F' 'M' 'F' 'M' 'F' 'M' 'F' 'M' 'F' 'M'\n",
      " 'F' 'M' 'F' 'M' 'F' 'M' 'F' 'M' 'F' 'M' 'F' 'M' 'F' 'M' 'F' 'M' 'F' 'M'\n",
      " 'F' 'M' 'F' 'M' 'F' 'M' 'F' 'M' 'F' 'M' 'F' 'M' 'F' 'M' 'F' 'M' 'F' 'M'\n",
      " 'F' 'M' 'F' 'M' 'F' 'M' 'F' 'M' 'F' 'M' 'F' 'M' 'F' 'M' 'F' 'M' 'F' 'M'\n",
      " 'F' 'M' 'F' 'M' 'F' 'M' 'F' 'M' 'F' 'M' 'F' 'M' 'F' 'M' 'F' 'M' 'F' 'M'\n",
      " 'F' 'M' 'F' 'M' 'F' 'M' 'F' 'M' 'F' 'M' 'F' 'M' 'F' 'M' 'F' 'M' 'F' 'M'\n",
      " 'F' 'M' 'F' 'M' 'F' 'M' 'F' 'M' 'F' 'M' 'F' 'M' 'F' 'M' 'F' 'M' 'F' 'M'\n",
      " 'F' 'M' 'F' 'M' 'F' 'M' 'F' 'M' 'F' 'M' 'F' 'M' 'F' 'M' 'F' 'M' 'F' 'M'\n",
      " 'F' 'M' 'F' 'M' 'F' 'M' 'F' 'M' 'F' 'M' 'F' 'M' 'F' 'M' 'F' 'M' 'F' 'M'\n",
      " 'F' 'M' 'F' 'M' 'F' 'M' 'F' 'M' 'F' 'M' 'F' 'M' 'F' 'M' 'F' 'M' 'F' 'M'\n",
      " 'F' 'M' 'F' 'M' 'F' 'M' 'F' 'M' 'F' 'M' 'F' 'M' 'F' 'M' 'F' 'M' 'F' 'M'\n",
      " 'F' 'M' 'F' 'M' 'F' 'M' 'F' 'M' 'F' 'M' 'F' 'M' 'F' 'M' 'F' 'M' 'F' 'M'\n",
      " 'F' 'M' 'F' 'M' 'F' 'M' 'F' 'M' 'F' 'M' 'F' 'M' 'F' 'M' 'F' 'M' 'F' 'M'\n",
      " 'F' 'M' 'F' 'M' 'F' 'M' 'F' 'M' 'F' 'M' 'F' 'M' 'F' 'M' 'F' 'M' 'F' 'M'\n",
      " 'F' 'M' 'F' 'M' 'F' 'M' 'F' 'M' 'F' 'M' 'F' 'M' 'F' 'M' 'F' 'M' 'F' 'M'\n",
      " 'F' 'M' 'F' 'M' 'F' 'M' 'F' 'M' 'F' 'M' 'F' 'M' 'F' 'M' 'F' 'M' 'F' 'M'\n",
      " 'F' 'M' 'F' 'M' 'F' 'M' 'F' 'M' 'F' 'M' 'F' 'M' 'F' 'M' 'F' 'M' 'F' 'M'\n",
      " 'F' 'M' 'F' 'M' 'F' 'M' 'F' 'M' 'F' 'M' 'F' 'M' 'F' 'M' 'F' 'M' 'F' 'M'\n",
      " 'F' 'M' 'F' 'M' 'F' 'M' 'F' 'M' 'F' 'M' 'F' 'M' 'F' 'M' 'F' 'M' 'F' 'M'\n",
      " 'F' 'M' 'F' 'M' 'F' 'M' 'F' 'M' 'F' 'M' 'F' 'M' 'F' 'M' 'F' 'M' 'F' 'M'\n",
      " 'F' 'M' 'F' 'M' 'F' 'M' 'F' 'M' 'F' 'M' 'F' 'M' 'F' 'M' 'F' 'M' 'F' 'M'\n",
      " 'F' 'M' 'F' 'M' 'F' 'M' 'F' 'M' 'F' 'M' 'F' 'M' 'F' 'M' 'F' 'M' 'F' 'M'\n",
      " 'F' 'M' 'F' 'M' 'F' 'M' 'F' 'M' 'F' 'M' 'F' 'M' 'F' 'M' 'F' 'M' 'F' 'M'\n",
      " 'F' 'M' 'F' 'M' 'F' 'M' 'F' 'M' 'F' 'M' 'F' 'M' 'F' 'M' 'F' 'M' 'F' 'M'\n",
      " 'F' 'M' 'F' 'M' 'F' 'M' 'F' 'M' 'F' 'M' 'F' 'M' 'F' 'M' 'F' 'M' 'F' 'M'\n",
      " 'F' 'M' 'F' 'M' 'F' 'M' 'F' 'M' 'F' 'M' 'F' 'M' 'F' 'M' 'F' 'M' 'F' 'M'\n",
      " 'F' 'M' 'F' 'M' 'F' 'M' 'F' 'M' 'F' 'M' 'F' 'M' 'F' 'M' 'F' 'M' 'F' 'M'\n",
      " 'F' 'M' 'F' 'M' 'F' 'M' 'F' 'M' 'F' 'M' 'F' 'M' 'F' 'M' 'F' 'M' 'F' 'M'\n",
      " 'F' 'M' 'F' 'M' 'F' 'M' 'F' 'M' 'F' 'M' 'F' 'M' 'F' 'M' 'F' 'M' 'F' 'M'\n",
      " 'F' 'M' 'F' 'M' 'F' 'M' 'F' 'M' 'F' 'M' 'F' 'M' 'F' 'M' 'F' 'M' 'F' 'M'\n",
      " 'F' 'M' 'F' 'M' 'F' 'M' 'F' 'M' 'F' 'M' 'F' 'M' 'F' 'M' 'F' 'M' 'F' 'M'\n",
      " 'F' 'M' 'F' 'M' 'F' 'M' 'F' 'M' 'F' 'M' 'F' 'M' 'F' 'M' 'F' 'M' 'F' 'M'\n",
      " 'F' 'M' 'F' 'M' 'F' 'M' 'F' 'M' 'F' 'M' 'F' 'M' 'F' 'M' 'F' 'M' 'F' 'M'\n",
      " 'F' 'F' 'M' 'F' 'M' 'F' 'M' 'F' 'M' 'F' 'M' 'F' 'M' 'F' 'M' 'F' 'M' 'F'\n",
      " 'M' 'F' 'M' 'F' 'M' 'F' 'M' 'F' 'M' 'F' 'M' 'F' 'M' 'F' 'M' 'F' 'M' 'F'\n",
      " 'M' 'F' 'M' 'F' 'M' 'F' 'M' 'F' 'M' 'F' 'M' 'F' 'M' 'F' 'M' 'F' 'M' 'F'\n",
      " 'M' 'F' 'M' 'F' 'M' 'F' 'M' 'F' 'M' 'F' 'M' 'F' 'M' 'F' 'M' 'F' 'M' 'F'\n",
      " 'M' 'F' 'M' 'F' 'M' 'F' 'M' 'F' 'M' 'F' 'M' 'F' 'M' 'F' 'M' 'F' 'M' 'F'\n",
      " 'M' 'F' 'M' 'F' 'M' 'F' 'M' 'F' 'M' 'F' 'M' 'F' 'M' 'F' 'M' 'F' 'M' 'F'\n",
      " 'M' 'F' 'M' 'F' 'M' 'F' 'M' 'F' 'M' 'F' 'M' 'F' 'M' 'F' 'M' 'F' 'M' 'F'\n",
      " 'M' 'F' 'M' 'F' 'M' 'F' 'M' 'F' 'M' 'F' 'M' 'F' 'M' 'F' 'M' 'F' 'M' 'F'\n",
      " 'M' 'F' 'M' 'F' 'M' 'F' 'M' 'F' 'M' 'F' 'M' 'F' 'M' 'F' 'M' 'F' 'M' 'F'\n",
      " 'M' 'F' 'M' 'F' 'M' 'F' 'M' 'F' 'M' 'F' 'M' 'F' 'M' 'F' 'M' 'F' 'M' 'F'\n",
      " 'M' 'F' 'M' 'F' 'M' 'F' 'M' 'F' 'M' 'F' 'M' 'F' 'M' 'F' 'M' 'F' 'M' 'F'\n",
      " 'M' 'F' 'M' 'F' 'M' 'F' 'M' 'F' 'M' 'F' 'M' 'F' 'M' 'F' 'M' 'F' 'M' 'F'\n",
      " 'M' 'F' 'M' 'F' 'M' 'F' 'M' 'F' 'M' 'F' 'M' 'F' 'M' 'F' 'M' 'F' 'M' 'F'\n",
      " 'M' 'F' 'M' 'F' 'M' 'F' 'M' 'F' 'M' 'F' 'M' 'F' 'M' 'F' 'M' 'F' 'M' 'M'\n",
      " 'F' 'M' 'F' 'M' 'F' 'M' 'F' 'M' 'F' 'M' 'F' 'M' 'F' 'M' 'F' 'M' 'F' 'M'\n",
      " 'F' 'M' 'F' 'M' 'F' 'M' 'F' 'M' 'F' 'M' 'F' 'M' 'F' 'M' 'F' 'M' 'F' 'M'\n",
      " 'F' 'M' 'F' 'M' 'F' 'M' 'F' 'M' 'F' 'M' 'F' 'M' 'F' 'M' 'F' 'M' 'F' 'M'\n",
      " 'F' 'M' 'F' 'M' 'F' 'M' 'F' 'M' 'F' 'M' 'F' 'F' 'M' 'F' 'M' 'F' 'M' 'F'\n",
      " 'M' 'F' 'M' 'F' 'M' 'F' 'M' 'F' 'M' 'F' 'M' 'F' 'M' 'F' 'M' 'F' 'M' 'F'\n",
      " 'M' 'F' 'M' 'F' 'M' 'F' 'M' 'F' 'M' 'F' 'M' 'F' 'M' 'F' 'M' 'F' 'M' 'F'\n",
      " 'M' 'F' 'M' 'F' 'M' 'F' 'M' 'F' 'M' 'F' 'M' 'F' 'M' 'F' 'M' 'F' 'M' 'F'\n",
      " 'M' 'F' 'M' 'F' 'M' 'F' 'M' 'F' 'M' 'F' 'M' 'F' 'M' 'F' 'M' 'F' 'M' 'F'\n",
      " 'M' 'F' 'M' 'F' 'M' 'F' 'M' 'F' 'M' 'F' 'M' 'F' 'M' 'F' 'M' 'F' 'M' 'F'\n",
      " 'M' 'F' 'M' 'F' 'M' 'F' 'M' 'F' 'M' 'F' 'M' 'F' 'M' 'F' 'M' 'F' 'M' 'F'\n",
      " 'M' 'F' 'M' 'F' 'M' 'F' 'M' 'F' 'M' 'F' 'M' 'F' 'M' 'F' 'M' 'F' 'M' 'F'\n",
      " 'M' 'F' 'M' 'F' 'M' 'F' 'M' 'F' 'M' 'F' 'M' 'F' 'M' 'F' 'M' 'F' 'M' 'F'\n",
      " 'M' 'F' 'M' 'F' 'M' 'F' 'M' 'F' 'M' 'F' 'M' 'F' 'M' 'F' 'M' 'F' 'M' 'F'\n",
      " 'M' 'F' 'M' 'F' 'M' 'F' 'M' 'F' 'M' 'F' 'M' 'F' 'M' 'F' 'M' 'F' 'M' 'F'\n",
      " 'M' 'F' 'M' 'F' 'M' 'F' 'M' 'F' 'M' 'F' 'M' 'F' 'M' 'F' 'M' 'F' 'M' 'F'\n",
      " 'M' 'F' 'M' 'F' 'M' 'F' 'M' 'F' 'M' 'F' 'M' 'F' 'M' 'F' 'M' 'F' 'M' 'F'\n",
      " 'M' 'F' 'M' 'F' 'M' 'F' 'M' 'F' 'M' 'F' 'M' 'F' 'M' 'F' 'M' 'F' 'M' 'F'\n",
      " 'M' 'F' 'M' 'F' 'M' 'F' 'M' 'F' 'M' 'F' 'M' 'F' 'M' 'F' 'M' 'F' 'M' 'F'\n",
      " 'M' 'F' 'M' 'F' 'M' 'F' 'M' 'F' 'M' 'F' 'M' 'F' 'M' 'F' 'M' 'F' 'M' 'F'\n",
      " 'M' 'F' 'M' 'F' 'M' 'F' 'M' 'F' 'M' 'F' 'M' 'F' 'M' 'F' 'M' 'F' 'M' 'F'\n",
      " 'M' 'F' 'M' 'F' 'M' 'F' 'M' 'F' 'M' 'F' 'M' 'F' 'M' 'F' 'M' 'F' 'M' 'F'\n",
      " 'M' 'F' 'M' 'F' 'M' 'F' 'M' 'F' 'M' 'F' 'M' 'F' 'M' 'F' 'M' 'F' 'M' 'F'\n",
      " 'M' 'F' 'M' 'F' 'M' 'F' 'M' 'F' 'M' 'F' 'M' 'F' 'M' 'F' 'M' 'F' 'M' 'F'\n",
      " 'M' 'F' 'M' 'F' 'M' 'F' 'M' 'F' 'M' 'F' 'M' 'F' 'M' 'F' 'M' 'F' 'M' 'F'\n",
      " 'M' 'F' 'M' 'F' 'M' 'F' 'M' 'F' 'M' 'F' 'M' 'F' 'M' 'F' 'M' 'F' 'M' 'F'\n",
      " 'M' 'F' 'M' 'F' 'M' 'F' 'M' 'F' 'M' 'F' 'M' 'F' 'M' 'F' 'M' 'F' 'M' 'F'\n",
      " 'M' 'F' 'M' 'F' 'M' 'F' 'M' 'F' 'M' 'F' 'M' 'F' 'M' 'F' 'M' 'F' 'M' 'F'\n",
      " 'M' 'F' 'M' 'F' 'M' 'F' 'M' 'F' 'M' 'F' 'M' 'F' 'M' 'F' 'M' 'F' 'M' 'F'\n",
      " 'M' 'F' 'M' 'F' 'M' 'F' 'M' 'F' 'M' 'F' 'M' 'F' 'M' 'F' 'M' 'F' 'M' 'F'\n",
      " 'M' 'F' 'M' 'F' 'M' 'F' 'M' 'F' 'M' 'F' 'M' 'F' 'M' 'F' 'M' 'F' 'M' 'F'\n",
      " 'M' 'F' 'M' 'F' 'M' 'F' 'M' 'F' 'M' 'F' 'M' 'F' 'M' 'F' 'M' 'F' 'M' 'F'\n",
      " 'M' 'F' 'M' 'F' 'M' 'F' 'M' 'F' 'M' 'F' 'M' 'F' 'M' 'F' 'M' 'F' 'M' 'F'\n",
      " 'M' 'F' 'M' 'F' 'M' 'F' 'M' 'F' 'M' 'F' 'M' 'F' 'M' 'F' 'M' 'F' 'M' 'F'\n",
      " 'M' 'F' 'M' 'F' 'M' 'F' 'M' 'F' 'M' 'F' 'M' 'F' 'M' 'F' 'M' 'F' 'M' 'F'\n",
      " 'M' 'F' 'M' 'F' 'M' 'F' 'M' 'F' 'M' 'F' 'M' 'F' 'M' 'F' 'M' 'F' 'M' 'M'\n",
      " 'F' 'M' 'F' 'M' 'F' 'M' 'F' 'M' 'F' 'M' 'F' 'M' 'F' 'M' 'F' 'M' 'F' 'M'\n",
      " 'F' 'M' 'F' 'M' 'F' 'M' 'F' 'M' 'F' 'M' 'F' 'M' 'F' 'M' 'F' 'M' 'F' 'M'\n",
      " 'F' 'M' 'F' 'M' 'F' 'M' 'F' 'M' 'F' 'M' 'F' 'M' 'F' 'M' 'F' 'M' 'F' 'M'\n",
      " 'F' 'M' 'F' 'M' 'F' 'M' 'F' 'M' 'M' 'F' 'M' 'F' 'M' 'F' 'M' 'F' 'M' 'F'\n",
      " 'M' 'F' 'M' 'F' 'M' 'F' 'M' 'F' 'M' 'F' 'M' 'F' 'M' 'F' 'M' 'F' 'M' 'F'\n",
      " 'M' 'F' 'M' 'F' 'M' 'F' 'M' 'F' 'M' 'F' 'M' 'F' 'M' 'F' 'M' 'F' 'M' 'F'\n",
      " 'M' 'F' 'M' 'F' 'M' 'F' 'M' 'F' 'M' 'F' 'M' 'F' 'M' 'F' 'M' 'M' 'F' 'M'\n",
      " 'F' 'M' 'F' 'M' 'F' 'M' 'F' 'M' 'F' 'M' 'F' 'M' 'F' 'M' 'F' 'M' 'F' 'M'\n",
      " 'F' 'M' 'F' 'M' 'F' 'M' 'F' 'M' 'F' 'M' 'F' 'M' 'F' 'M' 'F' 'M' 'F' 'M'\n",
      " 'F' 'M' 'F' 'M' 'F' 'M' 'F' 'M' 'F' 'M' 'F' 'M' 'F' 'M' 'F' 'M' 'F' 'M'\n",
      " 'F' 'M' 'F' 'M' 'F' 'M' 'F' 'F' 'M' 'F' 'M' 'F' 'M' 'F' 'M' 'F' 'M' 'F'\n",
      " 'M' 'F' 'M' 'F' 'M' 'F' 'M' 'F' 'M' 'F' 'M' 'F' 'M' 'F' 'M' 'F' 'M' 'F'\n",
      " 'M' 'F' 'M' 'F' 'M' 'F' 'M' 'F' 'M' 'F' 'M' 'F' 'M' 'F' 'M' 'F' 'M' 'F'\n",
      " 'M' 'F' 'M' 'F' 'M' 'F' 'M' 'F' 'M' 'F' 'M' 'F' 'M' 'F' 'M' 'F' 'M' 'F'\n",
      " 'M' 'F' 'M' 'F' 'M' 'F' 'M' 'F' 'M' 'F' 'M' 'F' 'M' 'F' 'M' 'F' 'M' 'F'\n",
      " 'M' 'F' 'M' 'F' 'M' 'F' 'M' 'F' 'M' 'F' 'M' 'F' 'M' 'F' 'M' 'F' 'M' 'F'\n",
      " 'M' 'F' 'M' 'F' 'M' 'F' 'M' 'F' 'M' 'F' 'M' 'F' 'M' 'F' 'M' 'F' 'M' 'F'\n",
      " 'M' 'F' 'M' 'F' 'M' 'F' 'M' 'F' 'M' 'F' 'M' 'F' 'M' 'F' 'M' 'F' 'M' 'F'\n",
      " 'M' 'F' 'M' 'F' 'M' 'F' 'M' 'F' 'M' 'F' 'M' 'F' 'M' 'F' 'M' 'F' 'M' 'F'\n",
      " 'M' 'F' 'M' 'F' 'M' 'F' 'M' 'F' 'M' 'F' 'M' 'F' 'M' 'F' 'M' 'F' 'M' 'F'\n",
      " 'M' 'F' 'M' 'F' 'M' 'F' 'M' 'F' 'M' 'F' 'M' 'F' 'M' 'F' 'M' 'M' 'F' 'M'\n",
      " 'F' 'M' 'F' 'M' 'F' 'M' 'F' 'M' 'F' 'M' 'F' 'M' 'F' 'M' 'F' 'M' 'F' 'M'\n",
      " 'F' 'M' 'F' 'M' 'F' 'M' 'F' 'M' 'F' 'M' 'F' 'M' 'F' 'M' 'F' 'M' 'F' 'M'\n",
      " 'F' 'M' 'F' 'M' 'F' 'M' 'F' 'M' 'F' 'M' 'F' 'M' 'F' 'M' 'F' 'M' 'F' 'M'\n",
      " 'F' 'M' 'F' 'M' 'F' 'M' 'F' 'M' 'F' 'M' 'F' 'M' 'F' 'M' 'F' 'M' 'F' 'M'\n",
      " 'F' 'M' 'F' 'M' 'F' 'M' 'F' 'M' 'F' 'M' 'F' 'M' 'F' 'M' 'F' 'M' 'F' 'M'\n",
      " 'F' 'M' 'F' 'M' 'F' 'M' 'F' 'M' 'F' 'M' 'F' 'M' 'F' 'M' 'F' 'M' 'F' 'M'\n",
      " 'F' 'M' 'F' 'M' 'F' 'M' 'F' 'M' 'F' 'M' 'F' 'M' 'F' 'M' 'F' 'M' 'F' 'M'\n",
      " 'F' 'M' 'F' 'M' 'F' 'M' 'F' 'M' 'F' 'M' 'F' 'M' 'F' 'M' 'F' 'M' 'F' 'M'\n",
      " 'F' 'M' 'F' 'M' 'F' 'M' 'F' 'M' 'F' 'M' 'F' 'M' 'F' 'M' 'F' 'M' 'F' 'M'\n",
      " 'F' 'M' 'F' 'M' 'F' 'M' 'F' 'M' 'F' 'M' 'F' 'M' 'F' 'M' 'F' 'M' 'F' 'M'\n",
      " 'F' 'M' 'F' 'M' 'F' 'M' 'F' 'M' 'F' 'M' 'F' 'M' 'F' 'M' 'F' 'M' 'F' 'M'\n",
      " 'F' 'M' 'F' 'M' 'F' 'M' 'F' 'M' 'F' 'M' 'F' 'M' 'F' 'M' 'F' 'M' 'F' 'M'\n",
      " 'F' 'M' 'F' 'M' 'F' 'M' 'F' 'M' 'F' 'M' 'F' 'M' 'F' 'M' 'F' 'M' 'F' 'M'\n",
      " 'F' 'M' 'F' 'M' 'F' 'M' 'F' 'M' 'F' 'M' 'F' 'F' 'M' 'F' 'M' 'F' 'M' 'F'\n",
      " 'M' 'F' 'M' 'F' 'M' 'F' 'M' 'F' 'M' 'F' 'M' 'F' 'M' 'F' 'M' 'F' 'M' 'F'\n",
      " 'M' 'F' 'M' 'F' 'M' 'F' 'M' 'F' 'M' 'F' 'M' 'F' 'M' 'F' 'M' 'F' 'M' 'F'\n",
      " 'M' 'F' 'M' 'F' 'M' 'F' 'M' 'F' 'M' 'F' 'M' 'F' 'M' 'F' 'M' 'F' 'M' 'F'\n",
      " 'M' 'F' 'M' 'F' 'M' 'F' 'M' 'F' 'M' 'F' 'M' 'F' 'M' 'F' 'M' 'F' 'M' 'F'\n",
      " 'M' 'F' 'M' 'F' 'M' 'F' 'M' 'F' 'M' 'F' 'M' 'F' 'M' 'F' 'M' 'F' 'M' 'F'\n",
      " 'M' 'F' 'M' 'F' 'M' 'F' 'M' 'F' 'M' 'F' 'M' 'F' 'M' 'F' 'M' 'F' 'M' 'F'\n",
      " 'M' 'F' 'M' 'F' 'M' 'F' 'M' 'F' 'M' 'F' 'M' 'F' 'M' 'F' 'M' 'F' 'M' 'F'\n",
      " 'M' 'F' 'M' 'F' 'M' 'F' 'M' 'F' 'M' 'F' 'M' 'F' 'M' 'F' 'M' 'F' 'M' 'F'\n",
      " 'M' 'F' 'M' 'F' 'M' 'F' 'M' 'F' 'M' 'F' 'M' 'F' 'M' 'F' 'M' 'F' 'M' 'F'\n",
      " 'M' 'F' 'M' 'F' 'M' 'F' 'M' 'F' 'M' 'F' 'M' 'F' 'M' 'F' 'M' 'F' 'M' 'F'\n",
      " 'M' 'F' 'M' 'F' 'M' 'F' 'M' 'F' 'M' 'F' 'M' 'F' 'M' 'F' 'M' 'F' 'M' 'F'\n",
      " 'M' 'F' 'M' 'F' 'M' 'F' 'M' 'F' 'M' 'F' 'M' 'F' 'M' 'F' 'M' 'F' 'M' 'F'\n",
      " 'M' 'F' 'M' 'F' 'M' 'F' 'M' 'F' 'M' 'F' 'M' 'F' 'M' 'F' 'M' 'F' 'M' 'F'\n",
      " 'M' 'F' 'M' 'F' 'M' 'F' 'M' 'F' 'M' 'F' 'M' 'F' 'M' 'F' 'M' 'F' 'M' 'F'\n",
      " 'M' 'F' 'M' 'F' 'M' 'F' 'M' 'F' 'M' 'F' 'M' 'F' 'M' 'F' 'M' 'F' 'M' 'F'\n",
      " 'M' 'F' 'M' 'F' 'M' 'F' 'M' 'F' 'M' 'F' 'M' 'F' 'M' 'F' 'M' 'F' 'M' 'F'\n",
      " 'M' 'F' 'M' 'F' 'M' 'F' 'M' 'F' 'M' 'F' 'M' 'F' 'M' 'F' 'M' 'F' 'M' 'F'\n",
      " 'F' 'M' 'F' 'M' 'F' 'M' 'F' 'M' 'F' 'M' 'F' 'M' 'F' 'M' 'F' 'M' 'F' 'M'\n",
      " 'F' 'M' 'F' 'M' 'F' 'M' 'F' 'M' 'F' 'M' 'F' 'M' 'F' 'M' 'F' 'M' 'F' 'M'\n",
      " 'F' 'M' 'F' 'M' 'F' 'M' 'F' 'M' 'F' 'M' 'F' 'M' 'F' 'M' 'F' 'M' 'F' 'M'\n",
      " 'F' 'M' 'F' 'M' 'F' 'M' 'F' 'M' 'F' 'M' 'F' 'M' 'F' 'M' 'F' 'M' 'F' 'M'\n",
      " 'F' 'M' 'F' 'M' 'F' 'M' 'F' 'M' 'F' 'M' 'F' 'M' 'F' 'M' 'F' 'M' 'F' 'M'\n",
      " 'F' 'M' 'F' 'M' 'F' 'M' 'F' 'M' 'F' 'M' 'F' 'M' 'F' 'M' 'F' 'M' 'F' 'M'\n",
      " 'F' 'M' 'F' 'M' 'F' 'M' 'F' 'M' 'F' 'M' 'F' 'M' 'F' 'M' 'F' 'M' 'F' 'M'\n",
      " 'F' 'M' 'F' 'M' 'F' 'M' 'F' 'M' 'F' 'M' 'F' 'M' 'F' 'M' 'F' 'M' 'F' 'M'\n",
      " 'F' 'M' 'F' 'M' 'F' 'M' 'F' 'M' 'F' 'M' 'F' 'M' 'F' 'M' 'F' 'M' 'F' 'M'\n",
      " 'F' 'M' 'F' 'M' 'F' 'M' 'F' 'M' 'F' 'M' 'F' 'M' 'F' 'M' 'F' 'M' 'F' 'M'\n",
      " 'F' 'M' 'F' 'M' 'F' 'M' 'F' 'M' 'F' 'M' 'F' 'M' 'F' 'M' 'F' 'M' 'F' 'M'\n",
      " 'F' 'M' 'F' 'M' 'F' 'M' 'F' 'M' 'F' 'M' 'F' 'M' 'F' 'M' 'F' 'M' 'F' 'M'\n",
      " 'F' 'M' 'F' 'M' 'F' 'M' 'F' 'M' 'F' 'M' 'F' 'M' 'F' 'M' 'F' 'M' 'F' 'M'\n",
      " 'F' 'M' 'F' 'M' 'F' 'M' 'F' 'M' 'F' 'M' 'F' 'M' 'F' 'M' 'F' 'M' 'F' 'M'\n",
      " 'F' 'M' 'F' 'M' 'F' 'M' 'F' 'M' 'F' 'M' 'F' 'M' 'F' 'M' 'F' 'M' 'F' 'M'\n",
      " 'F' 'M' 'F' 'M' 'F' 'M' 'F' 'M' 'F' 'M' 'F' 'M' 'F' 'M' 'F' 'M' 'F' 'M'\n",
      " 'F' 'M' 'F' 'M' 'F' 'M' 'F' 'M' 'F' 'M' 'F' 'M' 'F' 'M' 'F' 'M' 'F' 'M'\n",
      " 'F' 'M' 'F' 'M' 'F' 'M' 'F' 'F' 'M' 'F' 'M' 'F' 'M' 'F' 'M' 'F' 'M' 'F'\n",
      " 'M' 'F' 'M' 'F' 'M' 'F' 'M' 'F' 'M' 'F' 'M' 'F' 'M' 'F' 'M' 'F' 'M' 'F'\n",
      " 'M' 'F' 'M' 'F' 'M' 'F' 'M' 'F' 'M' 'F' 'M' 'F' 'M' 'F' 'M' 'F' 'M' 'F'\n",
      " 'M' 'F' 'M' 'F' 'M' 'F' 'M' 'F' 'M' 'F' 'M' 'F' 'M' 'F' 'M' 'F' 'M' 'F'\n",
      " 'M' 'F' 'M' 'F' 'M' 'F' 'M' 'F' 'M' 'F' 'M' 'F' 'M' 'F' 'M' 'F' 'M' 'F'\n",
      " 'M' 'F' 'M' 'F' 'M' 'F' 'M' 'F' 'M' 'F' 'M' 'F' 'M' 'F' 'M' 'F' 'M' 'F'\n",
      " 'M' 'F' 'M' 'F' 'M' 'F' 'M' 'F' 'M' 'F' 'M' 'F' 'M' 'F' 'M' 'F' 'M' 'F'\n",
      " 'M' 'F' 'M' 'F' 'M' 'F' 'M' 'F' 'M' 'F' 'M' 'F' 'M' 'F' 'M' 'F' 'M' 'F'\n",
      " 'M' 'F' 'M' 'F' 'M' 'F' 'M' 'F' 'M' 'F' 'M' 'F' 'M' 'F' 'M' 'F' 'M' 'F'\n",
      " 'M' 'F' 'M' 'F' 'M' 'F' 'M' 'F' 'M' 'F' 'M' 'F' 'M' 'F' 'M' 'F' 'M' 'F'\n",
      " 'M' 'F' 'M' 'F' 'M' 'F' 'M' 'F' 'M' 'F' 'M' 'F' 'M' 'F' 'M' 'F' 'M' 'F'\n",
      " 'M' 'F' 'M' 'F' 'M' 'F' 'M' 'F' 'M' 'F' 'M' 'F' 'M' 'F' 'M' 'F' 'M' 'F'\n",
      " 'M' 'F' 'M' 'F' 'M' 'F' 'M' 'F' 'M' 'F' 'M' 'F' 'M' 'F' 'M' 'F' 'M' 'F'\n",
      " 'M' 'F' 'M' 'F' 'M' 'F' 'M' 'F' 'M' 'F' 'M' 'F' 'M' 'F' 'M' 'F' 'M' 'F'\n",
      " 'M' 'F' 'M' 'F' 'M' 'F' 'M' 'F' 'M' 'F' 'M' 'F' 'M' 'F' 'M' 'F' 'M' 'F'\n",
      " 'M' 'F' 'M' 'F' 'M' 'F' 'M' 'F' 'M' 'F' 'M' 'F' 'M' 'F' 'M' 'F' 'M' 'F'\n",
      " 'M' 'F' 'M' 'F' 'M' 'F' 'M' 'F' 'M' 'F' 'M' 'F' 'M' 'F' 'M' 'F' 'M' 'F'\n",
      " 'M' 'F' 'M' 'F' 'M' 'F' 'M' 'F' 'F' 'M' 'F' 'M' 'F' 'M' 'F' 'M' 'F' 'M'\n",
      " 'F' 'M' 'F' 'M' 'F' 'M' 'F' 'M' 'F' 'M' 'F' 'M' 'F' 'M' 'F' 'M' 'F' 'M'\n",
      " 'F' 'M' 'F' 'M' 'F' 'M' 'F' 'M' 'F' 'M' 'F' 'M' 'F' 'M' 'F' 'M' 'F' 'M'\n",
      " 'F' 'M' 'F' 'M' 'F' 'M' 'F' 'M' 'F' 'M' 'F' 'M' 'F' 'M' 'F' 'M' 'F' 'M'\n",
      " 'F' 'M' 'F' 'M' 'F' 'M' 'F' 'M' 'F' 'M' 'F' 'M' 'F' 'M' 'F' 'M' 'F' 'M'\n",
      " 'F' 'M' 'F' 'M' 'F' 'M' 'F' 'M' 'F' 'M' 'F' 'M' 'F' 'M' 'F' 'M' 'F' 'M'\n",
      " 'F' 'M' 'F' 'M' 'F' 'M' 'F' 'M' 'F' 'M' 'F' 'M' 'F' 'M' 'F' 'M' 'F' 'M'\n",
      " 'F' 'M' 'F' 'M' 'F' 'M' 'M' 'F' 'M' 'F' 'M' 'F' 'M' 'F' 'M' 'F' 'M' 'F'\n",
      " 'M' 'F' 'M' 'F' 'M' 'F' 'M' 'F' 'M' 'F' 'M' 'F' 'M' 'F' 'M' 'F' 'M' 'F'\n",
      " 'M' 'F' 'M' 'F' 'M' 'F' 'M' 'F' 'M' 'F' 'M' 'F' 'M' 'F' 'M' 'F' 'M' 'F'\n",
      " 'M' 'F' 'M' 'F' 'M' 'F' 'M' 'F' 'M' 'F' 'M' 'F' 'M' 'F' 'M' 'M' 'F' 'M'\n",
      " 'F' 'M' 'F' 'M' 'F' 'M' 'F' 'M' 'F' 'M' 'F' 'M' 'F' 'M' 'F' 'M' 'F' 'M'\n",
      " 'F' 'M' 'F' 'M' 'F' 'M' 'F' 'M' 'F' 'M' 'F' 'M' 'F' 'M' 'F' 'M' 'F' 'M'\n",
      " 'F' 'M' 'F' 'M' 'F' 'M' 'F' 'M' 'F' 'M' 'F' 'M' 'F' 'M' 'F' 'M' 'F' 'M'\n",
      " 'F' 'M' 'F' 'M' 'F' 'F' 'M' 'F' 'M' 'F' 'M' 'F' 'M' 'F' 'M' 'F' 'M' 'F'\n",
      " 'M' 'F' 'M' 'F' 'M' 'F' 'M' 'F' 'M' 'F' 'M' 'F' 'M' 'F' 'M' 'F' 'M' 'F'\n",
      " 'M' 'F' 'M' 'F' 'M' 'F' 'M' 'F' 'M' 'F' 'M' 'F' 'M' 'F' 'M' 'F' 'M' 'F'\n",
      " 'M' 'F' 'M' 'F' 'M' 'F' 'M' 'F' 'M' 'F' 'M' 'F' 'M' 'F' 'M' 'F' 'M' 'F'\n",
      " 'M' 'F' 'M' 'F' 'M' 'F' 'M' 'F' 'M' 'F' 'M' 'F' 'M' 'F' 'M' 'F' 'M' 'F'\n",
      " 'M' 'F' 'M' 'F' 'M' 'F' 'M' 'F' 'M' 'F' 'M' 'F' 'M' 'F' 'M' 'F' 'M' 'F'\n",
      " 'M' 'F' 'M' 'F' 'M' 'F' 'M' 'F' 'M' 'F' 'M' 'F' 'M' 'F' 'M' 'F' 'M' 'F'\n",
      " 'M' 'F' 'M' 'F' 'M' 'F' 'M' 'F' 'M' 'F' 'M' 'F' 'M' 'F' 'M' 'F' 'M' 'F'\n",
      " 'M' 'F' 'M' 'F' 'M' 'F' 'M' 'F' 'M' 'F' 'M' 'F' 'M' 'F' 'M' 'F' 'M' 'F'\n",
      " 'M' 'F' 'M' 'F' 'M' 'F' 'M' 'F' 'M' 'F' 'M' 'F' 'M' 'F' 'M' 'F' 'M' 'F'\n",
      " 'M' 'F' 'M' 'F' 'M' 'F' 'M' 'F' 'M' 'F' 'M' 'F' 'M' 'M' 'F' 'M' 'F' 'M'\n",
      " 'F' 'M' 'F' 'M' 'F' 'M' 'F' 'M' 'F' 'M' 'F' 'M' 'F' 'M' 'F' 'M' 'F' 'M'\n",
      " 'F' 'M' 'F' 'M' 'F' 'M' 'F' 'M' 'F' 'M' 'F' 'M' 'F' 'M' 'F' 'M' 'F' 'M'\n",
      " 'F' 'M' 'F' 'M' 'F' 'M' 'F' 'M' 'F' 'M' 'F' 'M' 'F' 'M' 'F' 'M' 'F' 'M'\n",
      " 'F' 'M' 'F' 'M' 'M' 'F' 'M' 'F' 'M' 'F' 'M' 'F' 'M' 'F' 'M' 'F' 'M' 'F'\n",
      " 'M' 'F' 'M' 'F' 'M' 'F' 'M' 'F' 'M' 'F' 'M' 'F' 'M' 'F' 'M' 'F' 'M' 'F'\n",
      " 'M' 'F' 'M' 'F' 'M' 'F' 'M' 'F' 'M' 'F' 'M' 'F' 'M' 'F' 'M' 'F' 'M' 'F'\n",
      " 'M' 'F' 'M' 'F' 'M' 'F' 'M' 'F' 'M' 'F' 'M' 'F' 'M' 'F' 'M' 'F' 'M' 'F'\n",
      " 'M' 'F' 'M' 'F' 'M' 'F' 'M' 'F' 'M' 'F' 'M' 'F' 'M' 'F' 'M' 'F' 'M' 'F'\n",
      " 'M' 'F' 'M' 'F' 'M' 'F' 'M' 'F' 'M' 'F' 'M' 'F' 'M' 'F' 'M' 'F' 'M' 'F'\n",
      " 'M' 'F' 'M' 'F' 'M' 'F' 'M' 'F' 'M' 'F' 'M' 'F' 'M' 'F' 'M' 'F' 'M' 'F'\n",
      " 'M' 'F' 'M' 'F' 'M' 'F' 'M' 'F' 'M' 'F' 'M' 'F' 'M' 'F' 'M' 'F' 'M' 'F'\n",
      " 'M' 'F' 'M' 'F' 'M' 'F' 'M' 'F' 'M' 'F' 'M' 'F' 'M' 'F' 'M' 'F' 'M' 'F'\n",
      " 'M' 'F' 'M' 'F' 'M' 'F' 'M' 'F' 'M' 'F' 'M' 'F' 'M' 'F' 'M' 'F' 'M' 'F'\n",
      " 'M' 'F' 'M' 'F' 'M' 'F' 'M' 'F' 'M' 'F' 'M' 'F' 'M' 'F' 'M' 'F' 'M' 'F'\n",
      " 'M' 'F' 'M' 'F' 'M' 'F' 'M' 'F' 'M' 'F' 'M' 'F' 'M' 'F' 'M' 'F' 'M' 'F'\n",
      " 'M' 'F' 'M' 'F' 'M' 'F' 'M' 'F' 'M' 'F' 'M' 'F' 'M' 'F' 'M' 'F' 'M' 'F'\n",
      " 'M' 'F' 'M' 'F' 'M' 'F' 'M' 'F' 'M' 'F' 'M' 'F' 'M' 'F' 'M' 'F' 'M' 'F'\n",
      " 'M' 'F' 'M' 'F' 'M' 'F' 'M' 'F' 'M' 'F' 'M' 'F' 'M' 'F' 'M' 'F' 'M' 'F'\n",
      " 'M' 'F' 'M' 'F' 'M' 'F' 'M' 'F' 'M' 'F' 'M' 'F' 'M' 'F' 'M' 'F' 'M' 'F'\n",
      " 'M' 'F' 'M' 'F' 'M' 'F' 'M' 'F' 'M' 'F' 'M' 'F' 'M' 'F' 'M' 'F' 'M' 'F'\n",
      " 'M' 'F' 'M' 'F' 'M' 'M' 'F' 'M' 'F' 'M' 'F' 'M' 'F' 'M' 'F' 'M' 'F' 'M'\n",
      " 'F' 'M' 'F' 'M' 'F' 'M' 'F' 'M' 'F' 'M' 'F' 'M' 'F' 'M' 'F' 'M' 'F' 'M'\n",
      " 'F' 'M' 'F' 'M' 'F' 'M' 'F' 'M' 'F' 'M' 'F' 'M' 'F' 'M' 'F' 'M' 'F' 'M'\n",
      " 'F' 'M' 'F' 'M' 'F' 'M' 'F' 'M' 'F' 'M' 'F' 'M' 'F' 'M' 'F' 'M' 'F' 'M'\n",
      " 'F' 'M' 'F' 'M' 'F' 'M' 'F' 'M' 'F' 'M' 'F' 'M' 'F' 'M' 'F' 'M' 'F' 'M'\n",
      " 'F' 'M' 'F' 'M' 'F' 'M' 'F' 'M' 'F' 'M' 'F' 'M' 'F' 'M' 'F' 'M' 'F' 'M'\n",
      " 'F' 'M' 'F' 'M' 'F' 'M' 'F' 'M' 'F' 'M' 'F' 'M' 'F' 'M' 'F' 'M' 'F' 'M'\n",
      " 'F' 'M' 'F' 'M' 'F' 'M' 'F' 'M' 'F' 'M' 'F' 'M' 'F' 'M' 'F' 'M' 'F' 'M'\n",
      " 'F' 'M' 'F' 'M' 'F' 'M' 'F' 'M' 'F' 'M' 'F' 'M' 'F' 'M' 'F' 'M' 'F' 'M'\n",
      " 'F' 'M' 'F' 'M' 'F' 'M' 'F' 'M' 'F' 'M' 'F' 'M' 'F' 'M' 'F' 'M' 'F' 'M'\n",
      " 'F' 'M' 'F' 'M' 'F' 'M' 'F' 'M' 'F' 'M' 'F' 'M' 'F' 'M' 'F' 'F' 'M' 'F'\n",
      " 'M' 'F' 'M' 'F' 'M' 'F' 'M' 'F' 'M' 'F' 'M' 'F' 'M' 'F' 'M' 'F' 'M' 'F'\n",
      " 'M' 'F' 'M' 'F' 'M' 'F' 'M' 'F' 'M' 'F' 'M' 'F' 'M' 'F' 'M' 'F' 'M' 'F'\n",
      " 'M' 'F' 'M' 'F' 'M' 'F' 'M' 'F' 'M' 'F' 'M' 'F' 'M' 'F' 'M' 'F' 'M' 'F'\n",
      " 'M' 'F' 'M' 'F' 'M' 'F' 'M' 'F' 'M' 'F' 'M' 'F' 'M' 'F' 'M' 'F' 'M' 'F'\n",
      " 'M' 'F' 'M' 'F' 'M' 'F' 'M' 'F' 'M' 'F' 'M' 'F' 'M' 'F' 'M' 'F' 'M' 'F'\n",
      " 'M' 'F' 'M' 'F' 'M' 'F' 'M' 'F' 'M' 'F' 'M' 'F' 'M' 'F' 'M' 'F' 'M' 'F'\n",
      " 'M' 'F' 'M' 'F' 'M' 'F' 'M' 'F' 'M' 'F' 'M' 'F' 'M' 'F' 'M' 'F' 'M' 'F'\n",
      " 'M' 'F' 'M' 'F' 'M' 'F' 'M' 'F' 'M' 'F' 'M' 'F' 'M' 'F' 'M' 'F' 'M' 'F'\n",
      " 'M' 'F' 'M' 'F' 'M' 'F' 'M' 'F' 'M' 'F' 'M' 'F' 'M' 'F' 'M' 'F' 'M' 'F'\n",
      " 'M' 'F' 'M' 'F' 'M' 'F' 'M' 'F' 'M' 'F' 'M' 'F' 'M' 'F' 'M' 'F' 'M' 'F'\n",
      " 'M' 'F' 'M' 'F' 'M' 'M' 'F' 'M' 'F' 'M' 'F' 'M' 'F' 'M' 'F' 'M' 'F' 'M'\n",
      " 'F' 'M' 'F' 'M' 'F' 'M' 'F' 'M' 'F' 'M' 'F' 'M' 'F' 'M' 'F' 'M' 'F' 'M'\n",
      " 'F' 'M' 'F' 'M' 'F' 'M' 'F' 'M' 'F' 'M' 'F' 'M' 'F' 'M' 'F' 'M' 'F' 'M'\n",
      " 'F' 'M' 'F' 'M' 'F' 'M' 'F' 'M' 'F' 'M' 'F' 'M' 'F' 'M' 'F' 'M' 'F' 'M'\n",
      " 'F' 'M' 'F' 'M' 'F' 'M' 'F' 'M' 'F' 'M' 'F' 'M' 'F' 'M' 'F' 'M' 'F' 'M'\n",
      " 'F' 'M' 'F' 'M' 'F' 'M' 'F' 'M' 'F' 'M' 'F' 'M' 'F' 'M' 'F' 'M' 'F' 'M'\n",
      " 'F' 'M' 'F' 'M' 'F' 'M' 'F' 'M' 'F' 'M' 'F' 'M' 'F' 'M' 'F' 'M' 'F' 'M'\n",
      " 'F' 'M' 'F' 'M' 'F' 'M' 'F' 'M' 'F' 'M' 'F' 'M' 'F' 'M' 'F' 'M' 'F' 'M'\n",
      " 'F' 'M' 'F' 'M' 'F' 'M' 'F' 'M' 'F' 'M' 'F' 'M' 'F' 'M' 'F' 'M' 'F' 'M'\n",
      " 'F' 'M' 'F' 'M' 'F' 'M' 'F' 'M' 'F' 'M' 'F' 'M' 'F' 'M' 'F' 'M' 'F' 'M'\n",
      " 'F' 'M' 'F' 'M' 'F' 'M' 'F' 'M' 'F' 'M' 'F' 'M' 'F' 'M' 'F' 'M' 'F' 'M'\n",
      " 'F' 'M' 'F' 'M' 'F' 'M' 'F' 'M' 'F' 'M' 'F' 'M' 'F' 'M' 'F' 'M' 'F' 'M'\n",
      " 'F' 'M' 'F' 'M' 'F' 'M' 'F' 'M' 'F' 'M' 'F' 'M' 'F' 'M' 'F' 'M' 'F' 'M'\n",
      " 'F' 'M' 'F' 'M' 'F' 'M' 'F' 'M' 'F' 'M' 'F' 'M' 'F' 'M' 'F' 'M' 'F' 'M'\n",
      " 'F' 'M' 'F' 'M' 'F' 'M' 'F' 'M' 'F' 'M' 'F' 'M' 'F' 'M' 'F' 'M' 'F' 'M'\n",
      " 'F' 'M' 'F' 'M' 'F' 'M' 'F' 'M' 'F' 'M' 'F' 'M' 'F' 'M' 'F' 'M' 'F' 'M'\n",
      " 'F' 'M' 'F' 'M' 'F' 'M' 'F' 'M' 'F' 'M' 'F' 'M' 'F' 'M' 'F' 'M' 'F' 'M'\n",
      " 'F' 'M' 'F' 'M' 'F' 'M' 'F' 'M' 'F' 'M' 'F' 'F' 'M' 'F' 'M' 'F' 'M' 'F'\n",
      " 'M' 'F' 'M' 'F' 'M' 'F' 'M' 'F' 'M' 'F' 'M' 'F' 'M' 'F' 'M' 'F' 'M' 'F'\n",
      " 'M' 'F' 'M' 'F' 'M' 'F' 'M' 'F' 'M' 'F' 'M' 'F' 'M' 'F' 'M' 'F' 'M' 'F'\n",
      " 'M' 'F' 'M' 'F' 'M' 'F' 'M' 'F' 'M' 'F' 'M' 'F' 'M' 'F' 'M' 'F' 'M' 'F'\n",
      " 'M' 'F' 'M' 'F' 'M' 'F' 'M' 'F' 'M' 'F' 'M' 'F' 'M' 'F' 'M' 'F' 'M' 'F'\n",
      " 'M' 'F' 'M' 'F' 'M' 'F' 'M' 'F' 'M' 'F' 'M' 'F' 'M' 'F' 'M' 'F' 'M' 'F'\n",
      " 'M' 'F' 'M' 'F' 'M' 'F' 'M' 'F' 'M' 'F' 'M' 'F' 'M' 'F' 'M' 'F' 'M' 'F'\n",
      " 'M' 'F' 'M' 'F' 'M' 'F' 'M' 'F' 'M' 'F' 'M' 'F' 'M' 'F' 'M' 'F' 'M' 'F'\n",
      " 'M' 'F' 'M' 'F' 'M' 'F' 'M' 'F' 'M' 'F' 'M' 'F' 'M' 'F' 'M' 'F' 'M' 'F'\n",
      " 'M' 'F' 'M' 'F' 'M' 'F' 'M' 'F' 'M' 'F' 'M' 'F' 'M' 'F' 'M' 'F' 'M' 'F'\n",
      " 'M' 'F' 'M' 'F' 'M' 'F' 'M' 'F' 'M' 'F' 'M' 'F' 'M' 'F' 'M' 'F' 'M' 'F'\n",
      " 'M' 'F' 'M' 'F' 'M' 'F' 'M' 'F' 'M' 'F' 'M' 'F' 'M' 'F' 'M' 'F' 'M' 'F'\n",
      " 'M' 'F' 'M' 'F' 'M' 'F' 'M' 'F' 'M' 'F' 'M' 'F' 'M' 'F' 'M' 'F' 'M' 'F'\n",
      " 'M' 'F' 'M' 'F' 'M' 'F' 'M' 'F' 'M' 'F' 'M' 'F' 'M' 'F' 'M' 'F' 'M' 'F'\n",
      " 'M' 'F' 'M' 'F' 'M' 'F' 'M' 'F' 'M' 'M' 'F' 'M' 'F' 'M' 'F' 'M' 'F' 'M'\n",
      " 'F' 'M' 'F' 'M' 'F' 'M' 'F' 'M' 'F' 'M' 'F' 'M' 'F' 'M' 'F' 'M' 'F' 'M'\n",
      " 'F' 'M' 'F' 'M' 'F' 'M' 'F' 'M' 'F' 'M' 'F' 'M' 'F' 'M' 'F' 'M' 'F' 'M'\n",
      " 'F' 'M' 'F' 'M' 'F' 'M' 'F' 'M' 'F' 'M' 'F' 'M' 'F' 'M' 'F' 'M' 'F' 'M'\n",
      " 'M' 'F' 'M' 'F' 'M' 'F' 'M' 'F' 'M' 'F' 'M' 'F' 'M' 'F' 'M' 'F' 'M' 'F'\n",
      " 'M' 'F' 'M' 'F' 'M' 'F' 'M' 'F' 'M' 'F' 'M' 'F' 'M' 'F' 'M' 'F' 'M' 'F'\n",
      " 'M' 'F' 'M' 'F' 'M' 'F' 'M' 'F' 'M' 'F' 'M' 'F' 'M' 'F' 'M' 'F' 'M' 'F'\n",
      " 'M' 'F' 'M' 'F' 'M' 'F' 'M' 'F' 'F' 'M' 'F' 'M' 'F' 'M' 'F' 'M' 'F' 'M'\n",
      " 'F' 'M' 'F' 'M' 'F' 'M' 'F' 'M' 'F' 'M' 'F' 'M' 'F' 'M' 'F' 'M' 'F' 'M'\n",
      " 'F' 'M' 'F' 'M' 'F' 'M' 'F' 'M' 'F' 'M' 'F' 'M' 'F' 'M' 'F' 'M' 'F' 'M'\n",
      " 'F' 'M' 'F' 'M' 'F' 'M' 'F' 'M' 'F' 'M' 'F' 'M' 'F' 'M' 'F' 'M' 'F' 'F'\n",
      " 'M' 'F' 'M' 'F' 'M' 'F' 'M' 'F' 'M' 'F' 'M' 'F' 'M' 'F' 'M' 'F' 'M' 'F'\n",
      " 'M' 'F' 'M' 'F' 'M' 'F' 'M' 'F' 'M' 'F' 'M' 'F' 'M' 'F' 'M' 'F' 'M' 'F'\n",
      " 'M' 'F' 'M' 'F' 'M' 'F' 'M' 'F' 'M' 'F' 'M' 'F' 'M' 'F' 'M' 'F' 'M' 'F'\n",
      " 'M' 'F' 'M' 'F' 'M' 'F' 'M' 'F' 'M' 'F' 'M' 'F' 'M' 'F' 'M' 'F' 'M' 'F'\n",
      " 'M' 'F' 'M' 'F' 'M' 'F' 'M' 'F' 'M' 'F' 'M' 'F' 'M' 'F' 'M' 'F' 'M' 'F'\n",
      " 'M' 'F' 'M' 'F' 'M' 'F' 'M' 'F' 'M' 'F' 'M' 'F' 'M' 'F' 'M' 'F' 'M' 'F'\n",
      " 'M' 'F' 'M' 'F' 'M' 'F' 'M' 'F' 'M' 'F' 'M' 'F' 'M' 'M' 'F' 'M' 'F' 'M'\n",
      " 'F' 'M' 'F' 'M' 'F' 'M' 'F' 'M' 'F' 'M' 'F' 'M' 'F' 'M' 'F' 'M' 'F' 'M'\n",
      " 'F' 'M' 'F' 'M' 'F' 'M' 'F' 'M' 'F' 'M' 'F' 'M' 'F' 'M' 'F' 'M' 'F' 'M'\n",
      " 'F' 'M' 'F' 'M' 'F' 'M' 'F' 'M' 'F' 'M' 'F' 'M' 'F' 'M' 'F' 'M' 'F' 'M'\n",
      " 'F' 'M' 'F' 'M' 'M' 'F' 'M' 'F' 'M' 'F' 'M' 'F' 'M' 'F' 'M' 'F' 'M' 'F'\n",
      " 'M' 'F' 'M' 'F' 'M' 'F' 'M' 'F' 'M' 'F' 'M' 'F' 'M' 'F' 'M' 'F' 'M' 'F'\n",
      " 'M' 'F' 'M' 'F' 'M' 'F' 'M' 'F' 'M' 'F' 'M' 'F' 'M' 'F' 'M' 'F' 'M' 'F'\n",
      " 'M' 'F' 'M' 'F' 'M' 'F' 'M' 'F' 'M' 'F' 'M' 'F' 'M' 'F' 'M' 'F' 'M' 'F'\n",
      " 'M' 'F' 'M' 'F' 'M' 'F' 'M' 'F' 'M' 'F' 'M' 'F' 'M' 'F' 'M' 'F' 'M' 'F'\n",
      " 'M' 'F' 'M' 'F' 'M' 'F' 'M' 'F' 'M' 'F' 'M' 'F' 'M' 'F' 'M' 'F' 'M' 'F'\n",
      " 'M' 'F' 'M' 'F' 'M' 'F' 'M' 'F' 'M' 'F' 'M' 'F' 'M' 'F' 'M' 'F' 'M' 'F'\n",
      " 'M' 'F' 'M' 'F' 'F' 'M' 'F' 'M' 'F' 'M' 'F' 'M' 'F' 'M' 'F' 'M' 'F' 'M'\n",
      " 'F' 'M' 'F' 'M' 'F' 'M' 'F' 'M' 'F' 'M' 'F' 'M' 'F' 'M' 'F' 'M' 'F' 'M'\n",
      " 'F' 'M' 'F' 'M' 'F' 'M' 'F' 'M' 'F' 'M' 'F' 'M' 'F' 'M' 'F' 'M' 'F' 'M'\n",
      " 'F' 'M' 'F' 'M' 'F' 'M' 'F' 'M' 'F' 'M' 'F' 'M' 'F' 'M' 'F' 'M' 'F' 'M'\n",
      " 'F' 'M' 'F' 'M' 'F' 'M' 'F' 'M' 'F' 'M' 'F' 'M' 'F' 'M' 'F' 'M' 'F' 'M'\n",
      " 'F' 'M' 'F' 'M' 'F' 'M' 'F' 'M' 'F' 'M' 'F' 'M' 'F' 'M' 'F' 'M' 'F' 'M'\n",
      " 'F' 'M' 'F' 'M' 'F' 'M' 'F' 'M' 'F' 'M' 'F' 'M' 'F' 'M' 'F' 'M' 'F' 'M'\n",
      " 'F' 'M' 'M' 'F' 'M' 'F' 'M' 'F' 'M' 'F' 'M' 'F' 'M' 'F' 'M' 'F' 'M' 'F'\n",
      " 'M' 'F' 'M' 'F' 'M' 'F' 'M' 'F' 'M' 'F' 'M' 'F' 'M' 'F' 'M' 'F' 'M' 'F'\n",
      " 'M' 'F' 'M' 'F' 'M' 'F' 'M' 'F' 'M' 'F' 'M' 'F' 'M' 'F' 'M' 'F' 'M' 'F'\n",
      " 'M' 'F' 'M' 'F' 'M' 'F' 'M' 'F' 'M' 'F' 'M' 'M' 'F' 'M' 'F' 'M' 'F' 'M'\n",
      " 'F' 'M' 'F' 'M' 'F' 'M' 'F' 'M' 'F' 'M' 'F' 'M' 'F' 'M' 'F' 'M' 'F' 'M'\n",
      " 'F' 'M' 'F' 'M' 'F' 'M' 'F' 'M' 'F' 'M' 'F' 'M' 'F' 'M' 'F' 'M' 'F' 'M'\n",
      " 'F' 'M' 'F' 'M' 'F' 'M' 'F' 'M' 'F' 'M' 'F' 'M' 'F' 'M' 'F' 'M' 'F' 'M'\n",
      " 'F' 'F' 'M' 'F' 'M' 'F' 'M' 'F' 'M' 'F' 'M' 'F' 'M' 'F' 'M' 'F' 'M' 'F'\n",
      " 'M' 'F' 'M' 'F' 'M' 'F' 'M' 'F' 'M' 'F' 'M' 'F' 'M' 'F' 'M' 'F' 'M' 'F'\n",
      " 'M' 'F' 'M' 'F' 'M' 'F' 'M' 'F' 'M' 'F' 'M' 'F' 'M' 'F' 'M' 'F' 'M' 'F'\n",
      " 'M' 'F' 'M' 'F' 'M' 'F' 'M' 'F' 'M' 'F' 'M' 'F' 'M' 'F' 'M' 'F' 'M' 'F'\n",
      " 'M' 'F' 'M' 'F' 'M' 'F' 'M' 'F' 'M' 'F' 'M' 'F' 'M' 'F' 'M' 'F' 'M' 'F'\n",
      " 'M' 'F' 'M' 'F' 'M' 'F' 'M' 'F' 'M' 'F' 'M' 'F' 'M' 'F' 'M' 'F' 'M' 'F'\n",
      " 'M' 'F' 'M' 'F' 'M' 'F' 'M' 'F' 'M' 'F' 'M' 'F' 'M' 'F' 'M' 'F' 'M' 'F'\n",
      " 'M' 'F' 'M' 'F' 'M' 'F' 'M' 'F' 'M' 'F' 'M' 'F' 'M' 'F' 'M' 'F' 'M' 'F'\n",
      " 'M' 'F' 'M' 'F' 'M' 'F' 'M' 'F' 'M' 'F' 'M' 'F' 'M' 'F' 'M' 'F' 'M' 'F'\n",
      " 'M' 'F' 'M' 'F' 'M' 'F' 'M' 'F' 'M' 'F' 'M' 'F' 'M' 'F' 'M' 'F' 'M' 'F'\n",
      " 'M' 'F' 'M' 'F' 'M' 'F' 'M' 'F' 'F' 'M' 'F' 'M' 'F' 'M' 'F' 'M' 'F' 'M'\n",
      " 'F' 'M' 'F' 'M' 'F' 'M' 'F' 'M' 'F' 'M' 'F' 'M' 'F' 'M' 'F' 'M' 'F' 'M'\n",
      " 'F' 'M' 'F' 'M' 'F' 'M' 'F' 'M' 'F' 'M' 'F' 'M' 'F' 'M' 'F' 'M' 'F' 'M'\n",
      " 'F' 'M' 'F' 'M' 'F' 'M' 'F' 'M' 'F' 'M' 'F' 'M' 'F' 'M' 'F' 'M' 'F' 'M'\n",
      " 'F' 'M' 'F' 'M' 'F' 'M' 'F' 'M' 'F' 'M' 'F' 'M' 'F' 'M' 'F' 'M' 'F' 'M'\n",
      " 'F' 'M' 'F' 'M' 'F' 'M' 'F' 'M' 'F' 'M' 'F' 'M' 'F' 'M' 'F' 'M' 'F' 'M'\n",
      " 'F' 'M' 'F' 'M' 'F' 'M' 'F' 'M' 'F' 'M' 'F' 'M' 'F' 'M' 'F' 'M' 'F' 'M'\n",
      " 'F' 'M' 'F' 'M' 'F' 'M' 'F' 'M' 'F' 'M' 'F' 'M' 'F' 'M' 'F' 'M' 'F' 'M'\n",
      " 'F' 'M' 'F' 'M' 'F' 'M' 'F' 'M' 'F' 'M' 'F' 'M' 'F' 'M' 'F' 'M' 'F' 'M'\n",
      " 'F' 'M' 'F' 'M' 'F' 'M' 'F' 'M' 'F' 'M' 'F' 'M' 'F' 'M' 'F' 'M' 'F' 'M'\n",
      " 'F' 'M' 'F' 'M' 'F' 'M' 'F' 'M' 'F' 'M' 'F' 'M' 'F' 'M' 'F' 'M' 'F' 'M'\n",
      " 'F' 'M' 'F' 'M' 'F' 'M' 'F' 'M' 'F' 'M' 'F' 'M' 'F' 'M' 'F' 'M' 'F' 'M'\n",
      " 'F' 'M' 'F' 'M' 'F' 'M' 'F' 'M' 'F' 'M' 'F' 'M' 'F' 'M' 'F' 'M' 'F' 'M'\n",
      " 'F' 'M' 'F' 'M' 'F' 'M' 'F' 'M' 'F' 'M' 'F' 'M' 'F' 'M' 'F' 'M' 'F' 'M'\n",
      " 'F' 'F' 'M' 'F' 'M' 'F' 'M' 'F' 'M' 'F' 'M' 'F' 'M' 'F' 'M' 'F' 'M' 'F'\n",
      " 'M' 'F' 'M' 'F' 'M' 'F' 'M' 'F' 'M' 'F' 'M' 'F' 'M' 'F' 'M' 'F' 'M' 'F'\n",
      " 'M' 'F' 'M' 'F' 'M' 'F' 'M' 'F' 'M' 'F' 'M' 'F' 'M' 'F' 'M' 'F' 'M' 'F'\n",
      " 'M' 'F' 'M' 'F' 'M' 'F' 'M' 'F' 'M' 'F' 'M' 'F' 'M' 'F' 'M' 'F' 'M' 'F'\n",
      " 'M' 'F' 'M' 'F' 'M' 'F' 'M' 'F' 'M' 'F' 'M' 'F' 'M' 'F' 'M' 'F' 'M' 'F'\n",
      " 'M' 'F' 'M' 'F' 'M' 'F' 'M' 'F' 'M' 'F' 'M' 'F' 'M' 'F' 'M' 'F' 'M' 'F'\n",
      " 'M' 'F' 'M' 'F' 'M' 'F' 'M' 'F' 'M' 'F' 'M' 'F' 'M' 'F' 'M' 'F' 'M' 'F'\n",
      " 'M' 'F' 'M' 'F' 'M' 'F' 'M' 'F' 'M' 'F' 'M' 'F' 'M' 'F' 'M' 'F' 'M' 'F'\n",
      " 'M' 'F' 'M' 'F' 'M' 'F' 'M' 'F' 'M' 'F' 'M' 'F' 'M' 'F' 'M' 'F' 'M' 'F'\n",
      " 'M' 'F' 'M' 'F' 'M' 'F' 'M' 'F' 'M' 'F' 'M' 'F' 'M' 'F' 'M' 'F' 'M' 'F'\n",
      " 'M' 'F' 'M' 'F' 'M' 'F' 'M' 'F' 'M' 'F' 'M' 'F' 'M' 'F' 'M' 'F' 'M' 'F'\n",
      " 'M' 'F' 'M' 'F' 'M' 'F' 'M' 'F' 'M' 'F' 'M' 'F' 'M' 'F' 'M' 'F' 'M' 'F'\n",
      " 'M' 'F' 'M' 'F' 'M' 'F' 'M' 'F' 'M' 'F' 'M' 'F' 'M' 'F' 'M' 'F' 'M' 'F'\n",
      " 'M' 'F' 'M' 'F' 'M' 'F' 'M' 'F' 'M' 'F' 'M' 'F' 'M' 'F' 'F' 'M' 'F' 'M'\n",
      " 'F' 'M' 'F' 'M' 'F' 'M' 'F' 'M' 'F' 'M' 'F' 'M' 'F' 'M' 'F' 'M' 'F' 'M'\n",
      " 'F' 'M' 'F' 'M' 'F' 'M' 'F' 'M' 'F' 'M' 'F' 'M' 'F' 'M' 'F' 'M' 'F' 'M'\n",
      " 'F' 'M' 'F' 'M' 'F' 'M' 'F' 'M' 'F' 'M' 'F' 'M' 'F' 'M' 'F' 'M' 'F' 'M'\n",
      " 'F' 'M' 'F' 'M' 'F' 'M' 'F' 'M' 'F' 'M' 'F' 'M' 'F' 'M' 'F' 'M' 'F' 'M'\n",
      " 'F' 'M' 'F' 'M' 'F' 'M' 'F' 'M' 'F' 'M' 'F' 'M' 'F' 'M' 'F' 'M' 'F' 'M'\n",
      " 'F' 'M' 'F' 'M' 'F' 'M' 'F' 'M' 'F' 'M' 'F' 'M' 'F' 'M' 'F' 'M' 'F' 'M'\n",
      " 'F' 'M' 'F' 'M' 'F' 'M' 'F' 'M' 'F' 'M' 'F' 'M' 'F' 'M' 'F' 'M' 'F' 'M'\n",
      " 'F' 'M' 'F' 'M' 'F' 'M' 'F' 'M' 'F' 'M' 'F' 'M' 'F' 'M' 'F' 'M' 'F' 'M'\n",
      " 'F' 'M' 'F' 'M' 'F' 'M' 'F' 'M' 'F' 'M' 'F' 'M' 'F' 'M' 'F' 'M' 'F' 'M'\n",
      " 'F' 'M' 'F' 'M' 'F' 'M' 'F' 'M' 'F' 'M' 'F' 'M' 'F' 'M' 'F' 'M' 'M' 'F'\n",
      " 'M' 'F' 'M' 'F' 'M' 'F' 'M' 'F' 'M' 'F' 'M' 'F' 'M' 'F' 'M' 'F' 'M' 'F'\n",
      " 'M' 'F' 'M' 'F' 'M' 'F' 'M' 'F' 'M' 'F' 'M' 'F' 'M' 'F' 'M' 'F' 'M' 'F'\n",
      " 'M' 'F' 'M' 'F' 'M' 'F' 'M' 'F' 'M' 'F' 'M' 'F' 'M' 'F' 'M' 'F' 'M' 'F'\n",
      " 'M' 'F' 'M' 'F' 'M' 'F' 'M' 'F' 'M' 'F' 'M' 'F' 'M' 'F' 'M' 'F' 'M' 'F'\n",
      " 'M' 'F' 'M' 'F' 'M' 'F' 'M' 'F' 'M' 'F' 'M' 'F' 'M' 'F' 'M' 'F' 'M' 'F'\n",
      " 'M' 'F' 'M' 'F' 'M' 'F' 'M' 'F' 'M' 'F' 'M' 'F' 'M' 'F' 'M' 'F' 'M' 'F'\n",
      " 'M' 'F' 'M' 'F' 'M' 'F' 'M' 'F' 'M' 'F' 'M' 'F' 'M' 'F' 'M' 'F' 'M' 'F'\n",
      " 'M' 'F' 'M' 'F' 'M' 'F' 'M' 'F' 'M' 'F' 'M' 'F' 'M' 'F' 'M' 'F' 'M' 'F'\n",
      " 'M' 'F' 'M' 'F' 'M' 'F' 'M' 'F' 'M' 'F' 'M' 'F' 'M' 'F' 'M' 'F' 'M' 'F'\n",
      " 'M' 'F' 'M' 'F' 'M' 'F' 'M' 'F' 'M' 'F' 'M' 'F' 'M' 'F' 'M' 'F' 'M' 'F'\n",
      " 'M' 'F' 'M' 'F' 'M' 'F' 'M' 'F' 'M' 'F' 'M' 'F' 'M' 'F' 'M' 'F' 'M' 'F'\n",
      " 'M' 'F' 'M' 'F' 'M' 'F' 'M' 'F' 'M' 'F' 'M' 'F' 'M' 'F' 'M' 'F' 'M' 'F'\n",
      " 'M' 'F' 'M' 'F' 'M' 'F' 'M' 'F' 'M' 'F' 'M' 'F' 'M' 'F' 'M' 'F' 'M' 'F'\n",
      " 'M' 'F' 'M' 'F' 'M' 'F' 'M' 'F' 'M' 'F' 'M' 'F' 'M' 'F' 'M' 'F' 'M' 'F'\n",
      " 'M' 'F' 'M' 'F' 'M' 'F' 'M' 'F' 'M' 'F' 'M' 'F' 'M' 'F' 'M' 'F' 'M' 'F'\n",
      " 'M' 'F' 'M' 'F' 'M' 'F' 'M' 'F' 'M' 'F' 'M' 'F' 'M' 'F' 'M' 'F' 'M' 'F'\n",
      " 'M' 'F' 'M' 'F' 'M' 'F' 'M' 'F' 'M' 'F' 'M' 'F' 'M' 'F' 'M' 'F' 'M' 'F'\n",
      " 'M' 'F' 'M' 'F' 'M' 'F' 'M' 'F' 'M' 'F' 'M' 'F' 'M' 'F' 'M' 'F' 'M' 'F'\n",
      " 'M' 'F' 'M' 'F' 'M' 'F' 'M' 'F' 'M' 'F' 'M' 'F' 'M' 'F' 'M' 'F' 'M' 'F'\n",
      " 'M' 'F' 'M' 'F' 'M' 'F' 'M' 'F' 'M' 'F' 'M' 'F' 'M' 'F' 'M' 'F' 'M' 'F'\n",
      " 'M' 'F' 'M' 'F' 'M' 'F' 'M' 'F' 'M' 'F' 'M' 'F' 'M' 'F' 'M' 'F' 'M' 'F'\n",
      " 'M' 'F' 'M' 'F' 'M' 'F' 'M' 'F' 'M' 'F' 'M' 'F' 'M' 'F' 'M' 'F' 'M' 'F'\n",
      " 'M' 'F' 'M' 'F' 'M' 'F' 'M' 'F' 'M' 'F' 'M' 'F' 'M' 'F' 'M' 'F' 'M' 'F'\n",
      " 'M' 'F' 'M' 'F' 'M' 'F' 'M' 'F' 'M' 'F' 'M' 'F' 'M' 'F' 'M' 'F' 'M' 'F'\n",
      " 'M' 'F' 'M' 'F' 'M' 'F' 'M' 'F' 'M' 'F' 'M' 'F' 'M' 'F' 'M' 'F' 'M' 'F'\n",
      " 'M' 'F' 'M' 'F' 'M' 'F' 'M' 'F' 'M' 'F' 'M' 'F' 'M' 'F' 'M' 'F' 'M' 'F'\n",
      " 'M' 'F' 'M' 'F' 'M' 'F' 'M' 'F' 'M' 'F' 'M' 'F' 'M' 'F' 'M' 'F' 'M' 'F'\n",
      " 'M' 'M' 'F' 'M' 'F' 'M' 'F' 'M' 'F' 'M' 'F' 'M' 'F' 'M' 'F' 'M' 'F' 'M'\n",
      " 'F' 'M' 'F' 'M' 'F' 'M' 'F' 'M' 'F' 'M' 'F' 'M' 'F' 'M' 'F' 'M' 'F' 'M'\n",
      " 'F' 'M' 'F' 'M' 'F' 'M' 'F' 'M' 'F' 'M' 'F' 'M' 'F' 'M' 'F' 'M' 'F' 'M'\n",
      " 'F' 'M' 'F' 'M' 'F' 'M' 'F' 'M' 'F' 'M' 'F' 'M' 'F' 'M' 'F' 'M' 'F' 'M'\n",
      " 'F' 'M' 'F' 'M' 'F' 'M' 'F' 'M' 'F' 'M' 'F' 'M' 'F' 'M' 'F' 'M' 'F' 'M'\n",
      " 'F' 'M' 'F' 'M' 'F' 'M' 'F' 'M' 'F' 'M' 'F' 'M' 'F' 'M' 'F' 'M' 'F' 'M'\n",
      " 'F' 'M' 'F' 'M' 'F' 'M' 'F' 'M' 'F' 'M' 'F' 'M' 'F' 'M' 'F' 'M' 'F' 'F'\n",
      " 'M' 'F' 'M' 'F' 'M' 'F' 'M' 'F' 'M' 'F' 'M' 'F' 'M' 'F' 'M' 'F' 'M' 'F'\n",
      " 'M' 'F' 'M' 'F' 'M' 'F' 'M' 'F' 'M' 'F' 'M' 'F' 'M' 'F' 'M' 'F' 'M' 'F'\n",
      " 'M' 'F' 'M' 'F' 'M' 'F' 'M' 'F' 'M' 'F' 'M' 'F' 'M' 'F' 'M' 'F' 'M' 'F'\n",
      " 'M' 'F' 'M' 'F' 'M' 'F' 'M' 'F' 'M' 'F' 'M' 'F' 'M' 'F' 'M' 'F' 'M' 'F'\n",
      " 'M' 'F' 'M' 'F' 'M' 'F' 'M' 'F' 'M' 'F' 'M' 'F' 'M' 'F' 'M' 'F' 'M' 'F'\n",
      " 'M' 'F' 'M' 'F' 'M' 'F' 'M' 'F' 'M' 'F' 'M' 'F' 'M' 'F' 'M' 'F' 'M' 'F'\n",
      " 'M' 'F' 'M' 'F' 'M' 'F' 'M' 'F' 'M' 'F' 'M' 'F' 'M' 'M' 'F' 'M' 'F' 'M'\n",
      " 'F' 'M' 'F' 'M' 'F' 'M' 'F' 'M' 'F' 'M' 'F' 'M' 'F' 'M' 'F' 'M' 'F' 'M'\n",
      " 'F' 'M' 'F' 'M' 'F' 'M' 'F' 'M' 'F' 'M' 'F' 'M' 'F' 'M' 'F' 'M' 'F' 'M'\n",
      " 'F' 'M' 'F' 'M' 'F' 'M' 'F' 'M' 'F' 'M' 'F' 'M' 'F' 'M' 'F' 'M' 'F' 'M'\n",
      " 'F' 'M' 'F' 'M' 'M' 'F' 'M' 'F' 'M' 'F' 'M' 'F' 'M' 'F' 'M' 'F' 'M' 'F'\n",
      " 'M' 'F' 'M' 'F' 'M' 'F' 'M' 'F' 'M' 'F' 'M' 'F' 'M' 'F' 'M' 'F' 'M' 'F'\n",
      " 'M' 'F' 'M' 'F' 'M' 'F' 'M' 'F' 'M' 'F' 'M' 'F' 'M' 'F' 'M' 'F' 'M' 'F'\n",
      " 'M' 'F' 'M' 'F' 'M' 'F' 'M' 'F' 'M' 'F' 'M' 'F' 'M' 'F' 'M' 'F' 'M' 'F'\n",
      " 'M' 'F' 'M' 'F' 'M' 'F' 'M' 'F' 'M' 'F' 'M' 'F' 'M' 'F' 'M' 'F' 'M' 'F'\n",
      " 'M' 'F' 'M' 'F' 'M' 'F' 'M' 'F' 'M' 'F' 'M' 'F' 'M' 'F' 'M' 'F' 'M' 'F'\n",
      " 'M' 'F' 'M' 'F' 'M' 'F' 'M' 'F' 'M' 'F' 'M' 'F' 'M' 'F' 'M' 'M' 'F' 'M'\n",
      " 'F' 'M' 'F' 'M' 'F' 'M' 'F' 'M' 'F' 'M' 'F' 'M' 'F' 'M' 'F' 'M' 'F' 'M'\n",
      " 'F' 'M' 'F' 'M' 'F' 'M' 'F' 'M' 'F' 'M' 'F' 'M' 'F' 'M' 'F' 'M' 'F' 'M'\n",
      " 'F' 'M' 'F' 'M' 'F' 'M' 'F' 'M' 'F' 'M' 'F' 'M' 'F' 'M' 'F' 'M' 'F' 'M'\n",
      " 'F' 'M' 'F' 'M' 'F' 'M' 'F' 'F' 'M' 'F' 'M' 'F' 'M' 'F' 'M' 'F' 'M' 'F'\n",
      " 'M' 'F' 'M' 'F' 'M' 'F' 'M' 'F' 'M' 'F' 'M' 'F' 'M' 'F' 'M' 'F' 'M' 'F'\n",
      " 'M' 'F' 'M' 'F' 'M' 'F' 'M' 'F' 'M' 'F' 'M' 'F' 'M' 'F' 'M' 'F' 'M' 'F'\n",
      " 'M' 'F' 'M' 'F' 'M' 'F' 'M' 'F' 'M' 'F' 'M' 'F' 'M' 'F' 'F' 'M' 'F' 'M'\n",
      " 'F' 'M' 'F' 'M' 'F' 'M' 'F' 'M' 'F' 'M' 'F' 'M' 'F' 'M' 'F' 'M' 'F' 'M'\n",
      " 'F' 'M' 'F' 'M' 'F' 'M' 'F' 'M' 'F' 'M' 'F' 'M' 'F' 'M' 'F' 'M' 'F' 'M'\n",
      " 'F' 'M' 'F' 'M' 'F' 'M' 'F' 'M' 'F' 'M' 'F' 'M' 'F' 'M' 'F' 'M' 'F' 'M'\n",
      " 'F' 'M' 'F' 'M' 'F' 'M' 'F' 'M' 'F' 'M' 'F' 'M' 'F' 'M' 'F' 'M' 'F' 'M'\n",
      " 'F' 'M' 'F' 'M' 'F' 'M' 'F' 'M' 'F' 'M' 'F' 'M' 'F' 'M' 'F' 'M' 'F' 'M'\n",
      " 'F' 'M' 'F' 'M' 'F' 'M' 'F' 'M' 'F' 'M' 'F' 'M' 'F' 'M' 'F' 'M' 'F' 'M'\n",
      " 'F' 'M' 'F' 'M' 'F' 'M' 'F' 'M' 'F' 'M' 'F' 'M' 'F' 'M' 'F' 'M' 'F' 'M'\n",
      " 'F' 'M' 'F' 'M' 'F' 'M' 'F' 'M' 'F' 'M' 'F' 'M' 'F' 'M' 'F' 'M' 'F' 'M'\n",
      " 'F' 'M' 'F' 'M' 'F' 'M' 'F' 'M' 'F' 'M' 'F' 'M' 'F' 'M' 'F' 'M' 'F' 'M'\n",
      " 'F' 'M' 'F' 'M' 'F' 'M' 'F' 'M' 'F' 'M' 'F' 'M' 'F' 'M' 'F' 'M' 'F' 'M'\n",
      " 'F' 'M' 'F' 'M' 'F' 'M' 'F' 'M' 'F' 'M' 'F' 'M' 'F' 'M' 'F' 'M' 'F' 'M'\n",
      " 'F' 'M' 'F' 'M' 'F' 'M' 'F' 'M' 'F' 'M' 'F' 'M' 'F' 'M' 'F' 'M' 'F' 'M'\n",
      " 'F' 'M' 'F' 'M' 'F' 'M' 'F' 'M' 'F' 'M' 'F' 'M' 'F' 'M' 'F' 'M' 'F' 'M'\n",
      " 'F' 'M' 'F' 'M' 'F' 'M' 'F' 'M' 'F' 'M' 'F' 'M' 'F' 'M' 'F' 'M' 'F' 'M'\n",
      " 'F' 'M' 'F' 'M' 'F' 'M' 'F' 'M' 'F' 'M' 'F' 'M' 'F' 'M' 'F' 'M' 'F' 'M'\n",
      " 'F' 'M' 'F' 'M' 'F' 'M' 'F' 'M' 'F' 'M' 'F' 'M' 'F' 'M' 'F' 'M' 'F' 'M'\n",
      " 'F' 'M' 'F' 'M' 'F' 'M' 'F' 'M' 'F' 'M' 'F' 'M' 'F' 'M' 'F' 'M' 'F' 'M'\n",
      " 'F' 'M' 'F' 'M' 'F' 'M' 'F' 'M' 'F' 'M' 'F' 'M' 'F' 'M' 'F' 'M' 'F' 'M'\n",
      " 'F' 'M' 'F' 'M' 'F' 'M' 'F' 'M' 'F' 'M' 'F' 'M' 'F' 'M' 'F' 'M' 'F' 'M'\n",
      " 'F' 'M' 'F' 'M' 'F' 'M' 'F' 'M' 'F' 'M' 'F' 'M' 'F' 'M' 'F' 'M' 'F' 'M'\n",
      " 'F' 'M' 'F' 'M' 'F' 'M' 'F' 'M' 'F' 'M' 'F' 'M' 'F' 'M' 'F' 'M' 'F' 'M'\n",
      " 'F' 'M' 'F' 'M' 'F' 'M' 'F' 'M' 'F' 'M' 'F' 'M' 'F' 'M' 'F' 'M' 'F' 'M'\n",
      " 'F' 'M' 'F' 'M' 'F' 'M' 'F' 'M' 'F' 'M' 'F' 'M' 'F' 'M' 'F' 'M' 'F' 'M'\n",
      " 'F' 'M' 'F' 'M' 'F' 'M' 'F' 'M' 'F' 'M' 'F' 'M' 'F' 'M' 'F' 'M' 'F' 'M'\n",
      " 'F' 'M' 'F' 'M' 'F' 'M' 'F' 'M' 'F' 'M' 'F' 'M' 'F' 'M' 'F' 'M' 'F' 'M'\n",
      " 'F' 'M' 'F' 'M' 'F' 'M' 'F' 'M' 'F' 'M' 'F' 'M' 'F' 'M' 'F' 'M' 'F' 'M'\n",
      " 'F' 'M' 'F' 'M' 'F' 'M' 'F' 'M' 'F' 'M' 'F' 'M' 'F' 'M' 'F' 'M' 'F' 'M'\n",
      " 'F' 'M' 'F' 'M' 'F' 'M' 'F' 'M' 'F' 'M' 'F' 'M' 'F' 'M' 'F' 'M' 'F' 'M'\n",
      " 'F' 'M' 'F' 'M' 'F' 'M' 'F' 'M' 'F' 'M' 'F' 'M' 'F' 'M' 'F' 'M' 'F' 'M'\n",
      " 'F' 'M' 'F' 'M' 'F' 'M' 'F' 'M' 'F' 'M' 'F' 'M' 'F' 'M' 'F' 'M' 'F' 'M'\n",
      " 'F' 'M' 'F' 'M' 'F' 'M' 'F' 'M' 'F' 'M' 'F' 'M' 'F' 'M' 'F' 'M' 'F' 'M'\n",
      " 'F' 'M' 'F' 'M' 'F' 'M' 'F' 'M' 'F' 'M' 'F' 'M' 'F' 'M' 'F' 'M' 'F' 'M'\n",
      " 'F' 'M' 'F' 'M' 'F' 'M' 'F' 'M' 'F' 'M' 'F' 'M' 'F' 'M' 'F' 'M' 'F' 'M'\n",
      " 'F' 'M' 'F' 'M' 'F' 'M' 'F' 'M' 'F' 'M' 'F' 'M' 'F' 'M' 'F' 'M' 'F' 'M'\n",
      " 'F' 'M' 'F' 'M' 'F' 'M' 'F' 'M' 'F' 'M' 'F' 'M' 'F' 'M' 'F' 'M' 'F' 'M'\n",
      " 'F' 'M' 'F' 'M' 'F' 'M' 'F' 'M' 'F' 'M' 'F' 'M' 'F' 'M' 'F' 'M' 'F' 'M'\n",
      " 'F' 'M' 'F' 'M' 'F' 'M' 'F' 'M' 'F' 'M' 'F' 'M' 'F' 'M' 'F' 'M' 'F' 'M'\n",
      " 'F' 'M' 'F' 'M' 'F' 'M' 'F' 'M' 'F' 'M' 'F' 'M' 'F' 'M' 'F' 'M' 'F' 'M'\n",
      " 'F' 'M' 'F' 'M' 'F' 'M' 'F' 'M' 'F' 'M' 'F' 'M' 'F' 'M' 'F' 'M' 'F' 'M'\n",
      " 'F' 'M' 'F' 'M' 'F' 'M' 'F' 'M' 'F' 'M' 'F' 'M' 'F' 'M' 'F' 'M' 'F' 'M'\n",
      " 'F' 'M' 'F' 'M' 'F' 'M' 'F' 'M' 'F' 'M' 'F' 'F' 'M' 'F' 'M' 'F' 'M' 'F'\n",
      " 'M' 'F' 'M' 'F' 'M' 'F' 'M' 'F' 'M' 'F' 'M' 'F' 'M' 'F' 'M' 'F' 'M' 'F'\n",
      " 'M' 'F' 'M' 'F' 'M' 'F' 'M' 'F' 'M' 'F' 'M' 'F' 'M' 'F' 'M' 'F' 'M' 'F'\n",
      " 'M' 'F' 'M' 'F' 'M' 'F' 'M' 'F' 'M' 'F' 'M' 'F' 'M' 'F' 'M' 'F' 'M' 'F'\n",
      " 'M' 'F' 'F' 'M' 'F' 'M' 'F' 'M' 'F' 'M' 'F' 'M' 'F' 'M' 'F' 'M' 'F' 'M'\n",
      " 'F' 'M' 'F' 'M' 'F' 'M' 'F' 'M' 'F' 'M' 'F' 'M' 'F' 'M' 'F' 'M' 'F' 'M'\n",
      " 'F' 'M' 'F' 'M' 'F' 'M' 'F' 'M' 'F' 'M' 'F' 'M' 'F' 'M' 'F' 'M' 'F' 'M'\n",
      " 'F' 'M' 'F' 'M' 'F' 'M' 'F' 'M' 'F' 'M' 'F' 'M' 'F' 'M' 'F' 'M' 'F' 'M'\n",
      " 'F' 'M' 'F' 'M' 'F' 'M' 'F' 'M' 'F' 'M' 'F' 'M' 'F' 'M' 'F' 'M' 'F' 'M'\n",
      " 'F' 'M' 'F' 'M' 'F' 'M' 'F' 'M' 'F' 'M' 'F' 'M' 'F' 'M' 'F' 'M' 'F' 'M'\n",
      " 'F' 'M' 'F' 'M' 'F' 'M' 'F' 'M' 'F' 'M' 'F' 'M' 'F' 'M' 'F' 'M' 'F' 'M'\n",
      " 'F' 'M' 'F' 'M' 'F' 'M' 'F' 'M' 'F' 'M' 'F' 'M' 'F' 'M' 'F' 'M' 'F' 'M'\n",
      " 'F' 'M' 'F' 'M' 'F' 'M' 'F' 'M' 'F' 'M' 'F' 'M' 'F' 'M' 'F' 'M' 'F' 'M'\n",
      " 'F' 'M' 'F' 'M' 'F' 'M' 'F' 'M' 'F' 'M' 'F' 'M' 'F' 'M' 'F' 'M' 'F' 'M'\n",
      " 'F' 'M' 'F' 'M' 'F' 'M' 'F' 'M' 'F' 'M' 'F' 'M' 'F' 'M' 'F' 'M' 'F' 'M'\n",
      " 'F' 'M' 'F' 'M' 'F' 'M' 'F' 'M' 'F' 'M' 'F' 'M' 'F' 'M' 'F' 'M' 'F' 'M'\n",
      " 'F' 'M' 'F' 'M' 'F' 'M' 'F' 'M' 'F' 'M' 'F' 'M' 'F' 'M' 'F' 'M' 'F' 'M'\n",
      " 'F' 'M' 'F' 'M' 'F' 'M' 'F' 'M' 'F' 'M' 'F' 'M' 'F' 'M' 'F' 'M' 'F' 'M'\n",
      " 'F' 'M' 'F' 'M' 'F' 'M' 'F' 'M' 'F' 'M' 'F' 'M' 'F' 'M' 'F' 'M' 'F' 'M'\n",
      " 'F' 'M' 'F' 'M' 'F' 'M' 'F' 'M' 'F' 'M' 'F' 'M' 'F' 'M' 'F' 'M' 'F' 'M'\n",
      " 'F' 'M' 'F' 'M' 'F' 'M' 'F' 'M' 'F' 'M' 'F' 'M' 'F' 'M' 'F' 'M' 'F' 'M'\n",
      " 'F' 'M' 'F' 'M' 'M' 'F' 'M' 'F' 'M' 'F' 'M' 'F' 'M' 'F' 'M' 'F' 'M' 'F'\n",
      " 'M' 'F' 'M' 'F' 'M' 'F' 'M' 'F' 'M' 'F' 'M' 'F' 'M' 'F' 'M' 'F' 'M' 'F'\n",
      " 'M' 'F' 'M' 'F' 'M' 'F' 'M' 'F' 'M' 'F' 'M' 'F' 'M' 'F' 'M' 'F' 'M' 'F'\n",
      " 'M' 'F' 'M' 'F' 'M' 'F' 'M' 'F' 'M' 'F' 'M' 'F' 'M' 'F' 'M' 'F' 'M' 'F'\n",
      " 'M' 'F' 'M' 'F' 'M' 'F' 'M' 'F' 'M' 'F' 'M' 'F' 'M' 'F' 'M' 'F' 'M' 'F'\n",
      " 'M' 'F' 'M' 'F' 'M' 'F' 'M' 'F' 'M' 'F' 'M' 'F' 'M' 'F' 'M' 'F' 'M' 'F'\n",
      " 'M' 'F' 'M' 'F' 'M' 'F' 'M' 'F' 'M' 'F' 'M' 'F' 'M' 'F' 'M' 'F' 'M' 'F'\n",
      " 'M' 'F' 'M' 'F' 'M' 'F' 'M' 'F' 'M' 'F' 'M' 'F' 'M' 'F' 'M' 'F' 'M' 'F'\n",
      " 'M' 'F' 'M' 'F' 'M' 'F' 'M' 'F' 'M' 'F' 'M' 'F' 'M' 'F' 'M' 'F' 'M' 'F'\n",
      " 'M' 'F' 'M' 'F' 'M' 'F' 'M' 'F' 'M' 'F' 'M' 'F' 'M' 'F' 'M' 'F' 'M' 'F'\n",
      " 'M' 'F' 'M' 'F' 'M' 'F' 'M' 'F' 'M' 'F' 'M' 'F' 'M' 'F' 'M' 'F' 'M' 'F'\n",
      " 'M' 'F' 'M' 'F' 'M' 'F' 'M' 'F' 'M' 'F' 'M' 'F' 'M' 'F' 'M' 'F' 'M' 'F'\n",
      " 'M' 'F' 'M' 'F' 'M' 'F' 'M' 'F' 'M' 'F' 'M' 'F' 'M' 'F' 'M' 'F' 'M' 'F'\n",
      " 'M' 'F' 'M' 'F' 'M' 'F' 'M' 'F' 'M' 'F' 'M' 'F' 'M' 'F' 'M' 'F' 'M' 'F'\n",
      " 'M' 'F' 'M' 'F' 'M' 'F' 'M' 'F' 'M' 'F' 'M' 'F' 'M' 'F' 'M' 'F' 'M' 'F'\n",
      " 'M' 'F' 'M' 'F' 'M' 'F' 'M' 'F' 'M' 'F' 'M' 'F' 'M' 'F' 'M' 'F' 'M' 'F'\n",
      " 'M' 'F' 'M' 'F' 'M' 'F' 'M' 'F' 'M' 'F' 'M' 'F' 'M' 'F' 'M' 'F' 'M' 'F'\n",
      " 'M' 'F' 'M' 'F' 'M' 'F' 'M' 'F' 'M' 'F' 'M' 'F' 'M' 'F' 'M' 'F' 'M' 'F'\n",
      " 'M' 'F' 'M' 'F' 'M' 'F' 'M' 'F' 'M' 'F' 'M' 'F' 'M' 'F' 'M' 'F' 'M' 'F'\n",
      " 'M' 'F' 'M' 'F' 'M' 'F' 'M' 'F' 'M' 'F' 'M' 'F' 'M' 'F' 'M' 'F' 'M' 'F'\n",
      " 'M' 'F' 'M' 'F' 'M' 'F' 'M' 'F' 'M' 'F' 'M' 'F' 'M' 'F' 'M' 'F' 'M' 'F'\n",
      " 'M' 'F' 'M' 'F' 'M' 'F' 'M' 'F' 'M' 'F' 'M' 'F' 'M' 'F' 'M' 'F' 'M' 'F'\n",
      " 'M' 'F' 'M' 'F' 'M' 'F' 'M' 'F' 'M' 'F' 'M' 'F' 'M' 'F' 'M' 'F' 'M' 'F'\n",
      " 'M' 'F' 'M' 'F' 'M' 'F' 'M' 'F' 'M' 'F' 'M' 'F' 'M' 'F' 'M' 'F' 'M' 'F'\n",
      " 'M' 'F' 'M' 'F' 'M' 'F' 'M' 'F' 'M' 'F' 'M' 'F' 'M' 'F' 'M' 'F' 'M' 'F'\n",
      " 'M' 'F' 'M' 'F' 'M' 'F' 'M' 'F' 'M' 'F' 'M' 'F' 'M' 'F' 'M' 'F' 'M' 'F'\n",
      " 'M' 'F' 'M' 'F' 'M' 'F' 'M' 'F' 'M' 'F' 'M' 'F' 'M' 'F' 'M' 'F' 'M' 'F'\n",
      " 'M' 'F' 'M' 'F' 'M' 'F' 'M' 'F' 'M' 'F' 'M' 'F' 'M' 'F' 'M' 'F' 'M' 'F'\n",
      " 'M' 'F' 'M' 'F' 'M' 'F' 'M' 'F' 'M' 'F' 'M' 'F' 'M' 'F' 'M' 'F' 'M' 'F'\n",
      " 'M' 'F' 'M' 'F' 'M' 'F' 'M' 'F' 'M' 'F' 'M' 'F' 'M' 'F' 'M' 'F' 'M' 'F'\n",
      " 'M' 'F' 'M' 'F' 'M' 'F' 'M' 'F' 'M' 'F' 'M' 'F' 'M' 'F' 'M' 'F' 'M' 'F'\n",
      " 'M' 'F' 'M' 'F' 'M' 'F' 'M' 'F' 'M' 'F' 'M' 'F' 'M' 'F' 'M' 'F' 'M' 'F'\n",
      " 'M' 'F' 'M' 'F' 'M' 'F' 'M' 'F' 'M' 'F' 'M' 'F' 'M' 'F' 'M' 'F' 'M' 'F'\n",
      " 'M' 'F' 'M' 'F' 'M' 'F' 'M' 'F' 'M' 'F' 'M' 'F' 'M']\n"
     ]
    }
   ],
   "source": [
    "# for genders\n",
    "\n",
    "genders = np.array(us_births['gender'])\n",
    "print(f\"The genders are:'\\n' {genders}\")"
   ]
  },
  {
   "cell_type": "code",
   "execution_count": 7,
   "id": "efcc94df",
   "metadata": {},
   "outputs": [
    {
     "name": "stdout",
     "output_type": "stream",
     "text": [
      "The births are:'\n",
      "' [  4046   4440   4454   4548   4548   4994   4440   4520   4192   4198\n",
      "   4710   4850   4646   5092   4800   4934   4592   4842   4852   5190\n",
      "   4580   4598   4126   4324   4758   5076   5070   5296   4798   5096\n",
      "   4790   4872   4944   5030   4670   4642   4170   4452   4884   4924\n",
      "   5042   5432   4796   5088   4794   4660   4752   5046   4348   4674\n",
      "   4230   4338   4864   5046   4860   5172   4500   4880   4668   5006\n",
      "   4780   4912     26     38   4394   4736   4334   4480   4878   5110\n",
      "   4796   5200   4674   5002   4760   4968   4940   5162   4626   4636\n",
      "   4252   4442   4958   4996   4796   5060   4780   5228   4850   4756\n",
      "   5092   5262   4598   4712   4118   4416   4768   5054   4962   5214\n",
      "   4788   5028   4920   5062   4940   4976   4484   4668   4298   4406\n",
      "   4798   5168   5196   5370   4838   5210   4588   5030   4792   4964\n",
      "     50     16     24     28     24     20     42     48   4402   4784\n",
      "   4204   4376   4874   5194   4994   5270   4958   5088   4640   5064\n",
      "   4658   5290   4462   4872   4146   4248   4816   5076   5096   5092\n",
      "   4800   4976   4710   4930   4936   5098   4300   4538   4110   4226\n",
      "   4788   5340   4910   5226   4968   5096   4738   5074   4832   5070\n",
      "   4446   4516   4240   4362   4730   5072   4976   5296   4822   4996\n",
      "   4628   5070   4968   5358   4292   4616   3986   4200   4590   5002\n",
      "     64     50   4990   4970   4766   5212   4682   4848   4718   4854\n",
      "   4384   4364   3896   4112   4418   4956   4930   5246   4748   5104\n",
      "   4730   4978   4848   5072   4318   4622   3886   4248   4726   4840\n",
      "   5064   5364   4804   5036   4832   5044   4832   5040   4292   4702\n",
      "   3760   4168   4828   4782   5016   5210   4660   5208   4620   4852\n",
      "   4610   5036   4338   4584   3846   4120   4622   4896   4622   5078\n",
      "   4396   4742     28     24     50     66   4598   4608   4708   5028\n",
      "   4148   4620   3922   4172   4854   5076   4906   5058   4724   4902\n",
      "   4564   4920   4634   4728   4072   4444   3998   4124   4570   4736\n",
      "   4776   5086   4402   4782   4646   4878   4880   4944   4376   4570\n",
      "   3922   4106   4626   4868   5034   5354   4698   5068   4630   4776\n",
      "   4548   5036   4174   4384   4030   4196   4752   5088   5264   5088\n",
      "   4966   4972   4878   5312   4452   4702   4112   4528     54     52\n",
      "   4174   4252   4736   5126   5146   5012   4750   5088   4686   4902\n",
      "   4864   5142   4342   4472   3958   4268   4826   4912   4920   5400\n",
      "   4760   5190   4980   5240   4772   5080   4358   4562   4046   4356\n",
      "   4628   5116   5150   5144   4864   5356   4630   5126   5122   5302\n",
      "   4328   4706   4136   4476   4842   5038   5180   5444   5196   5270\n",
      "   5016   5328   5288   5488   4610   4956   4262   4538   5260   5328\n",
      "     20     40     54     48   5378   5768   5242   5516   5030   5532\n",
      "   4504   4664   4492   4756   4246   4614   5138   5496   5282   5560\n",
      "   5132   5444   5166   5396   5210   5476   4596   4876   4454   4524\n",
      "   4768   5474   5486   5810   5086   5612   5194   5474   5242   5390\n",
      "   4838   4836   4320   4620   4984   5212   5408   5632   5092   5376\n",
      "   5124   5306   5126   5562   4734   5052   4626   4782   4990   5558\n",
      "   5434   5668   5192   5442   5076   5270     24     44   5112   5618\n",
      "   4872   5110   4464   4618   5118   5332   5418   5526   5232   5620\n",
      "   5066   5316   5376   5926   4968   5124   4394   4712   5120   5586\n",
      "   5542   5596   5210   5592   5290   5436   5298   5612   4774   4998\n",
      "   4482   4642   5120   5530   5550   5860   5226   5692   4962   5222\n",
      "   5170   5416   4682   4978   4438   4646   5104   5482   5400   5682\n",
      "   5076   5562   5162   5454   5138   5576   4680   5028   4358   4628\n",
      "     54     58   4440   4572   5174   5512   5210   5834   5172   5334\n",
      "   5032   5578   4722   4988   4514   4682   5030   5478   5172   5426\n",
      "   5020   5430   5042   5366   5226   5526   4744   4790   4552   4652\n",
      "   5122   5606   5390   5752   5268   5596   5288   5588   5422   5410\n",
      "   4930   5110   4712   4656   5374   5596   5504   5796   5250   5648\n",
      "   5278   5562   5508   5646   4986   5184   4564   4634   5192   5516\n",
      "   5454   5684     38     30     60     48   5290   5620   5322   5334\n",
      "   5324   5598   4732   4978   4464   4508   5008   5310   5150   5504\n",
      "   5194   5316   5268   5442   5398   5350   4640   4926   4428   4586\n",
      "   4894   5102   5048   5570   4884   5236   4836   5082   5088   5250\n",
      "   4382   4790   4092   4494   4876   5272   5088   5586   5018   5282\n",
      "   4790   5024   4920   5090   4416   4842   4300   4564   5054   5318\n",
      "   5096   5544   4920   5184   4930   5180   4836   5308     48     48\n",
      "   4676   4666   4376   4528   4952   5386   5114   5658   4832   5188\n",
      "   5090   5150   5172   5488   4726   4952   4342   4680   5024   5318\n",
      "   5252   5626   4862   5462   5028   5072   5210   5186   4480   4818\n",
      "   4290   4370   4966   5320   5346   5352   5000   5260   5072   5186\n",
      "   4846   5322   4576   4862   4354   4512   5186   5276   5318   5546\n",
      "   4874   5200   4084   4164   4838   5110   4536   4796   4448   4518\n",
      "     54     62     40     56   5124   5524   5224   5512   4948   5352\n",
      "   5042   5212   4988   5440   4602   4818   4178   4562   5240   5406\n",
      "   5246   5484   5108   5240   5052   5248   5254   5504   4680   4922\n",
      "   4174   4588   5328   5570   5368   5654   5138   5508   5180   5246\n",
      "   5366   5546   4964   4858   4434   4430   5194   5298   4820   5036\n",
      "   4322   4656   4136   4148   4826   5084   4544   4760   4344   4660\n",
      "   5364   5616   5988   6244   5602   5520     44     54   4064   4308\n",
      "   4536   4698   4398   4764   3968   4652   4718   5134   4998   5204\n",
      "   4910   5110   4744   5012   4828   5016   4490   4780   4476   4682\n",
      "   5056   5418   5078   5502   4986   5258   4764   5182   4992   5284\n",
      "   4662   4936   4378   4570   4946   5178   5084   5440   4908   5188\n",
      "   4684   5002   5012   5190   4746   4724   4312   4480   4972   5188\n",
      "   5090   5512   4894   5294   4792   5024   4856   5056   4328   4684\n",
      "     84     54   4380   4662   5128   5414   5096   5616   4848   5238\n",
      "   4802   4964   5122   5098   4652   4910   4226   4790   5016   5210\n",
      "   5218   5402   4990   5298   4958   5100   4986   5124   4652   4906\n",
      "   4598   4538   5056   5204   5160   5516   5120   5352   4792   5280\n",
      "   5214   5330   4556   4758   4458   4528   5000   5168   5386   5396\n",
      "   5254   5320   5204   5204   4992   5272   4796   4924     38     44\n",
      "     20     12      8      6    100     78   4390   4492   5050   5120\n",
      "   5334   5972   5116   5484   4958   5300   5216   5288   4568   4892\n",
      "   4342   4584   5092   5248   5222   5522   5108   5302   5000   5180\n",
      "   4890   5250   4514   4936   4098   4498   4820   5238   5120   5574\n",
      "   4986   5292   4802   5298   5018   5188   4572   4818   4296   4488\n",
      "   5000   5334   5064   5492   4888   5260   4834   5052   4650   5142\n",
      "   4258   4506   4028   4286   4766   5000   5098   5074    100    140\n",
      "   4838   5164   4834   5300   4936   5180   4594   4640   4250   4272\n",
      "   4956   5096   5222   5252   4856   5094   4798   5100   4902   5170\n",
      "   4388   4652   3970   4244   4592   4878   4874   5226   4846   4978\n",
      "   4678   4990   4630   5076   4286   4500   4002   4172   4720   4854\n",
      "   4996   5102   4774   4940   4632   4886   4848   5012   4224   4600\n",
      "   3918   4360   4834   5076   5086   5214   4744   4984   4700   4984\n",
      "     26     18     54     68   4780   5166   4170   4570   3774   4262\n",
      "   4904   4848   4946   5190   4848   4864   4806   4826   4730   5106\n",
      "   4398   4598   3986   4442   5032   5048   5148   5288   4846   5180\n",
      "   4788   5024   4920   5294   4306   4640   3826   4204   4842   5180\n",
      "   5100   5336   4950   5094   5036   5208   5010   5352   4684   4740\n",
      "   4256   4462   5028   5048   5104   5494   4770   5264   4850   5190\n",
      "   4758   5226   4318   4550   3950   4438     72     72   5118   5006\n",
      "   5242   5640   5036   5234   4760   5204   4818   5242   4756   4760\n",
      "   4086   4414   4770   5176   5236   5528   5058   5272   5146   5372\n",
      "   5194   5580   4414   4798   4230   4384   5038   5178   5308   5570\n",
      "   5108   5502   5180   5340   5080   5310   4768   4832   4106   4462\n",
      "   4970   5382   5156   5522   5298   5346   5088   5238   5158   5464\n",
      "   4720   4952   4342   4386   4996   5510   5494   5884     14     14\n",
      "    102     86   5376   5732   5370   5864   5078   5438   4608   4772\n",
      "   4492   4528   4910   5608   5358   5934   5298   5598   5224   5492\n",
      "   5226   5636   4566   5124   4606   4578   5086   5482   5620   6208\n",
      "   5430   5648   5318   5730   5334   5604   4856   5110   4590   4930\n",
      "   5348   5634   5506   5942   5138   5544   5340   5504   5312   5644\n",
      "   4786   5080   4508   4958   5370   5682   5752   6106   5556   5798\n",
      "   5302   5754   5502   5798    106    120   4966   5450   4480   4802\n",
      "   5420   5760   5346   5834   5332   5540   5308   5528   5376   5646\n",
      "   4914   5318   4628   4830   5178   5668   5554   6012   5522   5962\n",
      "   5350   5710   5656   5882   4916   5320   4766   4850   5404   5628\n",
      "   5510   6138   5402   5732   5340   5528   5448   5602   4720   5238\n",
      "   4494   4780   5198   5258   5566   5818   5560   5746   5146   5518\n",
      "   5460   5544   4802   5240   4396   4996   5528   5550    108    104\n",
      "   5506   5844   5256   5680   5366   5722   5574   5792   4982   5234\n",
      "   4542   4944   4658   4906   5444   5866   5740   6120   5540   6114\n",
      "   5640   5952   4960   5258   4750   4794   5432   5872   5806   6098\n",
      "   5558   6146   5636   5836   5606   5940   5134   5358   4922   5054\n",
      "   5558   6056   5986   6480   5666   6132   5574   5874   5750   6166\n",
      "   4992   5412   4800   5016   5642   5698   5706   5858   5416   5828\n",
      "     40     34    116    114   5364   5418   5514   5696   5116   5376\n",
      "   4544   4828   5450   5598   5786   5796   5404   5616   5418   5354\n",
      "   5528   5668   4824   4966   4440   4774   5438   5578   5530   5706\n",
      "   5376   5506   5180   5464   5156   5548   4580   4910   4380   4544\n",
      "   5028   5472   5506   5632   5282   5434   5002   5476   5158   5496\n",
      "   4618   4980   4458   4808   5092   5524   5634   5322   4844   5418\n",
      "   4964   5158   5198   5416   4730   4862    266    270   4588   4482\n",
      "   5102   5466   5446   5700   5148   5474   5120   5334   5294   5428\n",
      "   4674   4786   4366   4766   5226   5336   5610   5718   5272   5340\n",
      "   5098   5606   5390   5460   4822   5006   4514   4768   5184   5506\n",
      "   5346   5836   5274   5640   5324   5504   5440   5686   4862   5064\n",
      "   4332   4594   5158   5782   5514   5638   5182   5360   4274   4438\n",
      "   4880   5158   4732   4938   4474   4716   5402   5724     14     20\n",
      "    150    118   5530   5798   5514   5666   5110   5258   5296   5576\n",
      "   4710   4900   4480   4792   5252   5468   5402   5818   5190   5518\n",
      "   5192   5564   5224   5480   4948   5092   4550   4654   5438   5632\n",
      "   5682   6202   5484   6102   5442   5792   5728   5980   5092   5426\n",
      "   4586   4736   5494   5878   5308   5700   4854   5216   4532   4588\n",
      "   4130   4360   4560   4806   4506   4808   5658   5982   6204   6244\n",
      "   5820   6112   5568   5642    184    220   4214   4634   4460   4766\n",
      "   4288   4510   4868   5176   5012   5526   4848   5298   4974   5056\n",
      "   5182   5304   4564   4716   4480   4636   5310   5514   5382   5682\n",
      "   5118   5546   5030   5334   5212   5662   4648   4942   4400   4406\n",
      "   5340   5634   5542   5478   5176   5422   5104   5388   5176   5554\n",
      "   4778   5024   4340   4654   5280   5278   5424   5572   5096   5346\n",
      "   4910   5482   4944   5330   4700   5072   4474   4590      8     12\n",
      "   5056   5354   5120   5684   5048   5248   4872   5298   5280   5588\n",
      "   4572   4906   4402   4636   5018   5248   5170   5608   5210   5144\n",
      "   5020   5352   5310   5476   4524   4790   4446   4622   4928   5128\n",
      "   5178   5336   5062   5380   4970   5258   5040   5432   4596   4906\n",
      "   4388   4806   5148   5604   5358   5424   5194   5338   5008   5394\n",
      "   5276   5462   4690   4896   4388   4422      4      2      6     14\n",
      "     14   5036   5244   5016   5382   5312   5322   5092   5234   5020\n",
      "   5432   4660   4800   4380   4364   4854   5302   5142   5624   5066\n",
      "   5404   5010   5290   5092   5382   4602   4806   4336   4502   5132\n",
      "   5216   5050   5388   4970   5264   4780   5018   5082   5394   4554\n",
      "   4610   4222   4466   4812   5330   5030   5310   4844   4964   4894\n",
      "   5060   4772   5098   4282   4514   4228   4444   4918   5302   5160\n",
      "   5256   4966   5258     10      8   4818   4938   5020   5246   4256\n",
      "   4620   4090   4244   4940   5042   5054   5388   4790   4956   4822\n",
      "   4940   4702   5054   4116   4546   3900   4190   4650   5056   4930\n",
      "   5366   4814   5130   4666   4944   4850   5084   4376   4538   3986\n",
      "   4194   4962   4956   4874   5398   4880   5068   4708   5004   4698\n",
      "   5086   4248   4590   3808   4176   4800   5156   5082   5390   4714\n",
      "   4950   4658   5054   4758   4994      4      2     16     14   4312\n",
      "   4514   3884   4026   4560   4812   4660   5180   4474   4836   4354\n",
      "   4802   4808   4946   4228   4382   4080   4178   4688   4948   4756\n",
      "   5244   4724   4994   4592   4810   4574   5080   4040   4384   3862\n",
      "   4070   4726   5070   5108   5234   4750   5068   4658   4910   4650\n",
      "   4830   4090   4290   3734   4088   4754   5044   4984   5250   4616\n",
      "   5006   4770   4782   4750   5026   4222   4370   3770   4114   3946\n",
      "   4478     14     22   4852   5060   4720   5106   4812   5120   5114\n",
      "   5214   4310   4634   4168   4194   4624   5156   5008   5024   4778\n",
      "   5054   4616   4808   4742   5072   4504   4320   3984   4112   4754\n",
      "   5056   4704   5234   4756   4994   4692   4696   5072   4872   4282\n",
      "   4420   4062   4132   4768   4952   5026   5096   4602   4998   4740\n",
      "   4944   5024   5262   4316   4620   3950   4100   4840   5146   5000\n",
      "   5132   4960   5166      8     24     12   4906   5224   4812   5202\n",
      "   4308   4388   3898   4228   4154   4492   5058   5122   5172   5370\n",
      "   4982   5194   4948   5548   4396   4764   4116   4358   4710   5218\n",
      "   5008   5498   5090   5404   4900   5164   4990   5560   4488   4936\n",
      "   4142   4466   4828   5146   4996   5464   4906   5508   4930   5334\n",
      "   5146   5394   4510   4944   4120   4530   5030   5226   5328   5458\n",
      "   5034   5296   4974   5300   5218   5354   4512   4796     24     14\n",
      "   4286   4288   5038   5286   5222   5718   5134   5398   5024   4956\n",
      "   5046   5212   4644   4804   4438   4666   5012   5324   5314   5850\n",
      "   5118   5728   5050   5232   5092   5276   4678   4942   4414   4422\n",
      "   5032   5146   5128   5498   5090   5352   5118   5268   5236   5634\n",
      "   4788   4866   4296   4570   5120   5278   5304   5400   5128   5206\n",
      "   5100   5444   5142   5252   4546   4978   4164   4556   4866   5202\n",
      "   5214   5552     16     20   5088   5328   4990   5228   5230   5558\n",
      "   4782   4784   4342   4510   4694   4558   5252   5602   5402   5586\n",
      "   5284   5698   5346   5564   4716   4826   4242   4674   5188   5394\n",
      "   5444   5590   5364   5352   5210   5570   5246   5758   4932   4950\n",
      "   4450   4660   5280   5422   5336   5728   5164   5422   5336   5372\n",
      "   5310   5552   4738   4846   4610   4770   5300   5486   5548   5924\n",
      "   5410   5580   5412   5496      2     14     34     50   5352   5570\n",
      "   4950   4656   4314   4486   5236   5370   5244   5630   5042   5302\n",
      "   5116   5176   5128   5268   4226   4844   4348   4712   5062   5204\n",
      "   5198   5332   5070   5140   4906   5280   5010   5170   4450   4700\n",
      "   4300   4204   5060   5138   5074   5416   4810   5060   4808   5182\n",
      "   4970   5072   4318   4414   4090   4326   4666   4900   4922   5132\n",
      "   4918   4978   4812   4990   4804   5118   4154   4460   4282   4334\n",
      "     16     28   4596   5040   4942   5024   4712   5082   4692   4824\n",
      "   4926   4936   4272   4428   4064   4168   4776   4964   5026   5140\n",
      "   4774   4916   4758   4802   5002   5106   4396   4452   4032   4326\n",
      "   4916   4944   4882   5256   4626   5100   4708   5130   4922   5214\n",
      "   4308   4624   4074   4212   4706   5188   4944   5188   4742   4844\n",
      "   3684   3882   4430   4712   4048   4514   3966   4274   4696   5052\n",
      "   4584   5182      6      4      8     16   4694   4940   4480   4686\n",
      "   4578   4714   4292   4500   4120   4134   4790   4942   4912   5114\n",
      "   4674   4890   4622   4904   4680   5198   4250   4338   3874   4228\n",
      "   4610   4892   4960   5226   4856   5030   4882   4888   4750   5186\n",
      "   4184   4338   3904   4048   4944   5158   5102   5204   4388   4630\n",
      "   3972   4294   3746   4080   3556   3684   3706   3914   4692   5000\n",
      "   5218   5276   4936   5244   5048   5108   4520   4654     18     10\n",
      "   3653   4040   3844   3951   4518   4418   4464   4777   4333   4619\n",
      "   4268   4470   4614   4716   4037   4205   3852   4059   4572   4775\n",
      "   4855   4933   4598   4714   4628   4657   4663   4959   3925   4110\n",
      "   3737   3927   4477   4945   4842   5030   4543   4883   4474   4867\n",
      "   4629   4739   4309   4501   4046   4102   4740   4906   4648   5130\n",
      "   4540   4616   4388   4668   4433   4744   4078   4154   3944   3982\n",
      "   4526   4745     12     12   4768   4895   4586   4784   4511   4716\n",
      "   4553   4806   4124   4199   3839   4126   4520   4775   4658   4940\n",
      "   4309   4691   4515   4430   4555   4802   4256   4315   3895   4114\n",
      "   4827   5037   4728   4939   4667   4907   4520   4905   4732   4920\n",
      "   4035   4315   3906   4030   4400   4407   4660   5055   4574   4783\n",
      "   4557   4682   4608   4887   4115   4486   3640   3951   4505   4792\n",
      "   4663   4919      2      2      8     16   4814   4807   4523   4752\n",
      "   4601   5004   4044   4380   3793   3927   4412   4714   4601   4881\n",
      "   4543   4688   4344   4561   4503   4607   4089   4154   3851   4014\n",
      "   4549   4718   4637   4956   4510   4736   4356   4690   4567   4922\n",
      "   4013   4063   3737   3921   4365   4440   4331   4729   4347   4574\n",
      "   4231   4647   4280   4613   3892   4034   3664   3885   4424   4659\n",
      "   4528   4739   4221   4660   4232   4412   4275   4465      8      8\n",
      "   3766   3792   3576   3783   4135   4569   4726   4595   4317   4570\n",
      "   4206   4765   4389   4581   3784   4107   3785   3750   4204   4494\n",
      "   4435   4745   4313   4654   4409   4578   4493   4699   3912   4195\n",
      "   3632   3933   4298   4561   4516   4785   4363   4464   4259   4569\n",
      "   4230   4489   3749   4084   3537   3798   4434   4472   4496   4817\n",
      "   4245   4399   4373   4346   4261   4591   3797   4010   3522   3690\n",
      "      4      4     12      8   4393   4652   4520   4813   4497   4603\n",
      "   4248   4506   4393   4526   3747   4042   3692   3915   4318   4658\n",
      "   4399   4875   4191   4717   4180   4566   4465   4615   3885   4141\n",
      "   3621   3908   4367   4692   4597   4776   4384   4723   4343   4466\n",
      "   4379   4637   3966   4066   3558   3810   4516   4732   4666   4989\n",
      "   4512   4634   4539   4754   4325   4661   3867   4108   3695   3912\n",
      "   3786   4066   4488   4714   4588   4863      8      6   4412   4765\n",
      "   4412   4445   4003   4072   3562   4025   4237   4490   4542   4731\n",
      "   4392   4691   4168   4596   4414   4703   3983   4152   3556   3782\n",
      "   4225   4472   4490   4714   4333   4527   4423   4508   4614   4584\n",
      "   3806   3974   3624   3814   4398   4452   4421   4748   4234   4598\n",
      "   4347   4192   4370   4417   3769   4136   3768   3819   4448   4751\n",
      "   4620   4795   4422   4853   4449   4766   4323   4856      4     12\n",
      "     20   4151   4342   3684   4041   4279   4473   4014   4079   4460\n",
      "   4460   4438   4815   4623   4887   4287   4335   3714   3942   4449\n",
      "   4813   4714   4921   4779   4959   4537   4853   4697   4960   4303\n",
      "   4443   3865   4103   4702   4832   4709   5010   4478   4757   4642\n",
      "   4906   4794   4870   4191   4404   3902   4052   4592   4893   4611\n",
      "   5051   4453   4693   4747   4746   4672   4834   4088   4353   3743\n",
      "   3967   4316   4824      6     10   4814   5022   4639   4741   4493\n",
      "   4807   4663   4829   4168   4341   3970   3992   4514   4776   4769\n",
      "   5286   4588   4893   4560   4826   4518   4812   4146   4562   3855\n",
      "   4210   4598   4941   4950   5179   4812   4886   4589   5013   4810\n",
      "   4988   4155   4465   4052   4235   4702   4967   4879   5281   4541\n",
      "   4953   4537   4873   4797   4919   4174   4544   3772   4250   4750\n",
      "   4994   4869   5165   4688   4895   4618   4911     14     10   4649\n",
      "   4894   4016   4392   3902   4165   3936   4258   4673   4987   4883\n",
      "   4936   4863   4961   4915   5228   4381   4445   4169   4064   4714\n",
      "   5057   4854   5165   4822   4972   4892   5143   5038   5241   4573\n",
      "   4628   4088   4451   4882   5023   4927   5146   4910   5012   4715\n",
      "   5009   4831   4951   4306   4471   4056   4399   4902   4933   4927\n",
      "   5226   4895   5017   4785   4809   4786   4890   4358   4493      2\n",
      "      2     32     26   3818   4164   4681   4950   4617   4903   4785\n",
      "   4738   4635   4808   4796   4933   4158   4251   3825   4079   4430\n",
      "   4725   4738   5028   4464   4696   4707   4789   4471   4812   4093\n",
      "   4133   3920   3964   4525   4579   4587   4816   4465   4592   4367\n",
      "   4640   4447   4677   3923   4057   3734   3971   4288   4703   4485\n",
      "   4863   4176   4876   4353   4486   4430   4600   3969   4026   3881\n",
      "   4026   4305   4629   4537   4755     14     10   4459   4562   4372\n",
      "   4465   4534   4784   3986   4113   3602   3863   4371   4885   4486\n",
      "   4943   4485   4755   4426   4638   4434   4807   4199   4325   3886\n",
      "   3922   4385   4615   4635   4811   4345   4706   4536   4516   4491\n",
      "   4800   3900   4182   3773   4033   4731   4775   4541   5005   4417\n",
      "   4740   3677   3726   4312   4291   4077   4230   3891   3899   4515\n",
      "   4859   4702   4961   4562   4616   4276   4780      8      4     22\n",
      "     22   4486   4574   3976   4133   3915   3968   4540   4756   4708\n",
      "   4969   4432   4847   4528   4598   4329   4681   4059   4182   3899\n",
      "   3983   4576   4863   4882   5020   4565   4791   4659   4618   4701\n",
      "   5005   4226   4450   3875   3895   4864   5237   4968   5296   4904\n",
      "   4896   4611   4820   4474   4293   3775   3791   3411   3766   3586\n",
      "   3655   4331   4454   4702   5130   4813   5210   4966   5060   4067\n",
      "   4490   3710   4102     20     24   3694   3697   4058   4184   4453\n",
      "   4513   4284   4595   4371   4488   3763   4003   3544   3765   4274\n",
      "   4312   4309   4397   4222   4457   4261   4689   4538   4647   3975\n",
      "   4209   3731   3829   4450   4453   4541   4808   4385   4811   4353\n",
      "   4711   4508   4879   3891   4131   3743   3876   4387   4652   4540\n",
      "   4732   4307   4579   4423   4536   4418   4619   3872   4150   3817\n",
      "   4010   4276   4713   4287   4472   4460   4377     28     26   4209\n",
      "   4286   4308   4569   4079   4048   3665   3822   4428   4585   4443\n",
      "   4789   4317   4511   4328   4471   4376   4629   3907   4214   3657\n",
      "   3754   4329   4576   4308   4588   4474   4649   4238   4667   4370\n",
      "   4571   3944   4210   3580   3829   4128   4485   4493   4647   4455\n",
      "   4887   4291   4525   4376   4557   4139   4211   3852   4041   4321\n",
      "   4546   4329   4698   4351   4583      3      4     20     22   4348\n",
      "   4701   4524   4726   4219   4212   3772   4062   4344   4638   4634\n",
      "   4776   4443   4644   4549   4487   4520   4580   4073   4142   3805\n",
      "   3870   4466   4725   4523   4888   4430   4483   4423   4669   4393\n",
      "   4506   3919   4141   3644   3929   4250   4478   4330   4722   4321\n",
      "   4476   4314   4490   4263   4707   3929   3919   3807   3796   4264\n",
      "   4704   4493   4617   4320   4432   4308   4528   4321   4598   3810\n",
      "   4077     12     12   3709   3786   4328   4578   4284   4751   4206\n",
      "   4560   4100   4407   4243   4372   3932   4128   3612   3743   4160\n",
      "   4289   4378   4465   4295   4486   4154   4459   4111   4505   3763\n",
      "   3682   3468   3699   4212   4447   4449   4468   4325   4566   4279\n",
      "   4393   4020   4520   3663   3916   3323   3631   4112   4260   4162\n",
      "   4595   4060   4292   4175   4333   4132   4405   3612   3778   3249\n",
      "   3508   4131   4383      2     16     12   4370   4476   3971   4530\n",
      "   4122   4199   3980   4316   3558   3988   3378   3514   4038   4236\n",
      "   4423   4557   4338   4288   4012   4426   4202   4417   3790   3649\n",
      "   3550   3439   3985   4251   4311   4465   4127   4418   4136   4413\n",
      "   4100   4484   3674   4025   3548   3617   4222   4439   4230   4537\n",
      "   4182   4324   4043   4386   4380   4717   3624   4084   3540   3639\n",
      "   3517   3786   4293   4616   4176   4609   4231   4357     10      4\n",
      "   4353   4502   3777   4069   3482   3727   4220   4285   4280   4618\n",
      "   4160   4546   4244   4542   4131   4670   3847   4083   3561   3769\n",
      "   4203   4693   4423   4603   4115   4615   4197   4428   4300   4522\n",
      "   3908   4117   3617   3788   4358   4601   4357   4689   4257   4445\n",
      "   4344   4438   4337   4591   3812   3970   3543   3738   4228   4562\n",
      "   4417   4664   4404   4608   4314   4754   4396   4612   3912   4019\n",
      "      2      6     14     12   3611   3950   4445   4558   4686   5143\n",
      "   3861   4049   4533   4635   4576   4874   3956   4396   3879   3908\n",
      "   4623   4703   4655   4972   4482   4715   4284   4655   4345   4683\n",
      "   4115   4330   3640   3911   4483   4607   4559   5080   4335   4937\n",
      "   4526   4764   4557   4913   4009   4286   3917   3727   4574   4662\n",
      "   4484   4966   4665   4828   4613   4719   4618   4798   4117   4307\n",
      "   3764   3981   4502   4723   4613   5089     24     14   4588   4849\n",
      "   4654   4745   4613   4808   4021   4074   3649   3967   4598   4846\n",
      "   4817   4953   4672   4926   4521   4897   4815   5014   4034   4158\n",
      "   3939   3969   4474   4734   4687   5155   4608   4932   4458   4825\n",
      "   4639   4670   3988   4292   3885   3896   4739   4728   4750   4891\n",
      "   4525   4892   4400   4649   4580   4768   4099   4221   3927   4051\n",
      "   4627   4870   4769   4932   4539   4869   4635   4921   4466   4925\n",
      "     24     22   4106   4294   3790   3917   3815   3966   4711   4803\n",
      "   4869   5028   4475   4736   4479   4938   4176   4081   3922   4039\n",
      "   4449   4716   4739   4962   4540   4763   4445   4661   4683   4986\n",
      "   4172   4335   3904   4090   4725   4813   4733   4892   4612   4752\n",
      "   4852   4916   4737   4880   4286   4445   4079   4177   4847   4764\n",
      "   4878   5211   4696   5099   4715   4882   4680   4867   4144   4289\n",
      "   3940   4074      4      2     16      8   4456   4841   4794   4882\n",
      "   4387   4682   4471   4478   4400   4847   3997   4177   3686   3930\n",
      "   4488   4568   4553   4756   4428   4699   4342   4480   4431   4497\n",
      "   3776   4152   3585   3858   4235   4588   4377   4728   4224   4490\n",
      "   4154   4548   4249   4604   3739   3898   3457   3589   4176   4254\n",
      "   4498   4757   4382   4423   4173   4334   4326   4427   3754   3992\n",
      "   3593   3781   4077   4487   4219   4509   4161   4534     24     14\n",
      "   4297   4466   4195   4564   3736   4005   3535   3710   4143   4569\n",
      "   4197   4411   4186   4530   4249   4397   4365   4632   3778   4081\n",
      "   3580   3840   4314   4370   4364   4785   4393   4446   4259   4462\n",
      "   4453   4686   3856   4021   3679   3741   4353   4522   4430   4969\n",
      "   4140   4456   3452   3597   4055   4187   3740   4020   3621   3758\n",
      "   4426   4626   4497   4848   4178   4414   4124   4428   4186   4404\n",
      "     10     22     22   3704   3963   3570   3742   4264   4475   4395\n",
      "   4709   4254   4545   4245   4404   4189   4292   3720   3962   3749\n",
      "   3707   4305   4587   4359   4699   4310   4484   4248   4503   4552\n",
      "   4625   3809   4012   3754   3910   4610   4800   4536   5000   4658\n",
      "   4659   4428   4553   4316   4615   3758   3827   3393   3619   3595\n",
      "   3705   3493   3471   4023   4113   4648   4861   4768   5182   4166\n",
      "   4154   3546   3819   4399   4567     24     20   3311   3691   3798\n",
      "   4011   4013   4364   4283   4568   3809   4018   3478   3615   4195\n",
      "   4428   4484   4302   4068   4278   4343   4339   4410   4634   3750\n",
      "   4019   3592   3760   4266   4530   4223   4716   4146   4586   4276\n",
      "   4328   4489   4482   3828   3923   3592   3887   4424   4634   4254\n",
      "   4513   4184   4273   4193   4499   4323   4367   3800   3999   3657\n",
      "   3884   4063   4399   4349   4562   4072   4367   4214   4406      8\n",
      "     20   4295   4473   3830   4023   3559   3873   4321   4330   4337\n",
      "   4555   4342   4450   4237   4468   4332   4490   3691   4001   3450\n",
      "   3700   4345   4421   4382   4542   4302   4506   4215   4680   4421\n",
      "   4613   3906   4033   3637   3819   4147   4490   4318   4698   4417\n",
      "   4492   4262   4486   4426   4634   3986   4165   3730   3828   4083\n",
      "   4429   4365   4491   4354   4356   4161   4373      5      2      2\n",
      "      2     12      9   4327   4590   4014   4069   3752   3898   4372\n",
      "   4518   4381   4889   4248   4438   4241   4399   4344   4620   3795\n",
      "   4155   3636   3781   4219   4618   4357   4527   4107   4400   4172\n",
      "   4230   4297   4593   3843   3991   3518   3708   4120   4574   4335\n",
      "   4643   4034   4421   3920   4480   4194   4474   3820   3953   3484\n",
      "   3550   4172   4398   4283   4473   4061   4454   4139   4322   4245\n",
      "   4394   3624   3902   3538   3767      6     16   4233   4317   4489\n",
      "   4659   4210   4361   4194   4323   4215   4441   3537   3918   3393\n",
      "   3658   4260   4176   4310   4607   3879   4567   4104   4155   3945\n",
      "   4441   3764   3845   3487   3545   4060   4282   4228   4387   4262\n",
      "   4340   4147   4186   4141   4446   3519   3961   3508   3700   4168\n",
      "   4329   4376   4659   4258   4407   4210   4346   4204   4558   3628\n",
      "   3862   3430   3625   3969   4363   4199   4478      2      2     10\n",
      "     10   4037   4537   4012   4226   4068   4592   3562   3822   3367\n",
      "   3561   4059   4258   4309   4577   4052   4432   4084   4441   4164\n",
      "   4431   3790   3920   3433   3653   4264   4375   4270   4616   4364\n",
      "   4656   4307   4323   4345   4528   3752   3915   3373   3523   4183\n",
      "   4610   4322   4739   4304   4472   4134   4443   4369   4555   3719\n",
      "   3874   3477   3455   3608   3852   4193   4377   4445   4618   4273\n",
      "   4685   4460   4590     12      8   3535   3913   3424   3622   3944\n",
      "   4370   4340   4570   4247   4490   4228   4371   4469   4641   3692\n",
      "   3779   3435   3746   4368   4571   4332   4422   4116   4487   3993\n",
      "   4463   4317   4581   3708   3958   3455   3756   4228   4448   4299\n",
      "   4717   4299   4565   4251   4582   4501   4863   3764   4239   3446\n",
      "   3716   4098   4405   4354   4684   4331   4668   4257   4625   4395\n",
      "   4694   3923   4088   3632   3899      2      2     18     24   4524\n",
      "   4692   4866   5057   4607   5086   3859   4065   4383   4668   4012\n",
      "   4273   3634   3992   4515   4957   4830   5030   4665   4758   4472\n",
      "   4746   4453   4830   4009   4219   3712   3893   4511   4756   4737\n",
      "   4960   4686   4733   4416   4706   4698   4825   4113   4358   3693\n",
      "   3740   4543   4771   4909   5201   4533   4794   4425   4838   4763\n",
      "   4811   4139   4353   3879   3993   4645   4809   4768   5053   4717\n",
      "   4874      9      6   4787   4920   4764   4872   4159   4311   3906\n",
      "   3907   4477   4647   4774   5193   4713   4903   4578   4972   4732\n",
      "   4964   4053   4378   3798   3926   4718   4925   5001   5212   4781\n",
      "   4805   4769   5056   4656   5179   4163   4393   3965   4108   4630\n",
      "   4952   4926   5227   4654   5057   4604   4731   4844   4951   4139\n",
      "   4347   3793   4061   4607   4949   4856   5219   4689   4910   4597\n",
      "   4947   4726   5054   4190   4347      4     10   3912   3997   3865\n",
      "   4104   4805   4666   4955   5025   4700   4881   4654   5073   4140\n",
      "   4410   3865   4024   4710   5086   4897   5177   4720   5077   4829\n",
      "   5003   4794   5074   4268   4601   4085   4181   4818   5232   5040\n",
      "   5235   4906   5127   4906   5076   4981   5343   4339   4665   4236\n",
      "   4386   4912   5225   5156   5219   4839   5204   4907   5222   5093\n",
      "   5195   4512   4731   4229   4356   4754   5221      3      7     12\n",
      "     14   4844   5420   4803   5092   4726   5041   4809   5033   4206\n",
      "   4487   3914   4178   4807   4949   4770   5038   4672   4833   4697\n",
      "   4998   4660   5057   4102   4233   3747   4020   4512   4693   4620\n",
      "   4952   4426   4785   4507   4804   4606   4847   3956   4230   3684\n",
      "   3788   4386   4627   4559   4768   4368   4597   4285   4507   4425\n",
      "   4774   4008   4266   3855   4025   4225   4649   4444   4911   4496\n",
      "   4631   4326   4587     10     22   4415   4783   4037   4018   3641\n",
      "   3926   4349   4625   4633   4867   4347   4704   4348   4471   4373\n",
      "   4602   3795   4011   3702   3817   4515   4708   4488   4786   4500\n",
      "   4413   4545   4516   4506   4735   3803   4001   3618   3853   4436\n",
      "   4781   4489   4938   4528   4706   4478   4557   4420   4656   4022\n",
      "   4081   3640   3905   4261   4577   4557   4931   4360   4687   3546\n",
      "   3748   4101   4323   3751   3976      4      2     10     10   3693\n",
      "   3876   4470   4789   4641   4898   4457   4615   4236   4699   4473\n",
      "   4570   3941   4028   3805   3863   4323   4647   4512   4700   4451\n",
      "   4592   4297   4748   4333   4418   3866   3979   3643   3862   4519\n",
      "   4669   4733   4907   4664   4739   4495   4849   4632   4821   3884\n",
      "   3956   3558   3519   3978   4108   3604   3934   3381   3439   4078\n",
      "   4385   4755   4848   4003   4221   3668   3715   4580   5061   4817\n",
      "   4820      8     22   3469   3559   3928   3945   4107   4318   3722\n",
      "   3948   3529   3721   4040   4386   4166   4626   4060   4356   4122\n",
      "   4339   4271   4581   3782   4146   3571   3669   4140   4479   4446\n",
      "   4742   4297   4596   4229   4407   4417   4595   3716   4160   3701\n",
      "   3747   4384   4518   4470   4632   4101   4457   4233   4514   4291\n",
      "   4480   3923   4154   3695   4013   4332   4451   4534   4615   4436\n",
      "   4464   4161   4456   4163   4514      4      4   3735   3964   3542\n",
      "   3774   4337   4544   4552   4541   4358   4471   4017   4408   4371\n",
      "   4598   3816   4036   3652   3912   4293   4440   4473   4653   4364\n",
      "   4584   4207   4555   4583   4636   3824   4173   3748   3797   4119\n",
      "   4254   4399   4833   4217   4579   4374   4610   4472   4447   3860\n",
      "   4057   3495   3782   4288   4566   4433   4717   4295   4525   4071\n",
      "   4470   4418   4556      3      4      1      6      9   3882   4039\n",
      "   3642   3745   4351   4612   4421   4616   4286   4568   4241   4599\n",
      "   4491   4564   3870   3934   3510   3636   4208   4360   4504   4735\n",
      "   4290   4643   4283   4327   4522   4576   3675   3916   3520   3715\n",
      "   4326   4674   4351   4739   4254   4613   4306   4620   4363   4709\n",
      "   3936   4102   3578   3944   4303   4481   4458   4748   4317   4595\n",
      "   4185   4368   4247   4552   3772   3858   3408   3763   4145   4377\n",
      "      4      8   4263   4608   4197   4573   4329   4572   4155   4461\n",
      "   3647   3934   3467   3695   4043   4458   4410   4710   4299   4524\n",
      "   4135   4442   4351   4580   3592   3958   3449   3553   4131   4319\n",
      "   4426   4688   4142   4534   4117   4419   4489   4642   3741   3873\n",
      "   3439   3590   4027   4421   4352   4592   4186   4325   4156   4370\n",
      "   4258   4597   3732   3905   3583   3579   4278   4471   4489   4762\n",
      "   4295   4366      2      2     10      6   4145   4509   4242   4429\n",
      "   3623   3956   3558   3638   4258   4259   4366   4595   4171   4296\n",
      "   4178   4373   4244   4617   3616   3852   3471   3757   4489   4549\n",
      "   4538   4709   4340   4565   4250   4584   4319   4599   3886   4123\n",
      "   3466   3803   4356   4472   4655   4899   4332   4711   4396   4724\n",
      "   4433   4700   3791   4015   3641   3871   3631   3901   4375   4417\n",
      "   4256   4656   4396   4586   4395   4605   3695   3924      4      8\n",
      "   3470   3774   4129   4426   4388   4608   4259   4483   4320   4463\n",
      "   4447   4665   3701   3941   3595   3554   4211   4412   4412   4585\n",
      "   4332   4512   4384   4570   4251   4512   3970   4021   3529   3742\n",
      "   4207   4474   4417   4795   4396   4654   4354   4761   4372   4667\n",
      "   3841   4118   3667   3746   4301   4858   4551   4849   4492   4622\n",
      "   4337   4687   4339   4616   4002   4127   3451   3962   4194   4857\n",
      "      2      2     26      8   4629   4883   4548   4792   4513   4880\n",
      "   3757   4160   3830   4158   3664   4050   4631   4843   4874   5204\n",
      "   4484   4933   4527   4697   4563   4888   3861   3992   3666   3733\n",
      "   4483   4812   4686   4938   4632   4738   4587   4899   4641   4827\n",
      "   4140   4230   3825   3990   4796   4723   4908   5057   4653   5098\n",
      "   4743   4755   4651   4844   3845   4287   3904   4048   4535   4838\n",
      "   4809   5063   4495   4894   4569   4891      8      8   4796   4912\n",
      "   4111   4467   3921   4154   4658   4932   4851   4766   4646   5007\n",
      "   4426   4840   4598   4655   4000   4016   3780   3906   4548   4847\n",
      "   4824   5000   4609   4884   4673   4895   4582   5061   4163   4342\n",
      "   3946   4099   4430   4685   4642   4882   4672   4808   4531   4747\n",
      "   4660   4783   4059   4306   3934   4048   4477   4937   4922   4985\n",
      "   4679   4778   4604   4767   4674   4913   4003   4278   3786   3874\n",
      "      6      9   3780   4024   4668   4757   4543   4986   4525   4788\n",
      "   4673   4852   4142   4324   3832   4150   4428   4825   4719   4943\n",
      "   4551   4714   4559   4783   4825   5188   4072   4238   3808   3937\n",
      "   4600   4782   4737   5076   4632   4959   4711   5032   4817   5093\n",
      "   4189   4352   4014   4203   4677   4893   4736   5197   4646   4933\n",
      "   4518   4912   4666   4913   4234   4398   3999   3972   4682   4714\n",
      "   4628   5037      6      2      4      5   4777   4955   4618   4817\n",
      "   4472   4814   4108   4202   3893   4072   4567   4614   4664   4800\n",
      "   4475   4777   4569   4660   4504   4708   3925   4060   3692   3909\n",
      "   4430   4467   4498   4711   4489   4745   4363   4362   4342   4641\n",
      "   3887   3832   3660   3674   4169   4435   4385   4534   4225   4347\n",
      "   4212   4421   4377   4509   3737   3960   3541   3901   4065   4532\n",
      "   4196   4565   4231   4482   4236   4291   4132   4416      4   3773\n",
      "   3943   3484   3738   4309   4502   4374   4628   4145   4469   4344\n",
      "   4469   4352   4561   3911   4013   3614   3908   4295   4637   4308\n",
      "   4618   4150   4368   4377   4445   4381   4615   3783   3813   3591\n",
      "   3711   4135   4425   4381   4415   4390   4545   4177   4358   4432\n",
      "   4617   3796   3967   3547   3845   4388   4485   4628   4847   4367\n",
      "   4543   3556   3800   4140   4254   3699   3867   3599   3898      2\n",
      "      1      2   4239   4595   4308   4794   4329   4484   4301   4370\n",
      "   4315   4541   3801   3932   3628   3800   4303   4608   4389   4635\n",
      "   4337   4621   4261   4517   4419   4605   3791   4074   3641   3887\n",
      "   4461   4609   4714   4842   4577   4635   4582   4786   4550   4778\n",
      "   3894   4018   3629   3719   4232   4353   4266   4501   3738   3999\n",
      "   3421   3724   4187   4411   3974   3976   3624   3704   4509   4888\n",
      "   4942   5202   4549   5029     12      8   3591   3711   3889   4105\n",
      "   3625   3833   3550   3701   4035   4217   4289   4656   4232   4379\n",
      "   4137   4280   4210   4375   3730   3904   3609   3627   4220   4488\n",
      "   4344   4704   4322   4629   4307   4429   4299   4548   3954   4015\n",
      "   3565   3583   4404   4489   4425   4577   4124   4515   4383   4510\n",
      "   4311   4460   3812   4054   3698   3821   4154   4396   4310   4567\n",
      "   4119   4540   4169   4530   4198   4594   3706   3996     21     18\n",
      "   3668   3804   4360   4498   4334   4512   4240   4526   4174   4500\n",
      "   4276   4541   3654   4030   3642   3714   4220   4321   4565   4657\n",
      "   4358   4349   4296   4483   4142   4524   3848   4007   3456   3874\n",
      "   4174   4402   4393   4679   4264   4562   4186   4413   4239   4606\n",
      "   3862   3890   3596   3741   4202   4485   4321   4413   4185   4387\n",
      "   4243   4471   4328   4414   3929   4003   3681   3878      2      6\n",
      "     14   4369   4490   4378   4661   4339   4510   4202   4415   4205\n",
      "   4500   3715   3845   3628   3624   4159   4270   4279   4433   4153\n",
      "   4401   4195   4366   4214   4440   3744   3930   3541   3593   4168\n",
      "   4299   4221   4415   4248   4433   4119   4353   4255   4368   3903\n",
      "   3987   3615   3769   4153   4362   4260   4603   3995   4394   4161\n",
      "   4462   4363   4381   3690   4035   3555   3712   4196   4303   4311\n",
      "   4507   4223   4430     14     17   4126   4210   4250   4391   3646\n",
      "   3937   3588   3843   4106   4173   4125   4461   4223   4345   4137\n",
      "   4370   4020   4267   3598   3784   3451   3605   4171   4361   4135\n",
      "   4324   4141   4553   4107   4476   4063   4195   3741   3797   3446\n",
      "   3653   4062   4265   4438   4598   4098   4420   4031   4354   4202\n",
      "   4295   3579   3723   3320   3497   3985   4347   4101   4389   4118\n",
      "   4172   3971   4122   4134   4238      3     10      6   3703   3909\n",
      "   3378   3712   4109   4124   4330   4453   4321   4281   4145   4375\n",
      "   4284   4356   3580   3799   3273   3402   4122   4450   4413   4463\n",
      "   4189   4195   4042   4197   4162   4465   3651   3858   3533   3624\n",
      "   4225   4515   4243   4351   4128   4361   4081   4333   4228   4505\n",
      "   3624   3841   3316   3698   4211   4543   4279   4582   4066   4367\n",
      "   4129   4401   4286   4612   3812   3933   3567   3636   3618   3969\n",
      "      6      9   4390   4537   4192   4557   4300   4486   4459   4395\n",
      "   3498   3892   3629   3674   4094   4321   4410   4697   4219   4583\n",
      "   4376   4610   4393   4667   3848   4046   3671   3769   4379   4593\n",
      "   4298   4762   4313   4655   4134   4697   4233   4600   3792   4037\n",
      "   3573   3824   4105   4359   4428   4620   4393   4510   4463   4554\n",
      "   4420   4706   3778   4049   3736   3878   4434   4637   4532   4955\n",
      "   4362   4770      2     14     12   4403   4669   4548   4812   3814\n",
      "   4104   3882   4011   3630   3934   4498   4729   4838   5109   4651\n",
      "   4898   4707   4880   4096   4173   3806   4187   4464   4804   4656\n",
      "   4820   4451   4901   4694   4768   4715   4853   3950   4197   3791\n",
      "   3785   4520   4780   4671   4759   4589   4855   4623   4788   4635\n",
      "   4820   4181   4281   3921   3890   4530   4862   4802   4882   4571\n",
      "   4593   4535   4834   4720   4965   3967   4267      6      2   3863\n",
      "   3994   4377   4660   4705   4878   4421   4644   4562   4831   4808\n",
      "   4847   4027   4397   3870   4154   4583   4760   4784   5048   4573\n",
      "   4744   4642   5080   4665   4873   4066   4262   3841   3982   4506\n",
      "   4829   4671   4952   4593   4926   4620   4835   4443   4830   4250\n",
      "   4498   4079   4208   4530   4926   4827   5050   4641   4840   4759\n",
      "   4901   4887   4975   4059   4439   3873   4125   4430   4729   4639\n",
      "   4963      8      4   4654   4822   4530   4794   4691   4976   3987\n",
      "   4420   3828   3979   3828   4255   4696   4958   4901   5265   4835\n",
      "   5155   4837   5161   4137   4276   3958   4184   4659   4982   4962\n",
      "   5203   4885   5092   4869   5087   4794   5191   4317   4421   4129\n",
      "   4456   4972   5079   5075   5221   4920   4916   4751   5064   4943\n",
      "   5109   4422   4370   4109   4401   4913   5113   4935   5211   4757\n",
      "   5060   4641   5077      1      2      4   4757   5102   4271   4420\n",
      "   4002   4268   4719   4937   4663   5126   4674   4809   4541   4920\n",
      "   4693   4872   4043   4219   4061   4252   4527   4869   4671   4951\n",
      "   4472   4711   4527   4726   4709   4855   4051   4136   3888   3926\n",
      "   4490   4758   4438   4810   4539   5036   4485   4772   4622   4820\n",
      "   4114   4087   3821   4027   4563   4635   4672   4731   4502   4710\n",
      "   4278   4579   4464   4652   3942   4026   3911   4167      4      2\n",
      "   4400   4607   4359   4796   4373   4642   4475   4617   4519   4788\n",
      "   3837   4027   3760   4100   4514   4847   4596   4884   4560   4872\n",
      "   4535   4894   4514   4690   3874   4039   3809   3843   4380   4651\n",
      "   4609   4960   4522   4774   4455   4726   4604   4854   3876   4091\n",
      "   3784   3923   4440   4720   4459   4857   4387   4621   3589   3903\n",
      "   4202   4531   3903   4063   3691   3894   4563   4700   4617   4933\n",
      "      1     12      4   4440   4605   4256   4713   4407   4635   3855\n",
      "   4034   3692   3948   4403   4795   4701   4936   4489   4726   4579\n",
      "   4684   4463   4696   3806   4163   3909   3860   4474   4766   4641\n",
      "   4918   4684   4832   4597   4853   4906   4984   3918   4063   3633\n",
      "   3872   4755   5027   4644   5132   4244   4350   3890   4214   3708\n",
      "   3813   3564   3621   3628   3982   4426   4916   4905   5210   4974\n",
      "   5114   4744   5107   4342   4622      2      4   3561   3855   3616\n",
      "   3851   4182   4521   4514   4590   4293   4691   4334   4637   4358\n",
      "   4854   3836   4177   3763   3798   4430   4712   4515   4665   4505\n",
      "   4752   4600   4850   4578   4739   3891   4152   3719   3947   4657\n",
      "   4739   4768   4860   4595   4578   4526   4703   4604   4787   4050\n",
      "   4118   3740   3880   4438   4808   4745   4830   4470   4800   4607\n",
      "   4732   4566   4856   3897   4144   3763   4006   4568   4683      4\n",
      "   4653   4833   4481   4552   4483   4761   4600   4820   4082   4095\n",
      "   3717   3976   4410   4712   4428   4667   4531   4737   4611   4925\n",
      "   4588   4883   4124   4368   4022   4063   4761   5072   4812   4903\n",
      "   4529   4890   4720   4845   4617   4879   4116   4059   3898   4112\n",
      "   4488   4624   4803   5024   4638   4991   4656   4794   4573   5075\n",
      "   4144   4381   3848   4056   4580   4781      3      4      1      2\n",
      "      2   4712   5123   4591   4856   4785   4758   4785   4992   4036\n",
      "   4316   3760   4024   4598   4761   4865   5168   4608   4748   4592\n",
      "   4764   4579   4918   4053   4213   3937   4001   4505   4873   4703\n",
      "   4981   4635   4832   4589   4723   4447   4813   4015   4155   3818\n",
      "   4018   4498   4584   4676   4858   4545   4627   4494   4761   4574\n",
      "   4771   3866   4093   3671   4098   4487   4810   4656   4993   4526\n",
      "   4884   4590   4855      2      2   4420   4577   3937   4121   3881\n",
      "   4075   4617   4669   4662   4844   4424   4705   4360   4788   4448\n",
      "   4543   3727   4007   3577   3799   4391   4580   4658   5018   4493\n",
      "   4723   4431   4670   4411   4888   3962   4077   3693   3900   4475\n",
      "   4882   4668   5023   4614   4653   4431   4713   4532   4626   3862\n",
      "   4057   3530   3672   4434   4577   4623   4809   4232   4591   4354\n",
      "   4630   4274   4657   3794   4072      1   3666   3968   4584   4801\n",
      "   4489   4955   4502   4895   4587   4799   4505   5030   3868   4214\n",
      "   3676   3967   4227   4622   4544   4860   4235   4657   4537   4673\n",
      "   4625   4689   3949   4159   3664   3857   4539   4950   4670   4972\n",
      "   4537   4876   4453   4790   4717   4737   3809   4085   3831   3900\n",
      "   4585   4836   4579   5024   4662   4866   4556   4812   4584   5025\n",
      "   3968   4116   3790   3954   3742   4003   4635   4762      2      1\n",
      "   4789   4879   4489   4855   4566   4859   3942   4107   3878   4011\n",
      "   4629   4645   4658   4889   4418   4787   4570   4823   4461   4776\n",
      "   3938   4082   3691   3922   4465   4864   4677   4952   4651   4888\n",
      "   4785   4951   4693   5053   4030   4197   3855   3940   4725   4803\n",
      "   4667   5001   4566   4857   4472   5017   4647   4965   3997   4341\n",
      "   3909   4129   4613   5044   4793   5201   4740   4995   4670   4942\n",
      "      2      2      8      6   4757   4989   4036   4275   3888   3973\n",
      "   4083   4088   4642   5006   5073   5460   5118   5306   5073   5161\n",
      "   4272   4521   3917   4066   4636   4954   4867   5130   4839   5081\n",
      "   4869   5185   4942   5234   4234   4433   3878   4180   4708   5073\n",
      "   4943   5230   4923   5209   4820   5058   5001   5179   4135   4353\n",
      "   3951   4235   4661   5110   4977   5151   4642   5046   4778   5048\n",
      "   4894   5190   4314   4503   3949   4274      6      8   4715   5095\n",
      "   5065   5216   4755   5135   4874   4946   5044   5256   4326   4482\n",
      "   4109   4292   4763   5192   4930   5342   5000   5212   4834   4926\n",
      "   4896   5203   4181   4488   4075   4170   4816   5036   5039   5320\n",
      "   4840   5068   4776   5080   5049   4954   4120   4411   4101   4268\n",
      "   4852   5126   5029   5384   4983   5135   4912   5110   4781   5146\n",
      "   4256   4565   4138   4426   4800   5076   4991   5427   5059   5094\n",
      "      2      2   4875   5077   5031   5156   4167   4466   4018   4130\n",
      "   4155   4183   4909   5186   5058   5272   4806   5314   5040   5254\n",
      "   4204   4567   4089   4291   4946   5052   4938   5239   5055   5168\n",
      "   4981   5180   5130   5360   4588   4573   4168   4560   5121   5157\n",
      "   5302   5345   5006   5386   4906   5134   5053   5275   4382   4621\n",
      "   4202   4415   5008   5371   5229   5299   4960   5140   5018   5062\n",
      "   4992   5354      3      6      4      6   4446   4588   4169   4448\n",
      "   4922   5088   4926   5250   4847   4957   4762   5064   4836   5136\n",
      "   4122   4438   4077   4243   4797   4849   4798   5131   4769   4874\n",
      "   4693   4899   4712   4913   4146   4242   4048   4195   4679   4825\n",
      "   4651   5027   4764   4886   4600   4986   4761   4920   4051   4225\n",
      "   3761   4062   4558   4674   4754   5031   4676   4891   4677   4754\n",
      "   4535   4862   3936   4247   3872   4207   4366   4671      2      6\n",
      "   4731   4872   4479   4652   4576   4836   4641   4944   4071   4167\n",
      "   3803   4039   4573   4865   4806   4969   4503   4779   4569   4849\n",
      "   4536   4709   3958   4046   3801   4094   4479   4751   4849   4907\n",
      "   4577   4842   4526   4992   4705   4843   3900   4272   3814   3872\n",
      "   4621   4949   4633   4943   4435   4942   3789   3919   4216   4556\n",
      "   3854   4155   3754   3973   4609   4881   4614   5005   4611   4760\n",
      "      2      4      4      6   4490   4720   4541   4705   3832   4110\n",
      "   3728   3881   4591   4767   4539   4966   4487   4588   4509   4752\n",
      "   4495   4735   3917   4047   3677   3826   4550   4714   4684   4849\n",
      "   4484   4740   4596   4834   4657   4929   4045   4128   3707   3876\n",
      "   4757   5151   4733   5166   4530   4737   4223   4296   3950   4099\n",
      "   3592   3762   3731   3673   3690   3822   4358   4831   4708   5025\n",
      "   4792   4942   4701   5105   3991   3991      4      4   3773   3943\n",
      "   3599   3944   4309   4524   4352   4518   4397   4656   4512   4712\n",
      "   3959   4132   3782   3840   4467   4720   4501   4594   4477   4743\n",
      "   4514   4762   4510   4644   4066   4248   3870   3913   4701   4771\n",
      "   4610   4737   4518   4616   4538   4702   4562   4754   3899   4064\n",
      "   3716   3857   4577   4686   4680   4746   4394   4709   4655   4742\n",
      "   4357   4635   3938   4021   3685   3852   4457   4737   4457   4708\n",
      "   4383   4788   4571   4666   4454   4730   3947   4132   3850   3970\n",
      "   4521   4715   4480   4868   4491   4663   4494   4768   4645   4889\n",
      "   3935   4220   3821   4144   4381   4594   4874   4990   4513   4783\n",
      "   4458   4657   4515   4736   3945   4238   3646   4062   4419   4617\n",
      "   4570   4696   4606   4747   4515   4768   4708   4858   4051   4280\n",
      "   3880   4015   4489   4783   4660   5057      2      8      2      2\n",
      "      3      2      4   4471   4673   4537   4783   4684   4761   3966\n",
      "   4064   3857   3954   4455   4847   4660   4925   4517   4704   4525\n",
      "   4706   4635   4962   3970   4187   3831   4053   4333   4703   4699\n",
      "   4838   4528   4771   4528   4809   4600   4888   3881   4091   3803\n",
      "   3938   4372   4773   4676   5003   4540   4781   4462   4707   4443\n",
      "   4721   3788   4099   3729   3866   4542   4571   4516   4787   4505\n",
      "   4701   4428   4489   4663   4667   3990   4091   3806   3893   4426\n",
      "   4701   4520   4930   4288   4572   4285   4696   4385   4702   3831\n",
      "   4072   3696   3767   4313   4568   4419   4615   4221   4398   4263\n",
      "   4471   4536   4492   3631   3902   3526   3675   4200   4513   4512\n",
      "   4703   4198   4530   4114   4480   4339   4563   3700   4097   3433\n",
      "   3882   4400   4631   4466   4626   4416   4611   4280   4579   4504\n",
      "   4551   3747   4017   3479   3673      2      2      2      2   4291\n",
      "   4616   4561   4865   4410   4653   4102   4578   4445   4661   3747\n",
      "   3983   3639   3759   4389   4607   4584   4733   4645   4643   4267\n",
      "   4647   4352   4629   3817   3950   3630   3760   4426   4786   4441\n",
      "   4771   4340   4587   4318   4742   4379   4639   3881   4197   3691\n",
      "   3889   4279   4823   4518   4703   4477   4731   4456   4737   4547\n",
      "   4985   3902   4119   3807   3990   3775   4018   4554   5083   4585\n",
      "   5028      4      2   4612   4838   4386   4927   3836   4146   3617\n",
      "   3791   4459   4677   4655   4958   4520   4828   4510   4580   4527\n",
      "   4847   3930   4118   3628   3956   4437   4771   4631   4638   4315\n",
      "   4919   4552   4631   4594   4768   4056   4188   3710   4084   4560\n",
      "   4993   4697   4986   4555   4723   4558   4853   4657   4944   3905\n",
      "   4227   3909   4193   4514   4839   4822   5036   4670   5039   4637\n",
      "   5004   4927   5171      3      4      4   3954   4264   3851   4140\n",
      "   4480   4814   4023   4425   4782   4907   4900   5304   4989   5266\n",
      "   4256   4535   3933   4179   4727   5160   4794   5074   4816   4900\n",
      "   4773   5222   5060   5389   4280   4590   4139   4287   4821   5216\n",
      "   4995   5381   4867   5158   5049   5352   4931   5411   4419   4663\n",
      "   4133   4444   4898   5079   5009   5352   4989   5122   5008   5198\n",
      "   5093   5231   4256   4439   4104   4390   4851   5051      3   4909\n",
      "   5255   4753   5085   4971   5173   4922   5141   4297   4460   4074\n",
      "   4382   4929   5290   5040   5420   4993   5170   5148   5159   4936\n",
      "   5248   4317   4649   4175   4372   4912   5233   5021   5499   4901\n",
      "   5171   5132   5268   5020   5357   4260   4667   4155   4338   4801\n",
      "   5186   4952   5289   4833   5081   4957   5211   5074   5112   4271\n",
      "   4531   4134   4337   4857   5159   4979   5421   4948   5133   4849\n",
      "   5017      2      8   4818   5315   4217   4374   4066   4300   4152\n",
      "   4340   4876   5168   5255   5465   4944   5365   4976   5408   4456\n",
      "   4579   4241   4409   5032   5133   5177   5262   4948   5222   5044\n",
      "   5235   4991   5292   4417   4770   4250   4475   4960   5364   5332\n",
      "   5396   5121   5383   5107   5411   5048   5322   4282   4469   4288\n",
      "   4373   5088   5346   5173   5345   5113   5246   4968   5230   5157\n",
      "   5229   4226   4437      2      3      2      5   4214   4487   4922\n",
      "   5027   5140   5248   4938   5007   4844   5120   4910   5156   4243\n",
      "   4380   4181   4210   4891   4893   5110   5251   4832   5061   4828\n",
      "   5006   4663   5114   4165   4401   3942   3948   4638   4909   4988\n",
      "   4968   4655   4754   4653   4861   4808   4836   4134   4289   3960\n",
      "   3989   4628   4808   4703   4885   4594   4744   4648   4867   4682\n",
      "   4869   4154   4271   3877   4291   4586   4886   4503   4846      2\n",
      "      8   4486   4854   4528   4733   4729   5058   4118   4145   3774\n",
      "   4253   4596   4930   4790   4999   4670   4854   4687   4935   4689\n",
      "   4984   4083   4284   3905   4081   4676   4953   4866   5165   4674\n",
      "   4877   4731   4847   4726   5130   4028   4417   3832   4045   4605\n",
      "   4998   4847   5114   4615   4951   3860   4066   4363   4690   4045\n",
      "   4245   3976   4105   4845   4990   4866   4960   4575   4877   4521\n",
      "   4889      2      3      2      1   4779   4835   4247   4297   4087\n",
      "   4124   4836   4943   4884   5011   4622   4797   4660   4837   4488\n",
      "   4929   4084   4263   3894   4210   4786   4911   4947   5125   4668\n",
      "   4864   4707   4832   4763   5200   4163   4359   4039   4147   5142\n",
      "   5071   5181   5436   4835   5170   4615   4803   4465   4563   3883\n",
      "   4069   3858   4116   3846   4014   4287   4624   4904   5020   4979\n",
      "   5211   5097   5316   4168   4319   3836   4202     10      2   4016\n",
      "   4205   4245   4610   4522   4829   4612   4817   4689   4897   4117\n",
      "   4453   3861   4152   4704   4820   4535   4775   4548   4868   4590\n",
      "   4819   4757   4913   4212   4437   4039   4134   4626   4928   4697\n",
      "   5108   4655   4858   4664   4831   4765   5110   4082   4396   3888\n",
      "   4131   4732   4973   4741   5053   4657   4899   4680   4976   4758\n",
      "   5051   4041   4331   4034   4201   4768   4964   4545   4975   4767\n",
      "   4809   4487   4848   4810   5085   4116   4472   3967   4226   4733\n",
      "   4829   4801   5034   4682   4960   4604   4973   4740   4935   4160\n",
      "   4416   4074   4120   4730   4933   4725   4938   4872   5166   4709\n",
      "   5016   4782   5041   4172   4244   4043   4152   4525   4754   4962\n",
      "   5090   4764   5012   4701   4996   4891   5209   4153   4472   4050\n",
      "   4209   4627   4940   4849   4902   4740   4922      5      1   4776\n",
      "   5038   4839   4914   4217   4514   3967   4261   4737   4960   4640\n",
      "   5027   4657   4946   4704   5075   4758   5059   4113   4418   3880\n",
      "   4050   4769   4855   4668   4901   4685   4944   4599   4951   4695\n",
      "   4981   4195   4338   3885   4306   4729   4972   4864   5246   4700\n",
      "   5004   4563   5034   4719   5060   4179   4384   4020   4036   4553\n",
      "   4961   4761   5176   4790   5035   4646   4976   4844   5012   4212\n",
      "   4260      2      2   4049   4077   4509   4897   4589   5003   4691\n",
      "   4836   4697   4820   4628   4977   3979   4151   3792   4049   4743\n",
      "   4904   4765   4924   4609   4891   4757   4835   4310   4760   4089\n",
      "   4118   3697   3918   4643   4706   4750   5027   4592   4903   4469\n",
      "   4779   4806   4823   3974   4223   3823   4098   4580   4954   4711\n",
      "   5131   4801   4834   4522   4813   4589   4975   3761   4192   3555\n",
      "   3942   4532   4986      1   4899   5197   4746   4872   4673   4882\n",
      "   4629   4954   3933   4231   3850   4059   4683   5069   4943   5064\n",
      "   4696   5026   4798   4980   4799   5055   4080   4194   3869   4200\n",
      "   4566   4916   4805   4974   4632   4907   4613   4788   4655   4883\n",
      "   4082   4268   3981   4100   4727   5010   4674   5098   4693   5088\n",
      "   4716   5029   4816   5042   4063   4301   3899   4046   4113   4281\n",
      "   4829   5006   4848   5006   4720   5003      2   4821   5066   4196\n",
      "   4353   3935   4255   4771   5000   4795   5056   4723   5118   4846\n",
      "   4876   4598   4991   4037   4294   3975   4334   4643   4960   4782\n",
      "   5038   4642   4904   4708   5090   4800   5015   4233   4428   4000\n",
      "   4175   4668   5064   4907   5107   4972   5119   4753   5015   4837\n",
      "   5170   4065   4420   3937   4195   4649   4923   4974   5142   4913\n",
      "   5168   4942   5144   4993   5260   4295   4628      2   4218   4345\n",
      "   4929   5146   5010   5506   4256   4452   4781   5165   4996   5357\n",
      "   4309   4708   4243   4381   5117   5438   5229   5564   5104   5264\n",
      "   5150   5579   5212   5498   4514   4830   4354   4658   5101   5380\n",
      "   5282   5545   5126   5405   5176   5280   5196   5472   4502   4646\n",
      "   4314   4559   5101   5504   5255   5596   5296   5441   5095   5568\n",
      "   5226   5574   4599   4819   4468   4426   5210   5324   5265   5577\n",
      "      2   5320   5556   5217   5475   5260   5537   4649   4778   4335\n",
      "   4552   5276   5377   5220   5633   5298   5532   5044   5526   5234\n",
      "   5600   4583   4703   4357   4364   5081   5015   5392   5542   5083\n",
      "   5407   5113   5273   5176   5222   4584   4657   4475   4721   5319\n",
      "   5341   5369   5541   5142   5423   5193   5507   5181   5390   4564\n",
      "   4761   4329   4595   5135   5442   5444   5605   5001   5533   5111\n",
      "   5535   5393   5480      2      2   4432   4692   4167   4571   4415\n",
      "   4576   5137   5357   5307   5719   5247   5549   5160   5581   4559\n",
      "   4601   4446   4524   5199   5378   5361   5720   5118   5480   5310\n",
      "   5375   5387   5607   4608   4760   4456   4769   5396   5408   5493\n",
      "   5692   5474   5569   5228   5471   5303   5608   4568   4815   4432\n",
      "   4709   5308   5646   5470   5591   5304   5503   5394   5619   5379\n",
      "   5536   4689   4853   4505   4607     14     11   5083   5392   5271\n",
      "   5640   5145   5452   5041   5273   5176   5424   4484   4654   4148\n",
      "   4470   4868   5175   4994   5356   4994   5205   4917   5189   5067\n",
      "   5354   4419   4545   4208   4274   5004   5160   5075   5181   4843\n",
      "   5164   4791   4983   4967   5266   4298   4393   4270   4384   4805\n",
      "   5441   4921   5276   4861   5123   4714   5192   4860   5127   4244\n",
      "   4329   4222   4376   4841   5079   5102   5400   4656   5028      2\n",
      "   4905   5014   4965   5209   4219   4411   3989   4263   4919   5137\n",
      "   5027   5249   4853   5113   4930   5178   5001   5101   4296   4503\n",
      "   4290   4470   4962   4932   5168   5283   4942   5208   4986   5195\n",
      "   5045   5227   4296   4400   4075   4324   5228   5127   5229   5536\n",
      "   4787   5256   3953   4211   4641   4839   4271   4503   4097   4245\n",
      "   4905   5104   4914   5360   4898   5090   4739   4981   4807   4951\n",
      "      2      4   4080   4263   4095   4335   4721   4921   5023   5259\n",
      "   4859   5073   4942   5079   4855   5014   4239   4470   3987   4226\n",
      "   4806   5126   5091   5217   4852   5198   4683   5017   4826   5118\n",
      "   4223   4250   4012   4197   5009   5264   5091   5501   4977   5280\n",
      "   4903   5119   4844   5119   4232   4304   3990   4114   4164   4326\n",
      "   3888   4080   4445   4786   5101   5403   5356   5605   4502   4488\n",
      "   4009   4241   4782   5000      1      3   4005   4227   4371   4640\n",
      "   4815   5087   4758   5181   4265   4426   4093   4120   4730   5103\n",
      "   4810   5012   4763   4801   4810   4949   5029   5205   4153   4460\n",
      "   4016   4275   4897   5204   4895   5077   4599   5061   4764   5048\n",
      "   5001   5179   4233   4497   3992   4465   4738   4937   4924   5152\n",
      "   4624   4969   4809   5099   4833   5234   4253   4477   4149   4109\n",
      "   4776   5104   4699   5169   4775   4902   4831   4908   4880   5116\n",
      "   4258   4540   4054   4231   4814   5002   4971   5280   4800   5107\n",
      "   4927   5181   4883   5118   4189   4583   4107   4247   5020   5134\n",
      "   5015   5237   4773   5017   5054   5378   5027   5174   4319   4599\n",
      "   4135   4436   4743   4973   5009   5166   4814   5279   4976   5180\n",
      "   4986   5282   4326   4630   4203   4401   4861   5171   5045   5132\n",
      "   4804   4979   4927   5284   4646   4969      2   4202   4408   4042\n",
      "   4297   4892   5161   4999   5114   4821   5157   4905   5162   4852\n",
      "   5191   4308   4575   4156   4284   4864   5058   4950   5284   4872\n",
      "   5203   4760   5010   4768   5193   4201   4510   4093   4336   4964\n",
      "   5295   4942   5159   4972   5139   4775   5024   4971   5385   4403\n",
      "   4499   4113   4417   4853   5247   5171   5382   4976   5118   4864\n",
      "   5088   4911   5204   4369   4498   4131   4351   4766   5131      2\n",
      "      2   4908   5238   4898   5190   4805   5082   4891   5142   4164\n",
      "   4312   4141   4272   4772   5091   4971   5352   4771   5186   4872\n",
      "   5071   4822   5123   4234   4310   4143   4138   4639   5182   4868\n",
      "   5273   4960   5170   4748   5003   4976   4985   4299   4343   4106\n",
      "   4354   4860   5144   4907   5437   4833   5152   4854   5016   4913\n",
      "   5094   4088   4322   3781   4075   4827   5099   4955   5200   4843\n",
      "   4989      1      3   4941   5190   4798   5193   4071   4588   3939\n",
      "   4147   5001   4950   5016   5183   4638   4886   4546   4872   4791\n",
      "   4975   4125   4306   4099   4213   4809   5113   4735   5232   4642\n",
      "   5075   4759   5073   4748   5094   4090   4295   4072   4251   4858\n",
      "   5126   5186   5385   4721   4961   4883   5226   5033   5225   4176\n",
      "   4483   4129   4333   4275   4369   4829   5320   4972   5226   4983\n",
      "   5206   5009   5173   4127   4447   4064   4390   4828   5105   4928\n",
      "   5330   4863   5147   4842   5136   4978   5244   4346   4470   3964\n",
      "   4219   4710   4956   5074   5266   4966   5076   4852   5114   4806\n",
      "   5081   4187   4528   4147   4527   5053   5196   4918   5291   5001\n",
      "   5335   4981   5259   5008   5318   4318   4494   4200   4533   5006\n",
      "   5486   5347   5512   5145   5405   5176   5445   5080   5608   4425\n",
      "   4586   4313   4507   5016   5355      1      2   5313   5608   5397\n",
      "   5517   5170   5524   4454   4749   4523   4705   4321   4596   5223\n",
      "   5261   5487   5803   5156   5644   5234   5534   5417   5661   4565\n",
      "   4705   4419   4524   5181   5432   5423   5672   5366   5699   5364\n",
      "   5698   5178   5518   4533   4658   4540   4589   5343   5510   5367\n",
      "   5700   5213   5403   5166   5449   5242   5543   4527   4902   4537\n",
      "   4602   5217   5709   5516   5945   5443   5683   5335   5640      2\n",
      "   5439   5567   4647   4938   4468   4708   5249   5534   5455   5739\n",
      "   5270   5515   5410   5634   5613   5879   4568   4898   4443   4702\n",
      "   5525   5501   5541   5830   5313   5610   5229   5527   5269   5628\n",
      "   4507   4854   4427   4574   5354   5579   5439   5754   5310   5632\n",
      "   5311   5500   5240   5539   4576   4695   4335   4768   5317   5593\n",
      "   5393   5758   5380   5625   5395   5612   5307   5618   4673   4837\n",
      "   4446   4646   4440   4689   5349   5708   5458   5716   5440   5599\n",
      "   5286   5727   4688   4857   4529   4758   5243   5657   5322   5697\n",
      "   5300   5703   5243   5553   5494   5704   4723   4950   4634   4865\n",
      "   5559   5865   5603   5811   5506   5786   5415   5902   5478   5848\n",
      "   4828   5139   4799   4974   5648   5965   5667   6055   5476   5857\n",
      "   5410   5567   5490   5673   4816   4938   4565   4698   5367   5732\n",
      "   5603   5698      1      6   5390   5714   5327   5602   5417   5631\n",
      "   4636   4716   4379   4634   5086   5453   5100   5502   5402   5425\n",
      "   5187   5497   5260   5494   4422   4562   4191   4483   4952   5141\n",
      "   5074   5538   5143   5437   4976   5256   5091   5237   4298   4672\n",
      "   4237   4432   5044   5245   5108   5265   4936   5153   4937   5114\n",
      "   5003   5377   4362   4508   4547   4612   4862   5238   5039   5288\n",
      "   4863   5218   4751   5231   4996   5105      1      3   4321   4530\n",
      "   4229   4412   4992   5297   5110   5355   5102   5271   4964   5164\n",
      "   5197   5320   4394   4512   4302   4443   5010   5239   5013   5313\n",
      "   4879   5180   4855   5075   5175   5238   4393   4436   4077   4486\n",
      "   4897   5278   5074   5426   4967   5213   4889   5088   4973   5270\n",
      "   4194   4486   4185   4258   5086   5361   5102   5394   4907   5329\n",
      "   3982   4152   4775   4874   4223   4598   4303   4527      3      2\n",
      "   5075   5150   5207   5504   4872   5233   4855   5070   5086   5202\n",
      "   4191   4468   4162   4351   5029   5339   4947   5375   4999   5121\n",
      "   4956   5042   4918   5121   4330   4428   4290   4233   5169   5339\n",
      "   5198   5574   5065   5459   5045   5535   5145   5517   4190   4336\n",
      "   4043   4246   4864   5171   4973   5145   4329   4650   3897   4082\n",
      "   4556   4757   4334   4414   4229   4347   5266   5615   5645   5958\n",
      "   5361   5586      2   3952   4347   4492   4553   4102   4356   4097\n",
      "   4198   4655   4959   4846   5282   5001   5139   4587   4836   4730\n",
      "   4972   4218   4231   3960   4316   4787   5113   4962   5201   5127\n",
      "   5292   4992   5165   4886   5278   4159   4442   4140   4262   5029\n",
      "   5339   5028   5427   4965   5201   4827   5176   4963   5160   4324\n",
      "   4501   4103   4266   4941   5272   5037   5309   4949   5196   4898\n",
      "   4976   4977   5129   4161   4296      2      2   4187   4287   5058\n",
      "   5227   5001   5230   4927   5156   4870   5115   4954   5145   4190\n",
      "   4373   4151   4460   5098   5215   5122   5233   4946   5166   4976\n",
      "   5356   4834   4836   4443   4671   4212   4326   4829   4967   5161\n",
      "   5248   5063   5250   5035   5302   4973   5395   4367   4608   4275\n",
      "   4382   4879   5278   5127   5296   4984   5286   4920   5134   5144\n",
      "   5082   4359   4533      1      3   4175   4359   4923   5207   5067\n",
      "   5404   4974   5303   4920   5248   4883   5251   4325   4372   4107\n",
      "   4262   4905   5007   5030   5318   4914   5270   5011   5126   4799\n",
      "   5162   4321   4616   4102   4236   4951   5318   5294   5437   4860\n",
      "   5269   4935   5095   4916   5268   4214   4559   4083   4375   4897\n",
      "   5143   5100   5353   4883   5207   5010   5183   5112   5342   4291\n",
      "   4544   4190   4342   4842   5221   5031   5296   4795   5065   4928\n",
      "   5076   4888   5263   4344   4544   4069   4309   4781   5207   5059\n",
      "   5297   4897   5137   4811   5241   4916   5199   4264   4438   4067\n",
      "   4271   4770   4966   4975   5302   4903   5063   4664   4970   4759\n",
      "   4834   4226   4123   3943   4179   4629   4929   4900   5255   4785\n",
      "   5207   4901   5177   4899   5022   4124   4307   3818   3938   4589\n",
      "   5068   4903   5339   4786   5173   4762   4913   4895   5152   4014\n",
      "   4315   3905   4210   4818   4937   5149   5234   4858   5026   4811\n",
      "   5095   4957   5129   4079   4275   4231   4273   4939   5003   4969\n",
      "   5107   4885   5010   4958   5187   4864   5331   4163   4355   3956\n",
      "   4238   4890   5269   4973   5336   5029   5057   4949   5233   5143\n",
      "   5281   4184   4576   4095   4249   4430   4413   5074   5397   5158\n",
      "   5516   4919   5481   5073   5338   4284   4568   4229   4369      1\n",
      "   4936   5141   4996   5359   4883   5312   4922   5286   4985   5381\n",
      "   4371   4594   4196   4442   4950   5256   5118   5451   5129   5250\n",
      "   4975   5156   4857   5305   4274   4579   4086   4398   4933   5249\n",
      "   5184   5565   5014   5400   5001   5071   5180   5342   4402   4610\n",
      "   4264   4449   5102   5495   5104   5436   4908   5417   4992   5385\n",
      "   5188   5336   4149   4500   4215   4384   5154   5348   5375   5682\n",
      "      1      2   5143   5536   5238   5419   4663   5054   4373   4562\n",
      "   4372   4503   5109   5493   5478   6020   5551   5654   5384   5762\n",
      "   5494   5870   4624   4828   4363   4634   5094   5524   5617   5960\n",
      "   5435   5673   5375   5567   5426   5700   4534   4799   4418   4575\n",
      "   5366   5745   5542   5771   5442   5622   5281   5684   5334   5676\n",
      "   4556   4874   4632   4622   5330   5563   5577   5902   5430   5781\n",
      "   5323   5677   5356   5855      4   4806   4927   4522   4754   5468\n",
      "   5684   5640   6057   5617   5821   5396   5757   5448   5808   4857\n",
      "   4946   4599   4761   5360   5692   5529   5713   5518   5839   5417\n",
      "   5671   5586   5847   4750   4878   4595   4687   5316   5732   5571\n",
      "   5836   5418   5641   5349   5607   5290   5801   4810   4930   4530\n",
      "   4695   5394   5753   5479   5928   5434   5764   5462   5597   5411\n",
      "   5849   4712   4955   4548   4713   5348   5702      2   5469   5687\n",
      "   5322   5600   5349   5545   5443   5737   4581   4773   4388   4707\n",
      "   4461   4752   5436   5635   5577   5779   5529   5716   5534   5937\n",
      "   4757   4804   4636   4760   5471   5906   5514   5908   5602   5763\n",
      "   5405   5666   5428   5720   4605   5004   4598   4934   5568   5694\n",
      "   5570   5918   5467   5814   5558   5643   5626   5834   4855   4848\n",
      "   4583   4754   5577   5764   5368   5706   5401   5591      4   5263\n",
      "   5618   5298   5720   4529   4789   4314   4591   5459   5415   5409\n",
      "   5490   5150   5333   5130   5275   5253   5652   4582   4731   4215\n",
      "   4541   5025   5347   5130   5486   4948   5266   5177   5279   5187\n",
      "   5529   4140   4397   4058   4482   4813   5210   5045   5232   5167\n",
      "   5293   5016   5251   5059   5257   4257   4430   4276   4457   5007\n",
      "   5037   5048   5404   4901   5252   4974   5137   5056   5246   4248\n",
      "   4395      4      1   4066   4292   5042   5261   5105   5292   5020\n",
      "   5330   5039   5276   5201   5477   4370   4427   4137   4334   4981\n",
      "   5174   5113   5243   4808   5242   5011   5245   4768   5151   4256\n",
      "   4540   4198   4301   5041   5412   5413   5352   4898   5246   4893\n",
      "   5331   5097   5477   4250   4496   4124   4303   5015   5320   5065\n",
      "   5463   5089   5363   3907   4247   4650   5000   4109   4378   4168\n",
      "   4360   4983   5234      2      4   5366   5514   5029   5427   4938\n",
      "   5175   4839   5081   4191   4369   4023   4293   5007   5083   5247\n",
      "   5374   4921   5191   4825   5110   4919   5245   4166   4469   4037\n",
      "   4247   5174   5191   5233   5566   5143   5190   5150   5522   5242\n",
      "   5611   4272   4392   3952   4221   5074   5488   5098   5469   4775\n",
      "   5066   4230   4511   3871   4152   4065   4287   4229   4424   5356\n",
      "   5689   5476   5803   5388   5648   5193   5201      2   4254   4306\n",
      "   4063   4245   4279   4327   4838   5120   5047   5206   4956   5226\n",
      "   4936   5013   4885   5202   4276   4208   4109   4278   4890   5336\n",
      "   5124   5328   5063   5119   4867   5233   4897   5072   4258   4447\n",
      "   4186   4336   5038   5215   5210   5498   5034   5300   4937   5239\n",
      "   5062   5363   4234   4472   4139   4393   5061   5171   5016   5441\n",
      "   4983   5173   4946   5167   4950   5257   4315   4411   4180   4200\n",
      "      6   5052   5170   4983   5443   4922   5247   4850   5220   5024\n",
      "   5218   4358   4446   4149   4365   4965   5397   5135   5416   5098\n",
      "   5326   5042   5360   5090   5384   4394   4569   4240   4440   4943\n",
      "   5263   5231   5506   5171   5361   5026   5340   5082   5293   4374\n",
      "   4549   4231   4478   5160   5417   5047   5427   5186   5276   5060\n",
      "   5307   4868   5179   4394   4458   4062   4322      2      4   5109\n",
      "   5148   5186   5493   5134   5372   4926   5279   5131   5345   4264\n",
      "   4504   4075   4324   5067   5226   5168   5249   5075   5349   5035\n",
      "   5198   5118   5251   4479   4487   4031   4371   4810   5288   5036\n",
      "   5511   5209   5374   5126   5321   4915   5344   4259   4446   4041\n",
      "   4272   4924   5132   4905   5433   4965   5245   4998   5240   5004\n",
      "   5276   4215   4353   4044   4170   4947   5269   5114   5367   4953\n",
      "   5318      4      4   4988   5130   5132   5396   4476   4479   4139\n",
      "   4293   4894   5234   5123   5497   4817   5157   4900   5258   4942\n",
      "   5157   4108   4277   3882   4032   4844   5147   5037   5313   5038\n",
      "   5195   5055   5240   4962   5313   4298   4554   3983   4212   4878\n",
      "   5294   5100   5503   4964   5066   4858   5100   4906   5105   4112\n",
      "   4382   3844   4011   5007   5362   5115   5155   5011   5251   4761\n",
      "   5150   5063   5333      5      8   4264   4456   4085   4322   5076\n",
      "   5366   5191   5441   5117   5292   5000   5372   5049   5445   4356\n",
      "   4399   4173   4419   5157   5459   5119   5584   5102   5326   4962\n",
      "   5169   5117   5380   4342   4525   4092   4327   5120   5451   5273\n",
      "   5527   5093   5424   5024   5376   5131   5414   4089   4516   4151\n",
      "   4309   5090   5316   5337   5595   5341   5513   5284   5424   5180\n",
      "   5503   4366   4599   4252   4467   4337   4660   5106   5392   5135\n",
      "   5577   5179   5456   5248   5343   4306   4614   4277   4488   5117\n",
      "   5266   5187   5449   5080   5273   5131   5572   5159   5470   4320\n",
      "   4805   4189   4319   5029   5453   5346   5597   5406   5547   5265\n",
      "   5466   5288   5592   4394   4554   4364   4434   5122   5664   5346\n",
      "   5704   5184   5574   5406   5433   5492   5524   4560   4656   4361\n",
      "   4621   5417   5561   5514   5942   5303   5659      2   5394   5530\n",
      "   5287   5606   4444   4849   4387   4649   4445   4533   5492   5679\n",
      "   5761   5981   5691   5963   5511   5801   4760   4831   4476   4689\n",
      "   5216   5780   5318   5818   5427   5668   5392   5826   5504   5835\n",
      "   4686   4930   4633   4741   5405   5634   5755   5796   5506   5736\n",
      "   5436   5568   5496   5851   4612   4996   4447   4649   5400   5641\n",
      "   5518   5956   5450   5785   5444   5629   5406   5710   4587   5002\n",
      "      6      6   4479   4714   5282   5674   5618   5897   5459   5794\n",
      "   5504   5692   5422   5592   4582   4767   4559   4639   5250   5653\n",
      "   5474   5909   5398   5706   5465   5730   5205   5473   4630   4814\n",
      "   4527   4688   5581   5620   5601   5888   5439   5827   5499   5655\n",
      "   5554   5831   4661   4941   4461   4637   5320   5624   5587   5990\n",
      "   5380   5773   5458   5568   5531   5735   4610   4874   4390   4510\n",
      "   5306   5657   5680   5825      2      9   5380   5738   5338   5743\n",
      "   5532   5943   4689   4890   4435   4723   4472   4790   5531   5811\n",
      "   5457   5998   5705   5690   5830   6087   4665   5030   4717   4943\n",
      "   5463   5880   5628   6097   5593   5766   5612   5966   5872   5864\n",
      "   4705   4872   4639   4913   5674   5922   5666   6125   5531   5999\n",
      "   5659   5892   5596   5884   4715   5077   4560   4865   5664   5874\n",
      "   5674   6000   5665   5737   5486   5783      7   5567   5730   4726\n",
      "   4877   4481   4707   5405   5771   5450   5755   5383   5760   5297\n",
      "   5648   5379   5686   4543   4653   4323   4556   5027   5300   5285\n",
      "   5704   5031   5285   5272   5450   5073   5437   4393   4501   4219\n",
      "   4363   5086   5331   5319   5626   5041   5399   5114   5330   5110\n",
      "   5322   4311   4669   4198   4457   5070   5271   5297   5384   5093\n",
      "   5279   5204   5299   5132   5382   4234   4489   4413   4463      4\n",
      "      4   5085   5265   5214   5453   4999   5266   5069   5380   5041\n",
      "   5400   4251   4507   4222   4435   5175   5254   5213   5524   5154\n",
      "   5424   5092   5326   5219   5271   4342   4484   4033   4075   4983\n",
      "   5431   5015   5427   5076   5285   5079   5315   5156   5465   4357\n",
      "   4543   4100   4334   5177   5304   5182   5628   4945   5362   3918\n",
      "   4127   4480   4759   4202   4356   4177   4351   5085   5455   5461\n",
      "   5613      2      4   5136   5296   4938   5118   5007   5132   4144\n",
      "   4451   4249   4195   4943   5123   4940   5287   4904   5209   4833\n",
      "   5087   4870   5146   4101   4504   4013   4262   4891   5124   5213\n",
      "   5487   5045   5343   5181   5451   5098   5521   4220   4282   4113\n",
      "   4281   5226   5455   5146   5515   4723   5178   4552   4698   4076\n",
      "   4110   3865   3960   4017   3936   4971   5256   5187   5486   5255\n",
      "   5586   5373   5513   4477   4800      4   4000   4174   3924   4161\n",
      "   4706   4817   4937   5157   4893   5073   4905   5085   4862   5085\n",
      "   4105   4420   4090   4197   4805   5125   4935   5402   4971   5302\n",
      "   4939   5251   5006   5238   4180   4604   4071   4311   5003   5128\n",
      "   5073   5409   4829   5121   4951   5203   5006   5300   4334   4464\n",
      "   4208   4392   4954   5137   5135   5233   4914   5358   5082   5220\n",
      "   4928   5282   4391   4366   4244   4467   5034   5114      5      2\n",
      "   5177   5402   4939   5221   5055   5341   4937   5259   4212   4267\n",
      "   4061   4434   4973   5259   5181   5422   4859   5268   5027   5234\n",
      "   5192   5309   4450   4379   4217   4341   5208   5390   5080   5492\n",
      "   5181   5338   5087   5422   5102   5325   4294   4552   4181   4341\n",
      "   4839   5181   5154   5317   5272   5404   5175   5435   5122   5376\n",
      "   4249   4620   4132   4328   4936   5318      3      6   5275   5394\n",
      "   5095   5579   5256   5306   5187   5458   4361   4674   4194   4376\n",
      "   5012   5341   5267   5435   5040   5282   5051   5297   5154   5197\n",
      "   4197   4557   4135   4297   5039   5395   5242   5597   4926   5325\n",
      "   5129   5395   5288   5539   4309   4467   4117   4407   5109   5324\n",
      "   5270   5422   4929   5301   5065   5150   5146   5366   4249   4487\n",
      "   4110   4365   4929   5322   5255   5556   5265   5384   5197   5416\n",
      "      4      6   4836   5146   4210   4562   4027   4327   4914   5293\n",
      "   5222   5537   5163   5285   5138   5521   5112   5446   4295   4490\n",
      "   4189   4296   4883   5415   5075   5499   4882   5230   4927   5269\n",
      "   4983   5356   4249   4374   4081   4283   5019   5198   5063   5346\n",
      "   5030   5341   4934   5267   5012   5256   4288   4416   3763   4187\n",
      "   5045   5326   5211   5381   5192   5220   5017   5418   5014   5265\n",
      "   4099   4380      7     11   3937   4233   4889   5225   5256   5381\n",
      "   5010   5206   5127   5378   5018   5259   4188   4461   4014   4398\n",
      "   4850   5132   5001   5327   4942   5232   5037   5269   4974   5116\n",
      "   4198   4543   4131   4333   5194   5230   5171   5230   4980   5216\n",
      "   5101   5405   5129   5384   4407   4543   4114   4254   5080   5339\n",
      "   5299   5672   5094   5480   5096   5262   5074   5402   4207   4550\n",
      "   4222   4325   4231   4456   4972   5348      4   5265   5535   5136\n",
      "   5380   5158   5506   4408   4604   4215   4359   5172   5199   5054\n",
      "   5579   5104   5271   5240   5259   5294   5358   4219   4738   4182\n",
      "   4365   5004   5460   5261   5725   5023   5399   5127   5400   5213\n",
      "   5572   4206   4503   4109   4480   4998   5500   5236   5515   4965\n",
      "   5453   5218   5572   5086   5602   4408   4660   4212   4449   5139\n",
      "   5495   5387   5701   5227   5557   5161   5599      5      9   5338\n",
      "   5575   4417   4658   4254   4394   4287   4656   5110   5381   5406\n",
      "   5713   5512   5618   5254   5617   4383   4672   4234   4604   5189\n",
      "   5475   5518   5736   5374   5663   5311   5725   5437   5729   4495\n",
      "   4725   4344   4596   5248   5519   5455   5585   5379   5720   5292\n",
      "   5780   5438   5605   4466   4689   4412   4581   5154   5499   5400\n",
      "   5633   5273   5566   5313   5724   5334   5691   4512   4652   4273\n",
      "   4697      3     12   5149   5461   5405   5641   5366   5587   5161\n",
      "   5559   5357   5659   4519   4713   4579   4677   5167   5628   5451\n",
      "   5688   5434   5588   5247   5542   5254   5712   4458   4700   4297\n",
      "   4533   5299   5364   5519   5751   5412   5600   5407   5728   5500\n",
      "   5719   4464   4796   4359   4783   5175   5458   5478   5675   5366\n",
      "   5449   5342   5382   5281   5558   4463   4779   4371   4638   5270\n",
      "   5542   5454   5677   5253   5552      2      2   5238   5509   5261\n",
      "   5646   4554   4597   4273   4533   4290   4459   5302   5693   5485\n",
      "   5863   5420   5632   5337   5762   4590   4946   4405   4643   5253\n",
      "   5645   5374   5842   5469   5714   5432   5544   5352   5596   4562\n",
      "   4874   4501   4826   5416   5764   5742   5893   5550   5726   5392\n",
      "   5673   5488   5689   4477   4697   4305   4516   5458   5500   5573\n",
      "   5793   5382   5571   5301   5588   5357   5557      2   4504   4698\n",
      "   4319   4574   5267   5539   5476   5706   5306   5456   5293   5382\n",
      "   5253   5500   4355   4616   4208   4343   5051   5222   5141   5515\n",
      "   5247   5398   5005   5315   5223   5387   4105   4465   4199   4306\n",
      "   5047   5255   5071   5414   4952   5272   5132   5260   4914   5278\n",
      "   4154   4472   4005   4229   4953   5272   5212   5412   4950   5251\n",
      "   4974   5286   4978   5328   4123   4381   4150   4346   4738   4941\n",
      "      3   5031   5248   4966   5116   5114   5139   5074   5192   4257\n",
      "   4386   4015   4203   5013   5227   4968   5492   4905   5277   5110\n",
      "   5154   5005   5104   4094   4336   4135   4311   5024   5198   5200\n",
      "   5483   4976   5279   4889   5331   5047   5437   4186   4495   4108\n",
      "   4210   5080   5399   5297   5571   5036   5305   4122   4194   4585\n",
      "   4864   4035   4198   3994   4230   4929   5249   5185   5341   4912\n",
      "   5009      2   5089   5208   5013   5056   4063   4212   3927   4047\n",
      "   4990   5188   5015   5264   4905   5226   4937   5201   5002   5130\n",
      "   4148   4248   4067   4249   4991   5269   5188   5239   4986   5288\n",
      "   5066   5398   5108   5426   4078   4221   3942   4228   5190   5571\n",
      "   5419   5566   4909   5317   4625   4882   4486   4549   3948   4094\n",
      "   3697   3948   4029   4207   5267   5350   5478   5786   5274   5609\n",
      "   5328   5673   4144   4418      2   3921   4092   3910   4095   4779\n",
      "   4883   4863   5060   4860   5144   5012   5105   4146   4351   4026\n",
      "   4204   4712   4978   4852   5263   4769   5045   4767   5031   4826\n",
      "   5012   4172   4332   3937   4171   4867   5070   4915   5179   4888\n",
      "   5246   4727   5167   4975   5122   4078   4257   3906   4166   4881\n",
      "   5044   5038   5247   4960   5294   5043   5101   5047   5240   4122\n",
      "   4428   4123   4068   4857   5023   4975   5154      2      3   4921\n",
      "   5118   4992   5135   4932   5267   4145   4369   4019   4257   4874\n",
      "   5080   4952   5131   4973   5154   4893   5108   5140   5444   4262\n",
      "   4485   4102   4254   4837   5140   5518   5747   4935   5278   5024\n",
      "   5229   4999   5230   4344   4527   4100   4277   4852   4963   4959\n",
      "   5230   5004   5299   4770   5225   5058   5252   4219   4418   4098\n",
      "   4196   4818   5234   5126   5305   4773   4907      1   5007   5464\n",
      "   5128   5377   4320   4488   4114   4249   4834   5290   5149   5408\n",
      "   5050   5309   5022   5254   4990   5105   4284   4379   4228   4173\n",
      "   5021   5231   4908   5363   4959   5217   5065   5264   5191   5515\n",
      "   4355   4528   3982   4349   5121   5306   5198   5516   5142   5253\n",
      "   5070   5283   4919   5365   4195   4371   4108   4158   4975   5191\n",
      "   5017   5339   5006   5294   5016   5141   4995   5274   4191   4323\n",
      "      1   4021   4181   4861   5155   5038   5014   4976   5355   4915\n",
      "   5056   5013   5327   4191   4376   3907   4150   4948   5085   4896\n",
      "   5303   4927   4903   5036   5246   4847   5255   4169   4408   3927\n",
      "   4161   4860   5131   5173   5397   4938   5148   4937   5120   4712\n",
      "   4977   3972   4291   3854   4037   4828   5103   5021   5272   4944\n",
      "   5108   4955   5245   4999   5153   4181   4303   3824   3897   4925\n",
      "   5172      2      1   5139   5396   4954   5233   5001   5237   5011\n",
      "   5281   4080   4300   3952   4232   4805   5008   4961   5242   4772\n",
      "   4916   4767   5179   5062   5213   4069   4309   3969   4230   5018\n",
      "   5069   5002   5287   4795   5210   4844   5007   4848   5232   4133\n",
      "   4343   4024   4258   4820   5361   5207   5573   4988   5383   4981\n",
      "   5152   5196   5379   4286   4563   4033   4355   4135   4276   5006\n",
      "   5262   5025   5260   4970   5129      4   5083   5318   4292   4588\n",
      "   4089   4188   4867   5151   5137   5377   5095   5382   4895   5349\n",
      "   5088   5472   4228   4533   4028   4394   5002   5325   5037   5465\n",
      "   4839   5245   5137   5595   5104   5228   4104   4353   4167   4444\n",
      "   5129   5354   5080   5435   5187   5468   4995   5566   5015   5571\n",
      "   4373   4599   4253   4568   5197   5364   5338   5642   5153   5509\n",
      "   5324   5470   5344   5743   4316   4624      1      2   4170   4395\n",
      "   5387   5420   5451   5799   4408   4832   5330   5459   5594   5972\n",
      "   4377   4761   4329   4627   5357   5639   5576   6085   5221   5702\n",
      "   5541   5723   5243   5444   4506   4707   4398   4648   5683   5612\n",
      "   5547   5946   5557   5721   5312   5730   5451   5734   4659   4679\n",
      "   4507   4522   5474   5702   5692   6119   5529   5570   5372   5631\n",
      "   5421   5899   4651   4819   4290   4611   5201   5581   5760   5822\n",
      "      4   5344   5883   5682   5728   5479   5891   4738   4856   4417\n",
      "   4720   5283   5930   5745   6139   5577   5815   5677   5700   5547\n",
      "   5817   4612   4853   4416   4629   5359   5658   5705   5845   5586\n",
      "   5903   5572   5729   5495   5932   4645   4762   4409   4536   5551\n",
      "   5677   5660   5925   5462   5718   5413   5697   5441   5721   4466\n",
      "   4788   4543   4691   5566   5655   5813   6016   5480   5862   5520\n",
      "   5901   5528   5953      5   4537   4833   4443   4519   4655   4688\n",
      "   5430   5681   5666   6161   5557   5885   5807   5953   4621   4967\n",
      "   4656   4698   5630   6011   5762   6033   5638   5750   5545   5970\n",
      "   5811   6223   4877   5003   4568   4742   5628   5859   5839   6199\n",
      "   5760   6027   5715   6005   5957   6164   4783   5074   4704   4918\n",
      "   5828   6152   6021   6250   5721   5970   5393   5781   5674   5885\n",
      "   4786   5027   4610   4852      4   5594   5641   5637   5935   5626\n",
      "   5861   5497   5842   5592   5795   4645   4878   4253   4496   5372\n",
      "   5682   5672   5763   5458   5688   5311   5749   5350   5668   4421\n",
      "   4588   4315   4521   5271   5690   5296   5703   5176   5517   5202\n",
      "   5395   5209   5628   4310   4481   4117   4427   5138   5471   5318\n",
      "   5565   5148   5247   5094   5369   5220   5348   4372   4510   4385\n",
      "   4525   5004   5262   5135   5323   4960   5073   5080   5522   5168\n",
      "   5268   4109   4417   4130   4250   5170   5402   5008   5498   5090\n",
      "   5201   5084   5294   5277   5495   4077   4410   4143   4433   4922\n",
      "   5340   5252   5503   4973   5430   5212   5489   5265   5457   4250\n",
      "   4438   4115   4185   5272   5468   5263   5678   5071   5430   3867\n",
      "   4144   4774   4915   4173   4339   4176   4367   5368   5288   5279\n",
      "   5540   5171   5287   5010   5377   5172   5388      2      3   4134\n",
      "   4345   4086   4262   5049   5240   5061   5483   4975   5207   4983\n",
      "   5189   5080   5180   4227   4232   4062   4205   5077   5429   5305\n",
      "   5442   5114   5455   5046   5332   5135   5495   4155   4350   4050\n",
      "   4203   5259   5501   5554   5890   5350   5583   5360   5465   5154\n",
      "   5320   4133   4386   3895   4006   4179   4396   3817   4034   4726\n",
      "   5051   5483   5741   5717   5988   4511   4743   4073   4313   4972\n",
      "   5133      2   4091   4244   4570   4807   4883   5169   5102   5356\n",
      "   4227   4421   4191   4286   4819   5259   5049   5193   4829   5159\n",
      "   4911   5239   5142   5359   4293   4466   4073   4174   5085   5324\n",
      "   5159   5533   4961   5238   5143   5248   5309   5556   4334   4648\n",
      "   4087   4258   5055   5259   5147   5451   5191   5305   5090   5380\n",
      "   5214   5541   4351   4423   4192   4249   5133   5189   5247   5335\n",
      "   5027   5281   4860   5302      1      1   5249   5342   4358   4471\n",
      "   4105   4242   5061   5277   5138   5469   5121   5385   5105   5403\n",
      "   5198   5381   4342   4579   4240   4367   5127   5470   5216   5673\n",
      "   4963   5343   5526   5837   5204   5477   4326   4557   4122   4354\n",
      "   4808   5117   5048   5524   5175   5361   5222   5361   5290   5439\n",
      "   4344   4489   4263   4573   5116   5413   5268   5450   5202   5469\n",
      "   5204   5412      1      4   5380   5496   4259   4565   4153   4401\n",
      "   5254   5375   5361   5436   5045   5430   5174   5335   5332   5595\n",
      "   4425   4585   4149   4195   5166   5378   5260   5552   5010   5276\n",
      "   5211   5521   5187   5423   4282   4408   4146   4357   5110   5406\n",
      "   5259   5544   5171   5512   5142   5449   5311   5481   4330   4537\n",
      "   4188   4270   5211   5261   5446   5472   5246   5420   5309   5581\n",
      "   5322   5715   4376   4511   4001   4320   4749   5085   5456   5807\n",
      "   5130   5424   5104   5485   5013   5225   4273   4488   3980   4156\n",
      "   4987   5148   5106   5435   5128   5431   5168   5338   5112   5621\n",
      "   4283   4483   4095   4295   5176   5431   5391   5730   5049   5444\n",
      "   5087   5377   5391   5787   4327   4470   4183   4456   5171   5541\n",
      "   5313   5717   5081   5332   5188   5446   5180   5491   4349   4576\n",
      "   4016   4043   5104   5380   5229   5665      1   5279   5448   5180\n",
      "   5548   5205   5388   4203   4477   4263   4415   5170   5472   5374\n",
      "   5893   5195   5528   5170   5594   5281   5724   4333   4638   4213\n",
      "   4430   4901   5253   5311   5788   5291   5471   5094   5315   5284\n",
      "   5561   4305   4645   4108   4345   5297   5658   5226   5736   5393\n",
      "   5515   5234   5611   5485   5711   4379   4546   4238   4518   4294\n",
      "   4755   5248   5617   5471   5754   5272   5671   5446   5842   4376\n",
      "   4620   4175   4578   5108   5430   5214   5558   5268   5578   5271\n",
      "   5534   5358   5635   4406   4530   4257   4532   5308   5611   5357\n",
      "   5734   5158   5462   5097   5305   5396   5651   4337   4654   4235\n",
      "   4596   5395   5567   5472   5669   5287   5569   5475   5866   5461\n",
      "   5743   4480   4778   4267   4490   5396   5618   5467   5918   5303\n",
      "   5809   5316   5750   5520   5840   4584   4616   4298   4579   5463\n",
      "   5839   5794   6111   5628   6070   4460   4716   5552   5681   4552\n",
      "   4774   4474   4640   5457   5883   5807   6075   5603   6037   5347\n",
      "   5801   5567   5892   4514   4666   4359   4606   5594   5820   5625\n",
      "   6060   5443   5800   5462   5769   5598   5886   4540   4835   4383\n",
      "   4531   5421   5743   5596   5893   5401   5699   5510   5831   5510\n",
      "   5889   4647   4794   4329   4612   5615   5716   5805   5902   5420\n",
      "   5864   5364   5838   5384   5837   4607   4806   4316   4488   5392\n",
      "   5768   5626   5936   5588   5854   5661   5872   5622   5920   4559\n",
      "   4762   4531   4496   5501   5923   5665   5971   5583   5957   5686\n",
      "   6060   5685   5929   4653   5027   4517   4774   5524   5790   5871\n",
      "   6032   5556   5828   5578   5960   5655   5779   4613   4860   4423\n",
      "   4705   5595   5729   5667   6113   5470   5898   5645   5870   5729\n",
      "   6138   4801   5031      1   4466   4679   4477   4706   5517   5900\n",
      "   5786   6199   5793   6166   5757   6168   4652   4912   4490   4582\n",
      "   5534   6089   5813   6015   5630   5891   5819   6139   5522   5808\n",
      "   4608   4934   4547   4734   5765   6084   5837   6221   5763   6056\n",
      "   5897   6315   5886   6232   4959   5185   4792   5006   5829   6080\n",
      "   6191   6205   5740   5955   6051   5987   5889   6037   4658   4926\n",
      "   4510   4726   5667   5893   5690   6029   5484   5881   5644   5715\n",
      "   5878   5932   4685   4893   4321   4607   5459   5565   5515   5843\n",
      "   5270   5689   5405   5652   5448   5736   4334   4614   4258   4257\n",
      "   5198   5453   5497   5856   5286   5498   5237   5572   5197   5652\n",
      "   4323   4524   4082   4399   5292   5481   5332   5691   5241   5457\n",
      "   5222   5435   5299   5593   4274   4447   4338   4485   5066   5444\n",
      "   5201   5589   5208   5458   5050   5196   5431   5664   4422   4453\n",
      "   4159   4283   5360   5536   5404   5715   5259   5436   5319   5546\n",
      "   5259   5539   4323   4465   4099   4239   5077   5271   5364   5620\n",
      "   5130   5375   5220   5617   5299   5672   4189   4529   4167   4378\n",
      "   5242   5479   5212   5588   5258   5571   5146   5492   5452   5606\n",
      "   4265   4549   4152   4429   5200   5616   5479   5805   5193   5573\n",
      "   4020   4163   4779   5143   4263   4433      1   4154   4395   5166\n",
      "   5412   5448   5815   5195   5477   5156   5448   5025   5459   4169\n",
      "   4366   4097   4297   5215   5392   5487   5487   5111   5322   5242\n",
      "   5368   4937   5208   4306   4400   4107   4146   5388   5599   5598\n",
      "   5855   5439   5544   5356   5561   5521   5787   4264   4652   4006\n",
      "   4253   4860   4999   4488   4715   3948   4083   4914   5108   5572\n",
      "   5912   4554   4694   4197   4329   5700   5944   5560   5925   4112\n",
      "   4332   4550   4896   5016   5311   4227   4580   4193   4204   5006\n",
      "   5287   5241   5475   4910   5155   4876   5180   5204   5455   4291\n",
      "   4579   4145   4129   4991   5215   5319   5420   5071   5332   5100\n",
      "   5287   5247   5427   4304   4539   4142   4212   5170   5319   5327\n",
      "   5529   5082   5316   5071   5317   5089   5422   4373   4648   4081\n",
      "   4247   5153   5306   5168   5482   5112   5330   5018   5358   5150\n",
      "   5488   4219   4517   4164   4378   5080   5323   5237   5528   4951\n",
      "   5268   5173   5433   5200   5438   4171   4588   4079   4392   5197\n",
      "   5361   5159   5588   5181   5390   5107   5335   5652   5760   4379\n",
      "   4548   4052   4361   4944   5293   5341   5578   5347   5522   5266\n",
      "   5388   5297   5523   4399   4570   4098   4285   5141   5422   5237\n",
      "   5654   5334   5382   5255   5417   5322   5561      5      4   4216\n",
      "   4560   4143   4191   5312   5359   5301   5625   5250   5401   5164\n",
      "   5619   5361   5672   4351   4412   4116   4124   5239   5600   5289\n",
      "   5669   5252   5492   5128   5394   5370   5527   4346   4508   4059\n",
      "   4373   5194   5476   5262   5603   5213   5497   5208   5535   5292\n",
      "   5692   4179   4375   4098   4289   5119   5423   5338   5806   5205\n",
      "   5667   5443   5638   5283   5530   4237   4580   4167   4405   5240\n",
      "   5329   5135   5434   5200   5483   5339   5661   5283   5524   4374\n",
      "   4570   4053   4236   5330   5390   5483   5734   5127   5529   5237\n",
      "   5384   5092   5394   4166   4442   4097   4198   5147   5511   5295\n",
      "   5581   5229   5380   5202   5462   5195   5354   4252   4427   4093\n",
      "   4289   5044   5403   5366   5530   5008   5333   5240   5332   5429\n",
      "   5559   4381   4642   4036   4131   5224   5596   5383   5620   5262\n",
      "   5619   5424   5538   5237   5584   4104   4420   3870   4051   5133\n",
      "   5361   5376   5642   5289   5351   5202   5315   5241   5572   4364\n",
      "   4471   4067   4291   5226   5411   5237   5722   5186   5564   5247\n",
      "   5639   5377   5739   4344   4536   4288   4314   5209   5576   5403\n",
      "   5818   5125   5594   5327   5454   5574   5710   4351   4586   3996\n",
      "   4446   4446   4392   5397   5689   5497   5957   5482   5866   5589\n",
      "   5971   4502   4629   4146   4433   5261   5496   5296   5489   5193\n",
      "   5569   5303   5620   5369   5641   4193   4471   4037   4368   5154\n",
      "   5478   5287   5592   5424   5574   5411   5700   5013   5398   4160\n",
      "   4483   4203   4325   5390   5661   5537   5824   5245   5447   5161\n",
      "   5515   5353   5801   4270   4587   4125   4348   5429   5539   5519\n",
      "   6013   5309   5729   5315   5785   5408   5878   4337   4791   4302\n",
      "   4416   5278   5612   5741   5804   5482   5931   5433   5873   4416\n",
      "   4603   4491   4620   4275   4390   5560   5807   5917   6134   5588\n",
      "   5816   5743   5941   5469   5936   4524   4658   4319   4470   5364\n",
      "   5769   5656   5971   5511   5823   5471   5907   5581   5991   4651\n",
      "   4770   4407   4643   5449   5751   5971   6292   5641   5899   5534\n",
      "   5788   5838   5963   4524   4862   4350   4609   5503   5869   5734\n",
      "   6162   5471   5947   5486   5812      1   5756   5930   4574   4783\n",
      "   4353   4522   5529   5735   5629   6026   5610   6033   5486   5927\n",
      "   5777   5956   4732   4828   4484   4440   5473   5743   5637   6048\n",
      "   5407   5751   5387   5953   5669   5982   4617   4935   4537   4598\n",
      "   5481   5777   5771   6062   5660   6108   5655   5854   5599   5955\n",
      "   4576   4915   4375   4565   5547   5786   5788   6031   5733   5947\n",
      "   5567   5895   5650   6067   4461   4750   4257   4585   4315   4633\n",
      "   5516   5761   5946   5894   5671   6066   5849   6035   4675   5010\n",
      "   4372   4672   5470   5751   5808   6069   5594   5849   5648   6056\n",
      "   5916   6095   4626   4970   4522   4645   5772   5991   5978   6323\n",
      "   5771   5986   5837   6174   5858   6379   4796   5110   4595   4888\n",
      "   5933   6223   5883   6352   5927   6135   6056   6225   6042   6370\n",
      "   4706   5077   4462   4709   5743   5988   5840   6019      1   5851\n",
      "   5853   5653   5883   5557   5889   4578   4704   4266   4533   5431\n",
      "   5548   5562   5938   5358   5655   5371   5488   5426   5742   4268\n",
      "   4507   4083   4134   5026   5296   5414   5616   5461   5624   5277\n",
      "   5590   5341   5663   4337   4373   4030   4188   5093   5352   5272\n",
      "   5709   5065   5524   5170   5356   5151   5585   4227   4353   4159\n",
      "   4403   5105   5417   5249   5547   5120   5474   5108   5396   4915\n",
      "   5207   4253   4464   4053   4156   5099   5494   5315   5749   5185\n",
      "   5286   5252   5374   5212   5468   4271   4487   4048   4291   5085\n",
      "   5318   5281   5594   5126   5473   5074   5171   5233   5435   4159\n",
      "   4306   4012   4201   5205   5329   5277   5769   5170   5420   5204\n",
      "   5337   5320   5536   4148   4294   3965   4221   5160   5441   5450\n",
      "   5651   5103   5355   3911   4104   4725   4999   4092   4270   4008\n",
      "   4182      1   5273   5339   5426   5680   5239   5411   4936   5344\n",
      "   5068   5373   4019   4276   3946   4141   5157   5289   5368   5595\n",
      "   5176   5443   5124   5279   5245   5433   4187   4315   3970   4110\n",
      "   5249   5617   5575   5814   5534   5683   5435   5752   5686   5942\n",
      "   4337   4351   3971   4175   5152   5437   5174   5359   4457   4640\n",
      "   3861   4246   5112   5305   4371   4450   4072   4214   5532   5766\n",
      "   5900   6337   5490   5898      1   4105   4238   4660   4870   4349\n",
      "   4429   4107   4152   4949   5153   5366   5650   5098   5436   5060\n",
      "   5402   5056   5414   4168   4477   4043   4138   5081   5304   5230\n",
      "   5351   5006   5450   5089   5431   5168   5465   4230   4378   3913\n",
      "   4182   5026   5134   5249   5421   5203   5409   5158   5444   5024\n",
      "   5557   4214   4368   4109   4232   5047   5250   5291   5540   5314\n",
      "   5497   5133   5508   5220   5492   4349   4547   4074   4329   5167\n",
      "   5418   5390   5649   5149   5400   5056   5473   5139   5472   4232\n",
      "   4503   4044   4234   4906   5508   5295   5681   5151   5498   5398\n",
      "   5588   5054   5202   4552   4693   4040   4344   4894   5369   5323\n",
      "   5607   5279   5477   5139   5349   5480   5512   4275   4565   4268\n",
      "   4374   5267   5485   5396   5619   5253   5610   5117   5508   5416\n",
      "   5594   4331   4614      3   4196   4289   5317   5501   5323   5608\n",
      "   5185   5482   5460   5511   5503   5592   4229   4525   3926   4368\n",
      "   5226   5583   5469   5731   5214   5483   5363   5537   4988   5411\n",
      "   4315   4522   4130   4188   5322   5496   5490   5736   5366   5729\n",
      "   5381   5567   5493   5762   4437   4569   4077   4230   5375   5455\n",
      "   5470   5847   5209   5593   5291   5624   5488   5569   4260   4595\n",
      "   4059   4296   5333   5290   5376   5820      1   5096   5116   5386\n",
      "   5683   5368   5677   4333   4486   4008   4004   5339   5426   5499\n",
      "   5825   5267   5739   5140   5670   5557   5727   4432   4601   4136\n",
      "   4399   5110   5500   5457   5960   5399   5668   5468   5707   5116\n",
      "   5442   4313   4612   4038   4187   5129   5465   5416   5789   5330\n",
      "   5642   5284   5532   5244   5603   4218   4445   4015   4271   5093\n",
      "   5293   5363   5532   5157   5453   5282   5618      1   5361   5578\n",
      "   4268   4611   4079   4296   5209   5599   5381   5729   5325   5501\n",
      "   5324   5632   5425   5773   4335   4518   4172   4395   5377   5616\n",
      "   5621   5792   5182   5378   5427   5611   5416   5794   4403   4490\n",
      "   4036   4293   5503   5705   5587   5856   5415   5811   5499   5790\n",
      "   5659   5961   4302   4652   4130   4238   4279   4510   5463   5668\n",
      "   5744   6091   5579   5858   5674   6105   4529   4747   4307   4502\n",
      "   5325   5774   5520   6020   5458   5722   5477   5754   5616   5744\n",
      "   4549   4713   4142   4409   5412   5690   5633   5865   5504   5853\n",
      "   5420   5870   5585   5925   4617   4637   4189   4434   5511   5942\n",
      "   5611   6036   5587   5884   5538   5687   5546   5915   4473   4782\n",
      "   4381   4505   5457   5616   5558   5875   5449   5742   5509   5918\n",
      "   5617   5931   4396   4592   4393   4302   5286   5583   5701   6177\n",
      "   5511   5929   5736   6113   4927   5226   4410   4454   4208   4437\n",
      "   5372   5577   5737   6127   5562   5968   5560   5844   5623   6023\n",
      "   4554   4751   4298   4572   5419   5536   5757   6133   5483   5873\n",
      "   5570   5862   5639   5879   4292   4719   4269   4590   5611   5778\n",
      "   5754   6100   5836   5795   5614   5965   5750   6028   4723   4807\n",
      "   4408   4665   5661   5943   5826   6217   5609   5981   5649   5965\n",
      "   5550   5943   4472   4670   4369   4527   5488   5841   5780   5940\n",
      "   5505   5846   5509   5827   5772   5993   4590   4831   4220   4417\n",
      "   5655   5821   5783   6007   5440   5901   5609   5809   5560   5912\n",
      "   4605   4793   4376   4482   5655   5930   5789   6107   5501   5733\n",
      "   5650   5790   5748   5944   4579   4734   4419   4481   5379   5677\n",
      "   5721   5949   5590   5872   5591   5942   5688   5928   4426   4722\n",
      "   4314   4484   5376   5619   5718   6016   5650   5801   5482   5990\n",
      "   5823   6046   4626   4766   4298   4504   4587   4743   5751   5980\n",
      "   5926   6252   6028   6224   5880   6471   4604   4863   4409   4615\n",
      "   5667   5905   5905   6235   5856   6132   5853   6253   6008   6189\n",
      "   4848   4980   4637   4795   5766   6109   6007   6249   5720   5962\n",
      "   5765   6095   5953   6220   4746   5045   4455   4692   5549   5964\n",
      "   5922   6163   5766   5971   5742   6049   5744   6117   4484   4754\n",
      "   4251   4435   5565   5803   5714   5851   5405   5851   5527   5788\n",
      "   5436   5818   4443   4722   4149   4394   5295   5576   5601   5832\n",
      "   5589   5785   5527   5892   5551   5689   4471   4501   4065   4205\n",
      "   5338   5506   5552   5828   5426   5764   5237   5556   5496   5664\n",
      "   4318   4530   4358   4491   5332   5524   5452   5664   5383   5663\n",
      "   5397   5703   5335   5711   4378   4507   4158   4305   5245   5546\n",
      "   5489   5738   5330   5802   5397   5580   5385   5714   4270   4544\n",
      "   4133   4300   5318   5577   5635   5755   5378   5628   5382   5624\n",
      "   5103   5539   4269   4608   4158   4365   5390   5627   5602   5841\n",
      "   5365   5655   5229   5599   5508   5741   4370   4521   4168   4308\n",
      "   5528   5742   5666   5879   5439   5686   4138   4180   4895   5119\n",
      "   4251   4434   4196   4220   5380   5705   5744   6063   5329   5607\n",
      "   5303   5562   5340   5555   4250   4405   4205   4278   5246   5421\n",
      "   5464   5715   5336   5508   5297   5640   5531   5504   4230   4577\n",
      "   4115   4124   5343   5590   5627   5906   5484   5648   5608   5786\n",
      "   5751   6121   4324   4596   4040   4320   5636   5895   5480   5682\n",
      "   4988   5313   4308   4611   3782   4099   4136   4310   4209   4332\n",
      "   5555   5907   5859   6322   5792   6051   5344   5468   4149   4345\n",
      "   3874   4175   3981   4196   5009   5193   5244   5683   5197   5472\n",
      "   5255   5559   5295   5453   4202   4443   4039   4260   5250   5402\n",
      "   5464   5709   5230   5455   5372   5409   5374   5767   4321   4514\n",
      "   4263   4253   5201   5416   5427   5729   5331   5670   5352   5597\n",
      "   5304   5623   4275   4453   4268   4305   5268   5516   5275   5696\n",
      "   5267   5598   5092   5597   5436   5583   4334   4565   4225   4290\n",
      "   5351   5396   5528   5842   5315   5564   5202   5600   5339   5605\n",
      "   4248   4473   4143   4167   5260   5364   5508   5760   5432   5738\n",
      "   5398   5622   5446   5714   4300   4420   4257   4473   5046   5314\n",
      "   5510   5749   5397   5765   5381   5659   5432   5697   4411   4797\n",
      "   4221   4201   5280   5553   5383   5618   5105   5576   5255   5537\n",
      "   5403   5681   4445   4573   4223   4276   4859   4939   5615   5886\n",
      "   5440   5577   5417   5673   5290   5720   4391   4526   4126   4257\n",
      "   5152   5384   5490   5819   5176   5545   5362   5511   5263   5527\n",
      "   4183   4540   3964   4327   5106   5273   5451   5652   5439   5604\n",
      "   5319   5599   5448   5641   4238   4517   4239   4407   5301   5605\n",
      "   5431   5857   5344   5636   5423   5622   5587   5692   4466   4702\n",
      "   4208   4326   5270   5510   5517   5888   5338   5544   5205   5675\n",
      "      1      1   4990   5308   4434   4531   3947   4181   5438   5583\n",
      "   5468   6054   5467   5617   5190   5696   5380   5681   4179   4522\n",
      "   4197   4305   5332   5590   5462   5770   5186   5348   5215   5662\n",
      "   5426   5689   4328   4568   4047   4253   5380   5554   5295   5749\n",
      "   5361   5659   5265   5677   5558   5736   4444   4721   4098   4387\n",
      "   5378   5626   5611   5789   5279   5782   5538   5791   5245   5591\n",
      "   4367   4537      1   4151   4323   5067   5497   5292   5803   5308\n",
      "   5623   5382   5656   5391   5880   4323   4668   4285   4407   5323\n",
      "   5754   5552   6112   5542   5777   5421   5786   5285   5646   4434\n",
      "   4515   4304   4460   5593   5674   5684   5909   5460   5851   5347\n",
      "   5763   5559   5893   4385   4570   4264   4552   5536   5819   5690\n",
      "   6172   5535   5929   5628   5866   5598   6114   4559   4783   4249\n",
      "   4492   4493   4760   5711   5875      1   5838   6199   5845   6066\n",
      "   5570   5892   4461   4758   4354   4437   5608   5784   5618   5955\n",
      "   5631   5864   5682   5837   5618   5931   4502   4597   4226   4448\n",
      "   5350   5747   5773   6142   5704   5947   5684   5972   5683   5956\n",
      "   4536   4844   4413   4625   5629   5923   5844   6196   5676   6103\n",
      "   5712   6074   5683   6015   4598   4872   4404   4454   5413   5753\n",
      "   5910   6255   5737   5892   5697   6283      1      1   5842   5983\n",
      "   4597   5014   4432   4556   4587   4672   5742   5973   6070   6418\n",
      "   6200   6527   6007   6417   4784   5139   4628   4780   5845   6134\n",
      "   5812   6256   5691   6062   5820   6133   6054   6375   4787   5048\n",
      "   4567   4741   5763   5936   5911   6274   5971   6125   5828   6099\n",
      "   5894   6218   4715   5081   4483   4646   5676   5965   6047   6297\n",
      "   5897   6267   5872   6323   5959   6345   5033   5152   4636   4725\n",
      "   5832   5974   5969   6196   5831   6114   5841   6315   5976   6198\n",
      "   4925   5030   4517   4690   6043   6370   6033   6249   5853   6162\n",
      "   5929   6275   5874   6352   4876   5041   4606   4828   5635   6134\n",
      "   6102   6332   5775   6221   6070   6258   5942   6225   4781   4981\n",
      "   4581   4690   5677   6006   5985   6251   5811   6120   5929   6177\n",
      "   5955   6288   4729   4995   4475   4795   5619   5978   6071   6209\n",
      "   5846   6057   5759   6108   6016   6235   4875   5091   4513   4737\n",
      "   4630   4662   5841   6243   6111   6398   6034   6317   6187   6474\n",
      "   4833   5135   4663   4842   5854   6208   6156   6295   6149   6402\n",
      "   5979   6419   6151   6469   5097   5265   4904   4944   6014   6318\n",
      "   6332   6519   6097   6329   6081   6473   6212   6482   4853   5125\n",
      "   4598   4891   5897   6140   6140   6314   5868   6088   6111   6136\n",
      "   5968   6295   4916   4886   4410   4681   5754   5930   5867   6205\n",
      "   5640   5978   5756   5984   5775   5992   4615   4715   4379   4705\n",
      "   5479   5888   5805   6031   5719   5844   5434   5744   5753   5865\n",
      "   4632   4749   4312   4439   5687   5816   5814   6079   5505   5601\n",
      "   5509   5820   5421   5776   4437   4778   4250   4421   5474   5787\n",
      "   5704   5946   5576   5840   5499   5584   5590   5918   4354   4635\n",
      "   4402   4548   4893   5086      1   5826   6036   5405   5645   5423\n",
      "   5897   5555   5997   4424   4733   4276   4457   5368   5816   5492\n",
      "   5882   5511   5616   5425   5729   5447   5713   4452   4595   4120\n",
      "   4355   5380   5595   5580   5828   5352   5620   5498   5708   5495\n",
      "   5970   4347   4635   4119   4316   5584   5774   5792   6072   5271\n",
      "   5690   4087   4437   4912   5186   4313   4599   4189   4321   5439\n",
      "   5610   5536   5987   5516   5713   5492   5735   5255   5644   4354\n",
      "   4516   4061   4263   5224   5427   5578   5719   5449   5646   5418\n",
      "   5713   5253   5625   4356   4469   4043   4409   5388   5571   5516\n",
      "   5767   5510   5852   5533   5831   5622   5841   4270   4486   4211\n",
      "   4220   5651   6065   6092   6343   5462   5861   5219   5510   4887\n",
      "   5110   4024   4269   3874   3961   4274   4409   5633   5895   5858\n",
      "   5989   5760   5944   5742   6095   4435   4698 156749 164052 146710\n",
      " 154047 165889 174433 155689 163432 163800 172892 165525 173823 174054\n",
      " 183063 178986 188074 174808 182962 168303 176258 159013 166923 164186\n",
      " 172022 163576 172073 153015 159915 171463 179499 164469 172275 173127\n",
      " 181366 168941 178799 179270 188837 181845 191101 175292 183840 172365\n",
      " 181247 163036 170515 164567 172484 164305 171198 151260 158163 167751\n",
      " 176650 163778 172218 172728 180764 163048 171594 177698 185629 179729\n",
      " 187491 174362 181999 171490 177890 158692 165320 166760 174825 162874\n",
      " 171502 154333 161410 165468 174389 162792 170879 167941 176584 165818\n",
      " 174250 175090 184407 171095 178271 169543 178412 167907 176076 157342\n",
      " 164949 164915 173181 157524 165896 148569 156378 167013 175505 159698\n",
      " 167674 163377 172991 163769 171934 171888 181061 171785 179521 170167\n",
      " 178232 162794 170519 154679 162072 162193 169284 157015 163982 147453\n",
      " 154175 165797 174281 154935 162778 160679 169921 160576 169510 168646\n",
      " 177579 172383 180197 166020 173600 162185 168356 156514 163252 160031\n",
      " 167060 154538 161749 144485 150879 160096 168678 150914 158447 162601\n",
      " 172235 160527 169557 166814 174366 171158 179864 165661 173746 162008\n",
      " 168303 151949 159181 154120 161136 153564 161007 147336 154683 157536\n",
      " 165311 152624 160256 158983 167020 155502 163267 168423 177043 169237\n",
      " 177393 165338 171299 164939 171717 151621 158058 157561 165156 155408\n",
      " 162091 142259 149536 157335 164148 153524 160935 161304 169296 156734\n",
      " 165435 169391 177423 165928 173528 162975 170937 160645 168306 150194\n",
      " 157395 161231 168371 155671 163902 146310 152641 161291 168419 156178\n",
      " 163853 161543 169221 159207 168175 170376 178616 168353 176747 168502\n",
      " 175254 162998 170140 153386 160161 163291 170957 156054 163440 145172\n",
      " 152660 162648 170574 154150 163007 160124 168682 162255 170261 170905\n",
      " 179321 171718 180033 170699 179124 163347 170004 154605 161062 162833\n",
      " 170787 161288 169225 154694 162997 166124 174808 155038 162495 166443\n",
      " 175161 166358 175247 170327 179102 176508 184030 170411 177693 168039\n",
      " 176350 164086 170206 164939 172254 164404 171208 148640 155259 165359\n",
      " 173729 158235 165804 167878 176615 161947 169590 172082 179504 177031\n",
      " 185351 167748 175338 168515 176084 158581 165633 160350 166646 161477\n",
      " 169612 148745 155627 162351 169543 158674 166175 165530 173925 159792\n",
      " 168261 175085 183135 175501 184444 170451 178945 169482 176842 155849\n",
      " 163200 163582 171148 161200 169104 150278 157384 164318 173100 161431\n",
      " 169158 169450 177775 164323 173621 177755 187045 175697 184986 176270\n",
      " 183928 173659 180924 156860 163757 168146 175923 162630 170778 154712\n",
      " 161598 168958 177896 162918 170940 164266 173902 169006 176392 175457\n",
      " 184593 173980 182095 173996 182707 170816 178294 164364 171945 169607\n",
      " 177057 162360 169670 151342 158754 170000 179881 161982 171045 168949\n",
      " 177881 171467 179979 174639 183061 180446 189599 177973 186141 168795\n",
      " 176498 164606 171703 170333 178515 166706 174193 156281 163564 173924\n",
      " 183436 161054 169341 173374 182689 175037 183860 179507 189126 189539\n",
      " 198942 183523 191866 179938 188122 171819 180670 174255 182459 173771\n",
      " 181789 159887 167507 176426 184984 165121 173674 176902 186016 174757\n",
      " 184468 185221 195135 191495 199622 180098 187526 180912 189157 173513\n",
      " 180814 173787 181426 174255 182789 165669 173434 172053 179129 169585\n",
      " 177399 173141 182294 169958 179267 183391 192714 182713 191315 179696\n",
      " 188964 175314 183219 158939 165468 173215 181235]\n"
     ]
    }
   ],
   "source": [
    "# For births\n",
    "\n",
    "births = np.array(us_births['births'])\n",
    "print(f\"The births are:'\\n' {births}\")"
   ]
  },
  {
   "cell_type": "code",
   "execution_count": 8,
   "id": "9ff7d741",
   "metadata": {},
   "outputs": [
    {
     "name": "stdout",
     "output_type": "stream",
     "text": [
      "Sum of total birth is: 151774378\n"
     ]
    }
   ],
   "source": [
    "# sum of births \n",
    "\n",
    "print(f\"Sum of total birth is: {np.sum(births )}\")"
   ]
  },
  {
   "cell_type": "code",
   "execution_count": 18,
   "id": "1280eeb0",
   "metadata": {},
   "outputs": [
    {
     "data": {
      "text/plain": [
       "year         0\n",
       "month        0\n",
       "day          0\n",
       "gender    7776\n",
       "births       0\n",
       "dtype: int64"
      ]
     },
     "execution_count": 18,
     "metadata": {},
     "output_type": "execute_result"
    }
   ],
   "source": [
    "# sum of female births \n",
    "\n",
    "female = np.sum(us_births=='F')\n",
    "female\n",
    "\n"
   ]
  },
  {
   "cell_type": "code",
   "execution_count": 19,
   "id": "9c6e110c",
   "metadata": {},
   "outputs": [
    {
     "name": "stdout",
     "output_type": "stream",
     "text": [
      "Total male birth:  7771\n"
     ]
    }
   ],
   "source": [
    "# sum of male birth\n",
    "\n",
    "male = us_births['gender'].value_counts()\n",
    "total_male = male.get('M',0)\n",
    "print('Total male birth: ', total_male)"
   ]
  },
  {
   "cell_type": "code",
   "execution_count": 25,
   "id": "afa65f48",
   "metadata": {},
   "outputs": [
    {
     "name": "stdout",
     "output_type": "stream",
     "text": [
      "1\n"
     ]
    }
   ],
   "source": [
    "print(births.min())"
   ]
  },
  {
   "cell_type": "code",
   "execution_count": 26,
   "id": "23f331b0",
   "metadata": {},
   "outputs": [
    {
     "name": "stdout",
     "output_type": "stream",
     "text": [
      "199622\n"
     ]
    }
   ],
   "source": [
    "print(births.max())"
   ]
  },
  {
   "cell_type": "code",
   "execution_count": 29,
   "id": "7c154aec",
   "metadata": {},
   "outputs": [
    {
     "name": "stdout",
     "output_type": "stream",
     "text": [
      "year        2008\n",
      "month         12\n",
      "day         99.0\n",
      "gender         M\n",
      "births    199622\n",
      "dtype: object\n"
     ]
    }
   ],
   "source": [
    "print(us_births.max())"
   ]
  },
  {
   "cell_type": "code",
   "execution_count": 30,
   "id": "a4bbda58",
   "metadata": {},
   "outputs": [
    {
     "ename": "NameError",
     "evalue": "name 'gender' is not defined",
     "output_type": "error",
     "traceback": [
      "\u001b[1;31m---------------------------------------------------------------------------\u001b[0m",
      "\u001b[1;31mNameError\u001b[0m                                 Traceback (most recent call last)",
      "Cell \u001b[1;32mIn[30], line 1\u001b[0m\n\u001b[1;32m----> 1\u001b[0m \u001b[38;5;28mprint\u001b[39m(gender\u001b[38;5;241m.\u001b[39mmin())\n",
      "\u001b[1;31mNameError\u001b[0m: name 'gender' is not defined"
     ]
    }
   ],
   "source": []
  },
  {
   "cell_type": "code",
   "execution_count": 31,
   "id": "aa8a3d2b",
   "metadata": {},
   "outputs": [
    {
     "name": "stdout",
     "output_type": "stream",
     "text": [
      "year      1969\n",
      "month        1\n",
      "day        1.0\n",
      "gender       F\n",
      "births       1\n",
      "dtype: object\n"
     ]
    }
   ],
   "source": [
    "print(us_births.min())"
   ]
  },
  {
   "cell_type": "markdown",
   "id": "f00bc13e",
   "metadata": {},
   "source": [
    "Assignment 1\n",
    "Generate an np array of (a) vector of lenght 50 (b) two dimension of shape 5x4. Both uniformly distributed between 0 and 1 Split the two dimension array in 1 above into three arrays taking the first two rows, follow by the next two rows and put the remaining row in another variable Split the vector in 1 above into three arrays by taking the first 15, follow by the next 20 and the remaining into another variable. Create a 4x5 array: (a). Using manual method (b). Using randomly generated value between 0 and 1 (c). Using array of ones\n",
    "\n",
    "Assignment 2\n",
    "#use us_births data to compute the following using np: #extract the year, gender and births column from the data #compute the aggregation of sum of total birth, sum of female birth and sum of male birth, mean and median #compute the maximum births and minimum births #indicate the gender with minimum birth and maximum birth #indicate the year with minimum birth and maximum birth\n",
    "\n",
    "Assignment 3\n",
    "Using the BicycleWeather.csv dataset perform the following operations: 1. Extract the PRCP column from the pandas object. 2. Using boolean functions/operators separate numbers from NAN 3. Using boolean masking separate all zeros and non-zeros into different variables. 4. From the variable holding non-zeros, multiply every values in the array with 100 and divid by 250 5. Calculate the following: a. Median precip on rainy days b. Median precip on summer days c. Maximum precip on summer days d. Median precip on non-summer rainy days"
   ]
  },
  {
   "cell_type": "markdown",
   "id": "ee0bdce0",
   "metadata": {},
   "source": [
    "# Assignment 1 solution"
   ]
  },
  {
   "cell_type": "code",
   "execution_count": 3,
   "id": "55eb28c5",
   "metadata": {},
   "outputs": [],
   "source": [
    "# Generate an np array of (a) vector of lenght 50\n",
    "\n",
    "import numpy as np\n"
   ]
  },
  {
   "cell_type": "code",
   "execution_count": 22,
   "id": "4c7b2bfd",
   "metadata": {},
   "outputs": [
    {
     "data": {
      "text/plain": [
       "array([0.91630143, 0.24266962, 0.90243576, 0.10893534, 0.79307672,\n",
       "       0.03134441, 0.00504199, 0.24665638, 0.27175982, 0.98018981,\n",
       "       0.92041732, 0.79815478, 0.45056365, 0.30063284, 0.07578995,\n",
       "       0.07747073, 0.31256002, 0.3631008 , 0.92368224, 0.12703454,\n",
       "       0.16507349, 0.71380835, 0.2573751 , 0.55395455, 0.2779444 ,\n",
       "       0.09811038, 0.97313149, 0.00348131, 0.97888605, 0.44747556,\n",
       "       0.79668895, 0.96257617, 0.33822691, 0.81453268, 0.35616226,\n",
       "       0.3007049 , 0.62206905, 0.99053372, 0.70544061, 0.86912962,\n",
       "       0.72481745, 0.65499781, 0.72602756, 0.1923439 , 0.38504765,\n",
       "       0.79938888, 0.51191784, 0.1971919 , 0.38020444, 0.68391479])"
      ]
     },
     "execution_count": 22,
     "metadata": {},
     "output_type": "execute_result"
    }
   ],
   "source": [
    "vector = np.random.rand(50)\n",
    "vector"
   ]
  },
  {
   "cell_type": "code",
   "execution_count": 29,
   "id": "00f645a1",
   "metadata": {},
   "outputs": [
    {
     "data": {
      "text/plain": [
       "array([[1, 1, 0, 1],\n",
       "       [1, 0, 0, 0],\n",
       "       [0, 0, 0, 1],\n",
       "       [0, 1, 0, 1],\n",
       "       [0, 1, 1, 0]])"
      ]
     },
     "execution_count": 29,
     "metadata": {},
     "output_type": "execute_result"
    }
   ],
   "source": [
    "#  two dimension of shape 5x4\n",
    "dim_2 = np.random.randint(0,2,(5,4))\n",
    "dim_2"
   ]
  },
  {
   "cell_type": "code",
   "execution_count": 31,
   "id": "60b9d3bb",
   "metadata": {},
   "outputs": [
    {
     "data": {
      "text/plain": [
       "array([[0, 0, 0, 1],\n",
       "       [0, 1, 0, 1]])"
      ]
     },
     "execution_count": 31,
     "metadata": {},
     "output_type": "execute_result"
    }
   ],
   "source": [
    "f1 = dim_2[:2,:] \n",
    "# f1\n",
    "f2 = dim_2[2:4,:]\n",
    "# f2\n",
    "f3 = dim_2[]"
   ]
  },
  {
   "cell_type": "code",
   "execution_count": null,
   "id": "a5846364",
   "metadata": {},
   "outputs": [],
   "source": []
  },
  {
   "cell_type": "code",
   "execution_count": 2,
   "id": "d7a81f18",
   "metadata": {},
   "outputs": [],
   "source": [
    "import numpy as np"
   ]
  },
  {
   "cell_type": "code",
   "execution_count": 9,
   "id": "fe10a52b",
   "metadata": {},
   "outputs": [
    {
     "data": {
      "text/plain": [
       "array([[1., 1., 1., 1., 1.],\n",
       "       [1., 1., 1., 1., 1.],\n",
       "       [1., 1., 1., 1., 1.],\n",
       "       [1., 1., 1., 1., 1.],\n",
       "       [1., 1., 1., 1., 1.]])"
      ]
     },
     "execution_count": 9,
     "metadata": {},
     "output_type": "execute_result"
    }
   ],
   "source": [
    "arr = np.ones((5,5))\n",
    "arr"
   ]
  },
  {
   "cell_type": "code",
   "execution_count": 5,
   "id": "c4f6213a",
   "metadata": {},
   "outputs": [
    {
     "data": {
      "text/plain": [
       "array([[0., 0., 0.],\n",
       "       [0., 0., 0.],\n",
       "       [0., 0., 0.]])"
      ]
     },
     "execution_count": 5,
     "metadata": {},
     "output_type": "execute_result"
    }
   ],
   "source": [
    "y  = np.zeros((3,3))\n",
    "y"
   ]
  },
  {
   "cell_type": "code",
   "execution_count": 8,
   "id": "d97b606f",
   "metadata": {},
   "outputs": [
    {
     "data": {
      "text/plain": [
       "array([[0., 0., 0.],\n",
       "       [0., 1., 0.],\n",
       "       [0., 0., 0.]])"
      ]
     },
     "execution_count": 8,
     "metadata": {},
     "output_type": "execute_result"
    }
   ],
   "source": [
    "y[1,1] = 1\n",
    "y\n"
   ]
  },
  {
   "cell_type": "code",
   "execution_count": 10,
   "id": "7ca282ea",
   "metadata": {},
   "outputs": [
    {
     "data": {
      "text/plain": [
       "array([[1., 1., 1., 1., 1.],\n",
       "       [1., 0., 0., 0., 1.],\n",
       "       [1., 0., 1., 0., 1.],\n",
       "       [1., 0., 0., 0., 1.],\n",
       "       [1., 1., 1., 1., 1.]])"
      ]
     },
     "execution_count": 10,
     "metadata": {},
     "output_type": "execute_result"
    }
   ],
   "source": [
    "arr[1:-1,1:-1] = y\n",
    "arr"
   ]
  },
  {
   "cell_type": "code",
   "execution_count": 11,
   "id": "b4931b31",
   "metadata": {},
   "outputs": [
    {
     "data": {
      "text/plain": [
       "array([[ 7,  8,  4,  7,  7],\n",
       "       [16, 16, 12, 15,  7],\n",
       "       [ 0,  3,  7,  8,  1],\n",
       "       [ 0, 18,  1, 15, 12]])"
      ]
     },
     "execution_count": 11,
     "metadata": {},
     "output_type": "execute_result"
    }
   ],
   "source": [
    "arr = np.random.randint(0,20,(4,5))\n",
    "arr"
   ]
  },
  {
   "cell_type": "code",
   "execution_count": 13,
   "id": "d6cfe91a",
   "metadata": {},
   "outputs": [
    {
     "data": {
      "text/plain": [
       "array([[3, 7]])"
      ]
     },
     "execution_count": 13,
     "metadata": {},
     "output_type": "execute_result"
    }
   ],
   "source": [
    "arr[2:-1,1:3]"
   ]
  },
  {
   "cell_type": "code",
   "execution_count": 16,
   "id": "5852dda3",
   "metadata": {},
   "outputs": [
    {
     "data": {
      "text/plain": [
       "array([[ 7,  8,  4,  7,  7],\n",
       "       [16, 16, 12, 15,  7],\n",
       "       [ 0,  4,  5,  8,  1],\n",
       "       [ 0, 18,  1, 15, 12]])"
      ]
     },
     "execution_count": 16,
     "metadata": {},
     "output_type": "execute_result"
    }
   ],
   "source": [
    "arr[2:-1,1:3] = (4,5)\n",
    "arr"
   ]
  },
  {
   "cell_type": "code",
   "execution_count": null,
   "id": "35fd887e",
   "metadata": {},
   "outputs": [],
   "source": []
  },
  {
   "cell_type": "code",
   "execution_count": null,
   "id": "36f22ea5",
   "metadata": {},
   "outputs": [],
   "source": []
  },
  {
   "cell_type": "code",
   "execution_count": null,
   "id": "606f62f0",
   "metadata": {},
   "outputs": [],
   "source": []
  },
  {
   "cell_type": "code",
   "execution_count": null,
   "id": "4f430b45",
   "metadata": {},
   "outputs": [],
   "source": []
  },
  {
   "cell_type": "code",
   "execution_count": null,
   "id": "7c3c72b9",
   "metadata": {},
   "outputs": [],
   "source": []
  },
  {
   "cell_type": "code",
   "execution_count": null,
   "id": "6f835b7d",
   "metadata": {},
   "outputs": [],
   "source": []
  },
  {
   "cell_type": "code",
   "execution_count": null,
   "id": "f02aa2fb",
   "metadata": {},
   "outputs": [],
   "source": []
  }
 ],
 "metadata": {
  "kernelspec": {
   "display_name": "Python 3 (ipykernel)",
   "language": "python",
   "name": "python3"
  },
  "language_info": {
   "codemirror_mode": {
    "name": "ipython",
    "version": 3
   },
   "file_extension": ".py",
   "mimetype": "text/x-python",
   "name": "python",
   "nbconvert_exporter": "python",
   "pygments_lexer": "ipython3",
   "version": "3.11.5"
  }
 },
 "nbformat": 4,
 "nbformat_minor": 5
}
