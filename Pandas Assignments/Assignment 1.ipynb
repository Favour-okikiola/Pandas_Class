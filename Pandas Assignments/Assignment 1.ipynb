{
 "cells": [
  {
   "cell_type": "markdown",
   "id": "ed557ab1",
   "metadata": {},
   "source": [
    "# Assignment 1\n",
    "1. Create a Series object from a list of 10 items using a customized index values. \n",
    "2. Create a Series object from a dictionary of 10 items. \n",
    "3. Create a DataFrame object from a Series object with a customized index values\n",
    "4. Create a DataFrame object generated from random values of 5 rows by 5 columns numpy array. Give each columns a title and each index a name.\n",
    "5. Separate the DataFrame in number 4 to its individual Index, Values and Colomns"
   ]
  },
  {
   "cell_type": "code",
   "execution_count": 2,
   "id": "692dcca7",
   "metadata": {},
   "outputs": [],
   "source": [
    "import numpy as np\n",
    "import pandas as pd"
   ]
  },
  {
   "cell_type": "code",
   "execution_count": 3,
   "id": "fd2dd35d",
   "metadata": {},
   "outputs": [
    {
     "data": {
      "text/plain": [
       "1      Jan\n",
       "2      Feb\n",
       "3      Mar\n",
       "4      Apr\n",
       "5      May\n",
       "6     June\n",
       "7     July\n",
       "8      Aug\n",
       "9     Sept\n",
       "10     Oct\n",
       "dtype: object"
      ]
     },
     "execution_count": 3,
     "metadata": {},
     "output_type": "execute_result"
    }
   ],
   "source": [
    "# Create a Series object from a list of 10 items using a customized index values\n",
    "\n",
    "months = pd.Series(['Jan', 'Feb', 'Mar', 'Apr', 'May', 'June', 'July', 'Aug', 'Sept', 'Oct'], index = [1,2,3,4,5,6,7,8,9,10])\n",
    "months"
   ]
  },
  {
   "cell_type": "code",
   "execution_count": 9,
   "id": "fe2e71d4",
   "metadata": {},
   "outputs": [
    {
     "data": {
      "text/plain": [
       "Lagos             1\n",
       "Cross-River       2\n",
       "Abuja             3\n",
       "Akwa Ibom         4\n",
       "Oyo               5\n",
       "Port Harcourt     6\n",
       "Delta             7\n",
       "Imo               8\n",
       "Enugu             9\n",
       "Edo              10\n",
       "dtype: int64"
      ]
     },
     "execution_count": 9,
     "metadata": {},
     "output_type": "execute_result"
    }
   ],
   "source": [
    "# Create a Series object from a dictionary of 10 items.\n",
    "\n",
    "States= {'Lagos':1, 'Cross-River':2, 'Abuja':3, 'Akwa Ibom':4, 'Oyo':5, 'Port Harcourt':6, 'Delta':7, 'Imo':8, 'Enugu':9, 'Edo':10}\n",
    "Top_States = pd.Series(States)\n",
    "Top_States"
   ]
  },
  {
   "cell_type": "code",
   "execution_count": 15,
   "id": "173025ab",
   "metadata": {},
   "outputs": [
    {
     "data": {
      "text/html": [
       "<div>\n",
       "<style scoped>\n",
       "    .dataframe tbody tr th:only-of-type {\n",
       "        vertical-align: middle;\n",
       "    }\n",
       "\n",
       "    .dataframe tbody tr th {\n",
       "        vertical-align: top;\n",
       "    }\n",
       "\n",
       "    .dataframe thead th {\n",
       "        text-align: right;\n",
       "    }\n",
       "</style>\n",
       "<table border=\"1\" class=\"dataframe\">\n",
       "  <thead>\n",
       "    <tr style=\"text-align: right;\">\n",
       "      <th></th>\n",
       "      <th>Months in a year</th>\n",
       "    </tr>\n",
       "  </thead>\n",
       "  <tbody>\n",
       "    <tr>\n",
       "      <th>1</th>\n",
       "      <td>Jan</td>\n",
       "    </tr>\n",
       "    <tr>\n",
       "      <th>2</th>\n",
       "      <td>Feb</td>\n",
       "    </tr>\n",
       "    <tr>\n",
       "      <th>3</th>\n",
       "      <td>Mar</td>\n",
       "    </tr>\n",
       "    <tr>\n",
       "      <th>4</th>\n",
       "      <td>Apr</td>\n",
       "    </tr>\n",
       "    <tr>\n",
       "      <th>5</th>\n",
       "      <td>May</td>\n",
       "    </tr>\n",
       "    <tr>\n",
       "      <th>6</th>\n",
       "      <td>June</td>\n",
       "    </tr>\n",
       "    <tr>\n",
       "      <th>7</th>\n",
       "      <td>July</td>\n",
       "    </tr>\n",
       "    <tr>\n",
       "      <th>8</th>\n",
       "      <td>Aug</td>\n",
       "    </tr>\n",
       "    <tr>\n",
       "      <th>9</th>\n",
       "      <td>Sept</td>\n",
       "    </tr>\n",
       "    <tr>\n",
       "      <th>10</th>\n",
       "      <td>Oct</td>\n",
       "    </tr>\n",
       "    <tr>\n",
       "      <th>11</th>\n",
       "      <td>Nov</td>\n",
       "    </tr>\n",
       "    <tr>\n",
       "      <th>12</th>\n",
       "      <td>Dec</td>\n",
       "    </tr>\n",
       "  </tbody>\n",
       "</table>\n",
       "</div>"
      ],
      "text/plain": [
       "   Months in a year\n",
       "1               Jan\n",
       "2               Feb\n",
       "3               Mar\n",
       "4               Apr\n",
       "5               May\n",
       "6              June\n",
       "7              July\n",
       "8               Aug\n",
       "9              Sept\n",
       "10              Oct\n",
       "11              Nov\n",
       "12              Dec"
      ]
     },
     "execution_count": 15,
     "metadata": {},
     "output_type": "execute_result"
    }
   ],
   "source": [
    "# Create a DataFrame object from a Series object with a customized index values\n",
    "\n",
    "months = pd.Series(['Jan', 'Feb', 'Mar', 'Apr', 'May', 'June', 'July', 'Aug', 'Sept', 'Oct', 'Nov', 'Dec'], index = [1,2,3,4,5,6,7,8,9,10,11,12])\n",
    "months\n",
    "Total_months = pd.DataFrame({'Months in a year':months})\n",
    "Total_months"
   ]
  },
  {
   "cell_type": "code",
   "execution_count": 24,
   "id": "32f7e9a0",
   "metadata": {},
   "outputs": [
    {
     "data": {
      "text/html": [
       "<div>\n",
       "<style scoped>\n",
       "    .dataframe tbody tr th:only-of-type {\n",
       "        vertical-align: middle;\n",
       "    }\n",
       "\n",
       "    .dataframe tbody tr th {\n",
       "        vertical-align: top;\n",
       "    }\n",
       "\n",
       "    .dataframe thead th {\n",
       "        text-align: right;\n",
       "    }\n",
       "</style>\n",
       "<table border=\"1\" class=\"dataframe\">\n",
       "  <thead>\n",
       "    <tr style=\"text-align: right;\">\n",
       "      <th></th>\n",
       "      <th>Favour</th>\n",
       "      <th>Philip</th>\n",
       "      <th>Faith</th>\n",
       "      <th>Tayo</th>\n",
       "      <th>Bayo</th>\n",
       "    </tr>\n",
       "  </thead>\n",
       "  <tbody>\n",
       "    <tr>\n",
       "      <th>First Score</th>\n",
       "      <td>0.015417</td>\n",
       "      <td>0.029740</td>\n",
       "      <td>0.105241</td>\n",
       "      <td>0.149794</td>\n",
       "      <td>0.679502</td>\n",
       "    </tr>\n",
       "    <tr>\n",
       "      <th>Second Score</th>\n",
       "      <td>0.374197</td>\n",
       "      <td>0.706194</td>\n",
       "      <td>0.093827</td>\n",
       "      <td>0.564387</td>\n",
       "      <td>0.298669</td>\n",
       "    </tr>\n",
       "    <tr>\n",
       "      <th>Third Score</th>\n",
       "      <td>0.559811</td>\n",
       "      <td>0.846665</td>\n",
       "      <td>0.806719</td>\n",
       "      <td>0.962199</td>\n",
       "      <td>0.998763</td>\n",
       "    </tr>\n",
       "    <tr>\n",
       "      <th>Fourth Score</th>\n",
       "      <td>0.285829</td>\n",
       "      <td>0.275635</td>\n",
       "      <td>0.601791</td>\n",
       "      <td>0.241645</td>\n",
       "      <td>0.289808</td>\n",
       "    </tr>\n",
       "    <tr>\n",
       "      <th>Fifth Score</th>\n",
       "      <td>0.456878</td>\n",
       "      <td>0.347145</td>\n",
       "      <td>0.285068</td>\n",
       "      <td>0.513988</td>\n",
       "      <td>0.116206</td>\n",
       "    </tr>\n",
       "  </tbody>\n",
       "</table>\n",
       "</div>"
      ],
      "text/plain": [
       "                Favour    Philip     Faith      Tayo      Bayo\n",
       "First Score   0.015417  0.029740  0.105241  0.149794  0.679502\n",
       "Second Score  0.374197  0.706194  0.093827  0.564387  0.298669\n",
       "Third Score   0.559811  0.846665  0.806719  0.962199  0.998763\n",
       "Fourth Score  0.285829  0.275635  0.601791  0.241645  0.289808\n",
       "Fifth Score   0.456878  0.347145  0.285068  0.513988  0.116206"
      ]
     },
     "execution_count": 24,
     "metadata": {},
     "output_type": "execute_result"
    }
   ],
   "source": [
    "# Create a DataFrame object generated from random values of 5 rows by 5 columns numpy array.\n",
    "# Give each columns a title and each index a name\n",
    "\n",
    "Name = pd.DataFrame(np.random.rand(5,5), columns=['Favour', \"Philip\",'Faith','Tayo', 'Bayo'],\n",
    "                    index=['First Score', 'Second Score', 'Third Score', 'Fourth Score', 'Fifth Score'])\n",
    "Name\n"
   ]
  },
  {
   "cell_type": "code",
   "execution_count": 28,
   "id": "2f26c42e",
   "metadata": {},
   "outputs": [
    {
     "data": {
      "text/plain": [
       "Index(['First Score', 'Second Score', 'Third Score', 'Fourth Score',\n",
       "       'Fifth Score'],\n",
       "      dtype='object')"
      ]
     },
     "execution_count": 28,
     "metadata": {},
     "output_type": "execute_result"
    }
   ],
   "source": [
    "# Separate the DataFrame in number 4 to its individual Index, Values and Columns\n",
    "Name.index"
   ]
  },
  {
   "cell_type": "code",
   "execution_count": 29,
   "id": "d4c5dfb7",
   "metadata": {},
   "outputs": [
    {
     "data": {
      "text/plain": [
       "array([[0.01541684, 0.02973992, 0.10524144, 0.14979382, 0.67950162],\n",
       "       [0.37419731, 0.70619372, 0.09382677, 0.56438676, 0.29866916],\n",
       "       [0.55981078, 0.84666523, 0.80671928, 0.96219871, 0.99876251],\n",
       "       [0.28582876, 0.27563516, 0.6017908 , 0.24164548, 0.28980773],\n",
       "       [0.4568776 , 0.34714493, 0.2850679 , 0.51398783, 0.11620602]])"
      ]
     },
     "execution_count": 29,
     "metadata": {},
     "output_type": "execute_result"
    }
   ],
   "source": [
    "Name.values "
   ]
  },
  {
   "cell_type": "code",
   "execution_count": 30,
   "id": "93eeb36a",
   "metadata": {},
   "outputs": [
    {
     "data": {
      "text/plain": [
       "Index(['Favour', 'Philip', 'Faith', 'Tayo', 'Bayo'], dtype='object')"
      ]
     },
     "execution_count": 30,
     "metadata": {},
     "output_type": "execute_result"
    }
   ],
   "source": [
    "Name.columns"
   ]
  },
  {
   "cell_type": "code",
   "execution_count": null,
   "id": "f37c7198",
   "metadata": {},
   "outputs": [],
   "source": []
  }
 ],
 "metadata": {
  "kernelspec": {
   "display_name": "Python 3 (ipykernel)",
   "language": "python",
   "name": "python3"
  },
  "language_info": {
   "codemirror_mode": {
    "name": "ipython",
    "version": 3
   },
   "file_extension": ".py",
   "mimetype": "text/x-python",
   "name": "python",
   "nbconvert_exporter": "python",
   "pygments_lexer": "ipython3",
   "version": "3.11.5"
  }
 },
 "nbformat": 4,
 "nbformat_minor": 5
}
